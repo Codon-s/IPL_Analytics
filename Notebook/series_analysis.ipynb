{
 "cells": [
  {
   "cell_type": "code",
   "execution_count": 50,
   "id": "956f1707",
   "metadata": {},
   "outputs": [],
   "source": [
    "import pandas as pd\n",
    "import numpy as np\n",
    "import plotly.express as px\n",
    "import plotly.graph_objects as go\n",
    "import seaborn as sb\n",
    "import matplotlib.pyplot as plt"
   ]
  },
  {
   "cell_type": "code",
   "execution_count": 51,
   "id": "a4f43554",
   "metadata": {},
   "outputs": [
    {
     "data": {
      "text/html": [
       "<div>\n",
       "<style scoped>\n",
       "    .dataframe tbody tr th:only-of-type {\n",
       "        vertical-align: middle;\n",
       "    }\n",
       "\n",
       "    .dataframe tbody tr th {\n",
       "        vertical-align: top;\n",
       "    }\n",
       "\n",
       "    .dataframe thead th {\n",
       "        text-align: right;\n",
       "    }\n",
       "</style>\n",
       "<table border=\"1\" class=\"dataframe\">\n",
       "  <thead>\n",
       "    <tr style=\"text-align: right;\">\n",
       "      <th></th>\n",
       "      <th>Unnamed: 0</th>\n",
       "      <th>id</th>\n",
       "      <th>Team1</th>\n",
       "      <th>Team2</th>\n",
       "      <th>tossWinner</th>\n",
       "      <th>tossChoice</th>\n",
       "      <th>matchWinner</th>\n",
       "      <th>Innings1</th>\n",
       "      <th>r1</th>\n",
       "      <th>w1</th>\n",
       "      <th>o1</th>\n",
       "      <th>Innings2</th>\n",
       "      <th>r2</th>\n",
       "      <th>w2</th>\n",
       "      <th>o2</th>\n",
       "    </tr>\n",
       "  </thead>\n",
       "  <tbody>\n",
       "    <tr>\n",
       "      <th>0</th>\n",
       "      <td>0</td>\n",
       "      <td>cacf2d34-41b8-41dd-91ed-5183d880084c</td>\n",
       "      <td>Kolkata Knight Riders</td>\n",
       "      <td>Royal Challengers Bengaluru</td>\n",
       "      <td>Royal Challengers Bengaluru</td>\n",
       "      <td>bowl</td>\n",
       "      <td>Royal Challengers Bengaluru</td>\n",
       "      <td>Kolkata Knight Riders Inning 1</td>\n",
       "      <td>174.0</td>\n",
       "      <td>8.0</td>\n",
       "      <td>20.0</td>\n",
       "      <td>Royal Challengers Bengaluru Inning 1</td>\n",
       "      <td>177.0</td>\n",
       "      <td>3.0</td>\n",
       "      <td>16.2</td>\n",
       "    </tr>\n",
       "    <tr>\n",
       "      <th>1</th>\n",
       "      <td>1</td>\n",
       "      <td>91b007f3-c0af-493f-808a-3f4ae2d66e33</td>\n",
       "      <td>Sunrisers Hyderabad</td>\n",
       "      <td>Rajasthan Royals</td>\n",
       "      <td>Rajasthan Royals</td>\n",
       "      <td>bowl</td>\n",
       "      <td>Sunrisers Hyderabad</td>\n",
       "      <td>Sunrisers Hyderabad Inning 1</td>\n",
       "      <td>286.0</td>\n",
       "      <td>6.0</td>\n",
       "      <td>20.0</td>\n",
       "      <td>Rajasthan Royals Inning 1</td>\n",
       "      <td>242.0</td>\n",
       "      <td>6.0</td>\n",
       "      <td>20.0</td>\n",
       "    </tr>\n",
       "    <tr>\n",
       "      <th>2</th>\n",
       "      <td>2</td>\n",
       "      <td>208d68e5-3fab-4f3b-88e9-29ec4a02d3e2</td>\n",
       "      <td>Chennai Super Kings</td>\n",
       "      <td>Mumbai Indians</td>\n",
       "      <td>Chennai Super Kings</td>\n",
       "      <td>bowl</td>\n",
       "      <td>Chennai Super Kings</td>\n",
       "      <td>Mumbai Indians Inning 1</td>\n",
       "      <td>155.0</td>\n",
       "      <td>9.0</td>\n",
       "      <td>20.0</td>\n",
       "      <td>Chennai Super Kings Inning 1</td>\n",
       "      <td>158.0</td>\n",
       "      <td>6.0</td>\n",
       "      <td>19.1</td>\n",
       "    </tr>\n",
       "    <tr>\n",
       "      <th>3</th>\n",
       "      <td>3</td>\n",
       "      <td>c6e97609-d9c1-46eb-805a-e282b34f3bb1</td>\n",
       "      <td>Delhi Capitals</td>\n",
       "      <td>Lucknow Super Giants</td>\n",
       "      <td>Delhi Capitals</td>\n",
       "      <td>bowl</td>\n",
       "      <td>Delhi Capitals</td>\n",
       "      <td>Lucknow Super Giants Inning 1</td>\n",
       "      <td>209.0</td>\n",
       "      <td>8.0</td>\n",
       "      <td>20.0</td>\n",
       "      <td>Delhi Capitals Inning 1</td>\n",
       "      <td>211.0</td>\n",
       "      <td>9.0</td>\n",
       "      <td>19.3</td>\n",
       "    </tr>\n",
       "    <tr>\n",
       "      <th>4</th>\n",
       "      <td>4</td>\n",
       "      <td>83d70527-5fc4-4fad-8dd2-b88b385f379e</td>\n",
       "      <td>Gujarat Titans</td>\n",
       "      <td>Punjab Kings</td>\n",
       "      <td>Gujarat Titans</td>\n",
       "      <td>bowl</td>\n",
       "      <td>Punjab Kings</td>\n",
       "      <td>Punjab Kings Inning 1</td>\n",
       "      <td>243.0</td>\n",
       "      <td>5.0</td>\n",
       "      <td>20.0</td>\n",
       "      <td>Gujarat Titans Inning 1</td>\n",
       "      <td>232.0</td>\n",
       "      <td>5.0</td>\n",
       "      <td>20.0</td>\n",
       "    </tr>\n",
       "    <tr>\n",
       "      <th>...</th>\n",
       "      <td>...</td>\n",
       "      <td>...</td>\n",
       "      <td>...</td>\n",
       "      <td>...</td>\n",
       "      <td>...</td>\n",
       "      <td>...</td>\n",
       "      <td>...</td>\n",
       "      <td>...</td>\n",
       "      <td>...</td>\n",
       "      <td>...</td>\n",
       "      <td>...</td>\n",
       "      <td>...</td>\n",
       "      <td>...</td>\n",
       "      <td>...</td>\n",
       "      <td>...</td>\n",
       "    </tr>\n",
       "    <tr>\n",
       "      <th>69</th>\n",
       "      <td>69</td>\n",
       "      <td>6f407b82-f31f-4e4e-bf65-763919972804</td>\n",
       "      <td>Lucknow Super Giants</td>\n",
       "      <td>Royal Challengers Bengaluru</td>\n",
       "      <td>Royal Challengers Bengaluru</td>\n",
       "      <td>bowl</td>\n",
       "      <td>Royal Challengers Bengaluru</td>\n",
       "      <td>Lucknow Super Giants Inning 1</td>\n",
       "      <td>227.0</td>\n",
       "      <td>3.0</td>\n",
       "      <td>20.0</td>\n",
       "      <td>Royal Challengers Bengaluru Inning 1</td>\n",
       "      <td>230.0</td>\n",
       "      <td>4.0</td>\n",
       "      <td>18.4</td>\n",
       "    </tr>\n",
       "    <tr>\n",
       "      <th>70</th>\n",
       "      <td>70</td>\n",
       "      <td>bc3351d1-f950-4aa6-bb6f-473517a06885</td>\n",
       "      <td>Punjab Kings</td>\n",
       "      <td>Royal Challengers Bengaluru</td>\n",
       "      <td>Royal Challengers Bengaluru</td>\n",
       "      <td>bowl</td>\n",
       "      <td>Royal Challengers Bengaluru</td>\n",
       "      <td>Punjab Kings Inning 1</td>\n",
       "      <td>101.0</td>\n",
       "      <td>10.0</td>\n",
       "      <td>14.1</td>\n",
       "      <td>Royal Challengers Bengaluru Inning 1</td>\n",
       "      <td>106.0</td>\n",
       "      <td>2.0</td>\n",
       "      <td>10.0</td>\n",
       "    </tr>\n",
       "    <tr>\n",
       "      <th>71</th>\n",
       "      <td>71</td>\n",
       "      <td>21cf482e-bb64-4b40-b6e0-6b51c77ba464</td>\n",
       "      <td>Gujarat Titans</td>\n",
       "      <td>Mumbai Indians</td>\n",
       "      <td>Mumbai Indians</td>\n",
       "      <td>bat</td>\n",
       "      <td>Mumbai Indians</td>\n",
       "      <td>Mumbai Indians Inning 1</td>\n",
       "      <td>228.0</td>\n",
       "      <td>5.0</td>\n",
       "      <td>20.0</td>\n",
       "      <td>Gujarat Titans Inning 1</td>\n",
       "      <td>208.0</td>\n",
       "      <td>6.0</td>\n",
       "      <td>20.0</td>\n",
       "    </tr>\n",
       "    <tr>\n",
       "      <th>72</th>\n",
       "      <td>72</td>\n",
       "      <td>c8425e58-85a4-4e8e-a56c-8afae638effb</td>\n",
       "      <td>Punjab Kings</td>\n",
       "      <td>Mumbai Indians</td>\n",
       "      <td>Punjab Kings</td>\n",
       "      <td>bowl</td>\n",
       "      <td>Punjab Kings</td>\n",
       "      <td>Mumbai Indians Inning 1</td>\n",
       "      <td>203.0</td>\n",
       "      <td>6.0</td>\n",
       "      <td>20.0</td>\n",
       "      <td>Punjab Kings Inning 1</td>\n",
       "      <td>207.0</td>\n",
       "      <td>5.0</td>\n",
       "      <td>19.0</td>\n",
       "    </tr>\n",
       "    <tr>\n",
       "      <th>73</th>\n",
       "      <td>73</td>\n",
       "      <td>38f4d432-1349-4223-87ab-b1279c553754</td>\n",
       "      <td>Royal Challengers Bengaluru</td>\n",
       "      <td>Punjab Kings</td>\n",
       "      <td>Punjab Kings</td>\n",
       "      <td>bowl</td>\n",
       "      <td>Royal Challengers Bengaluru</td>\n",
       "      <td>Royal Challengers Bengaluru Inning 1</td>\n",
       "      <td>190.0</td>\n",
       "      <td>9.0</td>\n",
       "      <td>20.0</td>\n",
       "      <td>Punjab Kings Inning 1</td>\n",
       "      <td>184.0</td>\n",
       "      <td>7.0</td>\n",
       "      <td>20.0</td>\n",
       "    </tr>\n",
       "  </tbody>\n",
       "</table>\n",
       "<p>74 rows × 15 columns</p>\n",
       "</div>"
      ],
      "text/plain": [
       "    Unnamed: 0                                    id  \\\n",
       "0            0  cacf2d34-41b8-41dd-91ed-5183d880084c   \n",
       "1            1  91b007f3-c0af-493f-808a-3f4ae2d66e33   \n",
       "2            2  208d68e5-3fab-4f3b-88e9-29ec4a02d3e2   \n",
       "3            3  c6e97609-d9c1-46eb-805a-e282b34f3bb1   \n",
       "4            4  83d70527-5fc4-4fad-8dd2-b88b385f379e   \n",
       "..         ...                                   ...   \n",
       "69          69  6f407b82-f31f-4e4e-bf65-763919972804   \n",
       "70          70  bc3351d1-f950-4aa6-bb6f-473517a06885   \n",
       "71          71  21cf482e-bb64-4b40-b6e0-6b51c77ba464   \n",
       "72          72  c8425e58-85a4-4e8e-a56c-8afae638effb   \n",
       "73          73  38f4d432-1349-4223-87ab-b1279c553754   \n",
       "\n",
       "                          Team1                        Team2  \\\n",
       "0         Kolkata Knight Riders  Royal Challengers Bengaluru   \n",
       "1           Sunrisers Hyderabad             Rajasthan Royals   \n",
       "2           Chennai Super Kings               Mumbai Indians   \n",
       "3                Delhi Capitals         Lucknow Super Giants   \n",
       "4                Gujarat Titans                 Punjab Kings   \n",
       "..                          ...                          ...   \n",
       "69         Lucknow Super Giants  Royal Challengers Bengaluru   \n",
       "70                 Punjab Kings  Royal Challengers Bengaluru   \n",
       "71               Gujarat Titans               Mumbai Indians   \n",
       "72                 Punjab Kings               Mumbai Indians   \n",
       "73  Royal Challengers Bengaluru                 Punjab Kings   \n",
       "\n",
       "                     tossWinner tossChoice                  matchWinner  \\\n",
       "0   Royal Challengers Bengaluru       bowl  Royal Challengers Bengaluru   \n",
       "1              Rajasthan Royals       bowl          Sunrisers Hyderabad   \n",
       "2           Chennai Super Kings       bowl          Chennai Super Kings   \n",
       "3                Delhi Capitals       bowl               Delhi Capitals   \n",
       "4                Gujarat Titans       bowl                 Punjab Kings   \n",
       "..                          ...        ...                          ...   \n",
       "69  Royal Challengers Bengaluru       bowl  Royal Challengers Bengaluru   \n",
       "70  Royal Challengers Bengaluru       bowl  Royal Challengers Bengaluru   \n",
       "71               Mumbai Indians        bat               Mumbai Indians   \n",
       "72                 Punjab Kings       bowl                 Punjab Kings   \n",
       "73                 Punjab Kings       bowl  Royal Challengers Bengaluru   \n",
       "\n",
       "                                Innings1     r1    w1    o1  \\\n",
       "0         Kolkata Knight Riders Inning 1  174.0   8.0  20.0   \n",
       "1           Sunrisers Hyderabad Inning 1  286.0   6.0  20.0   \n",
       "2                Mumbai Indians Inning 1  155.0   9.0  20.0   \n",
       "3          Lucknow Super Giants Inning 1  209.0   8.0  20.0   \n",
       "4                  Punjab Kings Inning 1  243.0   5.0  20.0   \n",
       "..                                   ...    ...   ...   ...   \n",
       "69         Lucknow Super Giants Inning 1  227.0   3.0  20.0   \n",
       "70                 Punjab Kings Inning 1  101.0  10.0  14.1   \n",
       "71               Mumbai Indians Inning 1  228.0   5.0  20.0   \n",
       "72               Mumbai Indians Inning 1  203.0   6.0  20.0   \n",
       "73  Royal Challengers Bengaluru Inning 1  190.0   9.0  20.0   \n",
       "\n",
       "                                Innings2     r2   w2    o2  \n",
       "0   Royal Challengers Bengaluru Inning 1  177.0  3.0  16.2  \n",
       "1              Rajasthan Royals Inning 1  242.0  6.0  20.0  \n",
       "2           Chennai Super Kings Inning 1  158.0  6.0  19.1  \n",
       "3                Delhi Capitals Inning 1  211.0  9.0  19.3  \n",
       "4                Gujarat Titans Inning 1  232.0  5.0  20.0  \n",
       "..                                   ...    ...  ...   ...  \n",
       "69  Royal Challengers Bengaluru Inning 1  230.0  4.0  18.4  \n",
       "70  Royal Challengers Bengaluru Inning 1  106.0  2.0  10.0  \n",
       "71               Gujarat Titans Inning 1  208.0  6.0  20.0  \n",
       "72                 Punjab Kings Inning 1  207.0  5.0  19.0  \n",
       "73                 Punjab Kings Inning 1  184.0  7.0  20.0  \n",
       "\n",
       "[74 rows x 15 columns]"
      ]
     },
     "execution_count": 51,
     "metadata": {},
     "output_type": "execute_result"
    }
   ],
   "source": [
    "df=pd.read_csv('../iplanalytics/data/match_info-10jun25.csv')\n",
    "df"
   ]
  },
  {
   "cell_type": "code",
   "execution_count": 52,
   "id": "5c1848c2",
   "metadata": {},
   "outputs": [
    {
     "data": {
      "text/html": [
       "<div>\n",
       "<style scoped>\n",
       "    .dataframe tbody tr th:only-of-type {\n",
       "        vertical-align: middle;\n",
       "    }\n",
       "\n",
       "    .dataframe tbody tr th {\n",
       "        vertical-align: top;\n",
       "    }\n",
       "\n",
       "    .dataframe thead th {\n",
       "        text-align: right;\n",
       "    }\n",
       "</style>\n",
       "<table border=\"1\" class=\"dataframe\">\n",
       "  <thead>\n",
       "    <tr style=\"text-align: right;\">\n",
       "      <th></th>\n",
       "      <th>Unnamed: 0</th>\n",
       "      <th>MatchID</th>\n",
       "      <th>MatchName</th>\n",
       "      <th>MatchNumber</th>\n",
       "      <th>MatchType</th>\n",
       "      <th>MatchVenue</th>\n",
       "      <th>MatchDate</th>\n",
       "      <th>MatchDateTime</th>\n",
       "      <th>MatchStarted</th>\n",
       "      <th>MatchEnded</th>\n",
       "    </tr>\n",
       "  </thead>\n",
       "  <tbody>\n",
       "    <tr>\n",
       "      <th>0</th>\n",
       "      <td>0</td>\n",
       "      <td>cacf2d34-41b8-41dd-91ed-5183d880084c</td>\n",
       "      <td>Kolkata Knight Riders vs Royal Challengers Ben...</td>\n",
       "      <td>1</td>\n",
       "      <td>t20</td>\n",
       "      <td>Eden Gardens, Kolkata</td>\n",
       "      <td>2025-03-22</td>\n",
       "      <td>2025-03-22 14:00:00</td>\n",
       "      <td>True</td>\n",
       "      <td>True</td>\n",
       "    </tr>\n",
       "    <tr>\n",
       "      <th>1</th>\n",
       "      <td>1</td>\n",
       "      <td>91b007f3-c0af-493f-808a-3f4ae2d66e33</td>\n",
       "      <td>Sunrisers Hyderabad vs Rajasthan Royals</td>\n",
       "      <td>2</td>\n",
       "      <td>t20</td>\n",
       "      <td>Rajiv Gandhi International Stadium, Hyderabad</td>\n",
       "      <td>2025-03-23</td>\n",
       "      <td>2025-03-23 10:00:00</td>\n",
       "      <td>True</td>\n",
       "      <td>True</td>\n",
       "    </tr>\n",
       "    <tr>\n",
       "      <th>2</th>\n",
       "      <td>2</td>\n",
       "      <td>208d68e5-3fab-4f3b-88e9-29ec4a02d3e2</td>\n",
       "      <td>Chennai Super Kings vs Mumbai Indians</td>\n",
       "      <td>3</td>\n",
       "      <td>t20</td>\n",
       "      <td>MA Chidambaram Stadium, Chennai</td>\n",
       "      <td>2025-03-23</td>\n",
       "      <td>2025-03-23 14:00:00</td>\n",
       "      <td>True</td>\n",
       "      <td>True</td>\n",
       "    </tr>\n",
       "    <tr>\n",
       "      <th>3</th>\n",
       "      <td>3</td>\n",
       "      <td>c6e97609-d9c1-46eb-805a-e282b34f3bb1</td>\n",
       "      <td>Delhi Capitals vs Lucknow Super Giants</td>\n",
       "      <td>4</td>\n",
       "      <td>t20</td>\n",
       "      <td>Dr. Y.S. Rajasekhara Reddy ACA-VDCA Cricket St...</td>\n",
       "      <td>2025-03-24</td>\n",
       "      <td>2025-03-24 14:00:00</td>\n",
       "      <td>True</td>\n",
       "      <td>True</td>\n",
       "    </tr>\n",
       "    <tr>\n",
       "      <th>4</th>\n",
       "      <td>4</td>\n",
       "      <td>83d70527-5fc4-4fad-8dd2-b88b385f379e</td>\n",
       "      <td>Gujarat Titans vs Punjab Kings</td>\n",
       "      <td>5</td>\n",
       "      <td>t20</td>\n",
       "      <td>Narendra Modi Stadium, Ahmedabad</td>\n",
       "      <td>2025-03-25</td>\n",
       "      <td>2025-03-25 14:00:00</td>\n",
       "      <td>True</td>\n",
       "      <td>True</td>\n",
       "    </tr>\n",
       "    <tr>\n",
       "      <th>...</th>\n",
       "      <td>...</td>\n",
       "      <td>...</td>\n",
       "      <td>...</td>\n",
       "      <td>...</td>\n",
       "      <td>...</td>\n",
       "      <td>...</td>\n",
       "      <td>...</td>\n",
       "      <td>...</td>\n",
       "      <td>...</td>\n",
       "      <td>...</td>\n",
       "    </tr>\n",
       "    <tr>\n",
       "      <th>69</th>\n",
       "      <td>69</td>\n",
       "      <td>6f407b82-f31f-4e4e-bf65-763919972804</td>\n",
       "      <td>Lucknow Super Giants vs Royal Challengers Beng...</td>\n",
       "      <td>70</td>\n",
       "      <td>t20</td>\n",
       "      <td>Bharat Ratna Shri Atal Bihari Vajpayee Ekana C...</td>\n",
       "      <td>2025-05-27</td>\n",
       "      <td>2025-05-27 14:00:00</td>\n",
       "      <td>True</td>\n",
       "      <td>True</td>\n",
       "    </tr>\n",
       "    <tr>\n",
       "      <th>70</th>\n",
       "      <td>70</td>\n",
       "      <td>bc3351d1-f950-4aa6-bb6f-473517a06885</td>\n",
       "      <td>Punjab Kings vs Royal Challengers Bengaluru</td>\n",
       "      <td>71</td>\n",
       "      <td>t20</td>\n",
       "      <td>Maharaja Yadavindra Singh International Cricke...</td>\n",
       "      <td>2025-05-29</td>\n",
       "      <td>2025-05-29 14:00:00</td>\n",
       "      <td>True</td>\n",
       "      <td>True</td>\n",
       "    </tr>\n",
       "    <tr>\n",
       "      <th>71</th>\n",
       "      <td>71</td>\n",
       "      <td>21cf482e-bb64-4b40-b6e0-6b51c77ba464</td>\n",
       "      <td>Gujarat Titans vs Mumbai Indians</td>\n",
       "      <td>72</td>\n",
       "      <td>t20</td>\n",
       "      <td>Maharaja Yadavindra Singh International Cricke...</td>\n",
       "      <td>2025-05-30</td>\n",
       "      <td>2025-05-30 14:00:00</td>\n",
       "      <td>True</td>\n",
       "      <td>True</td>\n",
       "    </tr>\n",
       "    <tr>\n",
       "      <th>72</th>\n",
       "      <td>72</td>\n",
       "      <td>c8425e58-85a4-4e8e-a56c-8afae638effb</td>\n",
       "      <td>Punjab Kings vs Mumbai Indians</td>\n",
       "      <td>73</td>\n",
       "      <td>t20</td>\n",
       "      <td>Narendra Modi Stadium, Ahmedabad</td>\n",
       "      <td>2025-06-01</td>\n",
       "      <td>2025-06-01 14:00:00</td>\n",
       "      <td>True</td>\n",
       "      <td>True</td>\n",
       "    </tr>\n",
       "    <tr>\n",
       "      <th>73</th>\n",
       "      <td>73</td>\n",
       "      <td>38f4d432-1349-4223-87ab-b1279c553754</td>\n",
       "      <td>Royal Challengers Bengaluru vs Punjab Kings</td>\n",
       "      <td>74</td>\n",
       "      <td>t20</td>\n",
       "      <td>Narendra Modi Stadium, Ahmedabad</td>\n",
       "      <td>2025-06-03</td>\n",
       "      <td>2025-06-03 14:00:00</td>\n",
       "      <td>True</td>\n",
       "      <td>True</td>\n",
       "    </tr>\n",
       "  </tbody>\n",
       "</table>\n",
       "<p>74 rows × 10 columns</p>\n",
       "</div>"
      ],
      "text/plain": [
       "    Unnamed: 0                               MatchID  \\\n",
       "0            0  cacf2d34-41b8-41dd-91ed-5183d880084c   \n",
       "1            1  91b007f3-c0af-493f-808a-3f4ae2d66e33   \n",
       "2            2  208d68e5-3fab-4f3b-88e9-29ec4a02d3e2   \n",
       "3            3  c6e97609-d9c1-46eb-805a-e282b34f3bb1   \n",
       "4            4  83d70527-5fc4-4fad-8dd2-b88b385f379e   \n",
       "..         ...                                   ...   \n",
       "69          69  6f407b82-f31f-4e4e-bf65-763919972804   \n",
       "70          70  bc3351d1-f950-4aa6-bb6f-473517a06885   \n",
       "71          71  21cf482e-bb64-4b40-b6e0-6b51c77ba464   \n",
       "72          72  c8425e58-85a4-4e8e-a56c-8afae638effb   \n",
       "73          73  38f4d432-1349-4223-87ab-b1279c553754   \n",
       "\n",
       "                                            MatchName  MatchNumber MatchType  \\\n",
       "0   Kolkata Knight Riders vs Royal Challengers Ben...            1       t20   \n",
       "1             Sunrisers Hyderabad vs Rajasthan Royals            2       t20   \n",
       "2               Chennai Super Kings vs Mumbai Indians            3       t20   \n",
       "3              Delhi Capitals vs Lucknow Super Giants            4       t20   \n",
       "4                      Gujarat Titans vs Punjab Kings            5       t20   \n",
       "..                                                ...          ...       ...   \n",
       "69  Lucknow Super Giants vs Royal Challengers Beng...           70       t20   \n",
       "70        Punjab Kings vs Royal Challengers Bengaluru           71       t20   \n",
       "71                   Gujarat Titans vs Mumbai Indians           72       t20   \n",
       "72                     Punjab Kings vs Mumbai Indians           73       t20   \n",
       "73        Royal Challengers Bengaluru vs Punjab Kings           74       t20   \n",
       "\n",
       "                                           MatchVenue   MatchDate  \\\n",
       "0                               Eden Gardens, Kolkata  2025-03-22   \n",
       "1       Rajiv Gandhi International Stadium, Hyderabad  2025-03-23   \n",
       "2                     MA Chidambaram Stadium, Chennai  2025-03-23   \n",
       "3   Dr. Y.S. Rajasekhara Reddy ACA-VDCA Cricket St...  2025-03-24   \n",
       "4                    Narendra Modi Stadium, Ahmedabad  2025-03-25   \n",
       "..                                                ...         ...   \n",
       "69  Bharat Ratna Shri Atal Bihari Vajpayee Ekana C...  2025-05-27   \n",
       "70  Maharaja Yadavindra Singh International Cricke...  2025-05-29   \n",
       "71  Maharaja Yadavindra Singh International Cricke...  2025-05-30   \n",
       "72                   Narendra Modi Stadium, Ahmedabad  2025-06-01   \n",
       "73                   Narendra Modi Stadium, Ahmedabad  2025-06-03   \n",
       "\n",
       "          MatchDateTime  MatchStarted  MatchEnded  \n",
       "0   2025-03-22 14:00:00          True        True  \n",
       "1   2025-03-23 10:00:00          True        True  \n",
       "2   2025-03-23 14:00:00          True        True  \n",
       "3   2025-03-24 14:00:00          True        True  \n",
       "4   2025-03-25 14:00:00          True        True  \n",
       "..                  ...           ...         ...  \n",
       "69  2025-05-27 14:00:00          True        True  \n",
       "70  2025-05-29 14:00:00          True        True  \n",
       "71  2025-05-30 14:00:00          True        True  \n",
       "72  2025-06-01 14:00:00          True        True  \n",
       "73  2025-06-03 14:00:00          True        True  \n",
       "\n",
       "[74 rows x 10 columns]"
      ]
     },
     "execution_count": 52,
     "metadata": {},
     "output_type": "execute_result"
    }
   ],
   "source": [
    "kf=pd.read_csv('../iplanalytics/data/match_list-9jun25.csv')\n",
    "kf"
   ]
  },
  {
   "cell_type": "code",
   "execution_count": 53,
   "id": "d356b97d",
   "metadata": {},
   "outputs": [],
   "source": [
    "kf.rename(columns={'MatchID':'id'}, inplace=True)"
   ]
  },
  {
   "cell_type": "code",
   "execution_count": 54,
   "id": "af371f19",
   "metadata": {
    "scrolled": true
   },
   "outputs": [
    {
     "data": {
      "text/html": [
       "<div>\n",
       "<style scoped>\n",
       "    .dataframe tbody tr th:only-of-type {\n",
       "        vertical-align: middle;\n",
       "    }\n",
       "\n",
       "    .dataframe tbody tr th {\n",
       "        vertical-align: top;\n",
       "    }\n",
       "\n",
       "    .dataframe thead th {\n",
       "        text-align: right;\n",
       "    }\n",
       "</style>\n",
       "<table border=\"1\" class=\"dataframe\">\n",
       "  <thead>\n",
       "    <tr style=\"text-align: right;\">\n",
       "      <th></th>\n",
       "      <th>Unnamed: 0_x</th>\n",
       "      <th>id</th>\n",
       "      <th>Team1</th>\n",
       "      <th>Team2</th>\n",
       "      <th>tossWinner</th>\n",
       "      <th>tossChoice</th>\n",
       "      <th>matchWinner</th>\n",
       "      <th>Innings1</th>\n",
       "      <th>r1</th>\n",
       "      <th>w1</th>\n",
       "      <th>...</th>\n",
       "      <th>o2</th>\n",
       "      <th>Unnamed: 0_y</th>\n",
       "      <th>MatchName</th>\n",
       "      <th>MatchNumber</th>\n",
       "      <th>MatchType</th>\n",
       "      <th>MatchVenue</th>\n",
       "      <th>MatchDate</th>\n",
       "      <th>MatchDateTime</th>\n",
       "      <th>MatchStarted</th>\n",
       "      <th>MatchEnded</th>\n",
       "    </tr>\n",
       "  </thead>\n",
       "  <tbody>\n",
       "    <tr>\n",
       "      <th>0</th>\n",
       "      <td>0</td>\n",
       "      <td>cacf2d34-41b8-41dd-91ed-5183d880084c</td>\n",
       "      <td>Kolkata Knight Riders</td>\n",
       "      <td>Royal Challengers Bengaluru</td>\n",
       "      <td>Royal Challengers Bengaluru</td>\n",
       "      <td>bowl</td>\n",
       "      <td>Royal Challengers Bengaluru</td>\n",
       "      <td>Kolkata Knight Riders Inning 1</td>\n",
       "      <td>174.0</td>\n",
       "      <td>8.0</td>\n",
       "      <td>...</td>\n",
       "      <td>16.2</td>\n",
       "      <td>0</td>\n",
       "      <td>Kolkata Knight Riders vs Royal Challengers Ben...</td>\n",
       "      <td>1</td>\n",
       "      <td>t20</td>\n",
       "      <td>Eden Gardens, Kolkata</td>\n",
       "      <td>2025-03-22</td>\n",
       "      <td>2025-03-22 14:00:00</td>\n",
       "      <td>True</td>\n",
       "      <td>True</td>\n",
       "    </tr>\n",
       "    <tr>\n",
       "      <th>1</th>\n",
       "      <td>1</td>\n",
       "      <td>91b007f3-c0af-493f-808a-3f4ae2d66e33</td>\n",
       "      <td>Sunrisers Hyderabad</td>\n",
       "      <td>Rajasthan Royals</td>\n",
       "      <td>Rajasthan Royals</td>\n",
       "      <td>bowl</td>\n",
       "      <td>Sunrisers Hyderabad</td>\n",
       "      <td>Sunrisers Hyderabad Inning 1</td>\n",
       "      <td>286.0</td>\n",
       "      <td>6.0</td>\n",
       "      <td>...</td>\n",
       "      <td>20.0</td>\n",
       "      <td>1</td>\n",
       "      <td>Sunrisers Hyderabad vs Rajasthan Royals</td>\n",
       "      <td>2</td>\n",
       "      <td>t20</td>\n",
       "      <td>Rajiv Gandhi International Stadium, Hyderabad</td>\n",
       "      <td>2025-03-23</td>\n",
       "      <td>2025-03-23 10:00:00</td>\n",
       "      <td>True</td>\n",
       "      <td>True</td>\n",
       "    </tr>\n",
       "    <tr>\n",
       "      <th>2</th>\n",
       "      <td>2</td>\n",
       "      <td>208d68e5-3fab-4f3b-88e9-29ec4a02d3e2</td>\n",
       "      <td>Chennai Super Kings</td>\n",
       "      <td>Mumbai Indians</td>\n",
       "      <td>Chennai Super Kings</td>\n",
       "      <td>bowl</td>\n",
       "      <td>Chennai Super Kings</td>\n",
       "      <td>Mumbai Indians Inning 1</td>\n",
       "      <td>155.0</td>\n",
       "      <td>9.0</td>\n",
       "      <td>...</td>\n",
       "      <td>19.1</td>\n",
       "      <td>2</td>\n",
       "      <td>Chennai Super Kings vs Mumbai Indians</td>\n",
       "      <td>3</td>\n",
       "      <td>t20</td>\n",
       "      <td>MA Chidambaram Stadium, Chennai</td>\n",
       "      <td>2025-03-23</td>\n",
       "      <td>2025-03-23 14:00:00</td>\n",
       "      <td>True</td>\n",
       "      <td>True</td>\n",
       "    </tr>\n",
       "    <tr>\n",
       "      <th>3</th>\n",
       "      <td>3</td>\n",
       "      <td>c6e97609-d9c1-46eb-805a-e282b34f3bb1</td>\n",
       "      <td>Delhi Capitals</td>\n",
       "      <td>Lucknow Super Giants</td>\n",
       "      <td>Delhi Capitals</td>\n",
       "      <td>bowl</td>\n",
       "      <td>Delhi Capitals</td>\n",
       "      <td>Lucknow Super Giants Inning 1</td>\n",
       "      <td>209.0</td>\n",
       "      <td>8.0</td>\n",
       "      <td>...</td>\n",
       "      <td>19.3</td>\n",
       "      <td>3</td>\n",
       "      <td>Delhi Capitals vs Lucknow Super Giants</td>\n",
       "      <td>4</td>\n",
       "      <td>t20</td>\n",
       "      <td>Dr. Y.S. Rajasekhara Reddy ACA-VDCA Cricket St...</td>\n",
       "      <td>2025-03-24</td>\n",
       "      <td>2025-03-24 14:00:00</td>\n",
       "      <td>True</td>\n",
       "      <td>True</td>\n",
       "    </tr>\n",
       "    <tr>\n",
       "      <th>4</th>\n",
       "      <td>4</td>\n",
       "      <td>83d70527-5fc4-4fad-8dd2-b88b385f379e</td>\n",
       "      <td>Gujarat Titans</td>\n",
       "      <td>Punjab Kings</td>\n",
       "      <td>Gujarat Titans</td>\n",
       "      <td>bowl</td>\n",
       "      <td>Punjab Kings</td>\n",
       "      <td>Punjab Kings Inning 1</td>\n",
       "      <td>243.0</td>\n",
       "      <td>5.0</td>\n",
       "      <td>...</td>\n",
       "      <td>20.0</td>\n",
       "      <td>4</td>\n",
       "      <td>Gujarat Titans vs Punjab Kings</td>\n",
       "      <td>5</td>\n",
       "      <td>t20</td>\n",
       "      <td>Narendra Modi Stadium, Ahmedabad</td>\n",
       "      <td>2025-03-25</td>\n",
       "      <td>2025-03-25 14:00:00</td>\n",
       "      <td>True</td>\n",
       "      <td>True</td>\n",
       "    </tr>\n",
       "    <tr>\n",
       "      <th>...</th>\n",
       "      <td>...</td>\n",
       "      <td>...</td>\n",
       "      <td>...</td>\n",
       "      <td>...</td>\n",
       "      <td>...</td>\n",
       "      <td>...</td>\n",
       "      <td>...</td>\n",
       "      <td>...</td>\n",
       "      <td>...</td>\n",
       "      <td>...</td>\n",
       "      <td>...</td>\n",
       "      <td>...</td>\n",
       "      <td>...</td>\n",
       "      <td>...</td>\n",
       "      <td>...</td>\n",
       "      <td>...</td>\n",
       "      <td>...</td>\n",
       "      <td>...</td>\n",
       "      <td>...</td>\n",
       "      <td>...</td>\n",
       "      <td>...</td>\n",
       "    </tr>\n",
       "    <tr>\n",
       "      <th>69</th>\n",
       "      <td>69</td>\n",
       "      <td>6f407b82-f31f-4e4e-bf65-763919972804</td>\n",
       "      <td>Lucknow Super Giants</td>\n",
       "      <td>Royal Challengers Bengaluru</td>\n",
       "      <td>Royal Challengers Bengaluru</td>\n",
       "      <td>bowl</td>\n",
       "      <td>Royal Challengers Bengaluru</td>\n",
       "      <td>Lucknow Super Giants Inning 1</td>\n",
       "      <td>227.0</td>\n",
       "      <td>3.0</td>\n",
       "      <td>...</td>\n",
       "      <td>18.4</td>\n",
       "      <td>69</td>\n",
       "      <td>Lucknow Super Giants vs Royal Challengers Beng...</td>\n",
       "      <td>70</td>\n",
       "      <td>t20</td>\n",
       "      <td>Bharat Ratna Shri Atal Bihari Vajpayee Ekana C...</td>\n",
       "      <td>2025-05-27</td>\n",
       "      <td>2025-05-27 14:00:00</td>\n",
       "      <td>True</td>\n",
       "      <td>True</td>\n",
       "    </tr>\n",
       "    <tr>\n",
       "      <th>70</th>\n",
       "      <td>70</td>\n",
       "      <td>bc3351d1-f950-4aa6-bb6f-473517a06885</td>\n",
       "      <td>Punjab Kings</td>\n",
       "      <td>Royal Challengers Bengaluru</td>\n",
       "      <td>Royal Challengers Bengaluru</td>\n",
       "      <td>bowl</td>\n",
       "      <td>Royal Challengers Bengaluru</td>\n",
       "      <td>Punjab Kings Inning 1</td>\n",
       "      <td>101.0</td>\n",
       "      <td>10.0</td>\n",
       "      <td>...</td>\n",
       "      <td>10.0</td>\n",
       "      <td>70</td>\n",
       "      <td>Punjab Kings vs Royal Challengers Bengaluru</td>\n",
       "      <td>71</td>\n",
       "      <td>t20</td>\n",
       "      <td>Maharaja Yadavindra Singh International Cricke...</td>\n",
       "      <td>2025-05-29</td>\n",
       "      <td>2025-05-29 14:00:00</td>\n",
       "      <td>True</td>\n",
       "      <td>True</td>\n",
       "    </tr>\n",
       "    <tr>\n",
       "      <th>71</th>\n",
       "      <td>71</td>\n",
       "      <td>21cf482e-bb64-4b40-b6e0-6b51c77ba464</td>\n",
       "      <td>Gujarat Titans</td>\n",
       "      <td>Mumbai Indians</td>\n",
       "      <td>Mumbai Indians</td>\n",
       "      <td>bat</td>\n",
       "      <td>Mumbai Indians</td>\n",
       "      <td>Mumbai Indians Inning 1</td>\n",
       "      <td>228.0</td>\n",
       "      <td>5.0</td>\n",
       "      <td>...</td>\n",
       "      <td>20.0</td>\n",
       "      <td>71</td>\n",
       "      <td>Gujarat Titans vs Mumbai Indians</td>\n",
       "      <td>72</td>\n",
       "      <td>t20</td>\n",
       "      <td>Maharaja Yadavindra Singh International Cricke...</td>\n",
       "      <td>2025-05-30</td>\n",
       "      <td>2025-05-30 14:00:00</td>\n",
       "      <td>True</td>\n",
       "      <td>True</td>\n",
       "    </tr>\n",
       "    <tr>\n",
       "      <th>72</th>\n",
       "      <td>72</td>\n",
       "      <td>c8425e58-85a4-4e8e-a56c-8afae638effb</td>\n",
       "      <td>Punjab Kings</td>\n",
       "      <td>Mumbai Indians</td>\n",
       "      <td>Punjab Kings</td>\n",
       "      <td>bowl</td>\n",
       "      <td>Punjab Kings</td>\n",
       "      <td>Mumbai Indians Inning 1</td>\n",
       "      <td>203.0</td>\n",
       "      <td>6.0</td>\n",
       "      <td>...</td>\n",
       "      <td>19.0</td>\n",
       "      <td>72</td>\n",
       "      <td>Punjab Kings vs Mumbai Indians</td>\n",
       "      <td>73</td>\n",
       "      <td>t20</td>\n",
       "      <td>Narendra Modi Stadium, Ahmedabad</td>\n",
       "      <td>2025-06-01</td>\n",
       "      <td>2025-06-01 14:00:00</td>\n",
       "      <td>True</td>\n",
       "      <td>True</td>\n",
       "    </tr>\n",
       "    <tr>\n",
       "      <th>73</th>\n",
       "      <td>73</td>\n",
       "      <td>38f4d432-1349-4223-87ab-b1279c553754</td>\n",
       "      <td>Royal Challengers Bengaluru</td>\n",
       "      <td>Punjab Kings</td>\n",
       "      <td>Punjab Kings</td>\n",
       "      <td>bowl</td>\n",
       "      <td>Royal Challengers Bengaluru</td>\n",
       "      <td>Royal Challengers Bengaluru Inning 1</td>\n",
       "      <td>190.0</td>\n",
       "      <td>9.0</td>\n",
       "      <td>...</td>\n",
       "      <td>20.0</td>\n",
       "      <td>73</td>\n",
       "      <td>Royal Challengers Bengaluru vs Punjab Kings</td>\n",
       "      <td>74</td>\n",
       "      <td>t20</td>\n",
       "      <td>Narendra Modi Stadium, Ahmedabad</td>\n",
       "      <td>2025-06-03</td>\n",
       "      <td>2025-06-03 14:00:00</td>\n",
       "      <td>True</td>\n",
       "      <td>True</td>\n",
       "    </tr>\n",
       "  </tbody>\n",
       "</table>\n",
       "<p>74 rows × 24 columns</p>\n",
       "</div>"
      ],
      "text/plain": [
       "    Unnamed: 0_x                                    id  \\\n",
       "0              0  cacf2d34-41b8-41dd-91ed-5183d880084c   \n",
       "1              1  91b007f3-c0af-493f-808a-3f4ae2d66e33   \n",
       "2              2  208d68e5-3fab-4f3b-88e9-29ec4a02d3e2   \n",
       "3              3  c6e97609-d9c1-46eb-805a-e282b34f3bb1   \n",
       "4              4  83d70527-5fc4-4fad-8dd2-b88b385f379e   \n",
       "..           ...                                   ...   \n",
       "69            69  6f407b82-f31f-4e4e-bf65-763919972804   \n",
       "70            70  bc3351d1-f950-4aa6-bb6f-473517a06885   \n",
       "71            71  21cf482e-bb64-4b40-b6e0-6b51c77ba464   \n",
       "72            72  c8425e58-85a4-4e8e-a56c-8afae638effb   \n",
       "73            73  38f4d432-1349-4223-87ab-b1279c553754   \n",
       "\n",
       "                          Team1                        Team2  \\\n",
       "0         Kolkata Knight Riders  Royal Challengers Bengaluru   \n",
       "1           Sunrisers Hyderabad             Rajasthan Royals   \n",
       "2           Chennai Super Kings               Mumbai Indians   \n",
       "3                Delhi Capitals         Lucknow Super Giants   \n",
       "4                Gujarat Titans                 Punjab Kings   \n",
       "..                          ...                          ...   \n",
       "69         Lucknow Super Giants  Royal Challengers Bengaluru   \n",
       "70                 Punjab Kings  Royal Challengers Bengaluru   \n",
       "71               Gujarat Titans               Mumbai Indians   \n",
       "72                 Punjab Kings               Mumbai Indians   \n",
       "73  Royal Challengers Bengaluru                 Punjab Kings   \n",
       "\n",
       "                     tossWinner tossChoice                  matchWinner  \\\n",
       "0   Royal Challengers Bengaluru       bowl  Royal Challengers Bengaluru   \n",
       "1              Rajasthan Royals       bowl          Sunrisers Hyderabad   \n",
       "2           Chennai Super Kings       bowl          Chennai Super Kings   \n",
       "3                Delhi Capitals       bowl               Delhi Capitals   \n",
       "4                Gujarat Titans       bowl                 Punjab Kings   \n",
       "..                          ...        ...                          ...   \n",
       "69  Royal Challengers Bengaluru       bowl  Royal Challengers Bengaluru   \n",
       "70  Royal Challengers Bengaluru       bowl  Royal Challengers Bengaluru   \n",
       "71               Mumbai Indians        bat               Mumbai Indians   \n",
       "72                 Punjab Kings       bowl                 Punjab Kings   \n",
       "73                 Punjab Kings       bowl  Royal Challengers Bengaluru   \n",
       "\n",
       "                                Innings1     r1    w1  ...    o2 Unnamed: 0_y  \\\n",
       "0         Kolkata Knight Riders Inning 1  174.0   8.0  ...  16.2            0   \n",
       "1           Sunrisers Hyderabad Inning 1  286.0   6.0  ...  20.0            1   \n",
       "2                Mumbai Indians Inning 1  155.0   9.0  ...  19.1            2   \n",
       "3          Lucknow Super Giants Inning 1  209.0   8.0  ...  19.3            3   \n",
       "4                  Punjab Kings Inning 1  243.0   5.0  ...  20.0            4   \n",
       "..                                   ...    ...   ...  ...   ...          ...   \n",
       "69         Lucknow Super Giants Inning 1  227.0   3.0  ...  18.4           69   \n",
       "70                 Punjab Kings Inning 1  101.0  10.0  ...  10.0           70   \n",
       "71               Mumbai Indians Inning 1  228.0   5.0  ...  20.0           71   \n",
       "72               Mumbai Indians Inning 1  203.0   6.0  ...  19.0           72   \n",
       "73  Royal Challengers Bengaluru Inning 1  190.0   9.0  ...  20.0           73   \n",
       "\n",
       "                                            MatchName  MatchNumber  MatchType  \\\n",
       "0   Kolkata Knight Riders vs Royal Challengers Ben...            1        t20   \n",
       "1             Sunrisers Hyderabad vs Rajasthan Royals            2        t20   \n",
       "2               Chennai Super Kings vs Mumbai Indians            3        t20   \n",
       "3              Delhi Capitals vs Lucknow Super Giants            4        t20   \n",
       "4                      Gujarat Titans vs Punjab Kings            5        t20   \n",
       "..                                                ...          ...        ...   \n",
       "69  Lucknow Super Giants vs Royal Challengers Beng...           70        t20   \n",
       "70        Punjab Kings vs Royal Challengers Bengaluru           71        t20   \n",
       "71                   Gujarat Titans vs Mumbai Indians           72        t20   \n",
       "72                     Punjab Kings vs Mumbai Indians           73        t20   \n",
       "73        Royal Challengers Bengaluru vs Punjab Kings           74        t20   \n",
       "\n",
       "                                           MatchVenue   MatchDate  \\\n",
       "0                               Eden Gardens, Kolkata  2025-03-22   \n",
       "1       Rajiv Gandhi International Stadium, Hyderabad  2025-03-23   \n",
       "2                     MA Chidambaram Stadium, Chennai  2025-03-23   \n",
       "3   Dr. Y.S. Rajasekhara Reddy ACA-VDCA Cricket St...  2025-03-24   \n",
       "4                    Narendra Modi Stadium, Ahmedabad  2025-03-25   \n",
       "..                                                ...         ...   \n",
       "69  Bharat Ratna Shri Atal Bihari Vajpayee Ekana C...  2025-05-27   \n",
       "70  Maharaja Yadavindra Singh International Cricke...  2025-05-29   \n",
       "71  Maharaja Yadavindra Singh International Cricke...  2025-05-30   \n",
       "72                   Narendra Modi Stadium, Ahmedabad  2025-06-01   \n",
       "73                   Narendra Modi Stadium, Ahmedabad  2025-06-03   \n",
       "\n",
       "          MatchDateTime MatchStarted MatchEnded  \n",
       "0   2025-03-22 14:00:00         True       True  \n",
       "1   2025-03-23 10:00:00         True       True  \n",
       "2   2025-03-23 14:00:00         True       True  \n",
       "3   2025-03-24 14:00:00         True       True  \n",
       "4   2025-03-25 14:00:00         True       True  \n",
       "..                  ...          ...        ...  \n",
       "69  2025-05-27 14:00:00         True       True  \n",
       "70  2025-05-29 14:00:00         True       True  \n",
       "71  2025-05-30 14:00:00         True       True  \n",
       "72  2025-06-01 14:00:00         True       True  \n",
       "73  2025-06-03 14:00:00         True       True  \n",
       "\n",
       "[74 rows x 24 columns]"
      ]
     },
     "execution_count": 54,
     "metadata": {},
     "output_type": "execute_result"
    }
   ],
   "source": [
    "pd.merge(df,kf, on='id')"
   ]
  },
  {
   "cell_type": "code",
   "execution_count": 55,
   "id": "26eef22f",
   "metadata": {
    "scrolled": true
   },
   "outputs": [
    {
     "data": {
      "text/html": [
       "<div>\n",
       "<style scoped>\n",
       "    .dataframe tbody tr th:only-of-type {\n",
       "        vertical-align: middle;\n",
       "    }\n",
       "\n",
       "    .dataframe tbody tr th {\n",
       "        vertical-align: top;\n",
       "    }\n",
       "\n",
       "    .dataframe thead th {\n",
       "        text-align: right;\n",
       "    }\n",
       "</style>\n",
       "<table border=\"1\" class=\"dataframe\">\n",
       "  <thead>\n",
       "    <tr style=\"text-align: right;\">\n",
       "      <th></th>\n",
       "      <th>Unnamed: 0_x</th>\n",
       "      <th>id</th>\n",
       "      <th>Team1</th>\n",
       "      <th>Team2</th>\n",
       "      <th>tossWinner</th>\n",
       "      <th>tossChoice</th>\n",
       "      <th>matchWinner</th>\n",
       "      <th>Innings1</th>\n",
       "      <th>r1</th>\n",
       "      <th>w1</th>\n",
       "      <th>...</th>\n",
       "      <th>o2</th>\n",
       "      <th>Unnamed: 0_y</th>\n",
       "      <th>MatchName</th>\n",
       "      <th>MatchNumber</th>\n",
       "      <th>MatchType</th>\n",
       "      <th>MatchVenue</th>\n",
       "      <th>MatchDate</th>\n",
       "      <th>MatchDateTime</th>\n",
       "      <th>MatchStarted</th>\n",
       "      <th>MatchEnded</th>\n",
       "    </tr>\n",
       "  </thead>\n",
       "  <tbody>\n",
       "    <tr>\n",
       "      <th>0</th>\n",
       "      <td>0</td>\n",
       "      <td>cacf2d34-41b8-41dd-91ed-5183d880084c</td>\n",
       "      <td>Kolkata Knight Riders</td>\n",
       "      <td>Royal Challengers Bengaluru</td>\n",
       "      <td>Royal Challengers Bengaluru</td>\n",
       "      <td>bowl</td>\n",
       "      <td>Royal Challengers Bengaluru</td>\n",
       "      <td>Kolkata Knight Riders Inning 1</td>\n",
       "      <td>174.0</td>\n",
       "      <td>8.0</td>\n",
       "      <td>...</td>\n",
       "      <td>16.2</td>\n",
       "      <td>0</td>\n",
       "      <td>Kolkata Knight Riders vs Royal Challengers Ben...</td>\n",
       "      <td>1</td>\n",
       "      <td>t20</td>\n",
       "      <td>Eden Gardens, Kolkata</td>\n",
       "      <td>2025-03-22</td>\n",
       "      <td>2025-03-22 14:00:00</td>\n",
       "      <td>True</td>\n",
       "      <td>True</td>\n",
       "    </tr>\n",
       "    <tr>\n",
       "      <th>1</th>\n",
       "      <td>1</td>\n",
       "      <td>91b007f3-c0af-493f-808a-3f4ae2d66e33</td>\n",
       "      <td>Sunrisers Hyderabad</td>\n",
       "      <td>Rajasthan Royals</td>\n",
       "      <td>Rajasthan Royals</td>\n",
       "      <td>bowl</td>\n",
       "      <td>Sunrisers Hyderabad</td>\n",
       "      <td>Sunrisers Hyderabad Inning 1</td>\n",
       "      <td>286.0</td>\n",
       "      <td>6.0</td>\n",
       "      <td>...</td>\n",
       "      <td>20.0</td>\n",
       "      <td>1</td>\n",
       "      <td>Sunrisers Hyderabad vs Rajasthan Royals</td>\n",
       "      <td>2</td>\n",
       "      <td>t20</td>\n",
       "      <td>Rajiv Gandhi International Stadium, Hyderabad</td>\n",
       "      <td>2025-03-23</td>\n",
       "      <td>2025-03-23 10:00:00</td>\n",
       "      <td>True</td>\n",
       "      <td>True</td>\n",
       "    </tr>\n",
       "    <tr>\n",
       "      <th>2</th>\n",
       "      <td>2</td>\n",
       "      <td>208d68e5-3fab-4f3b-88e9-29ec4a02d3e2</td>\n",
       "      <td>Chennai Super Kings</td>\n",
       "      <td>Mumbai Indians</td>\n",
       "      <td>Chennai Super Kings</td>\n",
       "      <td>bowl</td>\n",
       "      <td>Chennai Super Kings</td>\n",
       "      <td>Mumbai Indians Inning 1</td>\n",
       "      <td>155.0</td>\n",
       "      <td>9.0</td>\n",
       "      <td>...</td>\n",
       "      <td>19.1</td>\n",
       "      <td>2</td>\n",
       "      <td>Chennai Super Kings vs Mumbai Indians</td>\n",
       "      <td>3</td>\n",
       "      <td>t20</td>\n",
       "      <td>MA Chidambaram Stadium, Chennai</td>\n",
       "      <td>2025-03-23</td>\n",
       "      <td>2025-03-23 14:00:00</td>\n",
       "      <td>True</td>\n",
       "      <td>True</td>\n",
       "    </tr>\n",
       "    <tr>\n",
       "      <th>3</th>\n",
       "      <td>3</td>\n",
       "      <td>c6e97609-d9c1-46eb-805a-e282b34f3bb1</td>\n",
       "      <td>Delhi Capitals</td>\n",
       "      <td>Lucknow Super Giants</td>\n",
       "      <td>Delhi Capitals</td>\n",
       "      <td>bowl</td>\n",
       "      <td>Delhi Capitals</td>\n",
       "      <td>Lucknow Super Giants Inning 1</td>\n",
       "      <td>209.0</td>\n",
       "      <td>8.0</td>\n",
       "      <td>...</td>\n",
       "      <td>19.3</td>\n",
       "      <td>3</td>\n",
       "      <td>Delhi Capitals vs Lucknow Super Giants</td>\n",
       "      <td>4</td>\n",
       "      <td>t20</td>\n",
       "      <td>Dr. Y.S. Rajasekhara Reddy ACA-VDCA Cricket St...</td>\n",
       "      <td>2025-03-24</td>\n",
       "      <td>2025-03-24 14:00:00</td>\n",
       "      <td>True</td>\n",
       "      <td>True</td>\n",
       "    </tr>\n",
       "    <tr>\n",
       "      <th>4</th>\n",
       "      <td>4</td>\n",
       "      <td>83d70527-5fc4-4fad-8dd2-b88b385f379e</td>\n",
       "      <td>Gujarat Titans</td>\n",
       "      <td>Punjab Kings</td>\n",
       "      <td>Gujarat Titans</td>\n",
       "      <td>bowl</td>\n",
       "      <td>Punjab Kings</td>\n",
       "      <td>Punjab Kings Inning 1</td>\n",
       "      <td>243.0</td>\n",
       "      <td>5.0</td>\n",
       "      <td>...</td>\n",
       "      <td>20.0</td>\n",
       "      <td>4</td>\n",
       "      <td>Gujarat Titans vs Punjab Kings</td>\n",
       "      <td>5</td>\n",
       "      <td>t20</td>\n",
       "      <td>Narendra Modi Stadium, Ahmedabad</td>\n",
       "      <td>2025-03-25</td>\n",
       "      <td>2025-03-25 14:00:00</td>\n",
       "      <td>True</td>\n",
       "      <td>True</td>\n",
       "    </tr>\n",
       "    <tr>\n",
       "      <th>...</th>\n",
       "      <td>...</td>\n",
       "      <td>...</td>\n",
       "      <td>...</td>\n",
       "      <td>...</td>\n",
       "      <td>...</td>\n",
       "      <td>...</td>\n",
       "      <td>...</td>\n",
       "      <td>...</td>\n",
       "      <td>...</td>\n",
       "      <td>...</td>\n",
       "      <td>...</td>\n",
       "      <td>...</td>\n",
       "      <td>...</td>\n",
       "      <td>...</td>\n",
       "      <td>...</td>\n",
       "      <td>...</td>\n",
       "      <td>...</td>\n",
       "      <td>...</td>\n",
       "      <td>...</td>\n",
       "      <td>...</td>\n",
       "      <td>...</td>\n",
       "    </tr>\n",
       "    <tr>\n",
       "      <th>69</th>\n",
       "      <td>69</td>\n",
       "      <td>6f407b82-f31f-4e4e-bf65-763919972804</td>\n",
       "      <td>Lucknow Super Giants</td>\n",
       "      <td>Royal Challengers Bengaluru</td>\n",
       "      <td>Royal Challengers Bengaluru</td>\n",
       "      <td>bowl</td>\n",
       "      <td>Royal Challengers Bengaluru</td>\n",
       "      <td>Lucknow Super Giants Inning 1</td>\n",
       "      <td>227.0</td>\n",
       "      <td>3.0</td>\n",
       "      <td>...</td>\n",
       "      <td>18.4</td>\n",
       "      <td>69</td>\n",
       "      <td>Lucknow Super Giants vs Royal Challengers Beng...</td>\n",
       "      <td>70</td>\n",
       "      <td>t20</td>\n",
       "      <td>Bharat Ratna Shri Atal Bihari Vajpayee Ekana C...</td>\n",
       "      <td>2025-05-27</td>\n",
       "      <td>2025-05-27 14:00:00</td>\n",
       "      <td>True</td>\n",
       "      <td>True</td>\n",
       "    </tr>\n",
       "    <tr>\n",
       "      <th>70</th>\n",
       "      <td>70</td>\n",
       "      <td>bc3351d1-f950-4aa6-bb6f-473517a06885</td>\n",
       "      <td>Punjab Kings</td>\n",
       "      <td>Royal Challengers Bengaluru</td>\n",
       "      <td>Royal Challengers Bengaluru</td>\n",
       "      <td>bowl</td>\n",
       "      <td>Royal Challengers Bengaluru</td>\n",
       "      <td>Punjab Kings Inning 1</td>\n",
       "      <td>101.0</td>\n",
       "      <td>10.0</td>\n",
       "      <td>...</td>\n",
       "      <td>10.0</td>\n",
       "      <td>70</td>\n",
       "      <td>Punjab Kings vs Royal Challengers Bengaluru</td>\n",
       "      <td>71</td>\n",
       "      <td>t20</td>\n",
       "      <td>Maharaja Yadavindra Singh International Cricke...</td>\n",
       "      <td>2025-05-29</td>\n",
       "      <td>2025-05-29 14:00:00</td>\n",
       "      <td>True</td>\n",
       "      <td>True</td>\n",
       "    </tr>\n",
       "    <tr>\n",
       "      <th>71</th>\n",
       "      <td>71</td>\n",
       "      <td>21cf482e-bb64-4b40-b6e0-6b51c77ba464</td>\n",
       "      <td>Gujarat Titans</td>\n",
       "      <td>Mumbai Indians</td>\n",
       "      <td>Mumbai Indians</td>\n",
       "      <td>bat</td>\n",
       "      <td>Mumbai Indians</td>\n",
       "      <td>Mumbai Indians Inning 1</td>\n",
       "      <td>228.0</td>\n",
       "      <td>5.0</td>\n",
       "      <td>...</td>\n",
       "      <td>20.0</td>\n",
       "      <td>71</td>\n",
       "      <td>Gujarat Titans vs Mumbai Indians</td>\n",
       "      <td>72</td>\n",
       "      <td>t20</td>\n",
       "      <td>Maharaja Yadavindra Singh International Cricke...</td>\n",
       "      <td>2025-05-30</td>\n",
       "      <td>2025-05-30 14:00:00</td>\n",
       "      <td>True</td>\n",
       "      <td>True</td>\n",
       "    </tr>\n",
       "    <tr>\n",
       "      <th>72</th>\n",
       "      <td>72</td>\n",
       "      <td>c8425e58-85a4-4e8e-a56c-8afae638effb</td>\n",
       "      <td>Punjab Kings</td>\n",
       "      <td>Mumbai Indians</td>\n",
       "      <td>Punjab Kings</td>\n",
       "      <td>bowl</td>\n",
       "      <td>Punjab Kings</td>\n",
       "      <td>Mumbai Indians Inning 1</td>\n",
       "      <td>203.0</td>\n",
       "      <td>6.0</td>\n",
       "      <td>...</td>\n",
       "      <td>19.0</td>\n",
       "      <td>72</td>\n",
       "      <td>Punjab Kings vs Mumbai Indians</td>\n",
       "      <td>73</td>\n",
       "      <td>t20</td>\n",
       "      <td>Narendra Modi Stadium, Ahmedabad</td>\n",
       "      <td>2025-06-01</td>\n",
       "      <td>2025-06-01 14:00:00</td>\n",
       "      <td>True</td>\n",
       "      <td>True</td>\n",
       "    </tr>\n",
       "    <tr>\n",
       "      <th>73</th>\n",
       "      <td>73</td>\n",
       "      <td>38f4d432-1349-4223-87ab-b1279c553754</td>\n",
       "      <td>Royal Challengers Bengaluru</td>\n",
       "      <td>Punjab Kings</td>\n",
       "      <td>Punjab Kings</td>\n",
       "      <td>bowl</td>\n",
       "      <td>Royal Challengers Bengaluru</td>\n",
       "      <td>Royal Challengers Bengaluru Inning 1</td>\n",
       "      <td>190.0</td>\n",
       "      <td>9.0</td>\n",
       "      <td>...</td>\n",
       "      <td>20.0</td>\n",
       "      <td>73</td>\n",
       "      <td>Royal Challengers Bengaluru vs Punjab Kings</td>\n",
       "      <td>74</td>\n",
       "      <td>t20</td>\n",
       "      <td>Narendra Modi Stadium, Ahmedabad</td>\n",
       "      <td>2025-06-03</td>\n",
       "      <td>2025-06-03 14:00:00</td>\n",
       "      <td>True</td>\n",
       "      <td>True</td>\n",
       "    </tr>\n",
       "  </tbody>\n",
       "</table>\n",
       "<p>74 rows × 24 columns</p>\n",
       "</div>"
      ],
      "text/plain": [
       "    Unnamed: 0_x                                    id  \\\n",
       "0              0  cacf2d34-41b8-41dd-91ed-5183d880084c   \n",
       "1              1  91b007f3-c0af-493f-808a-3f4ae2d66e33   \n",
       "2              2  208d68e5-3fab-4f3b-88e9-29ec4a02d3e2   \n",
       "3              3  c6e97609-d9c1-46eb-805a-e282b34f3bb1   \n",
       "4              4  83d70527-5fc4-4fad-8dd2-b88b385f379e   \n",
       "..           ...                                   ...   \n",
       "69            69  6f407b82-f31f-4e4e-bf65-763919972804   \n",
       "70            70  bc3351d1-f950-4aa6-bb6f-473517a06885   \n",
       "71            71  21cf482e-bb64-4b40-b6e0-6b51c77ba464   \n",
       "72            72  c8425e58-85a4-4e8e-a56c-8afae638effb   \n",
       "73            73  38f4d432-1349-4223-87ab-b1279c553754   \n",
       "\n",
       "                          Team1                        Team2  \\\n",
       "0         Kolkata Knight Riders  Royal Challengers Bengaluru   \n",
       "1           Sunrisers Hyderabad             Rajasthan Royals   \n",
       "2           Chennai Super Kings               Mumbai Indians   \n",
       "3                Delhi Capitals         Lucknow Super Giants   \n",
       "4                Gujarat Titans                 Punjab Kings   \n",
       "..                          ...                          ...   \n",
       "69         Lucknow Super Giants  Royal Challengers Bengaluru   \n",
       "70                 Punjab Kings  Royal Challengers Bengaluru   \n",
       "71               Gujarat Titans               Mumbai Indians   \n",
       "72                 Punjab Kings               Mumbai Indians   \n",
       "73  Royal Challengers Bengaluru                 Punjab Kings   \n",
       "\n",
       "                     tossWinner tossChoice                  matchWinner  \\\n",
       "0   Royal Challengers Bengaluru       bowl  Royal Challengers Bengaluru   \n",
       "1              Rajasthan Royals       bowl          Sunrisers Hyderabad   \n",
       "2           Chennai Super Kings       bowl          Chennai Super Kings   \n",
       "3                Delhi Capitals       bowl               Delhi Capitals   \n",
       "4                Gujarat Titans       bowl                 Punjab Kings   \n",
       "..                          ...        ...                          ...   \n",
       "69  Royal Challengers Bengaluru       bowl  Royal Challengers Bengaluru   \n",
       "70  Royal Challengers Bengaluru       bowl  Royal Challengers Bengaluru   \n",
       "71               Mumbai Indians        bat               Mumbai Indians   \n",
       "72                 Punjab Kings       bowl                 Punjab Kings   \n",
       "73                 Punjab Kings       bowl  Royal Challengers Bengaluru   \n",
       "\n",
       "                                Innings1     r1    w1  ...    o2 Unnamed: 0_y  \\\n",
       "0         Kolkata Knight Riders Inning 1  174.0   8.0  ...  16.2            0   \n",
       "1           Sunrisers Hyderabad Inning 1  286.0   6.0  ...  20.0            1   \n",
       "2                Mumbai Indians Inning 1  155.0   9.0  ...  19.1            2   \n",
       "3          Lucknow Super Giants Inning 1  209.0   8.0  ...  19.3            3   \n",
       "4                  Punjab Kings Inning 1  243.0   5.0  ...  20.0            4   \n",
       "..                                   ...    ...   ...  ...   ...          ...   \n",
       "69         Lucknow Super Giants Inning 1  227.0   3.0  ...  18.4           69   \n",
       "70                 Punjab Kings Inning 1  101.0  10.0  ...  10.0           70   \n",
       "71               Mumbai Indians Inning 1  228.0   5.0  ...  20.0           71   \n",
       "72               Mumbai Indians Inning 1  203.0   6.0  ...  19.0           72   \n",
       "73  Royal Challengers Bengaluru Inning 1  190.0   9.0  ...  20.0           73   \n",
       "\n",
       "                                            MatchName  MatchNumber  MatchType  \\\n",
       "0   Kolkata Knight Riders vs Royal Challengers Ben...            1        t20   \n",
       "1             Sunrisers Hyderabad vs Rajasthan Royals            2        t20   \n",
       "2               Chennai Super Kings vs Mumbai Indians            3        t20   \n",
       "3              Delhi Capitals vs Lucknow Super Giants            4        t20   \n",
       "4                      Gujarat Titans vs Punjab Kings            5        t20   \n",
       "..                                                ...          ...        ...   \n",
       "69  Lucknow Super Giants vs Royal Challengers Beng...           70        t20   \n",
       "70        Punjab Kings vs Royal Challengers Bengaluru           71        t20   \n",
       "71                   Gujarat Titans vs Mumbai Indians           72        t20   \n",
       "72                     Punjab Kings vs Mumbai Indians           73        t20   \n",
       "73        Royal Challengers Bengaluru vs Punjab Kings           74        t20   \n",
       "\n",
       "                                           MatchVenue   MatchDate  \\\n",
       "0                               Eden Gardens, Kolkata  2025-03-22   \n",
       "1       Rajiv Gandhi International Stadium, Hyderabad  2025-03-23   \n",
       "2                     MA Chidambaram Stadium, Chennai  2025-03-23   \n",
       "3   Dr. Y.S. Rajasekhara Reddy ACA-VDCA Cricket St...  2025-03-24   \n",
       "4                    Narendra Modi Stadium, Ahmedabad  2025-03-25   \n",
       "..                                                ...         ...   \n",
       "69  Bharat Ratna Shri Atal Bihari Vajpayee Ekana C...  2025-05-27   \n",
       "70  Maharaja Yadavindra Singh International Cricke...  2025-05-29   \n",
       "71  Maharaja Yadavindra Singh International Cricke...  2025-05-30   \n",
       "72                   Narendra Modi Stadium, Ahmedabad  2025-06-01   \n",
       "73                   Narendra Modi Stadium, Ahmedabad  2025-06-03   \n",
       "\n",
       "          MatchDateTime MatchStarted MatchEnded  \n",
       "0   2025-03-22 14:00:00         True       True  \n",
       "1   2025-03-23 10:00:00         True       True  \n",
       "2   2025-03-23 14:00:00         True       True  \n",
       "3   2025-03-24 14:00:00         True       True  \n",
       "4   2025-03-25 14:00:00         True       True  \n",
       "..                  ...          ...        ...  \n",
       "69  2025-05-27 14:00:00         True       True  \n",
       "70  2025-05-29 14:00:00         True       True  \n",
       "71  2025-05-30 14:00:00         True       True  \n",
       "72  2025-06-01 14:00:00         True       True  \n",
       "73  2025-06-03 14:00:00         True       True  \n",
       "\n",
       "[74 rows x 24 columns]"
      ]
     },
     "execution_count": 55,
     "metadata": {},
     "output_type": "execute_result"
    }
   ],
   "source": [
    "\n",
    "ds=pd.merge(df,kf, on='id')\n",
    "ds"
   ]
  },
  {
   "cell_type": "code",
   "execution_count": 56,
   "id": "d1f1fb96",
   "metadata": {},
   "outputs": [
    {
     "data": {
      "text/html": [
       "<div>\n",
       "<style scoped>\n",
       "    .dataframe tbody tr th:only-of-type {\n",
       "        vertical-align: middle;\n",
       "    }\n",
       "\n",
       "    .dataframe tbody tr th {\n",
       "        vertical-align: top;\n",
       "    }\n",
       "\n",
       "    .dataframe thead th {\n",
       "        text-align: right;\n",
       "    }\n",
       "</style>\n",
       "<table border=\"1\" class=\"dataframe\">\n",
       "  <thead>\n",
       "    <tr style=\"text-align: right;\">\n",
       "      <th></th>\n",
       "      <th>r1</th>\n",
       "      <th>r2</th>\n",
       "    </tr>\n",
       "    <tr>\n",
       "      <th>MatchVenue</th>\n",
       "      <th></th>\n",
       "      <th></th>\n",
       "    </tr>\n",
       "  </thead>\n",
       "  <tbody>\n",
       "    <tr>\n",
       "      <th>Arun Jaitley Stadium, Delhi</th>\n",
       "      <td>203.285714</td>\n",
       "      <td>185.285714</td>\n",
       "    </tr>\n",
       "    <tr>\n",
       "      <th>Barsapara Cricket Stadium, Guwahati</th>\n",
       "      <td>166.500000</td>\n",
       "      <td>164.500000</td>\n",
       "    </tr>\n",
       "    <tr>\n",
       "      <th>Bharat Ratna Shri Atal Bihari Vajpayee Ekana Cricket Stadium, Lucknow</th>\n",
       "      <td>192.750000</td>\n",
       "      <td>188.500000</td>\n",
       "    </tr>\n",
       "    <tr>\n",
       "      <th>Dr. Y.S. Rajasekhara Reddy ACA-VDCA Cricket Stadium, Visakhapatnam</th>\n",
       "      <td>186.000000</td>\n",
       "      <td>188.500000</td>\n",
       "    </tr>\n",
       "    <tr>\n",
       "      <th>Eden Gardens, Kolkata</th>\n",
       "      <td>199.428571</td>\n",
       "      <td>155.000000</td>\n",
       "    </tr>\n",
       "    <tr>\n",
       "      <th>Himachal Pradesh Cricket Association Stadium, Dharamsala</th>\n",
       "      <td>236.000000</td>\n",
       "      <td>199.000000</td>\n",
       "    </tr>\n",
       "    <tr>\n",
       "      <th>M.Chinnaswamy Stadium, Bengaluru</th>\n",
       "      <td>169.000000</td>\n",
       "      <td>168.400000</td>\n",
       "    </tr>\n",
       "    <tr>\n",
       "      <th>MA Chidambaram Stadium, Chennai</th>\n",
       "      <td>163.500000</td>\n",
       "      <td>153.000000</td>\n",
       "    </tr>\n",
       "    <tr>\n",
       "      <th>Maharaja Yadavindra Singh International Cricket Stadium, Mullanpur, Chandigarh</th>\n",
       "      <td>158.600000</td>\n",
       "      <td>143.200000</td>\n",
       "    </tr>\n",
       "    <tr>\n",
       "      <th>Maharaja Yadavindra Singh International Cricket Stadium, Mullanpur, New Chandigarh</th>\n",
       "      <td>228.000000</td>\n",
       "      <td>208.000000</td>\n",
       "    </tr>\n",
       "    <tr>\n",
       "      <th>Narendra Modi Stadium, Ahmedabad</th>\n",
       "      <td>215.666667</td>\n",
       "      <td>186.777778</td>\n",
       "    </tr>\n",
       "    <tr>\n",
       "      <th>Rajiv Gandhi International Stadium, Hyderabad</th>\n",
       "      <td>191.500000</td>\n",
       "      <td>196.200000</td>\n",
       "    </tr>\n",
       "    <tr>\n",
       "      <th>Sawai Mansingh Stadium, Jaipur</th>\n",
       "      <td>198.285714</td>\n",
       "      <td>183.714286</td>\n",
       "    </tr>\n",
       "    <tr>\n",
       "      <th>Wankhede Stadium, Mumbai</th>\n",
       "      <td>175.000000</td>\n",
       "      <td>157.428571</td>\n",
       "    </tr>\n",
       "  </tbody>\n",
       "</table>\n",
       "</div>"
      ],
      "text/plain": [
       "                                                            r1          r2\n",
       "MatchVenue                                                                \n",
       "Arun Jaitley Stadium, Delhi                         203.285714  185.285714\n",
       "Barsapara Cricket Stadium, Guwahati                 166.500000  164.500000\n",
       "Bharat Ratna Shri Atal Bihari Vajpayee Ekana Cr...  192.750000  188.500000\n",
       "Dr. Y.S. Rajasekhara Reddy ACA-VDCA Cricket Sta...  186.000000  188.500000\n",
       "Eden Gardens, Kolkata                               199.428571  155.000000\n",
       "Himachal Pradesh Cricket Association Stadium, D...  236.000000  199.000000\n",
       "M.Chinnaswamy Stadium, Bengaluru                    169.000000  168.400000\n",
       "MA Chidambaram Stadium, Chennai                     163.500000  153.000000\n",
       "Maharaja Yadavindra Singh International Cricket...  158.600000  143.200000\n",
       "Maharaja Yadavindra Singh International Cricket...  228.000000  208.000000\n",
       "Narendra Modi Stadium, Ahmedabad                    215.666667  186.777778\n",
       "Rajiv Gandhi International Stadium, Hyderabad       191.500000  196.200000\n",
       "Sawai Mansingh Stadium, Jaipur                      198.285714  183.714286\n",
       "Wankhede Stadium, Mumbai                            175.000000  157.428571"
      ]
     },
     "execution_count": 56,
     "metadata": {},
     "output_type": "execute_result"
    }
   ],
   "source": [
    "ds.groupby('MatchVenue')[['r1','r2']].mean()\n"
   ]
  },
  {
   "cell_type": "code",
   "execution_count": 57,
   "id": "288208a3",
   "metadata": {
    "scrolled": true
   },
   "outputs": [
    {
     "data": {
      "text/plain": [
       "MatchVenue\n",
       "Arun Jaitley Stadium, Delhi                                                           278.0\n",
       "Barsapara Cricket Stadium, Guwahati                                                   182.0\n",
       "Bharat Ratna Shri Atal Bihari Vajpayee Ekana Cricket Stadium, Lucknow                 231.0\n",
       "Dr. Y.S. Rajasekhara Reddy ACA-VDCA Cricket Stadium, Visakhapatnam                    211.0\n",
       "Eden Gardens, Kolkata                                                                 238.0\n",
       "Himachal Pradesh Cricket Association Stadium, Dharamsala                              236.0\n",
       "M.Chinnaswamy Stadium, Bengaluru                                                      213.0\n",
       "MA Chidambaram Stadium, Chennai                                                       196.0\n",
       "Maharaja Yadavindra Singh International Cricket Stadium, Mullanpur, Chandigarh        219.0\n",
       "Maharaja Yadavindra Singh International Cricket Stadium, Mullanpur, New Chandigarh    228.0\n",
       "Narendra Modi Stadium, Ahmedabad                                                      243.0\n",
       "Rajiv Gandhi International Stadium, Hyderabad                                         286.0\n",
       "Sawai Mansingh Stadium, Jaipur                                                        219.0\n",
       "Wankhede Stadium, Mumbai                                                              221.0\n",
       "dtype: float64"
      ]
     },
     "execution_count": 57,
     "metadata": {},
     "output_type": "execute_result"
    }
   ],
   "source": [
    "match_venue=ds.groupby('MatchVenue')[['r1','r2']].max().max(axis=1)\n",
    "match_venue"
   ]
  },
  {
   "cell_type": "markdown",
   "id": "d5d787a1-cda5-409d-9552-4bb84ea612c4",
   "metadata": {},
   "source": [
    "venue wise avg score analysis"
   ]
  },
  {
   "cell_type": "code",
   "execution_count": 58,
   "id": "0ed5e2c5-b40b-420e-8862-39c812e30905",
   "metadata": {},
   "outputs": [
    {
     "data": {
      "application/vnd.plotly.v1+json": {
       "config": {
        "plotlyServerURL": "https://plot.ly"
       },
       "data": [
        {
         "marker": {
          "color": "indianred"
         },
         "name": "Max Runs in a Match",
         "type": "bar",
         "x": [
          "Arun Jaitley Stadium, Delhi",
          "Barsapara Cricket Stadium, Guwahati",
          "Bharat Ratna Shri Atal Bihari Vajpayee Ekana Cricket Stadium, Lucknow",
          "Dr. Y.S. Rajasekhara Reddy ACA-VDCA Cricket Stadium, Visakhapatnam",
          "Eden Gardens, Kolkata",
          "Himachal Pradesh Cricket Association Stadium, Dharamsala",
          "M.Chinnaswamy Stadium, Bengaluru",
          "MA Chidambaram Stadium, Chennai",
          "Maharaja Yadavindra Singh International Cricket Stadium, Mullanpur, Chandigarh",
          "Maharaja Yadavindra Singh International Cricket Stadium, Mullanpur, New Chandigarh",
          "Narendra Modi Stadium, Ahmedabad",
          "Rajiv Gandhi International Stadium, Hyderabad",
          "Sawai Mansingh Stadium, Jaipur",
          "Wankhede Stadium, Mumbai"
         ],
         "y": [
          278,
          182,
          231,
          211,
          238,
          236,
          213,
          196,
          219,
          228,
          243,
          286,
          219,
          221
         ]
        }
       ],
       "layout": {
        "template": {
         "data": {
          "bar": [
           {
            "error_x": {
             "color": "#2a3f5f"
            },
            "error_y": {
             "color": "#2a3f5f"
            },
            "marker": {
             "line": {
              "color": "#E5ECF6",
              "width": 0.5
             },
             "pattern": {
              "fillmode": "overlay",
              "size": 10,
              "solidity": 0.2
             }
            },
            "type": "bar"
           }
          ],
          "barpolar": [
           {
            "marker": {
             "line": {
              "color": "#E5ECF6",
              "width": 0.5
             },
             "pattern": {
              "fillmode": "overlay",
              "size": 10,
              "solidity": 0.2
             }
            },
            "type": "barpolar"
           }
          ],
          "carpet": [
           {
            "aaxis": {
             "endlinecolor": "#2a3f5f",
             "gridcolor": "white",
             "linecolor": "white",
             "minorgridcolor": "white",
             "startlinecolor": "#2a3f5f"
            },
            "baxis": {
             "endlinecolor": "#2a3f5f",
             "gridcolor": "white",
             "linecolor": "white",
             "minorgridcolor": "white",
             "startlinecolor": "#2a3f5f"
            },
            "type": "carpet"
           }
          ],
          "choropleth": [
           {
            "colorbar": {
             "outlinewidth": 0,
             "ticks": ""
            },
            "type": "choropleth"
           }
          ],
          "contour": [
           {
            "colorbar": {
             "outlinewidth": 0,
             "ticks": ""
            },
            "colorscale": [
             [
              0,
              "#0d0887"
             ],
             [
              0.1111111111111111,
              "#46039f"
             ],
             [
              0.2222222222222222,
              "#7201a8"
             ],
             [
              0.3333333333333333,
              "#9c179e"
             ],
             [
              0.4444444444444444,
              "#bd3786"
             ],
             [
              0.5555555555555556,
              "#d8576b"
             ],
             [
              0.6666666666666666,
              "#ed7953"
             ],
             [
              0.7777777777777778,
              "#fb9f3a"
             ],
             [
              0.8888888888888888,
              "#fdca26"
             ],
             [
              1,
              "#f0f921"
             ]
            ],
            "type": "contour"
           }
          ],
          "contourcarpet": [
           {
            "colorbar": {
             "outlinewidth": 0,
             "ticks": ""
            },
            "type": "contourcarpet"
           }
          ],
          "heatmap": [
           {
            "colorbar": {
             "outlinewidth": 0,
             "ticks": ""
            },
            "colorscale": [
             [
              0,
              "#0d0887"
             ],
             [
              0.1111111111111111,
              "#46039f"
             ],
             [
              0.2222222222222222,
              "#7201a8"
             ],
             [
              0.3333333333333333,
              "#9c179e"
             ],
             [
              0.4444444444444444,
              "#bd3786"
             ],
             [
              0.5555555555555556,
              "#d8576b"
             ],
             [
              0.6666666666666666,
              "#ed7953"
             ],
             [
              0.7777777777777778,
              "#fb9f3a"
             ],
             [
              0.8888888888888888,
              "#fdca26"
             ],
             [
              1,
              "#f0f921"
             ]
            ],
            "type": "heatmap"
           }
          ],
          "heatmapgl": [
           {
            "colorbar": {
             "outlinewidth": 0,
             "ticks": ""
            },
            "colorscale": [
             [
              0,
              "#0d0887"
             ],
             [
              0.1111111111111111,
              "#46039f"
             ],
             [
              0.2222222222222222,
              "#7201a8"
             ],
             [
              0.3333333333333333,
              "#9c179e"
             ],
             [
              0.4444444444444444,
              "#bd3786"
             ],
             [
              0.5555555555555556,
              "#d8576b"
             ],
             [
              0.6666666666666666,
              "#ed7953"
             ],
             [
              0.7777777777777778,
              "#fb9f3a"
             ],
             [
              0.8888888888888888,
              "#fdca26"
             ],
             [
              1,
              "#f0f921"
             ]
            ],
            "type": "heatmapgl"
           }
          ],
          "histogram": [
           {
            "marker": {
             "pattern": {
              "fillmode": "overlay",
              "size": 10,
              "solidity": 0.2
             }
            },
            "type": "histogram"
           }
          ],
          "histogram2d": [
           {
            "colorbar": {
             "outlinewidth": 0,
             "ticks": ""
            },
            "colorscale": [
             [
              0,
              "#0d0887"
             ],
             [
              0.1111111111111111,
              "#46039f"
             ],
             [
              0.2222222222222222,
              "#7201a8"
             ],
             [
              0.3333333333333333,
              "#9c179e"
             ],
             [
              0.4444444444444444,
              "#bd3786"
             ],
             [
              0.5555555555555556,
              "#d8576b"
             ],
             [
              0.6666666666666666,
              "#ed7953"
             ],
             [
              0.7777777777777778,
              "#fb9f3a"
             ],
             [
              0.8888888888888888,
              "#fdca26"
             ],
             [
              1,
              "#f0f921"
             ]
            ],
            "type": "histogram2d"
           }
          ],
          "histogram2dcontour": [
           {
            "colorbar": {
             "outlinewidth": 0,
             "ticks": ""
            },
            "colorscale": [
             [
              0,
              "#0d0887"
             ],
             [
              0.1111111111111111,
              "#46039f"
             ],
             [
              0.2222222222222222,
              "#7201a8"
             ],
             [
              0.3333333333333333,
              "#9c179e"
             ],
             [
              0.4444444444444444,
              "#bd3786"
             ],
             [
              0.5555555555555556,
              "#d8576b"
             ],
             [
              0.6666666666666666,
              "#ed7953"
             ],
             [
              0.7777777777777778,
              "#fb9f3a"
             ],
             [
              0.8888888888888888,
              "#fdca26"
             ],
             [
              1,
              "#f0f921"
             ]
            ],
            "type": "histogram2dcontour"
           }
          ],
          "mesh3d": [
           {
            "colorbar": {
             "outlinewidth": 0,
             "ticks": ""
            },
            "type": "mesh3d"
           }
          ],
          "parcoords": [
           {
            "line": {
             "colorbar": {
              "outlinewidth": 0,
              "ticks": ""
             }
            },
            "type": "parcoords"
           }
          ],
          "pie": [
           {
            "automargin": true,
            "type": "pie"
           }
          ],
          "scatter": [
           {
            "fillpattern": {
             "fillmode": "overlay",
             "size": 10,
             "solidity": 0.2
            },
            "type": "scatter"
           }
          ],
          "scatter3d": [
           {
            "line": {
             "colorbar": {
              "outlinewidth": 0,
              "ticks": ""
             }
            },
            "marker": {
             "colorbar": {
              "outlinewidth": 0,
              "ticks": ""
             }
            },
            "type": "scatter3d"
           }
          ],
          "scattercarpet": [
           {
            "marker": {
             "colorbar": {
              "outlinewidth": 0,
              "ticks": ""
             }
            },
            "type": "scattercarpet"
           }
          ],
          "scattergeo": [
           {
            "marker": {
             "colorbar": {
              "outlinewidth": 0,
              "ticks": ""
             }
            },
            "type": "scattergeo"
           }
          ],
          "scattergl": [
           {
            "marker": {
             "colorbar": {
              "outlinewidth": 0,
              "ticks": ""
             }
            },
            "type": "scattergl"
           }
          ],
          "scattermapbox": [
           {
            "marker": {
             "colorbar": {
              "outlinewidth": 0,
              "ticks": ""
             }
            },
            "type": "scattermapbox"
           }
          ],
          "scatterpolar": [
           {
            "marker": {
             "colorbar": {
              "outlinewidth": 0,
              "ticks": ""
             }
            },
            "type": "scatterpolar"
           }
          ],
          "scatterpolargl": [
           {
            "marker": {
             "colorbar": {
              "outlinewidth": 0,
              "ticks": ""
             }
            },
            "type": "scatterpolargl"
           }
          ],
          "scatterternary": [
           {
            "marker": {
             "colorbar": {
              "outlinewidth": 0,
              "ticks": ""
             }
            },
            "type": "scatterternary"
           }
          ],
          "surface": [
           {
            "colorbar": {
             "outlinewidth": 0,
             "ticks": ""
            },
            "colorscale": [
             [
              0,
              "#0d0887"
             ],
             [
              0.1111111111111111,
              "#46039f"
             ],
             [
              0.2222222222222222,
              "#7201a8"
             ],
             [
              0.3333333333333333,
              "#9c179e"
             ],
             [
              0.4444444444444444,
              "#bd3786"
             ],
             [
              0.5555555555555556,
              "#d8576b"
             ],
             [
              0.6666666666666666,
              "#ed7953"
             ],
             [
              0.7777777777777778,
              "#fb9f3a"
             ],
             [
              0.8888888888888888,
              "#fdca26"
             ],
             [
              1,
              "#f0f921"
             ]
            ],
            "type": "surface"
           }
          ],
          "table": [
           {
            "cells": {
             "fill": {
              "color": "#EBF0F8"
             },
             "line": {
              "color": "white"
             }
            },
            "header": {
             "fill": {
              "color": "#C8D4E3"
             },
             "line": {
              "color": "white"
             }
            },
            "type": "table"
           }
          ]
         },
         "layout": {
          "annotationdefaults": {
           "arrowcolor": "#2a3f5f",
           "arrowhead": 0,
           "arrowwidth": 1
          },
          "autotypenumbers": "strict",
          "coloraxis": {
           "colorbar": {
            "outlinewidth": 0,
            "ticks": ""
           }
          },
          "colorscale": {
           "diverging": [
            [
             0,
             "#8e0152"
            ],
            [
             0.1,
             "#c51b7d"
            ],
            [
             0.2,
             "#de77ae"
            ],
            [
             0.3,
             "#f1b6da"
            ],
            [
             0.4,
             "#fde0ef"
            ],
            [
             0.5,
             "#f7f7f7"
            ],
            [
             0.6,
             "#e6f5d0"
            ],
            [
             0.7,
             "#b8e186"
            ],
            [
             0.8,
             "#7fbc41"
            ],
            [
             0.9,
             "#4d9221"
            ],
            [
             1,
             "#276419"
            ]
           ],
           "sequential": [
            [
             0,
             "#0d0887"
            ],
            [
             0.1111111111111111,
             "#46039f"
            ],
            [
             0.2222222222222222,
             "#7201a8"
            ],
            [
             0.3333333333333333,
             "#9c179e"
            ],
            [
             0.4444444444444444,
             "#bd3786"
            ],
            [
             0.5555555555555556,
             "#d8576b"
            ],
            [
             0.6666666666666666,
             "#ed7953"
            ],
            [
             0.7777777777777778,
             "#fb9f3a"
            ],
            [
             0.8888888888888888,
             "#fdca26"
            ],
            [
             1,
             "#f0f921"
            ]
           ],
           "sequentialminus": [
            [
             0,
             "#0d0887"
            ],
            [
             0.1111111111111111,
             "#46039f"
            ],
            [
             0.2222222222222222,
             "#7201a8"
            ],
            [
             0.3333333333333333,
             "#9c179e"
            ],
            [
             0.4444444444444444,
             "#bd3786"
            ],
            [
             0.5555555555555556,
             "#d8576b"
            ],
            [
             0.6666666666666666,
             "#ed7953"
            ],
            [
             0.7777777777777778,
             "#fb9f3a"
            ],
            [
             0.8888888888888888,
             "#fdca26"
            ],
            [
             1,
             "#f0f921"
            ]
           ]
          },
          "colorway": [
           "#636efa",
           "#EF553B",
           "#00cc96",
           "#ab63fa",
           "#FFA15A",
           "#19d3f3",
           "#FF6692",
           "#B6E880",
           "#FF97FF",
           "#FECB52"
          ],
          "font": {
           "color": "#2a3f5f"
          },
          "geo": {
           "bgcolor": "white",
           "lakecolor": "white",
           "landcolor": "#E5ECF6",
           "showlakes": true,
           "showland": true,
           "subunitcolor": "white"
          },
          "hoverlabel": {
           "align": "left"
          },
          "hovermode": "closest",
          "mapbox": {
           "style": "light"
          },
          "paper_bgcolor": "white",
          "plot_bgcolor": "#E5ECF6",
          "polar": {
           "angularaxis": {
            "gridcolor": "white",
            "linecolor": "white",
            "ticks": ""
           },
           "bgcolor": "#E5ECF6",
           "radialaxis": {
            "gridcolor": "white",
            "linecolor": "white",
            "ticks": ""
           }
          },
          "scene": {
           "xaxis": {
            "backgroundcolor": "#E5ECF6",
            "gridcolor": "white",
            "gridwidth": 2,
            "linecolor": "white",
            "showbackground": true,
            "ticks": "",
            "zerolinecolor": "white"
           },
           "yaxis": {
            "backgroundcolor": "#E5ECF6",
            "gridcolor": "white",
            "gridwidth": 2,
            "linecolor": "white",
            "showbackground": true,
            "ticks": "",
            "zerolinecolor": "white"
           },
           "zaxis": {
            "backgroundcolor": "#E5ECF6",
            "gridcolor": "white",
            "gridwidth": 2,
            "linecolor": "white",
            "showbackground": true,
            "ticks": "",
            "zerolinecolor": "white"
           }
          },
          "shapedefaults": {
           "line": {
            "color": "#2a3f5f"
           }
          },
          "ternary": {
           "aaxis": {
            "gridcolor": "white",
            "linecolor": "white",
            "ticks": ""
           },
           "baxis": {
            "gridcolor": "white",
            "linecolor": "white",
            "ticks": ""
           },
           "bgcolor": "#E5ECF6",
           "caxis": {
            "gridcolor": "white",
            "linecolor": "white",
            "ticks": ""
           }
          },
          "title": {
           "x": 0.05
          },
          "xaxis": {
           "automargin": true,
           "gridcolor": "white",
           "linecolor": "white",
           "ticks": "",
           "title": {
            "standoff": 15
           },
           "zerolinecolor": "white",
           "zerolinewidth": 2
          },
          "yaxis": {
           "automargin": true,
           "gridcolor": "white",
           "linecolor": "white",
           "ticks": "",
           "title": {
            "standoff": 15
           },
           "zerolinecolor": "white",
           "zerolinewidth": 2
          }
         }
        },
        "title": {
         "text": "Maximum Runs in a Match at Each Venue"
        },
        "xaxis": {
         "title": {
          "text": "Match Venue"
         }
        }
       }
      }
     },
     "metadata": {},
     "output_type": "display_data"
    }
   ],
   "source": [
    "\n",
    "\n",
    "import plotly.graph_objects as go\n",
    "fig = go.Figure(\n",
    "    data=[\n",
    "        go.Bar(\n",
    "            x=match_venue.index,\n",
    "            y=match_venue.values,\n",
    "            name='Max Runs in a Match',\n",
    "            marker_color='indianred'\n",
    "        )\n",
    "    ]\n",
    ")\n",
    "\n",
    "fig.update_layout(\n",
    "    title='Maximum Runs in a Match at Each Venue',\n",
    "    xaxis_title='Match Venue',\n",
    ")\n",
    "\n",
    "fig.show()\n"
   ]
  },
  {
   "cell_type": "code",
   "execution_count": 59,
   "id": "acf0fde8-0a64-471d-b0a5-f115f92c44c9",
   "metadata": {},
   "outputs": [
    {
     "data": {
      "text/plain": [
       "Index(['Arun Jaitley Stadium, Delhi', 'Barsapara Cricket Stadium, Guwahati',\n",
       "       'Bharat Ratna Shri Atal Bihari Vajpayee Ekana Cricket Stadium, Lucknow',\n",
       "       'Dr. Y.S. Rajasekhara Reddy ACA-VDCA Cricket Stadium, Visakhapatnam',\n",
       "       'Eden Gardens, Kolkata',\n",
       "       'Himachal Pradesh Cricket Association Stadium, Dharamsala',\n",
       "       'M.Chinnaswamy Stadium, Bengaluru', 'MA Chidambaram Stadium, Chennai',\n",
       "       'Maharaja Yadavindra Singh International Cricket Stadium, Mullanpur, Chandigarh',\n",
       "       'Maharaja Yadavindra Singh International Cricket Stadium, Mullanpur, New Chandigarh',\n",
       "       'Narendra Modi Stadium, Ahmedabad',\n",
       "       'Rajiv Gandhi International Stadium, Hyderabad',\n",
       "       'Sawai Mansingh Stadium, Jaipur', 'Wankhede Stadium, Mumbai'],\n",
       "      dtype='object', name='MatchVenue')"
      ]
     },
     "execution_count": 59,
     "metadata": {},
     "output_type": "execute_result"
    }
   ],
   "source": [
    "match_venue.index"
   ]
  },
  {
   "cell_type": "code",
   "execution_count": 60,
   "id": "e3715559",
   "metadata": {},
   "outputs": [],
   "source": [
    "toss_choice = pd.crosstab(index=ds.MatchVenue,columns=ds.tossChoice,margins=True)"
   ]
  },
  {
   "cell_type": "markdown",
   "id": "1e8a6e7b-8c73-4e8d-8e18-846a53213b65",
   "metadata": {},
   "source": [
    "toss desicision trends across he venue "
   ]
  },
  {
   "cell_type": "code",
   "execution_count": 61,
   "id": "9d36ccf2-9869-4862-9693-50a76b30c2fe",
   "metadata": {},
   "outputs": [
    {
     "data": {
      "text/plain": [
       "Index(['bat', 'bowl', 'All'], dtype='object', name='tossChoice')"
      ]
     },
     "execution_count": 61,
     "metadata": {},
     "output_type": "execute_result"
    }
   ],
   "source": [
    "toss_choice.columns"
   ]
  },
  {
   "cell_type": "code",
   "execution_count": 62,
   "id": "24d5952c-f373-499a-9ce9-f542ebd49c06",
   "metadata": {},
   "outputs": [
    {
     "data": {
      "application/vnd.plotly.v1+json": {
       "config": {
        "plotlyServerURL": "https://plot.ly"
       },
       "data": [
        {
         "name": "Bat First",
         "type": "bar",
         "x": [
          "Arun Jaitley Stadium, Delhi",
          "Barsapara Cricket Stadium, Guwahati",
          "Bharat Ratna Shri Atal Bihari Vajpayee Ekana Cricket Stadium, Lucknow",
          "Dr. Y.S. Rajasekhara Reddy ACA-VDCA Cricket Stadium, Visakhapatnam",
          "Eden Gardens, Kolkata",
          "Himachal Pradesh Cricket Association Stadium, Dharamsala",
          "M.Chinnaswamy Stadium, Bengaluru",
          "MA Chidambaram Stadium, Chennai",
          "Maharaja Yadavindra Singh International Cricket Stadium, Mullanpur, Chandigarh",
          "Maharaja Yadavindra Singh International Cricket Stadium, Mullanpur, New Chandigarh",
          "Narendra Modi Stadium, Ahmedabad",
          "Rajiv Gandhi International Stadium, Hyderabad",
          "Sawai Mansingh Stadium, Jaipur",
          "Wankhede Stadium, Mumbai",
          "All"
         ],
         "y": [
          1,
          0,
          0,
          1,
          3,
          0,
          0,
          1,
          2,
          1,
          1,
          1,
          2,
          0,
          13
         ]
        }
       ],
       "layout": {
        "barmode": "stack",
        "template": {
         "data": {
          "bar": [
           {
            "error_x": {
             "color": "#2a3f5f"
            },
            "error_y": {
             "color": "#2a3f5f"
            },
            "marker": {
             "line": {
              "color": "#E5ECF6",
              "width": 0.5
             },
             "pattern": {
              "fillmode": "overlay",
              "size": 10,
              "solidity": 0.2
             }
            },
            "type": "bar"
           }
          ],
          "barpolar": [
           {
            "marker": {
             "line": {
              "color": "#E5ECF6",
              "width": 0.5
             },
             "pattern": {
              "fillmode": "overlay",
              "size": 10,
              "solidity": 0.2
             }
            },
            "type": "barpolar"
           }
          ],
          "carpet": [
           {
            "aaxis": {
             "endlinecolor": "#2a3f5f",
             "gridcolor": "white",
             "linecolor": "white",
             "minorgridcolor": "white",
             "startlinecolor": "#2a3f5f"
            },
            "baxis": {
             "endlinecolor": "#2a3f5f",
             "gridcolor": "white",
             "linecolor": "white",
             "minorgridcolor": "white",
             "startlinecolor": "#2a3f5f"
            },
            "type": "carpet"
           }
          ],
          "choropleth": [
           {
            "colorbar": {
             "outlinewidth": 0,
             "ticks": ""
            },
            "type": "choropleth"
           }
          ],
          "contour": [
           {
            "colorbar": {
             "outlinewidth": 0,
             "ticks": ""
            },
            "colorscale": [
             [
              0,
              "#0d0887"
             ],
             [
              0.1111111111111111,
              "#46039f"
             ],
             [
              0.2222222222222222,
              "#7201a8"
             ],
             [
              0.3333333333333333,
              "#9c179e"
             ],
             [
              0.4444444444444444,
              "#bd3786"
             ],
             [
              0.5555555555555556,
              "#d8576b"
             ],
             [
              0.6666666666666666,
              "#ed7953"
             ],
             [
              0.7777777777777778,
              "#fb9f3a"
             ],
             [
              0.8888888888888888,
              "#fdca26"
             ],
             [
              1,
              "#f0f921"
             ]
            ],
            "type": "contour"
           }
          ],
          "contourcarpet": [
           {
            "colorbar": {
             "outlinewidth": 0,
             "ticks": ""
            },
            "type": "contourcarpet"
           }
          ],
          "heatmap": [
           {
            "colorbar": {
             "outlinewidth": 0,
             "ticks": ""
            },
            "colorscale": [
             [
              0,
              "#0d0887"
             ],
             [
              0.1111111111111111,
              "#46039f"
             ],
             [
              0.2222222222222222,
              "#7201a8"
             ],
             [
              0.3333333333333333,
              "#9c179e"
             ],
             [
              0.4444444444444444,
              "#bd3786"
             ],
             [
              0.5555555555555556,
              "#d8576b"
             ],
             [
              0.6666666666666666,
              "#ed7953"
             ],
             [
              0.7777777777777778,
              "#fb9f3a"
             ],
             [
              0.8888888888888888,
              "#fdca26"
             ],
             [
              1,
              "#f0f921"
             ]
            ],
            "type": "heatmap"
           }
          ],
          "heatmapgl": [
           {
            "colorbar": {
             "outlinewidth": 0,
             "ticks": ""
            },
            "colorscale": [
             [
              0,
              "#0d0887"
             ],
             [
              0.1111111111111111,
              "#46039f"
             ],
             [
              0.2222222222222222,
              "#7201a8"
             ],
             [
              0.3333333333333333,
              "#9c179e"
             ],
             [
              0.4444444444444444,
              "#bd3786"
             ],
             [
              0.5555555555555556,
              "#d8576b"
             ],
             [
              0.6666666666666666,
              "#ed7953"
             ],
             [
              0.7777777777777778,
              "#fb9f3a"
             ],
             [
              0.8888888888888888,
              "#fdca26"
             ],
             [
              1,
              "#f0f921"
             ]
            ],
            "type": "heatmapgl"
           }
          ],
          "histogram": [
           {
            "marker": {
             "pattern": {
              "fillmode": "overlay",
              "size": 10,
              "solidity": 0.2
             }
            },
            "type": "histogram"
           }
          ],
          "histogram2d": [
           {
            "colorbar": {
             "outlinewidth": 0,
             "ticks": ""
            },
            "colorscale": [
             [
              0,
              "#0d0887"
             ],
             [
              0.1111111111111111,
              "#46039f"
             ],
             [
              0.2222222222222222,
              "#7201a8"
             ],
             [
              0.3333333333333333,
              "#9c179e"
             ],
             [
              0.4444444444444444,
              "#bd3786"
             ],
             [
              0.5555555555555556,
              "#d8576b"
             ],
             [
              0.6666666666666666,
              "#ed7953"
             ],
             [
              0.7777777777777778,
              "#fb9f3a"
             ],
             [
              0.8888888888888888,
              "#fdca26"
             ],
             [
              1,
              "#f0f921"
             ]
            ],
            "type": "histogram2d"
           }
          ],
          "histogram2dcontour": [
           {
            "colorbar": {
             "outlinewidth": 0,
             "ticks": ""
            },
            "colorscale": [
             [
              0,
              "#0d0887"
             ],
             [
              0.1111111111111111,
              "#46039f"
             ],
             [
              0.2222222222222222,
              "#7201a8"
             ],
             [
              0.3333333333333333,
              "#9c179e"
             ],
             [
              0.4444444444444444,
              "#bd3786"
             ],
             [
              0.5555555555555556,
              "#d8576b"
             ],
             [
              0.6666666666666666,
              "#ed7953"
             ],
             [
              0.7777777777777778,
              "#fb9f3a"
             ],
             [
              0.8888888888888888,
              "#fdca26"
             ],
             [
              1,
              "#f0f921"
             ]
            ],
            "type": "histogram2dcontour"
           }
          ],
          "mesh3d": [
           {
            "colorbar": {
             "outlinewidth": 0,
             "ticks": ""
            },
            "type": "mesh3d"
           }
          ],
          "parcoords": [
           {
            "line": {
             "colorbar": {
              "outlinewidth": 0,
              "ticks": ""
             }
            },
            "type": "parcoords"
           }
          ],
          "pie": [
           {
            "automargin": true,
            "type": "pie"
           }
          ],
          "scatter": [
           {
            "fillpattern": {
             "fillmode": "overlay",
             "size": 10,
             "solidity": 0.2
            },
            "type": "scatter"
           }
          ],
          "scatter3d": [
           {
            "line": {
             "colorbar": {
              "outlinewidth": 0,
              "ticks": ""
             }
            },
            "marker": {
             "colorbar": {
              "outlinewidth": 0,
              "ticks": ""
             }
            },
            "type": "scatter3d"
           }
          ],
          "scattercarpet": [
           {
            "marker": {
             "colorbar": {
              "outlinewidth": 0,
              "ticks": ""
             }
            },
            "type": "scattercarpet"
           }
          ],
          "scattergeo": [
           {
            "marker": {
             "colorbar": {
              "outlinewidth": 0,
              "ticks": ""
             }
            },
            "type": "scattergeo"
           }
          ],
          "scattergl": [
           {
            "marker": {
             "colorbar": {
              "outlinewidth": 0,
              "ticks": ""
             }
            },
            "type": "scattergl"
           }
          ],
          "scattermapbox": [
           {
            "marker": {
             "colorbar": {
              "outlinewidth": 0,
              "ticks": ""
             }
            },
            "type": "scattermapbox"
           }
          ],
          "scatterpolar": [
           {
            "marker": {
             "colorbar": {
              "outlinewidth": 0,
              "ticks": ""
             }
            },
            "type": "scatterpolar"
           }
          ],
          "scatterpolargl": [
           {
            "marker": {
             "colorbar": {
              "outlinewidth": 0,
              "ticks": ""
             }
            },
            "type": "scatterpolargl"
           }
          ],
          "scatterternary": [
           {
            "marker": {
             "colorbar": {
              "outlinewidth": 0,
              "ticks": ""
             }
            },
            "type": "scatterternary"
           }
          ],
          "surface": [
           {
            "colorbar": {
             "outlinewidth": 0,
             "ticks": ""
            },
            "colorscale": [
             [
              0,
              "#0d0887"
             ],
             [
              0.1111111111111111,
              "#46039f"
             ],
             [
              0.2222222222222222,
              "#7201a8"
             ],
             [
              0.3333333333333333,
              "#9c179e"
             ],
             [
              0.4444444444444444,
              "#bd3786"
             ],
             [
              0.5555555555555556,
              "#d8576b"
             ],
             [
              0.6666666666666666,
              "#ed7953"
             ],
             [
              0.7777777777777778,
              "#fb9f3a"
             ],
             [
              0.8888888888888888,
              "#fdca26"
             ],
             [
              1,
              "#f0f921"
             ]
            ],
            "type": "surface"
           }
          ],
          "table": [
           {
            "cells": {
             "fill": {
              "color": "#EBF0F8"
             },
             "line": {
              "color": "white"
             }
            },
            "header": {
             "fill": {
              "color": "#C8D4E3"
             },
             "line": {
              "color": "white"
             }
            },
            "type": "table"
           }
          ]
         },
         "layout": {
          "annotationdefaults": {
           "arrowcolor": "#2a3f5f",
           "arrowhead": 0,
           "arrowwidth": 1
          },
          "autotypenumbers": "strict",
          "coloraxis": {
           "colorbar": {
            "outlinewidth": 0,
            "ticks": ""
           }
          },
          "colorscale": {
           "diverging": [
            [
             0,
             "#8e0152"
            ],
            [
             0.1,
             "#c51b7d"
            ],
            [
             0.2,
             "#de77ae"
            ],
            [
             0.3,
             "#f1b6da"
            ],
            [
             0.4,
             "#fde0ef"
            ],
            [
             0.5,
             "#f7f7f7"
            ],
            [
             0.6,
             "#e6f5d0"
            ],
            [
             0.7,
             "#b8e186"
            ],
            [
             0.8,
             "#7fbc41"
            ],
            [
             0.9,
             "#4d9221"
            ],
            [
             1,
             "#276419"
            ]
           ],
           "sequential": [
            [
             0,
             "#0d0887"
            ],
            [
             0.1111111111111111,
             "#46039f"
            ],
            [
             0.2222222222222222,
             "#7201a8"
            ],
            [
             0.3333333333333333,
             "#9c179e"
            ],
            [
             0.4444444444444444,
             "#bd3786"
            ],
            [
             0.5555555555555556,
             "#d8576b"
            ],
            [
             0.6666666666666666,
             "#ed7953"
            ],
            [
             0.7777777777777778,
             "#fb9f3a"
            ],
            [
             0.8888888888888888,
             "#fdca26"
            ],
            [
             1,
             "#f0f921"
            ]
           ],
           "sequentialminus": [
            [
             0,
             "#0d0887"
            ],
            [
             0.1111111111111111,
             "#46039f"
            ],
            [
             0.2222222222222222,
             "#7201a8"
            ],
            [
             0.3333333333333333,
             "#9c179e"
            ],
            [
             0.4444444444444444,
             "#bd3786"
            ],
            [
             0.5555555555555556,
             "#d8576b"
            ],
            [
             0.6666666666666666,
             "#ed7953"
            ],
            [
             0.7777777777777778,
             "#fb9f3a"
            ],
            [
             0.8888888888888888,
             "#fdca26"
            ],
            [
             1,
             "#f0f921"
            ]
           ]
          },
          "colorway": [
           "#636efa",
           "#EF553B",
           "#00cc96",
           "#ab63fa",
           "#FFA15A",
           "#19d3f3",
           "#FF6692",
           "#B6E880",
           "#FF97FF",
           "#FECB52"
          ],
          "font": {
           "color": "#2a3f5f"
          },
          "geo": {
           "bgcolor": "white",
           "lakecolor": "white",
           "landcolor": "#E5ECF6",
           "showlakes": true,
           "showland": true,
           "subunitcolor": "white"
          },
          "hoverlabel": {
           "align": "left"
          },
          "hovermode": "closest",
          "mapbox": {
           "style": "light"
          },
          "paper_bgcolor": "white",
          "plot_bgcolor": "#E5ECF6",
          "polar": {
           "angularaxis": {
            "gridcolor": "white",
            "linecolor": "white",
            "ticks": ""
           },
           "bgcolor": "#E5ECF6",
           "radialaxis": {
            "gridcolor": "white",
            "linecolor": "white",
            "ticks": ""
           }
          },
          "scene": {
           "xaxis": {
            "backgroundcolor": "#E5ECF6",
            "gridcolor": "white",
            "gridwidth": 2,
            "linecolor": "white",
            "showbackground": true,
            "ticks": "",
            "zerolinecolor": "white"
           },
           "yaxis": {
            "backgroundcolor": "#E5ECF6",
            "gridcolor": "white",
            "gridwidth": 2,
            "linecolor": "white",
            "showbackground": true,
            "ticks": "",
            "zerolinecolor": "white"
           },
           "zaxis": {
            "backgroundcolor": "#E5ECF6",
            "gridcolor": "white",
            "gridwidth": 2,
            "linecolor": "white",
            "showbackground": true,
            "ticks": "",
            "zerolinecolor": "white"
           }
          },
          "shapedefaults": {
           "line": {
            "color": "#2a3f5f"
           }
          },
          "ternary": {
           "aaxis": {
            "gridcolor": "white",
            "linecolor": "white",
            "ticks": ""
           },
           "baxis": {
            "gridcolor": "white",
            "linecolor": "white",
            "ticks": ""
           },
           "bgcolor": "#E5ECF6",
           "caxis": {
            "gridcolor": "white",
            "linecolor": "white",
            "ticks": ""
           }
          },
          "title": {
           "x": 0.05
          },
          "xaxis": {
           "automargin": true,
           "gridcolor": "white",
           "linecolor": "white",
           "ticks": "",
           "title": {
            "standoff": 15
           },
           "zerolinecolor": "white",
           "zerolinewidth": 2
          },
          "yaxis": {
           "automargin": true,
           "gridcolor": "white",
           "linecolor": "white",
           "ticks": "",
           "title": {
            "standoff": 15
           },
           "zerolinecolor": "white",
           "zerolinewidth": 2
          }
         }
        },
        "title": {
         "text": "Toss Choice Analysis"
        },
        "xaxis": {
         "title": {
          "text": "Toss Choice"
         }
        },
        "yaxis": {
         "title": {
          "text": "Count"
         }
        }
       }
      }
     },
     "metadata": {},
     "output_type": "display_data"
    }
   ],
   "source": [
    "import plotly.graph_objects as go\n",
    "\n",
    "fig = go.Figure(\n",
    "    data=[\n",
    "        go.Bar(\n",
    "            x=toss_choice.index, \n",
    "            y=toss_choice['bat'],\n",
    "            name='Bat First'\n",
    "        )\n",
    "    ]\n",
    ")\n",
    "\n",
    "fig.update_layout(\n",
    "    title='Toss Choice Analysis',\n",
    "    xaxis_title='Toss Choice',\n",
    "    yaxis_title='Count',\n",
    "    barmode='stack'\n",
    ")\n",
    "\n",
    "fig.show()\n"
   ]
  },
  {
   "cell_type": "code",
   "execution_count": 63,
   "id": "4a2f5bdc-a828-41e1-bdea-9cbc69de07e0",
   "metadata": {},
   "outputs": [
    {
     "data": {
      "application/vnd.plotly.v1+json": {
       "config": {
        "plotlyServerURL": "https://plot.ly"
       },
       "data": [
        {
         "name": "bowl First",
         "type": "bar",
         "x": [
          "Arun Jaitley Stadium, Delhi",
          "Barsapara Cricket Stadium, Guwahati",
          "Bharat Ratna Shri Atal Bihari Vajpayee Ekana Cricket Stadium, Lucknow",
          "Dr. Y.S. Rajasekhara Reddy ACA-VDCA Cricket Stadium, Visakhapatnam",
          "Eden Gardens, Kolkata",
          "Himachal Pradesh Cricket Association Stadium, Dharamsala",
          "M.Chinnaswamy Stadium, Bengaluru",
          "MA Chidambaram Stadium, Chennai",
          "Maharaja Yadavindra Singh International Cricket Stadium, Mullanpur, Chandigarh",
          "Maharaja Yadavindra Singh International Cricket Stadium, Mullanpur, New Chandigarh",
          "Narendra Modi Stadium, Ahmedabad",
          "Rajiv Gandhi International Stadium, Hyderabad",
          "Sawai Mansingh Stadium, Jaipur",
          "Wankhede Stadium, Mumbai",
          "All"
         ],
         "y": [
          6,
          2,
          8,
          1,
          4,
          1,
          5,
          5,
          3,
          0,
          8,
          5,
          5,
          7,
          60
         ]
        }
       ],
       "layout": {
        "barmode": "stack",
        "template": {
         "data": {
          "bar": [
           {
            "error_x": {
             "color": "#2a3f5f"
            },
            "error_y": {
             "color": "#2a3f5f"
            },
            "marker": {
             "line": {
              "color": "#E5ECF6",
              "width": 0.5
             },
             "pattern": {
              "fillmode": "overlay",
              "size": 10,
              "solidity": 0.2
             }
            },
            "type": "bar"
           }
          ],
          "barpolar": [
           {
            "marker": {
             "line": {
              "color": "#E5ECF6",
              "width": 0.5
             },
             "pattern": {
              "fillmode": "overlay",
              "size": 10,
              "solidity": 0.2
             }
            },
            "type": "barpolar"
           }
          ],
          "carpet": [
           {
            "aaxis": {
             "endlinecolor": "#2a3f5f",
             "gridcolor": "white",
             "linecolor": "white",
             "minorgridcolor": "white",
             "startlinecolor": "#2a3f5f"
            },
            "baxis": {
             "endlinecolor": "#2a3f5f",
             "gridcolor": "white",
             "linecolor": "white",
             "minorgridcolor": "white",
             "startlinecolor": "#2a3f5f"
            },
            "type": "carpet"
           }
          ],
          "choropleth": [
           {
            "colorbar": {
             "outlinewidth": 0,
             "ticks": ""
            },
            "type": "choropleth"
           }
          ],
          "contour": [
           {
            "colorbar": {
             "outlinewidth": 0,
             "ticks": ""
            },
            "colorscale": [
             [
              0,
              "#0d0887"
             ],
             [
              0.1111111111111111,
              "#46039f"
             ],
             [
              0.2222222222222222,
              "#7201a8"
             ],
             [
              0.3333333333333333,
              "#9c179e"
             ],
             [
              0.4444444444444444,
              "#bd3786"
             ],
             [
              0.5555555555555556,
              "#d8576b"
             ],
             [
              0.6666666666666666,
              "#ed7953"
             ],
             [
              0.7777777777777778,
              "#fb9f3a"
             ],
             [
              0.8888888888888888,
              "#fdca26"
             ],
             [
              1,
              "#f0f921"
             ]
            ],
            "type": "contour"
           }
          ],
          "contourcarpet": [
           {
            "colorbar": {
             "outlinewidth": 0,
             "ticks": ""
            },
            "type": "contourcarpet"
           }
          ],
          "heatmap": [
           {
            "colorbar": {
             "outlinewidth": 0,
             "ticks": ""
            },
            "colorscale": [
             [
              0,
              "#0d0887"
             ],
             [
              0.1111111111111111,
              "#46039f"
             ],
             [
              0.2222222222222222,
              "#7201a8"
             ],
             [
              0.3333333333333333,
              "#9c179e"
             ],
             [
              0.4444444444444444,
              "#bd3786"
             ],
             [
              0.5555555555555556,
              "#d8576b"
             ],
             [
              0.6666666666666666,
              "#ed7953"
             ],
             [
              0.7777777777777778,
              "#fb9f3a"
             ],
             [
              0.8888888888888888,
              "#fdca26"
             ],
             [
              1,
              "#f0f921"
             ]
            ],
            "type": "heatmap"
           }
          ],
          "heatmapgl": [
           {
            "colorbar": {
             "outlinewidth": 0,
             "ticks": ""
            },
            "colorscale": [
             [
              0,
              "#0d0887"
             ],
             [
              0.1111111111111111,
              "#46039f"
             ],
             [
              0.2222222222222222,
              "#7201a8"
             ],
             [
              0.3333333333333333,
              "#9c179e"
             ],
             [
              0.4444444444444444,
              "#bd3786"
             ],
             [
              0.5555555555555556,
              "#d8576b"
             ],
             [
              0.6666666666666666,
              "#ed7953"
             ],
             [
              0.7777777777777778,
              "#fb9f3a"
             ],
             [
              0.8888888888888888,
              "#fdca26"
             ],
             [
              1,
              "#f0f921"
             ]
            ],
            "type": "heatmapgl"
           }
          ],
          "histogram": [
           {
            "marker": {
             "pattern": {
              "fillmode": "overlay",
              "size": 10,
              "solidity": 0.2
             }
            },
            "type": "histogram"
           }
          ],
          "histogram2d": [
           {
            "colorbar": {
             "outlinewidth": 0,
             "ticks": ""
            },
            "colorscale": [
             [
              0,
              "#0d0887"
             ],
             [
              0.1111111111111111,
              "#46039f"
             ],
             [
              0.2222222222222222,
              "#7201a8"
             ],
             [
              0.3333333333333333,
              "#9c179e"
             ],
             [
              0.4444444444444444,
              "#bd3786"
             ],
             [
              0.5555555555555556,
              "#d8576b"
             ],
             [
              0.6666666666666666,
              "#ed7953"
             ],
             [
              0.7777777777777778,
              "#fb9f3a"
             ],
             [
              0.8888888888888888,
              "#fdca26"
             ],
             [
              1,
              "#f0f921"
             ]
            ],
            "type": "histogram2d"
           }
          ],
          "histogram2dcontour": [
           {
            "colorbar": {
             "outlinewidth": 0,
             "ticks": ""
            },
            "colorscale": [
             [
              0,
              "#0d0887"
             ],
             [
              0.1111111111111111,
              "#46039f"
             ],
             [
              0.2222222222222222,
              "#7201a8"
             ],
             [
              0.3333333333333333,
              "#9c179e"
             ],
             [
              0.4444444444444444,
              "#bd3786"
             ],
             [
              0.5555555555555556,
              "#d8576b"
             ],
             [
              0.6666666666666666,
              "#ed7953"
             ],
             [
              0.7777777777777778,
              "#fb9f3a"
             ],
             [
              0.8888888888888888,
              "#fdca26"
             ],
             [
              1,
              "#f0f921"
             ]
            ],
            "type": "histogram2dcontour"
           }
          ],
          "mesh3d": [
           {
            "colorbar": {
             "outlinewidth": 0,
             "ticks": ""
            },
            "type": "mesh3d"
           }
          ],
          "parcoords": [
           {
            "line": {
             "colorbar": {
              "outlinewidth": 0,
              "ticks": ""
             }
            },
            "type": "parcoords"
           }
          ],
          "pie": [
           {
            "automargin": true,
            "type": "pie"
           }
          ],
          "scatter": [
           {
            "fillpattern": {
             "fillmode": "overlay",
             "size": 10,
             "solidity": 0.2
            },
            "type": "scatter"
           }
          ],
          "scatter3d": [
           {
            "line": {
             "colorbar": {
              "outlinewidth": 0,
              "ticks": ""
             }
            },
            "marker": {
             "colorbar": {
              "outlinewidth": 0,
              "ticks": ""
             }
            },
            "type": "scatter3d"
           }
          ],
          "scattercarpet": [
           {
            "marker": {
             "colorbar": {
              "outlinewidth": 0,
              "ticks": ""
             }
            },
            "type": "scattercarpet"
           }
          ],
          "scattergeo": [
           {
            "marker": {
             "colorbar": {
              "outlinewidth": 0,
              "ticks": ""
             }
            },
            "type": "scattergeo"
           }
          ],
          "scattergl": [
           {
            "marker": {
             "colorbar": {
              "outlinewidth": 0,
              "ticks": ""
             }
            },
            "type": "scattergl"
           }
          ],
          "scattermapbox": [
           {
            "marker": {
             "colorbar": {
              "outlinewidth": 0,
              "ticks": ""
             }
            },
            "type": "scattermapbox"
           }
          ],
          "scatterpolar": [
           {
            "marker": {
             "colorbar": {
              "outlinewidth": 0,
              "ticks": ""
             }
            },
            "type": "scatterpolar"
           }
          ],
          "scatterpolargl": [
           {
            "marker": {
             "colorbar": {
              "outlinewidth": 0,
              "ticks": ""
             }
            },
            "type": "scatterpolargl"
           }
          ],
          "scatterternary": [
           {
            "marker": {
             "colorbar": {
              "outlinewidth": 0,
              "ticks": ""
             }
            },
            "type": "scatterternary"
           }
          ],
          "surface": [
           {
            "colorbar": {
             "outlinewidth": 0,
             "ticks": ""
            },
            "colorscale": [
             [
              0,
              "#0d0887"
             ],
             [
              0.1111111111111111,
              "#46039f"
             ],
             [
              0.2222222222222222,
              "#7201a8"
             ],
             [
              0.3333333333333333,
              "#9c179e"
             ],
             [
              0.4444444444444444,
              "#bd3786"
             ],
             [
              0.5555555555555556,
              "#d8576b"
             ],
             [
              0.6666666666666666,
              "#ed7953"
             ],
             [
              0.7777777777777778,
              "#fb9f3a"
             ],
             [
              0.8888888888888888,
              "#fdca26"
             ],
             [
              1,
              "#f0f921"
             ]
            ],
            "type": "surface"
           }
          ],
          "table": [
           {
            "cells": {
             "fill": {
              "color": "#EBF0F8"
             },
             "line": {
              "color": "white"
             }
            },
            "header": {
             "fill": {
              "color": "#C8D4E3"
             },
             "line": {
              "color": "white"
             }
            },
            "type": "table"
           }
          ]
         },
         "layout": {
          "annotationdefaults": {
           "arrowcolor": "#2a3f5f",
           "arrowhead": 0,
           "arrowwidth": 1
          },
          "autotypenumbers": "strict",
          "coloraxis": {
           "colorbar": {
            "outlinewidth": 0,
            "ticks": ""
           }
          },
          "colorscale": {
           "diverging": [
            [
             0,
             "#8e0152"
            ],
            [
             0.1,
             "#c51b7d"
            ],
            [
             0.2,
             "#de77ae"
            ],
            [
             0.3,
             "#f1b6da"
            ],
            [
             0.4,
             "#fde0ef"
            ],
            [
             0.5,
             "#f7f7f7"
            ],
            [
             0.6,
             "#e6f5d0"
            ],
            [
             0.7,
             "#b8e186"
            ],
            [
             0.8,
             "#7fbc41"
            ],
            [
             0.9,
             "#4d9221"
            ],
            [
             1,
             "#276419"
            ]
           ],
           "sequential": [
            [
             0,
             "#0d0887"
            ],
            [
             0.1111111111111111,
             "#46039f"
            ],
            [
             0.2222222222222222,
             "#7201a8"
            ],
            [
             0.3333333333333333,
             "#9c179e"
            ],
            [
             0.4444444444444444,
             "#bd3786"
            ],
            [
             0.5555555555555556,
             "#d8576b"
            ],
            [
             0.6666666666666666,
             "#ed7953"
            ],
            [
             0.7777777777777778,
             "#fb9f3a"
            ],
            [
             0.8888888888888888,
             "#fdca26"
            ],
            [
             1,
             "#f0f921"
            ]
           ],
           "sequentialminus": [
            [
             0,
             "#0d0887"
            ],
            [
             0.1111111111111111,
             "#46039f"
            ],
            [
             0.2222222222222222,
             "#7201a8"
            ],
            [
             0.3333333333333333,
             "#9c179e"
            ],
            [
             0.4444444444444444,
             "#bd3786"
            ],
            [
             0.5555555555555556,
             "#d8576b"
            ],
            [
             0.6666666666666666,
             "#ed7953"
            ],
            [
             0.7777777777777778,
             "#fb9f3a"
            ],
            [
             0.8888888888888888,
             "#fdca26"
            ],
            [
             1,
             "#f0f921"
            ]
           ]
          },
          "colorway": [
           "#636efa",
           "#EF553B",
           "#00cc96",
           "#ab63fa",
           "#FFA15A",
           "#19d3f3",
           "#FF6692",
           "#B6E880",
           "#FF97FF",
           "#FECB52"
          ],
          "font": {
           "color": "#2a3f5f"
          },
          "geo": {
           "bgcolor": "white",
           "lakecolor": "white",
           "landcolor": "#E5ECF6",
           "showlakes": true,
           "showland": true,
           "subunitcolor": "white"
          },
          "hoverlabel": {
           "align": "left"
          },
          "hovermode": "closest",
          "mapbox": {
           "style": "light"
          },
          "paper_bgcolor": "white",
          "plot_bgcolor": "#E5ECF6",
          "polar": {
           "angularaxis": {
            "gridcolor": "white",
            "linecolor": "white",
            "ticks": ""
           },
           "bgcolor": "#E5ECF6",
           "radialaxis": {
            "gridcolor": "white",
            "linecolor": "white",
            "ticks": ""
           }
          },
          "scene": {
           "xaxis": {
            "backgroundcolor": "#E5ECF6",
            "gridcolor": "white",
            "gridwidth": 2,
            "linecolor": "white",
            "showbackground": true,
            "ticks": "",
            "zerolinecolor": "white"
           },
           "yaxis": {
            "backgroundcolor": "#E5ECF6",
            "gridcolor": "white",
            "gridwidth": 2,
            "linecolor": "white",
            "showbackground": true,
            "ticks": "",
            "zerolinecolor": "white"
           },
           "zaxis": {
            "backgroundcolor": "#E5ECF6",
            "gridcolor": "white",
            "gridwidth": 2,
            "linecolor": "white",
            "showbackground": true,
            "ticks": "",
            "zerolinecolor": "white"
           }
          },
          "shapedefaults": {
           "line": {
            "color": "#2a3f5f"
           }
          },
          "ternary": {
           "aaxis": {
            "gridcolor": "white",
            "linecolor": "white",
            "ticks": ""
           },
           "baxis": {
            "gridcolor": "white",
            "linecolor": "white",
            "ticks": ""
           },
           "bgcolor": "#E5ECF6",
           "caxis": {
            "gridcolor": "white",
            "linecolor": "white",
            "ticks": ""
           }
          },
          "title": {
           "x": 0.05
          },
          "xaxis": {
           "automargin": true,
           "gridcolor": "white",
           "linecolor": "white",
           "ticks": "",
           "title": {
            "standoff": 15
           },
           "zerolinecolor": "white",
           "zerolinewidth": 2
          },
          "yaxis": {
           "automargin": true,
           "gridcolor": "white",
           "linecolor": "white",
           "ticks": "",
           "title": {
            "standoff": 15
           },
           "zerolinecolor": "white",
           "zerolinewidth": 2
          }
         }
        },
        "title": {
         "text": "Toss Choice Analysis"
        },
        "xaxis": {
         "title": {
          "text": "Toss Choice"
         }
        },
        "yaxis": {
         "title": {
          "text": "Count"
         }
        }
       }
      }
     },
     "metadata": {},
     "output_type": "display_data"
    }
   ],
   "source": [
    "import plotly.graph_objects as go\n",
    "\n",
    "fig = go.Figure(\n",
    "    data=[\n",
    "        go.Bar(\n",
    "            x=toss_choice.index, \n",
    "            y=toss_choice['bowl'],\n",
    "            name='bowl First'\n",
    "        )\n",
    "    ]\n",
    ")\n",
    "\n",
    "fig.update_layout(\n",
    "    title='Toss Choice Analysis',\n",
    "    xaxis_title='Toss Choice',\n",
    "    yaxis_title='Count',\n",
    "    barmode='stack'\n",
    ")\n",
    "\n",
    "fig.show()\n"
   ]
  },
  {
   "cell_type": "markdown",
   "id": "650d98a5-92a8-4063-b15e-bc398506df11",
   "metadata": {},
   "source": [
    "Team wise toss choice"
   ]
  },
  {
   "cell_type": "code",
   "execution_count": 64,
   "id": "45242c19-701f-4b5a-8927-f16d67e03ab4",
   "metadata": {
    "scrolled": true
   },
   "outputs": [
    {
     "data": {
      "text/html": [
       "<div>\n",
       "<style scoped>\n",
       "    .dataframe tbody tr th:only-of-type {\n",
       "        vertical-align: middle;\n",
       "    }\n",
       "\n",
       "    .dataframe tbody tr th {\n",
       "        vertical-align: top;\n",
       "    }\n",
       "\n",
       "    .dataframe thead th {\n",
       "        text-align: right;\n",
       "    }\n",
       "</style>\n",
       "<table border=\"1\" class=\"dataframe\">\n",
       "  <thead>\n",
       "    <tr style=\"text-align: right;\">\n",
       "      <th>tossChoice</th>\n",
       "      <th>bat</th>\n",
       "      <th>bowl</th>\n",
       "    </tr>\n",
       "    <tr>\n",
       "      <th>Team1</th>\n",
       "      <th></th>\n",
       "      <th></th>\n",
       "    </tr>\n",
       "  </thead>\n",
       "  <tbody>\n",
       "    <tr>\n",
       "      <th>Chennai Super Kings</th>\n",
       "      <td>1</td>\n",
       "      <td>6</td>\n",
       "    </tr>\n",
       "    <tr>\n",
       "      <th>Delhi Capitals</th>\n",
       "      <td>1</td>\n",
       "      <td>6</td>\n",
       "    </tr>\n",
       "    <tr>\n",
       "      <th>Gujarat Titans</th>\n",
       "      <td>2</td>\n",
       "      <td>6</td>\n",
       "    </tr>\n",
       "    <tr>\n",
       "      <th>Kolkata Knight Riders</th>\n",
       "      <td>3</td>\n",
       "      <td>4</td>\n",
       "    </tr>\n",
       "    <tr>\n",
       "      <th>Lucknow Super Giants</th>\n",
       "      <td>0</td>\n",
       "      <td>7</td>\n",
       "    </tr>\n",
       "    <tr>\n",
       "      <th>Mumbai Indians</th>\n",
       "      <td>0</td>\n",
       "      <td>7</td>\n",
       "    </tr>\n",
       "    <tr>\n",
       "      <th>Punjab Kings</th>\n",
       "      <td>2</td>\n",
       "      <td>7</td>\n",
       "    </tr>\n",
       "    <tr>\n",
       "      <th>Rajasthan Royals</th>\n",
       "      <td>2</td>\n",
       "      <td>5</td>\n",
       "    </tr>\n",
       "    <tr>\n",
       "      <th>Royal Challengers Bengaluru</th>\n",
       "      <td>0</td>\n",
       "      <td>7</td>\n",
       "    </tr>\n",
       "    <tr>\n",
       "      <th>Sunrisers Hyderabad</th>\n",
       "      <td>2</td>\n",
       "      <td>5</td>\n",
       "    </tr>\n",
       "  </tbody>\n",
       "</table>\n",
       "</div>"
      ],
      "text/plain": [
       "tossChoice                   bat  bowl\n",
       "Team1                                 \n",
       "Chennai Super Kings            1     6\n",
       "Delhi Capitals                 1     6\n",
       "Gujarat Titans                 2     6\n",
       "Kolkata Knight Riders          3     4\n",
       "Lucknow Super Giants           0     7\n",
       "Mumbai Indians                 0     7\n",
       "Punjab Kings                   2     7\n",
       "Rajasthan Royals               2     5\n",
       "Royal Challengers Bengaluru    0     7\n",
       "Sunrisers Hyderabad            2     5"
      ]
     },
     "execution_count": 64,
     "metadata": {},
     "output_type": "execute_result"
    }
   ],
   "source": [
    "team1=pd.crosstab(index=ds.Team1,columns=ds.tossChoice)\n",
    "team1"
   ]
  },
  {
   "cell_type": "code",
   "execution_count": 65,
   "id": "a7268b8c-e0fe-4be3-aefd-faca2975addf",
   "metadata": {},
   "outputs": [
    {
     "name": "stdout",
     "output_type": "stream",
     "text": [
      "tossChoice             bat  bowl\n",
      "Team1                           \n",
      "Chennai Super Kings      1     6\n",
      "Delhi Capitals           1     6\n",
      "Gujarat Titans           2     6\n",
      "Kolkata Knight Riders    3     4\n",
      "Lucknow Super Giants     0     7\n",
      "Team1\n"
     ]
    }
   ],
   "source": [
    "team1 = pd.crosstab(index=ds.Team1, columns=ds.tossChoice)\n",
    "print(team1.head())\n",
    "print(team1.index.name)\n"
   ]
  },
  {
   "cell_type": "code",
   "execution_count": 66,
   "id": "31946b31-84f5-44a4-836f-e829610d19b1",
   "metadata": {
    "scrolled": true
   },
   "outputs": [
    {
     "data": {
      "text/html": [
       "<div>\n",
       "<style scoped>\n",
       "    .dataframe tbody tr th:only-of-type {\n",
       "        vertical-align: middle;\n",
       "    }\n",
       "\n",
       "    .dataframe tbody tr th {\n",
       "        vertical-align: top;\n",
       "    }\n",
       "\n",
       "    .dataframe thead th {\n",
       "        text-align: right;\n",
       "    }\n",
       "</style>\n",
       "<table border=\"1\" class=\"dataframe\">\n",
       "  <thead>\n",
       "    <tr style=\"text-align: right;\">\n",
       "      <th>tossChoice</th>\n",
       "      <th>bat</th>\n",
       "      <th>bowl</th>\n",
       "    </tr>\n",
       "    <tr>\n",
       "      <th>Team2</th>\n",
       "      <th></th>\n",
       "      <th></th>\n",
       "    </tr>\n",
       "  </thead>\n",
       "  <tbody>\n",
       "    <tr>\n",
       "      <th>Chennai Super Kings</th>\n",
       "      <td>3</td>\n",
       "      <td>4</td>\n",
       "    </tr>\n",
       "    <tr>\n",
       "      <th>Delhi Capitals</th>\n",
       "      <td>1</td>\n",
       "      <td>6</td>\n",
       "    </tr>\n",
       "    <tr>\n",
       "      <th>Gujarat Titans</th>\n",
       "      <td>0</td>\n",
       "      <td>7</td>\n",
       "    </tr>\n",
       "    <tr>\n",
       "      <th>Kolkata Knight Riders</th>\n",
       "      <td>2</td>\n",
       "      <td>4</td>\n",
       "    </tr>\n",
       "    <tr>\n",
       "      <th>Lucknow Super Giants</th>\n",
       "      <td>1</td>\n",
       "      <td>6</td>\n",
       "    </tr>\n",
       "    <tr>\n",
       "      <th>Mumbai Indians</th>\n",
       "      <td>1</td>\n",
       "      <td>8</td>\n",
       "    </tr>\n",
       "    <tr>\n",
       "      <th>Punjab Kings</th>\n",
       "      <td>3</td>\n",
       "      <td>5</td>\n",
       "    </tr>\n",
       "    <tr>\n",
       "      <th>Rajasthan Royals</th>\n",
       "      <td>1</td>\n",
       "      <td>6</td>\n",
       "    </tr>\n",
       "    <tr>\n",
       "      <th>Royal Challengers Bengaluru</th>\n",
       "      <td>0</td>\n",
       "      <td>8</td>\n",
       "    </tr>\n",
       "    <tr>\n",
       "      <th>Sunrisers Hyderabad</th>\n",
       "      <td>1</td>\n",
       "      <td>6</td>\n",
       "    </tr>\n",
       "  </tbody>\n",
       "</table>\n",
       "</div>"
      ],
      "text/plain": [
       "tossChoice                   bat  bowl\n",
       "Team2                                 \n",
       "Chennai Super Kings            3     4\n",
       "Delhi Capitals                 1     6\n",
       "Gujarat Titans                 0     7\n",
       "Kolkata Knight Riders          2     4\n",
       "Lucknow Super Giants           1     6\n",
       "Mumbai Indians                 1     8\n",
       "Punjab Kings                   3     5\n",
       "Rajasthan Royals               1     6\n",
       "Royal Challengers Bengaluru    0     8\n",
       "Sunrisers Hyderabad            1     6"
      ]
     },
     "execution_count": 66,
     "metadata": {},
     "output_type": "execute_result"
    }
   ],
   "source": [
    "team2=pd.crosstab(index=ds.Team2,columns=ds.tossChoice)\n",
    "team2\n"
   ]
  },
  {
   "cell_type": "code",
   "execution_count": 67,
   "id": "367d795f-3e15-4d81-92ea-7ae0b0bb7297",
   "metadata": {},
   "outputs": [
    {
     "name": "stdout",
     "output_type": "stream",
     "text": [
      "tossChoice             bat  bowl\n",
      "Team1                           \n",
      "Chennai Super Kings      1     6\n",
      "Delhi Capitals           1     6\n",
      "Gujarat Titans           2     6\n",
      "Kolkata Knight Riders    3     4\n",
      "Lucknow Super Giants     0     7\n",
      "Team1\n"
     ]
    }
   ],
   "source": [
    "team1 = pd.crosstab(index=ds.Team1, columns=ds.tossChoice)\n",
    "print(team1.head())\n",
    "print(team1.index.name)\n"
   ]
  },
  {
   "cell_type": "code",
   "execution_count": 68,
   "id": "fa1e898a-d311-4253-b1a0-769b677131e0",
   "metadata": {},
   "outputs": [
    {
     "data": {
      "application/vnd.plotly.v1+json": {
       "config": {
        "plotlyServerURL": "https://plot.ly"
       },
       "data": [
        {
         "name": "bat",
         "type": "bar",
         "x": [
          1,
          1,
          2,
          3,
          0,
          0,
          2,
          2,
          0,
          2
         ],
         "y": [
          "Chennai Super Kings",
          "Delhi Capitals",
          "Gujarat Titans",
          "Kolkata Knight Riders",
          "Lucknow Super Giants",
          "Mumbai Indians",
          "Punjab Kings",
          "Rajasthan Royals",
          "Royal Challengers Bengaluru",
          "Sunrisers Hyderabad"
         ]
        },
        {
         "name": "bowl",
         "type": "bar",
         "x": [
          6,
          6,
          6,
          4,
          7,
          7,
          7,
          5,
          7,
          5
         ],
         "y": [
          "Chennai Super Kings",
          "Delhi Capitals",
          "Gujarat Titans",
          "Kolkata Knight Riders",
          "Lucknow Super Giants",
          "Mumbai Indians",
          "Punjab Kings",
          "Rajasthan Royals",
          "Royal Challengers Bengaluru",
          "Sunrisers Hyderabad"
         ]
        }
       ],
       "layout": {
        "barmode": "stack",
        "template": {
         "data": {
          "bar": [
           {
            "error_x": {
             "color": "#2a3f5f"
            },
            "error_y": {
             "color": "#2a3f5f"
            },
            "marker": {
             "line": {
              "color": "#E5ECF6",
              "width": 0.5
             },
             "pattern": {
              "fillmode": "overlay",
              "size": 10,
              "solidity": 0.2
             }
            },
            "type": "bar"
           }
          ],
          "barpolar": [
           {
            "marker": {
             "line": {
              "color": "#E5ECF6",
              "width": 0.5
             },
             "pattern": {
              "fillmode": "overlay",
              "size": 10,
              "solidity": 0.2
             }
            },
            "type": "barpolar"
           }
          ],
          "carpet": [
           {
            "aaxis": {
             "endlinecolor": "#2a3f5f",
             "gridcolor": "white",
             "linecolor": "white",
             "minorgridcolor": "white",
             "startlinecolor": "#2a3f5f"
            },
            "baxis": {
             "endlinecolor": "#2a3f5f",
             "gridcolor": "white",
             "linecolor": "white",
             "minorgridcolor": "white",
             "startlinecolor": "#2a3f5f"
            },
            "type": "carpet"
           }
          ],
          "choropleth": [
           {
            "colorbar": {
             "outlinewidth": 0,
             "ticks": ""
            },
            "type": "choropleth"
           }
          ],
          "contour": [
           {
            "colorbar": {
             "outlinewidth": 0,
             "ticks": ""
            },
            "colorscale": [
             [
              0,
              "#0d0887"
             ],
             [
              0.1111111111111111,
              "#46039f"
             ],
             [
              0.2222222222222222,
              "#7201a8"
             ],
             [
              0.3333333333333333,
              "#9c179e"
             ],
             [
              0.4444444444444444,
              "#bd3786"
             ],
             [
              0.5555555555555556,
              "#d8576b"
             ],
             [
              0.6666666666666666,
              "#ed7953"
             ],
             [
              0.7777777777777778,
              "#fb9f3a"
             ],
             [
              0.8888888888888888,
              "#fdca26"
             ],
             [
              1,
              "#f0f921"
             ]
            ],
            "type": "contour"
           }
          ],
          "contourcarpet": [
           {
            "colorbar": {
             "outlinewidth": 0,
             "ticks": ""
            },
            "type": "contourcarpet"
           }
          ],
          "heatmap": [
           {
            "colorbar": {
             "outlinewidth": 0,
             "ticks": ""
            },
            "colorscale": [
             [
              0,
              "#0d0887"
             ],
             [
              0.1111111111111111,
              "#46039f"
             ],
             [
              0.2222222222222222,
              "#7201a8"
             ],
             [
              0.3333333333333333,
              "#9c179e"
             ],
             [
              0.4444444444444444,
              "#bd3786"
             ],
             [
              0.5555555555555556,
              "#d8576b"
             ],
             [
              0.6666666666666666,
              "#ed7953"
             ],
             [
              0.7777777777777778,
              "#fb9f3a"
             ],
             [
              0.8888888888888888,
              "#fdca26"
             ],
             [
              1,
              "#f0f921"
             ]
            ],
            "type": "heatmap"
           }
          ],
          "heatmapgl": [
           {
            "colorbar": {
             "outlinewidth": 0,
             "ticks": ""
            },
            "colorscale": [
             [
              0,
              "#0d0887"
             ],
             [
              0.1111111111111111,
              "#46039f"
             ],
             [
              0.2222222222222222,
              "#7201a8"
             ],
             [
              0.3333333333333333,
              "#9c179e"
             ],
             [
              0.4444444444444444,
              "#bd3786"
             ],
             [
              0.5555555555555556,
              "#d8576b"
             ],
             [
              0.6666666666666666,
              "#ed7953"
             ],
             [
              0.7777777777777778,
              "#fb9f3a"
             ],
             [
              0.8888888888888888,
              "#fdca26"
             ],
             [
              1,
              "#f0f921"
             ]
            ],
            "type": "heatmapgl"
           }
          ],
          "histogram": [
           {
            "marker": {
             "pattern": {
              "fillmode": "overlay",
              "size": 10,
              "solidity": 0.2
             }
            },
            "type": "histogram"
           }
          ],
          "histogram2d": [
           {
            "colorbar": {
             "outlinewidth": 0,
             "ticks": ""
            },
            "colorscale": [
             [
              0,
              "#0d0887"
             ],
             [
              0.1111111111111111,
              "#46039f"
             ],
             [
              0.2222222222222222,
              "#7201a8"
             ],
             [
              0.3333333333333333,
              "#9c179e"
             ],
             [
              0.4444444444444444,
              "#bd3786"
             ],
             [
              0.5555555555555556,
              "#d8576b"
             ],
             [
              0.6666666666666666,
              "#ed7953"
             ],
             [
              0.7777777777777778,
              "#fb9f3a"
             ],
             [
              0.8888888888888888,
              "#fdca26"
             ],
             [
              1,
              "#f0f921"
             ]
            ],
            "type": "histogram2d"
           }
          ],
          "histogram2dcontour": [
           {
            "colorbar": {
             "outlinewidth": 0,
             "ticks": ""
            },
            "colorscale": [
             [
              0,
              "#0d0887"
             ],
             [
              0.1111111111111111,
              "#46039f"
             ],
             [
              0.2222222222222222,
              "#7201a8"
             ],
             [
              0.3333333333333333,
              "#9c179e"
             ],
             [
              0.4444444444444444,
              "#bd3786"
             ],
             [
              0.5555555555555556,
              "#d8576b"
             ],
             [
              0.6666666666666666,
              "#ed7953"
             ],
             [
              0.7777777777777778,
              "#fb9f3a"
             ],
             [
              0.8888888888888888,
              "#fdca26"
             ],
             [
              1,
              "#f0f921"
             ]
            ],
            "type": "histogram2dcontour"
           }
          ],
          "mesh3d": [
           {
            "colorbar": {
             "outlinewidth": 0,
             "ticks": ""
            },
            "type": "mesh3d"
           }
          ],
          "parcoords": [
           {
            "line": {
             "colorbar": {
              "outlinewidth": 0,
              "ticks": ""
             }
            },
            "type": "parcoords"
           }
          ],
          "pie": [
           {
            "automargin": true,
            "type": "pie"
           }
          ],
          "scatter": [
           {
            "fillpattern": {
             "fillmode": "overlay",
             "size": 10,
             "solidity": 0.2
            },
            "type": "scatter"
           }
          ],
          "scatter3d": [
           {
            "line": {
             "colorbar": {
              "outlinewidth": 0,
              "ticks": ""
             }
            },
            "marker": {
             "colorbar": {
              "outlinewidth": 0,
              "ticks": ""
             }
            },
            "type": "scatter3d"
           }
          ],
          "scattercarpet": [
           {
            "marker": {
             "colorbar": {
              "outlinewidth": 0,
              "ticks": ""
             }
            },
            "type": "scattercarpet"
           }
          ],
          "scattergeo": [
           {
            "marker": {
             "colorbar": {
              "outlinewidth": 0,
              "ticks": ""
             }
            },
            "type": "scattergeo"
           }
          ],
          "scattergl": [
           {
            "marker": {
             "colorbar": {
              "outlinewidth": 0,
              "ticks": ""
             }
            },
            "type": "scattergl"
           }
          ],
          "scattermapbox": [
           {
            "marker": {
             "colorbar": {
              "outlinewidth": 0,
              "ticks": ""
             }
            },
            "type": "scattermapbox"
           }
          ],
          "scatterpolar": [
           {
            "marker": {
             "colorbar": {
              "outlinewidth": 0,
              "ticks": ""
             }
            },
            "type": "scatterpolar"
           }
          ],
          "scatterpolargl": [
           {
            "marker": {
             "colorbar": {
              "outlinewidth": 0,
              "ticks": ""
             }
            },
            "type": "scatterpolargl"
           }
          ],
          "scatterternary": [
           {
            "marker": {
             "colorbar": {
              "outlinewidth": 0,
              "ticks": ""
             }
            },
            "type": "scatterternary"
           }
          ],
          "surface": [
           {
            "colorbar": {
             "outlinewidth": 0,
             "ticks": ""
            },
            "colorscale": [
             [
              0,
              "#0d0887"
             ],
             [
              0.1111111111111111,
              "#46039f"
             ],
             [
              0.2222222222222222,
              "#7201a8"
             ],
             [
              0.3333333333333333,
              "#9c179e"
             ],
             [
              0.4444444444444444,
              "#bd3786"
             ],
             [
              0.5555555555555556,
              "#d8576b"
             ],
             [
              0.6666666666666666,
              "#ed7953"
             ],
             [
              0.7777777777777778,
              "#fb9f3a"
             ],
             [
              0.8888888888888888,
              "#fdca26"
             ],
             [
              1,
              "#f0f921"
             ]
            ],
            "type": "surface"
           }
          ],
          "table": [
           {
            "cells": {
             "fill": {
              "color": "#EBF0F8"
             },
             "line": {
              "color": "white"
             }
            },
            "header": {
             "fill": {
              "color": "#C8D4E3"
             },
             "line": {
              "color": "white"
             }
            },
            "type": "table"
           }
          ]
         },
         "layout": {
          "annotationdefaults": {
           "arrowcolor": "#2a3f5f",
           "arrowhead": 0,
           "arrowwidth": 1
          },
          "autotypenumbers": "strict",
          "coloraxis": {
           "colorbar": {
            "outlinewidth": 0,
            "ticks": ""
           }
          },
          "colorscale": {
           "diverging": [
            [
             0,
             "#8e0152"
            ],
            [
             0.1,
             "#c51b7d"
            ],
            [
             0.2,
             "#de77ae"
            ],
            [
             0.3,
             "#f1b6da"
            ],
            [
             0.4,
             "#fde0ef"
            ],
            [
             0.5,
             "#f7f7f7"
            ],
            [
             0.6,
             "#e6f5d0"
            ],
            [
             0.7,
             "#b8e186"
            ],
            [
             0.8,
             "#7fbc41"
            ],
            [
             0.9,
             "#4d9221"
            ],
            [
             1,
             "#276419"
            ]
           ],
           "sequential": [
            [
             0,
             "#0d0887"
            ],
            [
             0.1111111111111111,
             "#46039f"
            ],
            [
             0.2222222222222222,
             "#7201a8"
            ],
            [
             0.3333333333333333,
             "#9c179e"
            ],
            [
             0.4444444444444444,
             "#bd3786"
            ],
            [
             0.5555555555555556,
             "#d8576b"
            ],
            [
             0.6666666666666666,
             "#ed7953"
            ],
            [
             0.7777777777777778,
             "#fb9f3a"
            ],
            [
             0.8888888888888888,
             "#fdca26"
            ],
            [
             1,
             "#f0f921"
            ]
           ],
           "sequentialminus": [
            [
             0,
             "#0d0887"
            ],
            [
             0.1111111111111111,
             "#46039f"
            ],
            [
             0.2222222222222222,
             "#7201a8"
            ],
            [
             0.3333333333333333,
             "#9c179e"
            ],
            [
             0.4444444444444444,
             "#bd3786"
            ],
            [
             0.5555555555555556,
             "#d8576b"
            ],
            [
             0.6666666666666666,
             "#ed7953"
            ],
            [
             0.7777777777777778,
             "#fb9f3a"
            ],
            [
             0.8888888888888888,
             "#fdca26"
            ],
            [
             1,
             "#f0f921"
            ]
           ]
          },
          "colorway": [
           "#636efa",
           "#EF553B",
           "#00cc96",
           "#ab63fa",
           "#FFA15A",
           "#19d3f3",
           "#FF6692",
           "#B6E880",
           "#FF97FF",
           "#FECB52"
          ],
          "font": {
           "color": "#2a3f5f"
          },
          "geo": {
           "bgcolor": "white",
           "lakecolor": "white",
           "landcolor": "#E5ECF6",
           "showlakes": true,
           "showland": true,
           "subunitcolor": "white"
          },
          "hoverlabel": {
           "align": "left"
          },
          "hovermode": "closest",
          "mapbox": {
           "style": "light"
          },
          "paper_bgcolor": "white",
          "plot_bgcolor": "#E5ECF6",
          "polar": {
           "angularaxis": {
            "gridcolor": "white",
            "linecolor": "white",
            "ticks": ""
           },
           "bgcolor": "#E5ECF6",
           "radialaxis": {
            "gridcolor": "white",
            "linecolor": "white",
            "ticks": ""
           }
          },
          "scene": {
           "xaxis": {
            "backgroundcolor": "#E5ECF6",
            "gridcolor": "white",
            "gridwidth": 2,
            "linecolor": "white",
            "showbackground": true,
            "ticks": "",
            "zerolinecolor": "white"
           },
           "yaxis": {
            "backgroundcolor": "#E5ECF6",
            "gridcolor": "white",
            "gridwidth": 2,
            "linecolor": "white",
            "showbackground": true,
            "ticks": "",
            "zerolinecolor": "white"
           },
           "zaxis": {
            "backgroundcolor": "#E5ECF6",
            "gridcolor": "white",
            "gridwidth": 2,
            "linecolor": "white",
            "showbackground": true,
            "ticks": "",
            "zerolinecolor": "white"
           }
          },
          "shapedefaults": {
           "line": {
            "color": "#2a3f5f"
           }
          },
          "ternary": {
           "aaxis": {
            "gridcolor": "white",
            "linecolor": "white",
            "ticks": ""
           },
           "baxis": {
            "gridcolor": "white",
            "linecolor": "white",
            "ticks": ""
           },
           "bgcolor": "#E5ECF6",
           "caxis": {
            "gridcolor": "white",
            "linecolor": "white",
            "ticks": ""
           }
          },
          "title": {
           "x": 0.05
          },
          "xaxis": {
           "automargin": true,
           "gridcolor": "white",
           "linecolor": "white",
           "ticks": "",
           "title": {
            "standoff": 15
           },
           "zerolinecolor": "white",
           "zerolinewidth": 2
          },
          "yaxis": {
           "automargin": true,
           "gridcolor": "white",
           "linecolor": "white",
           "ticks": "",
           "title": {
            "standoff": 15
           },
           "zerolinecolor": "white",
           "zerolinewidth": 2
          }
         }
        },
        "title": {
         "text": "Toss Choice Distribution by Team1"
        },
        "xaxis": {
         "tickangle": -45,
         "title": {
          "text": "Count"
         }
        },
        "yaxis": {
         "title": {
          "text": "Team1"
         }
        }
       }
      }
     },
     "metadata": {},
     "output_type": "display_data"
    }
   ],
   "source": [
    "\n",
    "fig = go.Figure()\n",
    "\n",
    "for choice in team1.columns:\n",
    "    fig.add_trace(go.Bar(\n",
    "        x=team1[choice],\n",
    "        y=team1.index,      \n",
    "        name=choice            \n",
    "    ))\n",
    "\n",
    "fig.update_layout(\n",
    "    barmode='stack',\n",
    "    title='Toss Choice Distribution by Team1',\n",
    "    xaxis_title='Count',\n",
    "    yaxis_title='Team1',\n",
    "    xaxis_tickangle=-45\n",
    ")\n",
    "\n",
    "fig.show()\n"
   ]
  },
  {
   "cell_type": "code",
   "execution_count": 69,
   "id": "b5e04366-863e-455a-86a4-62b43bda4b1f",
   "metadata": {
    "scrolled": true
   },
   "outputs": [
    {
     "data": {
      "application/vnd.plotly.v1+json": {
       "config": {
        "plotlyServerURL": "https://plot.ly"
       },
       "data": [
        {
         "name": "Chennai Super Kings",
         "type": "bar",
         "x": [
          1,
          6
         ],
         "y": [
          "bat",
          "bowl"
         ]
        },
        {
         "name": "Delhi Capitals",
         "type": "bar",
         "x": [
          1,
          6
         ],
         "y": [
          "bat",
          "bowl"
         ]
        },
        {
         "name": "Gujarat Titans",
         "type": "bar",
         "x": [
          2,
          6
         ],
         "y": [
          "bat",
          "bowl"
         ]
        },
        {
         "name": "Kolkata Knight Riders",
         "type": "bar",
         "x": [
          3,
          4
         ],
         "y": [
          "bat",
          "bowl"
         ]
        },
        {
         "name": "Lucknow Super Giants",
         "type": "bar",
         "x": [
          0,
          7
         ],
         "y": [
          "bat",
          "bowl"
         ]
        },
        {
         "name": "Mumbai Indians",
         "type": "bar",
         "x": [
          0,
          7
         ],
         "y": [
          "bat",
          "bowl"
         ]
        },
        {
         "name": "Punjab Kings",
         "type": "bar",
         "x": [
          2,
          7
         ],
         "y": [
          "bat",
          "bowl"
         ]
        },
        {
         "name": "Rajasthan Royals",
         "type": "bar",
         "x": [
          2,
          5
         ],
         "y": [
          "bat",
          "bowl"
         ]
        },
        {
         "name": "Royal Challengers Bengaluru",
         "type": "bar",
         "x": [
          0,
          7
         ],
         "y": [
          "bat",
          "bowl"
         ]
        },
        {
         "name": "Sunrisers Hyderabad",
         "type": "bar",
         "x": [
          2,
          5
         ],
         "y": [
          "bat",
          "bowl"
         ]
        }
       ],
       "layout": {
        "barmode": "stack",
        "legend": {
         "title": {
          "text": "Team1"
         }
        },
        "template": {
         "data": {
          "bar": [
           {
            "error_x": {
             "color": "#2a3f5f"
            },
            "error_y": {
             "color": "#2a3f5f"
            },
            "marker": {
             "line": {
              "color": "#E5ECF6",
              "width": 0.5
             },
             "pattern": {
              "fillmode": "overlay",
              "size": 10,
              "solidity": 0.2
             }
            },
            "type": "bar"
           }
          ],
          "barpolar": [
           {
            "marker": {
             "line": {
              "color": "#E5ECF6",
              "width": 0.5
             },
             "pattern": {
              "fillmode": "overlay",
              "size": 10,
              "solidity": 0.2
             }
            },
            "type": "barpolar"
           }
          ],
          "carpet": [
           {
            "aaxis": {
             "endlinecolor": "#2a3f5f",
             "gridcolor": "white",
             "linecolor": "white",
             "minorgridcolor": "white",
             "startlinecolor": "#2a3f5f"
            },
            "baxis": {
             "endlinecolor": "#2a3f5f",
             "gridcolor": "white",
             "linecolor": "white",
             "minorgridcolor": "white",
             "startlinecolor": "#2a3f5f"
            },
            "type": "carpet"
           }
          ],
          "choropleth": [
           {
            "colorbar": {
             "outlinewidth": 0,
             "ticks": ""
            },
            "type": "choropleth"
           }
          ],
          "contour": [
           {
            "colorbar": {
             "outlinewidth": 0,
             "ticks": ""
            },
            "colorscale": [
             [
              0,
              "#0d0887"
             ],
             [
              0.1111111111111111,
              "#46039f"
             ],
             [
              0.2222222222222222,
              "#7201a8"
             ],
             [
              0.3333333333333333,
              "#9c179e"
             ],
             [
              0.4444444444444444,
              "#bd3786"
             ],
             [
              0.5555555555555556,
              "#d8576b"
             ],
             [
              0.6666666666666666,
              "#ed7953"
             ],
             [
              0.7777777777777778,
              "#fb9f3a"
             ],
             [
              0.8888888888888888,
              "#fdca26"
             ],
             [
              1,
              "#f0f921"
             ]
            ],
            "type": "contour"
           }
          ],
          "contourcarpet": [
           {
            "colorbar": {
             "outlinewidth": 0,
             "ticks": ""
            },
            "type": "contourcarpet"
           }
          ],
          "heatmap": [
           {
            "colorbar": {
             "outlinewidth": 0,
             "ticks": ""
            },
            "colorscale": [
             [
              0,
              "#0d0887"
             ],
             [
              0.1111111111111111,
              "#46039f"
             ],
             [
              0.2222222222222222,
              "#7201a8"
             ],
             [
              0.3333333333333333,
              "#9c179e"
             ],
             [
              0.4444444444444444,
              "#bd3786"
             ],
             [
              0.5555555555555556,
              "#d8576b"
             ],
             [
              0.6666666666666666,
              "#ed7953"
             ],
             [
              0.7777777777777778,
              "#fb9f3a"
             ],
             [
              0.8888888888888888,
              "#fdca26"
             ],
             [
              1,
              "#f0f921"
             ]
            ],
            "type": "heatmap"
           }
          ],
          "heatmapgl": [
           {
            "colorbar": {
             "outlinewidth": 0,
             "ticks": ""
            },
            "colorscale": [
             [
              0,
              "#0d0887"
             ],
             [
              0.1111111111111111,
              "#46039f"
             ],
             [
              0.2222222222222222,
              "#7201a8"
             ],
             [
              0.3333333333333333,
              "#9c179e"
             ],
             [
              0.4444444444444444,
              "#bd3786"
             ],
             [
              0.5555555555555556,
              "#d8576b"
             ],
             [
              0.6666666666666666,
              "#ed7953"
             ],
             [
              0.7777777777777778,
              "#fb9f3a"
             ],
             [
              0.8888888888888888,
              "#fdca26"
             ],
             [
              1,
              "#f0f921"
             ]
            ],
            "type": "heatmapgl"
           }
          ],
          "histogram": [
           {
            "marker": {
             "pattern": {
              "fillmode": "overlay",
              "size": 10,
              "solidity": 0.2
             }
            },
            "type": "histogram"
           }
          ],
          "histogram2d": [
           {
            "colorbar": {
             "outlinewidth": 0,
             "ticks": ""
            },
            "colorscale": [
             [
              0,
              "#0d0887"
             ],
             [
              0.1111111111111111,
              "#46039f"
             ],
             [
              0.2222222222222222,
              "#7201a8"
             ],
             [
              0.3333333333333333,
              "#9c179e"
             ],
             [
              0.4444444444444444,
              "#bd3786"
             ],
             [
              0.5555555555555556,
              "#d8576b"
             ],
             [
              0.6666666666666666,
              "#ed7953"
             ],
             [
              0.7777777777777778,
              "#fb9f3a"
             ],
             [
              0.8888888888888888,
              "#fdca26"
             ],
             [
              1,
              "#f0f921"
             ]
            ],
            "type": "histogram2d"
           }
          ],
          "histogram2dcontour": [
           {
            "colorbar": {
             "outlinewidth": 0,
             "ticks": ""
            },
            "colorscale": [
             [
              0,
              "#0d0887"
             ],
             [
              0.1111111111111111,
              "#46039f"
             ],
             [
              0.2222222222222222,
              "#7201a8"
             ],
             [
              0.3333333333333333,
              "#9c179e"
             ],
             [
              0.4444444444444444,
              "#bd3786"
             ],
             [
              0.5555555555555556,
              "#d8576b"
             ],
             [
              0.6666666666666666,
              "#ed7953"
             ],
             [
              0.7777777777777778,
              "#fb9f3a"
             ],
             [
              0.8888888888888888,
              "#fdca26"
             ],
             [
              1,
              "#f0f921"
             ]
            ],
            "type": "histogram2dcontour"
           }
          ],
          "mesh3d": [
           {
            "colorbar": {
             "outlinewidth": 0,
             "ticks": ""
            },
            "type": "mesh3d"
           }
          ],
          "parcoords": [
           {
            "line": {
             "colorbar": {
              "outlinewidth": 0,
              "ticks": ""
             }
            },
            "type": "parcoords"
           }
          ],
          "pie": [
           {
            "automargin": true,
            "type": "pie"
           }
          ],
          "scatter": [
           {
            "fillpattern": {
             "fillmode": "overlay",
             "size": 10,
             "solidity": 0.2
            },
            "type": "scatter"
           }
          ],
          "scatter3d": [
           {
            "line": {
             "colorbar": {
              "outlinewidth": 0,
              "ticks": ""
             }
            },
            "marker": {
             "colorbar": {
              "outlinewidth": 0,
              "ticks": ""
             }
            },
            "type": "scatter3d"
           }
          ],
          "scattercarpet": [
           {
            "marker": {
             "colorbar": {
              "outlinewidth": 0,
              "ticks": ""
             }
            },
            "type": "scattercarpet"
           }
          ],
          "scattergeo": [
           {
            "marker": {
             "colorbar": {
              "outlinewidth": 0,
              "ticks": ""
             }
            },
            "type": "scattergeo"
           }
          ],
          "scattergl": [
           {
            "marker": {
             "colorbar": {
              "outlinewidth": 0,
              "ticks": ""
             }
            },
            "type": "scattergl"
           }
          ],
          "scattermapbox": [
           {
            "marker": {
             "colorbar": {
              "outlinewidth": 0,
              "ticks": ""
             }
            },
            "type": "scattermapbox"
           }
          ],
          "scatterpolar": [
           {
            "marker": {
             "colorbar": {
              "outlinewidth": 0,
              "ticks": ""
             }
            },
            "type": "scatterpolar"
           }
          ],
          "scatterpolargl": [
           {
            "marker": {
             "colorbar": {
              "outlinewidth": 0,
              "ticks": ""
             }
            },
            "type": "scatterpolargl"
           }
          ],
          "scatterternary": [
           {
            "marker": {
             "colorbar": {
              "outlinewidth": 0,
              "ticks": ""
             }
            },
            "type": "scatterternary"
           }
          ],
          "surface": [
           {
            "colorbar": {
             "outlinewidth": 0,
             "ticks": ""
            },
            "colorscale": [
             [
              0,
              "#0d0887"
             ],
             [
              0.1111111111111111,
              "#46039f"
             ],
             [
              0.2222222222222222,
              "#7201a8"
             ],
             [
              0.3333333333333333,
              "#9c179e"
             ],
             [
              0.4444444444444444,
              "#bd3786"
             ],
             [
              0.5555555555555556,
              "#d8576b"
             ],
             [
              0.6666666666666666,
              "#ed7953"
             ],
             [
              0.7777777777777778,
              "#fb9f3a"
             ],
             [
              0.8888888888888888,
              "#fdca26"
             ],
             [
              1,
              "#f0f921"
             ]
            ],
            "type": "surface"
           }
          ],
          "table": [
           {
            "cells": {
             "fill": {
              "color": "#EBF0F8"
             },
             "line": {
              "color": "white"
             }
            },
            "header": {
             "fill": {
              "color": "#C8D4E3"
             },
             "line": {
              "color": "white"
             }
            },
            "type": "table"
           }
          ]
         },
         "layout": {
          "annotationdefaults": {
           "arrowcolor": "#2a3f5f",
           "arrowhead": 0,
           "arrowwidth": 1
          },
          "autotypenumbers": "strict",
          "coloraxis": {
           "colorbar": {
            "outlinewidth": 0,
            "ticks": ""
           }
          },
          "colorscale": {
           "diverging": [
            [
             0,
             "#8e0152"
            ],
            [
             0.1,
             "#c51b7d"
            ],
            [
             0.2,
             "#de77ae"
            ],
            [
             0.3,
             "#f1b6da"
            ],
            [
             0.4,
             "#fde0ef"
            ],
            [
             0.5,
             "#f7f7f7"
            ],
            [
             0.6,
             "#e6f5d0"
            ],
            [
             0.7,
             "#b8e186"
            ],
            [
             0.8,
             "#7fbc41"
            ],
            [
             0.9,
             "#4d9221"
            ],
            [
             1,
             "#276419"
            ]
           ],
           "sequential": [
            [
             0,
             "#0d0887"
            ],
            [
             0.1111111111111111,
             "#46039f"
            ],
            [
             0.2222222222222222,
             "#7201a8"
            ],
            [
             0.3333333333333333,
             "#9c179e"
            ],
            [
             0.4444444444444444,
             "#bd3786"
            ],
            [
             0.5555555555555556,
             "#d8576b"
            ],
            [
             0.6666666666666666,
             "#ed7953"
            ],
            [
             0.7777777777777778,
             "#fb9f3a"
            ],
            [
             0.8888888888888888,
             "#fdca26"
            ],
            [
             1,
             "#f0f921"
            ]
           ],
           "sequentialminus": [
            [
             0,
             "#0d0887"
            ],
            [
             0.1111111111111111,
             "#46039f"
            ],
            [
             0.2222222222222222,
             "#7201a8"
            ],
            [
             0.3333333333333333,
             "#9c179e"
            ],
            [
             0.4444444444444444,
             "#bd3786"
            ],
            [
             0.5555555555555556,
             "#d8576b"
            ],
            [
             0.6666666666666666,
             "#ed7953"
            ],
            [
             0.7777777777777778,
             "#fb9f3a"
            ],
            [
             0.8888888888888888,
             "#fdca26"
            ],
            [
             1,
             "#f0f921"
            ]
           ]
          },
          "colorway": [
           "#636efa",
           "#EF553B",
           "#00cc96",
           "#ab63fa",
           "#FFA15A",
           "#19d3f3",
           "#FF6692",
           "#B6E880",
           "#FF97FF",
           "#FECB52"
          ],
          "font": {
           "color": "#2a3f5f"
          },
          "geo": {
           "bgcolor": "white",
           "lakecolor": "white",
           "landcolor": "#E5ECF6",
           "showlakes": true,
           "showland": true,
           "subunitcolor": "white"
          },
          "hoverlabel": {
           "align": "left"
          },
          "hovermode": "closest",
          "mapbox": {
           "style": "light"
          },
          "paper_bgcolor": "white",
          "plot_bgcolor": "#E5ECF6",
          "polar": {
           "angularaxis": {
            "gridcolor": "white",
            "linecolor": "white",
            "ticks": ""
           },
           "bgcolor": "#E5ECF6",
           "radialaxis": {
            "gridcolor": "white",
            "linecolor": "white",
            "ticks": ""
           }
          },
          "scene": {
           "xaxis": {
            "backgroundcolor": "#E5ECF6",
            "gridcolor": "white",
            "gridwidth": 2,
            "linecolor": "white",
            "showbackground": true,
            "ticks": "",
            "zerolinecolor": "white"
           },
           "yaxis": {
            "backgroundcolor": "#E5ECF6",
            "gridcolor": "white",
            "gridwidth": 2,
            "linecolor": "white",
            "showbackground": true,
            "ticks": "",
            "zerolinecolor": "white"
           },
           "zaxis": {
            "backgroundcolor": "#E5ECF6",
            "gridcolor": "white",
            "gridwidth": 2,
            "linecolor": "white",
            "showbackground": true,
            "ticks": "",
            "zerolinecolor": "white"
           }
          },
          "shapedefaults": {
           "line": {
            "color": "#2a3f5f"
           }
          },
          "ternary": {
           "aaxis": {
            "gridcolor": "white",
            "linecolor": "white",
            "ticks": ""
           },
           "baxis": {
            "gridcolor": "white",
            "linecolor": "white",
            "ticks": ""
           },
           "bgcolor": "#E5ECF6",
           "caxis": {
            "gridcolor": "white",
            "linecolor": "white",
            "ticks": ""
           }
          },
          "title": {
           "x": 0.05
          },
          "xaxis": {
           "automargin": true,
           "gridcolor": "white",
           "linecolor": "white",
           "ticks": "",
           "title": {
            "standoff": 15
           },
           "zerolinecolor": "white",
           "zerolinewidth": 2
          },
          "yaxis": {
           "automargin": true,
           "gridcolor": "white",
           "linecolor": "white",
           "ticks": "",
           "title": {
            "standoff": 15
           },
           "zerolinecolor": "white",
           "zerolinewidth": 2
          }
         }
        },
        "title": {
         "text": "Toss Choices by Each Team"
        },
        "xaxis": {
         "title": {
          "text": "Count"
         }
        },
        "yaxis": {
         "title": {
          "text": "Toss Choice"
         }
        }
       }
      }
     },
     "metadata": {},
     "output_type": "display_data"
    }
   ],
   "source": [
    "team1 = pd.crosstab(index=ds.tossChoice, columns=ds.Team1)\n",
    "\n",
    "fig = go.Figure()\n",
    "\n",
    "for team in team1.columns:\n",
    "    fig.add_trace(go.Bar(\n",
    "        y=team1.index,      \n",
    "        x=team1[team],        \n",
    "        name=team,\n",
    "    ))\n",
    "\n",
    "fig.update_layout(\n",
    "    barmode='stack',\n",
    "    title='Toss Choices by Each Team',\n",
    "    xaxis_title='Count',\n",
    "    yaxis_title='Toss Choice',\n",
    "    legend_title='Team1'\n",
    ")\n",
    "\n",
    "fig.show()\n",
    "\n"
   ]
  },
  {
   "cell_type": "code",
   "execution_count": 70,
   "id": "dc5fba6a-ed2e-422c-ae93-9fec8d854fd1",
   "metadata": {
    "scrolled": true
   },
   "outputs": [
    {
     "data": {
      "application/vnd.plotly.v1+json": {
       "config": {
        "plotlyServerURL": "https://plot.ly"
       },
       "data": [
        {
         "name": "Chennai Super Kings",
         "orientation": "h",
         "type": "bar",
         "x": [
          1,
          6
         ],
         "y": [
          "bat",
          "bowl"
         ]
        },
        {
         "name": "Delhi Capitals",
         "orientation": "h",
         "type": "bar",
         "x": [
          1,
          6
         ],
         "y": [
          "bat",
          "bowl"
         ]
        },
        {
         "name": "Gujarat Titans",
         "orientation": "h",
         "type": "bar",
         "x": [
          2,
          6
         ],
         "y": [
          "bat",
          "bowl"
         ]
        },
        {
         "name": "Kolkata Knight Riders",
         "orientation": "h",
         "type": "bar",
         "x": [
          3,
          4
         ],
         "y": [
          "bat",
          "bowl"
         ]
        },
        {
         "name": "Lucknow Super Giants",
         "orientation": "h",
         "type": "bar",
         "x": [
          0,
          7
         ],
         "y": [
          "bat",
          "bowl"
         ]
        },
        {
         "name": "Mumbai Indians",
         "orientation": "h",
         "type": "bar",
         "x": [
          0,
          7
         ],
         "y": [
          "bat",
          "bowl"
         ]
        },
        {
         "name": "Punjab Kings",
         "orientation": "h",
         "type": "bar",
         "x": [
          2,
          7
         ],
         "y": [
          "bat",
          "bowl"
         ]
        },
        {
         "name": "Rajasthan Royals",
         "orientation": "h",
         "type": "bar",
         "x": [
          2,
          5
         ],
         "y": [
          "bat",
          "bowl"
         ]
        },
        {
         "name": "Royal Challengers Bengaluru",
         "orientation": "h",
         "type": "bar",
         "x": [
          0,
          7
         ],
         "y": [
          "bat",
          "bowl"
         ]
        },
        {
         "name": "Sunrisers Hyderabad",
         "orientation": "h",
         "type": "bar",
         "x": [
          2,
          5
         ],
         "y": [
          "bat",
          "bowl"
         ]
        }
       ],
       "layout": {
        "barmode": "stack",
        "legend": {
         "title": {
          "text": "Team1"
         }
        },
        "template": {
         "data": {
          "bar": [
           {
            "error_x": {
             "color": "#2a3f5f"
            },
            "error_y": {
             "color": "#2a3f5f"
            },
            "marker": {
             "line": {
              "color": "#E5ECF6",
              "width": 0.5
             },
             "pattern": {
              "fillmode": "overlay",
              "size": 10,
              "solidity": 0.2
             }
            },
            "type": "bar"
           }
          ],
          "barpolar": [
           {
            "marker": {
             "line": {
              "color": "#E5ECF6",
              "width": 0.5
             },
             "pattern": {
              "fillmode": "overlay",
              "size": 10,
              "solidity": 0.2
             }
            },
            "type": "barpolar"
           }
          ],
          "carpet": [
           {
            "aaxis": {
             "endlinecolor": "#2a3f5f",
             "gridcolor": "white",
             "linecolor": "white",
             "minorgridcolor": "white",
             "startlinecolor": "#2a3f5f"
            },
            "baxis": {
             "endlinecolor": "#2a3f5f",
             "gridcolor": "white",
             "linecolor": "white",
             "minorgridcolor": "white",
             "startlinecolor": "#2a3f5f"
            },
            "type": "carpet"
           }
          ],
          "choropleth": [
           {
            "colorbar": {
             "outlinewidth": 0,
             "ticks": ""
            },
            "type": "choropleth"
           }
          ],
          "contour": [
           {
            "colorbar": {
             "outlinewidth": 0,
             "ticks": ""
            },
            "colorscale": [
             [
              0,
              "#0d0887"
             ],
             [
              0.1111111111111111,
              "#46039f"
             ],
             [
              0.2222222222222222,
              "#7201a8"
             ],
             [
              0.3333333333333333,
              "#9c179e"
             ],
             [
              0.4444444444444444,
              "#bd3786"
             ],
             [
              0.5555555555555556,
              "#d8576b"
             ],
             [
              0.6666666666666666,
              "#ed7953"
             ],
             [
              0.7777777777777778,
              "#fb9f3a"
             ],
             [
              0.8888888888888888,
              "#fdca26"
             ],
             [
              1,
              "#f0f921"
             ]
            ],
            "type": "contour"
           }
          ],
          "contourcarpet": [
           {
            "colorbar": {
             "outlinewidth": 0,
             "ticks": ""
            },
            "type": "contourcarpet"
           }
          ],
          "heatmap": [
           {
            "colorbar": {
             "outlinewidth": 0,
             "ticks": ""
            },
            "colorscale": [
             [
              0,
              "#0d0887"
             ],
             [
              0.1111111111111111,
              "#46039f"
             ],
             [
              0.2222222222222222,
              "#7201a8"
             ],
             [
              0.3333333333333333,
              "#9c179e"
             ],
             [
              0.4444444444444444,
              "#bd3786"
             ],
             [
              0.5555555555555556,
              "#d8576b"
             ],
             [
              0.6666666666666666,
              "#ed7953"
             ],
             [
              0.7777777777777778,
              "#fb9f3a"
             ],
             [
              0.8888888888888888,
              "#fdca26"
             ],
             [
              1,
              "#f0f921"
             ]
            ],
            "type": "heatmap"
           }
          ],
          "heatmapgl": [
           {
            "colorbar": {
             "outlinewidth": 0,
             "ticks": ""
            },
            "colorscale": [
             [
              0,
              "#0d0887"
             ],
             [
              0.1111111111111111,
              "#46039f"
             ],
             [
              0.2222222222222222,
              "#7201a8"
             ],
             [
              0.3333333333333333,
              "#9c179e"
             ],
             [
              0.4444444444444444,
              "#bd3786"
             ],
             [
              0.5555555555555556,
              "#d8576b"
             ],
             [
              0.6666666666666666,
              "#ed7953"
             ],
             [
              0.7777777777777778,
              "#fb9f3a"
             ],
             [
              0.8888888888888888,
              "#fdca26"
             ],
             [
              1,
              "#f0f921"
             ]
            ],
            "type": "heatmapgl"
           }
          ],
          "histogram": [
           {
            "marker": {
             "pattern": {
              "fillmode": "overlay",
              "size": 10,
              "solidity": 0.2
             }
            },
            "type": "histogram"
           }
          ],
          "histogram2d": [
           {
            "colorbar": {
             "outlinewidth": 0,
             "ticks": ""
            },
            "colorscale": [
             [
              0,
              "#0d0887"
             ],
             [
              0.1111111111111111,
              "#46039f"
             ],
             [
              0.2222222222222222,
              "#7201a8"
             ],
             [
              0.3333333333333333,
              "#9c179e"
             ],
             [
              0.4444444444444444,
              "#bd3786"
             ],
             [
              0.5555555555555556,
              "#d8576b"
             ],
             [
              0.6666666666666666,
              "#ed7953"
             ],
             [
              0.7777777777777778,
              "#fb9f3a"
             ],
             [
              0.8888888888888888,
              "#fdca26"
             ],
             [
              1,
              "#f0f921"
             ]
            ],
            "type": "histogram2d"
           }
          ],
          "histogram2dcontour": [
           {
            "colorbar": {
             "outlinewidth": 0,
             "ticks": ""
            },
            "colorscale": [
             [
              0,
              "#0d0887"
             ],
             [
              0.1111111111111111,
              "#46039f"
             ],
             [
              0.2222222222222222,
              "#7201a8"
             ],
             [
              0.3333333333333333,
              "#9c179e"
             ],
             [
              0.4444444444444444,
              "#bd3786"
             ],
             [
              0.5555555555555556,
              "#d8576b"
             ],
             [
              0.6666666666666666,
              "#ed7953"
             ],
             [
              0.7777777777777778,
              "#fb9f3a"
             ],
             [
              0.8888888888888888,
              "#fdca26"
             ],
             [
              1,
              "#f0f921"
             ]
            ],
            "type": "histogram2dcontour"
           }
          ],
          "mesh3d": [
           {
            "colorbar": {
             "outlinewidth": 0,
             "ticks": ""
            },
            "type": "mesh3d"
           }
          ],
          "parcoords": [
           {
            "line": {
             "colorbar": {
              "outlinewidth": 0,
              "ticks": ""
             }
            },
            "type": "parcoords"
           }
          ],
          "pie": [
           {
            "automargin": true,
            "type": "pie"
           }
          ],
          "scatter": [
           {
            "fillpattern": {
             "fillmode": "overlay",
             "size": 10,
             "solidity": 0.2
            },
            "type": "scatter"
           }
          ],
          "scatter3d": [
           {
            "line": {
             "colorbar": {
              "outlinewidth": 0,
              "ticks": ""
             }
            },
            "marker": {
             "colorbar": {
              "outlinewidth": 0,
              "ticks": ""
             }
            },
            "type": "scatter3d"
           }
          ],
          "scattercarpet": [
           {
            "marker": {
             "colorbar": {
              "outlinewidth": 0,
              "ticks": ""
             }
            },
            "type": "scattercarpet"
           }
          ],
          "scattergeo": [
           {
            "marker": {
             "colorbar": {
              "outlinewidth": 0,
              "ticks": ""
             }
            },
            "type": "scattergeo"
           }
          ],
          "scattergl": [
           {
            "marker": {
             "colorbar": {
              "outlinewidth": 0,
              "ticks": ""
             }
            },
            "type": "scattergl"
           }
          ],
          "scattermapbox": [
           {
            "marker": {
             "colorbar": {
              "outlinewidth": 0,
              "ticks": ""
             }
            },
            "type": "scattermapbox"
           }
          ],
          "scatterpolar": [
           {
            "marker": {
             "colorbar": {
              "outlinewidth": 0,
              "ticks": ""
             }
            },
            "type": "scatterpolar"
           }
          ],
          "scatterpolargl": [
           {
            "marker": {
             "colorbar": {
              "outlinewidth": 0,
              "ticks": ""
             }
            },
            "type": "scatterpolargl"
           }
          ],
          "scatterternary": [
           {
            "marker": {
             "colorbar": {
              "outlinewidth": 0,
              "ticks": ""
             }
            },
            "type": "scatterternary"
           }
          ],
          "surface": [
           {
            "colorbar": {
             "outlinewidth": 0,
             "ticks": ""
            },
            "colorscale": [
             [
              0,
              "#0d0887"
             ],
             [
              0.1111111111111111,
              "#46039f"
             ],
             [
              0.2222222222222222,
              "#7201a8"
             ],
             [
              0.3333333333333333,
              "#9c179e"
             ],
             [
              0.4444444444444444,
              "#bd3786"
             ],
             [
              0.5555555555555556,
              "#d8576b"
             ],
             [
              0.6666666666666666,
              "#ed7953"
             ],
             [
              0.7777777777777778,
              "#fb9f3a"
             ],
             [
              0.8888888888888888,
              "#fdca26"
             ],
             [
              1,
              "#f0f921"
             ]
            ],
            "type": "surface"
           }
          ],
          "table": [
           {
            "cells": {
             "fill": {
              "color": "#EBF0F8"
             },
             "line": {
              "color": "white"
             }
            },
            "header": {
             "fill": {
              "color": "#C8D4E3"
             },
             "line": {
              "color": "white"
             }
            },
            "type": "table"
           }
          ]
         },
         "layout": {
          "annotationdefaults": {
           "arrowcolor": "#2a3f5f",
           "arrowhead": 0,
           "arrowwidth": 1
          },
          "autotypenumbers": "strict",
          "coloraxis": {
           "colorbar": {
            "outlinewidth": 0,
            "ticks": ""
           }
          },
          "colorscale": {
           "diverging": [
            [
             0,
             "#8e0152"
            ],
            [
             0.1,
             "#c51b7d"
            ],
            [
             0.2,
             "#de77ae"
            ],
            [
             0.3,
             "#f1b6da"
            ],
            [
             0.4,
             "#fde0ef"
            ],
            [
             0.5,
             "#f7f7f7"
            ],
            [
             0.6,
             "#e6f5d0"
            ],
            [
             0.7,
             "#b8e186"
            ],
            [
             0.8,
             "#7fbc41"
            ],
            [
             0.9,
             "#4d9221"
            ],
            [
             1,
             "#276419"
            ]
           ],
           "sequential": [
            [
             0,
             "#0d0887"
            ],
            [
             0.1111111111111111,
             "#46039f"
            ],
            [
             0.2222222222222222,
             "#7201a8"
            ],
            [
             0.3333333333333333,
             "#9c179e"
            ],
            [
             0.4444444444444444,
             "#bd3786"
            ],
            [
             0.5555555555555556,
             "#d8576b"
            ],
            [
             0.6666666666666666,
             "#ed7953"
            ],
            [
             0.7777777777777778,
             "#fb9f3a"
            ],
            [
             0.8888888888888888,
             "#fdca26"
            ],
            [
             1,
             "#f0f921"
            ]
           ],
           "sequentialminus": [
            [
             0,
             "#0d0887"
            ],
            [
             0.1111111111111111,
             "#46039f"
            ],
            [
             0.2222222222222222,
             "#7201a8"
            ],
            [
             0.3333333333333333,
             "#9c179e"
            ],
            [
             0.4444444444444444,
             "#bd3786"
            ],
            [
             0.5555555555555556,
             "#d8576b"
            ],
            [
             0.6666666666666666,
             "#ed7953"
            ],
            [
             0.7777777777777778,
             "#fb9f3a"
            ],
            [
             0.8888888888888888,
             "#fdca26"
            ],
            [
             1,
             "#f0f921"
            ]
           ]
          },
          "colorway": [
           "#636efa",
           "#EF553B",
           "#00cc96",
           "#ab63fa",
           "#FFA15A",
           "#19d3f3",
           "#FF6692",
           "#B6E880",
           "#FF97FF",
           "#FECB52"
          ],
          "font": {
           "color": "#2a3f5f"
          },
          "geo": {
           "bgcolor": "white",
           "lakecolor": "white",
           "landcolor": "#E5ECF6",
           "showlakes": true,
           "showland": true,
           "subunitcolor": "white"
          },
          "hoverlabel": {
           "align": "left"
          },
          "hovermode": "closest",
          "mapbox": {
           "style": "light"
          },
          "paper_bgcolor": "white",
          "plot_bgcolor": "#E5ECF6",
          "polar": {
           "angularaxis": {
            "gridcolor": "white",
            "linecolor": "white",
            "ticks": ""
           },
           "bgcolor": "#E5ECF6",
           "radialaxis": {
            "gridcolor": "white",
            "linecolor": "white",
            "ticks": ""
           }
          },
          "scene": {
           "xaxis": {
            "backgroundcolor": "#E5ECF6",
            "gridcolor": "white",
            "gridwidth": 2,
            "linecolor": "white",
            "showbackground": true,
            "ticks": "",
            "zerolinecolor": "white"
           },
           "yaxis": {
            "backgroundcolor": "#E5ECF6",
            "gridcolor": "white",
            "gridwidth": 2,
            "linecolor": "white",
            "showbackground": true,
            "ticks": "",
            "zerolinecolor": "white"
           },
           "zaxis": {
            "backgroundcolor": "#E5ECF6",
            "gridcolor": "white",
            "gridwidth": 2,
            "linecolor": "white",
            "showbackground": true,
            "ticks": "",
            "zerolinecolor": "white"
           }
          },
          "shapedefaults": {
           "line": {
            "color": "#2a3f5f"
           }
          },
          "ternary": {
           "aaxis": {
            "gridcolor": "white",
            "linecolor": "white",
            "ticks": ""
           },
           "baxis": {
            "gridcolor": "white",
            "linecolor": "white",
            "ticks": ""
           },
           "bgcolor": "#E5ECF6",
           "caxis": {
            "gridcolor": "white",
            "linecolor": "white",
            "ticks": ""
           }
          },
          "title": {
           "x": 0.05
          },
          "xaxis": {
           "automargin": true,
           "gridcolor": "white",
           "linecolor": "white",
           "ticks": "",
           "title": {
            "standoff": 15
           },
           "zerolinecolor": "white",
           "zerolinewidth": 2
          },
          "yaxis": {
           "automargin": true,
           "gridcolor": "white",
           "linecolor": "white",
           "ticks": "",
           "title": {
            "standoff": 15
           },
           "zerolinecolor": "white",
           "zerolinewidth": 2
          }
         }
        },
        "title": {
         "text": "Toss Choices by Each Team"
        },
        "xaxis": {
         "title": {
          "text": "Count"
         }
        },
        "yaxis": {
         "title": {
          "text": "Toss Choice"
         }
        }
       }
      }
     },
     "metadata": {},
     "output_type": "display_data"
    }
   ],
   "source": [
    "team1 = pd.crosstab(index=ds.tossChoice, columns=ds.Team1)\n",
    "\n",
    "fig = go.Figure()\n",
    "\n",
    "for team in team1.columns:\n",
    "    fig.add_trace(go.Bar(\n",
    "        y=team1.index,        \n",
    "        x=team1[team],        \n",
    "        name=team,\n",
    "        orientation='h'       \n",
    "    ))\n",
    "\n",
    "fig.update_layout(\n",
    "    barmode='stack',\n",
    "    title='Toss Choices by Each Team',\n",
    "    xaxis_title='Count',\n",
    "    yaxis_title='Toss Choice',\n",
    "    legend_title='Team1'\n",
    ")\n",
    "\n",
    "fig.show()\n",
    "\n"
   ]
  },
  {
   "cell_type": "code",
   "execution_count": 116,
   "id": "1d55a00b",
   "metadata": {},
   "outputs": [
    {
     "data": {
      "application/vnd.plotly.v1+json": {
       "config": {
        "plotlyServerURL": "https://plot.ly"
       },
       "data": [
        {
         "marker": {
          "color": "#000004"
         },
         "name": "Chennai Super Kings",
         "type": "bar",
         "x": [
          "bat",
          "bowl"
         ],
         "y": [
          1,
          6
         ]
        },
        {
         "marker": {
          "color": "#1b0c41"
         },
         "name": "Delhi Capitals",
         "type": "bar",
         "x": [
          "bat",
          "bowl"
         ],
         "y": [
          1,
          6
         ]
        },
        {
         "marker": {
          "color": "#4a0c6b"
         },
         "name": "Gujarat Titans",
         "type": "bar",
         "x": [
          "bat",
          "bowl"
         ],
         "y": [
          2,
          6
         ]
        },
        {
         "marker": {
          "color": "#781c6d"
         },
         "name": "Kolkata Knight Riders",
         "type": "bar",
         "x": [
          "bat",
          "bowl"
         ],
         "y": [
          3,
          4
         ]
        },
        {
         "marker": {
          "color": "#a52c60"
         },
         "name": "Lucknow Super Giants",
         "type": "bar",
         "x": [
          "bat",
          "bowl"
         ],
         "y": [
          0,
          7
         ]
        },
        {
         "marker": {
          "color": "#cf4446"
         },
         "name": "Mumbai Indians",
         "type": "bar",
         "x": [
          "bat",
          "bowl"
         ],
         "y": [
          0,
          7
         ]
        },
        {
         "marker": {
          "color": "#ed6925"
         },
         "name": "Punjab Kings",
         "type": "bar",
         "x": [
          "bat",
          "bowl"
         ],
         "y": [
          2,
          7
         ]
        },
        {
         "marker": {
          "color": "#fb9b06"
         },
         "name": "Rajasthan Royals",
         "type": "bar",
         "x": [
          "bat",
          "bowl"
         ],
         "y": [
          2,
          5
         ]
        },
        {
         "marker": {
          "color": "#f7d13d"
         },
         "name": "Royal Challengers Bengaluru",
         "type": "bar",
         "x": [
          "bat",
          "bowl"
         ],
         "y": [
          0,
          7
         ]
        },
        {
         "marker": {
          "color": "#fcffa4"
         },
         "name": "Sunrisers Hyderabad",
         "type": "bar",
         "x": [
          "bat",
          "bowl"
         ],
         "y": [
          2,
          5
         ]
        }
       ],
       "layout": {
        "barmode": "stack",
        "legend": {
         "title": {
          "text": "Team1"
         }
        },
        "template": {
         "data": {
          "bar": [
           {
            "error_x": {
             "color": "#2a3f5f"
            },
            "error_y": {
             "color": "#2a3f5f"
            },
            "marker": {
             "line": {
              "color": "#E5ECF6",
              "width": 0.5
             },
             "pattern": {
              "fillmode": "overlay",
              "size": 10,
              "solidity": 0.2
             }
            },
            "type": "bar"
           }
          ],
          "barpolar": [
           {
            "marker": {
             "line": {
              "color": "#E5ECF6",
              "width": 0.5
             },
             "pattern": {
              "fillmode": "overlay",
              "size": 10,
              "solidity": 0.2
             }
            },
            "type": "barpolar"
           }
          ],
          "carpet": [
           {
            "aaxis": {
             "endlinecolor": "#2a3f5f",
             "gridcolor": "white",
             "linecolor": "white",
             "minorgridcolor": "white",
             "startlinecolor": "#2a3f5f"
            },
            "baxis": {
             "endlinecolor": "#2a3f5f",
             "gridcolor": "white",
             "linecolor": "white",
             "minorgridcolor": "white",
             "startlinecolor": "#2a3f5f"
            },
            "type": "carpet"
           }
          ],
          "choropleth": [
           {
            "colorbar": {
             "outlinewidth": 0,
             "ticks": ""
            },
            "type": "choropleth"
           }
          ],
          "contour": [
           {
            "colorbar": {
             "outlinewidth": 0,
             "ticks": ""
            },
            "colorscale": [
             [
              0,
              "#0d0887"
             ],
             [
              0.1111111111111111,
              "#46039f"
             ],
             [
              0.2222222222222222,
              "#7201a8"
             ],
             [
              0.3333333333333333,
              "#9c179e"
             ],
             [
              0.4444444444444444,
              "#bd3786"
             ],
             [
              0.5555555555555556,
              "#d8576b"
             ],
             [
              0.6666666666666666,
              "#ed7953"
             ],
             [
              0.7777777777777778,
              "#fb9f3a"
             ],
             [
              0.8888888888888888,
              "#fdca26"
             ],
             [
              1,
              "#f0f921"
             ]
            ],
            "type": "contour"
           }
          ],
          "contourcarpet": [
           {
            "colorbar": {
             "outlinewidth": 0,
             "ticks": ""
            },
            "type": "contourcarpet"
           }
          ],
          "heatmap": [
           {
            "colorbar": {
             "outlinewidth": 0,
             "ticks": ""
            },
            "colorscale": [
             [
              0,
              "#0d0887"
             ],
             [
              0.1111111111111111,
              "#46039f"
             ],
             [
              0.2222222222222222,
              "#7201a8"
             ],
             [
              0.3333333333333333,
              "#9c179e"
             ],
             [
              0.4444444444444444,
              "#bd3786"
             ],
             [
              0.5555555555555556,
              "#d8576b"
             ],
             [
              0.6666666666666666,
              "#ed7953"
             ],
             [
              0.7777777777777778,
              "#fb9f3a"
             ],
             [
              0.8888888888888888,
              "#fdca26"
             ],
             [
              1,
              "#f0f921"
             ]
            ],
            "type": "heatmap"
           }
          ],
          "heatmapgl": [
           {
            "colorbar": {
             "outlinewidth": 0,
             "ticks": ""
            },
            "colorscale": [
             [
              0,
              "#0d0887"
             ],
             [
              0.1111111111111111,
              "#46039f"
             ],
             [
              0.2222222222222222,
              "#7201a8"
             ],
             [
              0.3333333333333333,
              "#9c179e"
             ],
             [
              0.4444444444444444,
              "#bd3786"
             ],
             [
              0.5555555555555556,
              "#d8576b"
             ],
             [
              0.6666666666666666,
              "#ed7953"
             ],
             [
              0.7777777777777778,
              "#fb9f3a"
             ],
             [
              0.8888888888888888,
              "#fdca26"
             ],
             [
              1,
              "#f0f921"
             ]
            ],
            "type": "heatmapgl"
           }
          ],
          "histogram": [
           {
            "marker": {
             "pattern": {
              "fillmode": "overlay",
              "size": 10,
              "solidity": 0.2
             }
            },
            "type": "histogram"
           }
          ],
          "histogram2d": [
           {
            "colorbar": {
             "outlinewidth": 0,
             "ticks": ""
            },
            "colorscale": [
             [
              0,
              "#0d0887"
             ],
             [
              0.1111111111111111,
              "#46039f"
             ],
             [
              0.2222222222222222,
              "#7201a8"
             ],
             [
              0.3333333333333333,
              "#9c179e"
             ],
             [
              0.4444444444444444,
              "#bd3786"
             ],
             [
              0.5555555555555556,
              "#d8576b"
             ],
             [
              0.6666666666666666,
              "#ed7953"
             ],
             [
              0.7777777777777778,
              "#fb9f3a"
             ],
             [
              0.8888888888888888,
              "#fdca26"
             ],
             [
              1,
              "#f0f921"
             ]
            ],
            "type": "histogram2d"
           }
          ],
          "histogram2dcontour": [
           {
            "colorbar": {
             "outlinewidth": 0,
             "ticks": ""
            },
            "colorscale": [
             [
              0,
              "#0d0887"
             ],
             [
              0.1111111111111111,
              "#46039f"
             ],
             [
              0.2222222222222222,
              "#7201a8"
             ],
             [
              0.3333333333333333,
              "#9c179e"
             ],
             [
              0.4444444444444444,
              "#bd3786"
             ],
             [
              0.5555555555555556,
              "#d8576b"
             ],
             [
              0.6666666666666666,
              "#ed7953"
             ],
             [
              0.7777777777777778,
              "#fb9f3a"
             ],
             [
              0.8888888888888888,
              "#fdca26"
             ],
             [
              1,
              "#f0f921"
             ]
            ],
            "type": "histogram2dcontour"
           }
          ],
          "mesh3d": [
           {
            "colorbar": {
             "outlinewidth": 0,
             "ticks": ""
            },
            "type": "mesh3d"
           }
          ],
          "parcoords": [
           {
            "line": {
             "colorbar": {
              "outlinewidth": 0,
              "ticks": ""
             }
            },
            "type": "parcoords"
           }
          ],
          "pie": [
           {
            "automargin": true,
            "type": "pie"
           }
          ],
          "scatter": [
           {
            "fillpattern": {
             "fillmode": "overlay",
             "size": 10,
             "solidity": 0.2
            },
            "type": "scatter"
           }
          ],
          "scatter3d": [
           {
            "line": {
             "colorbar": {
              "outlinewidth": 0,
              "ticks": ""
             }
            },
            "marker": {
             "colorbar": {
              "outlinewidth": 0,
              "ticks": ""
             }
            },
            "type": "scatter3d"
           }
          ],
          "scattercarpet": [
           {
            "marker": {
             "colorbar": {
              "outlinewidth": 0,
              "ticks": ""
             }
            },
            "type": "scattercarpet"
           }
          ],
          "scattergeo": [
           {
            "marker": {
             "colorbar": {
              "outlinewidth": 0,
              "ticks": ""
             }
            },
            "type": "scattergeo"
           }
          ],
          "scattergl": [
           {
            "marker": {
             "colorbar": {
              "outlinewidth": 0,
              "ticks": ""
             }
            },
            "type": "scattergl"
           }
          ],
          "scattermapbox": [
           {
            "marker": {
             "colorbar": {
              "outlinewidth": 0,
              "ticks": ""
             }
            },
            "type": "scattermapbox"
           }
          ],
          "scatterpolar": [
           {
            "marker": {
             "colorbar": {
              "outlinewidth": 0,
              "ticks": ""
             }
            },
            "type": "scatterpolar"
           }
          ],
          "scatterpolargl": [
           {
            "marker": {
             "colorbar": {
              "outlinewidth": 0,
              "ticks": ""
             }
            },
            "type": "scatterpolargl"
           }
          ],
          "scatterternary": [
           {
            "marker": {
             "colorbar": {
              "outlinewidth": 0,
              "ticks": ""
             }
            },
            "type": "scatterternary"
           }
          ],
          "surface": [
           {
            "colorbar": {
             "outlinewidth": 0,
             "ticks": ""
            },
            "colorscale": [
             [
              0,
              "#0d0887"
             ],
             [
              0.1111111111111111,
              "#46039f"
             ],
             [
              0.2222222222222222,
              "#7201a8"
             ],
             [
              0.3333333333333333,
              "#9c179e"
             ],
             [
              0.4444444444444444,
              "#bd3786"
             ],
             [
              0.5555555555555556,
              "#d8576b"
             ],
             [
              0.6666666666666666,
              "#ed7953"
             ],
             [
              0.7777777777777778,
              "#fb9f3a"
             ],
             [
              0.8888888888888888,
              "#fdca26"
             ],
             [
              1,
              "#f0f921"
             ]
            ],
            "type": "surface"
           }
          ],
          "table": [
           {
            "cells": {
             "fill": {
              "color": "#EBF0F8"
             },
             "line": {
              "color": "white"
             }
            },
            "header": {
             "fill": {
              "color": "#C8D4E3"
             },
             "line": {
              "color": "white"
             }
            },
            "type": "table"
           }
          ]
         },
         "layout": {
          "annotationdefaults": {
           "arrowcolor": "#2a3f5f",
           "arrowhead": 0,
           "arrowwidth": 1
          },
          "autotypenumbers": "strict",
          "coloraxis": {
           "colorbar": {
            "outlinewidth": 0,
            "ticks": ""
           }
          },
          "colorscale": {
           "diverging": [
            [
             0,
             "#8e0152"
            ],
            [
             0.1,
             "#c51b7d"
            ],
            [
             0.2,
             "#de77ae"
            ],
            [
             0.3,
             "#f1b6da"
            ],
            [
             0.4,
             "#fde0ef"
            ],
            [
             0.5,
             "#f7f7f7"
            ],
            [
             0.6,
             "#e6f5d0"
            ],
            [
             0.7,
             "#b8e186"
            ],
            [
             0.8,
             "#7fbc41"
            ],
            [
             0.9,
             "#4d9221"
            ],
            [
             1,
             "#276419"
            ]
           ],
           "sequential": [
            [
             0,
             "#0d0887"
            ],
            [
             0.1111111111111111,
             "#46039f"
            ],
            [
             0.2222222222222222,
             "#7201a8"
            ],
            [
             0.3333333333333333,
             "#9c179e"
            ],
            [
             0.4444444444444444,
             "#bd3786"
            ],
            [
             0.5555555555555556,
             "#d8576b"
            ],
            [
             0.6666666666666666,
             "#ed7953"
            ],
            [
             0.7777777777777778,
             "#fb9f3a"
            ],
            [
             0.8888888888888888,
             "#fdca26"
            ],
            [
             1,
             "#f0f921"
            ]
           ],
           "sequentialminus": [
            [
             0,
             "#0d0887"
            ],
            [
             0.1111111111111111,
             "#46039f"
            ],
            [
             0.2222222222222222,
             "#7201a8"
            ],
            [
             0.3333333333333333,
             "#9c179e"
            ],
            [
             0.4444444444444444,
             "#bd3786"
            ],
            [
             0.5555555555555556,
             "#d8576b"
            ],
            [
             0.6666666666666666,
             "#ed7953"
            ],
            [
             0.7777777777777778,
             "#fb9f3a"
            ],
            [
             0.8888888888888888,
             "#fdca26"
            ],
            [
             1,
             "#f0f921"
            ]
           ]
          },
          "colorway": [
           "#636efa",
           "#EF553B",
           "#00cc96",
           "#ab63fa",
           "#FFA15A",
           "#19d3f3",
           "#FF6692",
           "#B6E880",
           "#FF97FF",
           "#FECB52"
          ],
          "font": {
           "color": "#2a3f5f"
          },
          "geo": {
           "bgcolor": "white",
           "lakecolor": "white",
           "landcolor": "#E5ECF6",
           "showlakes": true,
           "showland": true,
           "subunitcolor": "white"
          },
          "hoverlabel": {
           "align": "left"
          },
          "hovermode": "closest",
          "mapbox": {
           "style": "light"
          },
          "paper_bgcolor": "white",
          "plot_bgcolor": "#E5ECF6",
          "polar": {
           "angularaxis": {
            "gridcolor": "white",
            "linecolor": "white",
            "ticks": ""
           },
           "bgcolor": "#E5ECF6",
           "radialaxis": {
            "gridcolor": "white",
            "linecolor": "white",
            "ticks": ""
           }
          },
          "scene": {
           "xaxis": {
            "backgroundcolor": "#E5ECF6",
            "gridcolor": "white",
            "gridwidth": 2,
            "linecolor": "white",
            "showbackground": true,
            "ticks": "",
            "zerolinecolor": "white"
           },
           "yaxis": {
            "backgroundcolor": "#E5ECF6",
            "gridcolor": "white",
            "gridwidth": 2,
            "linecolor": "white",
            "showbackground": true,
            "ticks": "",
            "zerolinecolor": "white"
           },
           "zaxis": {
            "backgroundcolor": "#E5ECF6",
            "gridcolor": "white",
            "gridwidth": 2,
            "linecolor": "white",
            "showbackground": true,
            "ticks": "",
            "zerolinecolor": "white"
           }
          },
          "shapedefaults": {
           "line": {
            "color": "#2a3f5f"
           }
          },
          "ternary": {
           "aaxis": {
            "gridcolor": "white",
            "linecolor": "white",
            "ticks": ""
           },
           "baxis": {
            "gridcolor": "white",
            "linecolor": "white",
            "ticks": ""
           },
           "bgcolor": "#E5ECF6",
           "caxis": {
            "gridcolor": "white",
            "linecolor": "white",
            "ticks": ""
           }
          },
          "title": {
           "x": 0.05
          },
          "xaxis": {
           "automargin": true,
           "gridcolor": "white",
           "linecolor": "white",
           "ticks": "",
           "title": {
            "standoff": 15
           },
           "zerolinecolor": "white",
           "zerolinewidth": 2
          },
          "yaxis": {
           "automargin": true,
           "gridcolor": "white",
           "linecolor": "white",
           "ticks": "",
           "title": {
            "standoff": 15
           },
           "zerolinecolor": "white",
           "zerolinewidth": 2
          }
         }
        },
        "title": {
         "text": "Toss Choices by Each Team (Team1)"
        },
        "xaxis": {
         "title": {
          "text": "Toss Choice"
         }
        },
        "yaxis": {
         "title": {
          "text": "Count"
         }
        }
       }
      }
     },
     "metadata": {},
     "output_type": "display_data"
    }
   ],
   "source": [
    "import pandas as pd\n",
    "import plotly.graph_objects as go\n",
    "import plotly.colors as pc\n",
    "\n",
    "# Create the crosstab\n",
    "team1 = pd.crosstab(index=ds.tossChoice, columns=ds.Team1)\n",
    "\n",
    "# Get team names\n",
    "teams = team1.columns.tolist()\n",
    "\n",
    "# Get Inferno color scale\n",
    "inferno_colors = pc.sequential.Inferno\n",
    "\n",
    "# Map each team to a color\n",
    "color_map = {team: inferno_colors[i % len(inferno_colors)] for i, team in enumerate(teams)}\n",
    "\n",
    "# Create the figure\n",
    "fig = go.Figure()\n",
    "\n",
    "# Add one bar trace per team with color from inferno\n",
    "for team in teams:\n",
    "    fig.add_trace(go.Bar(\n",
    "        x=team1.index,\n",
    "        y=team1[team],\n",
    "        name=team,\n",
    "        marker_color=color_map[team]  # use consistent Inferno color\n",
    "    ))\n",
    "\n",
    "# Update layout\n",
    "fig.update_layout(\n",
    "    barmode='stack',\n",
    "    title='Toss Choices by Each Team (Team1)',\n",
    "    xaxis_title='Toss Choice',\n",
    "    yaxis_title='Count',\n",
    "    legend_title='Team1'\n",
    ")\n",
    "\n",
    "fig.show()\n"
   ]
  },
  {
   "cell_type": "code",
   "execution_count": 114,
   "id": "d2eb303b",
   "metadata": {},
   "outputs": [
    {
     "data": {
      "text/html": [
       "<div>\n",
       "<style scoped>\n",
       "    .dataframe tbody tr th:only-of-type {\n",
       "        vertical-align: middle;\n",
       "    }\n",
       "\n",
       "    .dataframe tbody tr th {\n",
       "        vertical-align: top;\n",
       "    }\n",
       "\n",
       "    .dataframe thead th {\n",
       "        text-align: right;\n",
       "    }\n",
       "</style>\n",
       "<table border=\"1\" class=\"dataframe\">\n",
       "  <thead>\n",
       "    <tr style=\"text-align: right;\">\n",
       "      <th>Team1</th>\n",
       "      <th>Chennai Super Kings</th>\n",
       "      <th>Delhi Capitals</th>\n",
       "      <th>Gujarat Titans</th>\n",
       "      <th>Kolkata Knight Riders</th>\n",
       "      <th>Lucknow Super Giants</th>\n",
       "      <th>Mumbai Indians</th>\n",
       "      <th>Punjab Kings</th>\n",
       "      <th>Rajasthan Royals</th>\n",
       "      <th>Royal Challengers Bengaluru</th>\n",
       "      <th>Sunrisers Hyderabad</th>\n",
       "    </tr>\n",
       "    <tr>\n",
       "      <th>tossChoice</th>\n",
       "      <th></th>\n",
       "      <th></th>\n",
       "      <th></th>\n",
       "      <th></th>\n",
       "      <th></th>\n",
       "      <th></th>\n",
       "      <th></th>\n",
       "      <th></th>\n",
       "      <th></th>\n",
       "      <th></th>\n",
       "    </tr>\n",
       "  </thead>\n",
       "  <tbody>\n",
       "    <tr>\n",
       "      <th>bat</th>\n",
       "      <td>1</td>\n",
       "      <td>1</td>\n",
       "      <td>2</td>\n",
       "      <td>3</td>\n",
       "      <td>0</td>\n",
       "      <td>0</td>\n",
       "      <td>2</td>\n",
       "      <td>2</td>\n",
       "      <td>0</td>\n",
       "      <td>2</td>\n",
       "    </tr>\n",
       "    <tr>\n",
       "      <th>bowl</th>\n",
       "      <td>6</td>\n",
       "      <td>6</td>\n",
       "      <td>6</td>\n",
       "      <td>4</td>\n",
       "      <td>7</td>\n",
       "      <td>7</td>\n",
       "      <td>7</td>\n",
       "      <td>5</td>\n",
       "      <td>7</td>\n",
       "      <td>5</td>\n",
       "    </tr>\n",
       "  </tbody>\n",
       "</table>\n",
       "</div>"
      ],
      "text/plain": [
       "Team1       Chennai Super Kings  Delhi Capitals  Gujarat Titans  \\\n",
       "tossChoice                                                        \n",
       "bat                           1               1               2   \n",
       "bowl                          6               6               6   \n",
       "\n",
       "Team1       Kolkata Knight Riders  Lucknow Super Giants  Mumbai Indians  \\\n",
       "tossChoice                                                                \n",
       "bat                             3                     0               0   \n",
       "bowl                            4                     7               7   \n",
       "\n",
       "Team1       Punjab Kings  Rajasthan Royals  Royal Challengers Bengaluru  \\\n",
       "tossChoice                                                                \n",
       "bat                    2                 2                            0   \n",
       "bowl                   7                 5                            7   \n",
       "\n",
       "Team1       Sunrisers Hyderabad  \n",
       "tossChoice                       \n",
       "bat                           2  \n",
       "bowl                          5  "
      ]
     },
     "execution_count": 114,
     "metadata": {},
     "output_type": "execute_result"
    }
   ],
   "source": [
    "team1"
   ]
  },
  {
   "cell_type": "markdown",
   "id": "5ee26f5e-3afa-41e3-9c06-b3576349dfc1",
   "metadata": {},
   "source": [
    "team1\n",
    "This syntax visualizes the toss choice based on the first column, which represents(bat)"
   ]
  },
  {
   "cell_type": "code",
   "execution_count": 73,
   "id": "b35698a1-c41b-4715-8cb3-1928612399e1",
   "metadata": {
    "scrolled": true
   },
   "outputs": [
    {
     "data": {
      "application/vnd.plotly.v1+json": {
       "config": {
        "plotlyServerURL": "https://plot.ly"
       },
       "data": [
        {
         "labels": [
          "bat",
          "bowl"
         ],
         "type": "pie",
         "values": [
          1,
          6
         ]
        }
       ],
       "layout": {
        "template": {
         "data": {
          "bar": [
           {
            "error_x": {
             "color": "#2a3f5f"
            },
            "error_y": {
             "color": "#2a3f5f"
            },
            "marker": {
             "line": {
              "color": "#E5ECF6",
              "width": 0.5
             },
             "pattern": {
              "fillmode": "overlay",
              "size": 10,
              "solidity": 0.2
             }
            },
            "type": "bar"
           }
          ],
          "barpolar": [
           {
            "marker": {
             "line": {
              "color": "#E5ECF6",
              "width": 0.5
             },
             "pattern": {
              "fillmode": "overlay",
              "size": 10,
              "solidity": 0.2
             }
            },
            "type": "barpolar"
           }
          ],
          "carpet": [
           {
            "aaxis": {
             "endlinecolor": "#2a3f5f",
             "gridcolor": "white",
             "linecolor": "white",
             "minorgridcolor": "white",
             "startlinecolor": "#2a3f5f"
            },
            "baxis": {
             "endlinecolor": "#2a3f5f",
             "gridcolor": "white",
             "linecolor": "white",
             "minorgridcolor": "white",
             "startlinecolor": "#2a3f5f"
            },
            "type": "carpet"
           }
          ],
          "choropleth": [
           {
            "colorbar": {
             "outlinewidth": 0,
             "ticks": ""
            },
            "type": "choropleth"
           }
          ],
          "contour": [
           {
            "colorbar": {
             "outlinewidth": 0,
             "ticks": ""
            },
            "colorscale": [
             [
              0,
              "#0d0887"
             ],
             [
              0.1111111111111111,
              "#46039f"
             ],
             [
              0.2222222222222222,
              "#7201a8"
             ],
             [
              0.3333333333333333,
              "#9c179e"
             ],
             [
              0.4444444444444444,
              "#bd3786"
             ],
             [
              0.5555555555555556,
              "#d8576b"
             ],
             [
              0.6666666666666666,
              "#ed7953"
             ],
             [
              0.7777777777777778,
              "#fb9f3a"
             ],
             [
              0.8888888888888888,
              "#fdca26"
             ],
             [
              1,
              "#f0f921"
             ]
            ],
            "type": "contour"
           }
          ],
          "contourcarpet": [
           {
            "colorbar": {
             "outlinewidth": 0,
             "ticks": ""
            },
            "type": "contourcarpet"
           }
          ],
          "heatmap": [
           {
            "colorbar": {
             "outlinewidth": 0,
             "ticks": ""
            },
            "colorscale": [
             [
              0,
              "#0d0887"
             ],
             [
              0.1111111111111111,
              "#46039f"
             ],
             [
              0.2222222222222222,
              "#7201a8"
             ],
             [
              0.3333333333333333,
              "#9c179e"
             ],
             [
              0.4444444444444444,
              "#bd3786"
             ],
             [
              0.5555555555555556,
              "#d8576b"
             ],
             [
              0.6666666666666666,
              "#ed7953"
             ],
             [
              0.7777777777777778,
              "#fb9f3a"
             ],
             [
              0.8888888888888888,
              "#fdca26"
             ],
             [
              1,
              "#f0f921"
             ]
            ],
            "type": "heatmap"
           }
          ],
          "heatmapgl": [
           {
            "colorbar": {
             "outlinewidth": 0,
             "ticks": ""
            },
            "colorscale": [
             [
              0,
              "#0d0887"
             ],
             [
              0.1111111111111111,
              "#46039f"
             ],
             [
              0.2222222222222222,
              "#7201a8"
             ],
             [
              0.3333333333333333,
              "#9c179e"
             ],
             [
              0.4444444444444444,
              "#bd3786"
             ],
             [
              0.5555555555555556,
              "#d8576b"
             ],
             [
              0.6666666666666666,
              "#ed7953"
             ],
             [
              0.7777777777777778,
              "#fb9f3a"
             ],
             [
              0.8888888888888888,
              "#fdca26"
             ],
             [
              1,
              "#f0f921"
             ]
            ],
            "type": "heatmapgl"
           }
          ],
          "histogram": [
           {
            "marker": {
             "pattern": {
              "fillmode": "overlay",
              "size": 10,
              "solidity": 0.2
             }
            },
            "type": "histogram"
           }
          ],
          "histogram2d": [
           {
            "colorbar": {
             "outlinewidth": 0,
             "ticks": ""
            },
            "colorscale": [
             [
              0,
              "#0d0887"
             ],
             [
              0.1111111111111111,
              "#46039f"
             ],
             [
              0.2222222222222222,
              "#7201a8"
             ],
             [
              0.3333333333333333,
              "#9c179e"
             ],
             [
              0.4444444444444444,
              "#bd3786"
             ],
             [
              0.5555555555555556,
              "#d8576b"
             ],
             [
              0.6666666666666666,
              "#ed7953"
             ],
             [
              0.7777777777777778,
              "#fb9f3a"
             ],
             [
              0.8888888888888888,
              "#fdca26"
             ],
             [
              1,
              "#f0f921"
             ]
            ],
            "type": "histogram2d"
           }
          ],
          "histogram2dcontour": [
           {
            "colorbar": {
             "outlinewidth": 0,
             "ticks": ""
            },
            "colorscale": [
             [
              0,
              "#0d0887"
             ],
             [
              0.1111111111111111,
              "#46039f"
             ],
             [
              0.2222222222222222,
              "#7201a8"
             ],
             [
              0.3333333333333333,
              "#9c179e"
             ],
             [
              0.4444444444444444,
              "#bd3786"
             ],
             [
              0.5555555555555556,
              "#d8576b"
             ],
             [
              0.6666666666666666,
              "#ed7953"
             ],
             [
              0.7777777777777778,
              "#fb9f3a"
             ],
             [
              0.8888888888888888,
              "#fdca26"
             ],
             [
              1,
              "#f0f921"
             ]
            ],
            "type": "histogram2dcontour"
           }
          ],
          "mesh3d": [
           {
            "colorbar": {
             "outlinewidth": 0,
             "ticks": ""
            },
            "type": "mesh3d"
           }
          ],
          "parcoords": [
           {
            "line": {
             "colorbar": {
              "outlinewidth": 0,
              "ticks": ""
             }
            },
            "type": "parcoords"
           }
          ],
          "pie": [
           {
            "automargin": true,
            "type": "pie"
           }
          ],
          "scatter": [
           {
            "fillpattern": {
             "fillmode": "overlay",
             "size": 10,
             "solidity": 0.2
            },
            "type": "scatter"
           }
          ],
          "scatter3d": [
           {
            "line": {
             "colorbar": {
              "outlinewidth": 0,
              "ticks": ""
             }
            },
            "marker": {
             "colorbar": {
              "outlinewidth": 0,
              "ticks": ""
             }
            },
            "type": "scatter3d"
           }
          ],
          "scattercarpet": [
           {
            "marker": {
             "colorbar": {
              "outlinewidth": 0,
              "ticks": ""
             }
            },
            "type": "scattercarpet"
           }
          ],
          "scattergeo": [
           {
            "marker": {
             "colorbar": {
              "outlinewidth": 0,
              "ticks": ""
             }
            },
            "type": "scattergeo"
           }
          ],
          "scattergl": [
           {
            "marker": {
             "colorbar": {
              "outlinewidth": 0,
              "ticks": ""
             }
            },
            "type": "scattergl"
           }
          ],
          "scattermapbox": [
           {
            "marker": {
             "colorbar": {
              "outlinewidth": 0,
              "ticks": ""
             }
            },
            "type": "scattermapbox"
           }
          ],
          "scatterpolar": [
           {
            "marker": {
             "colorbar": {
              "outlinewidth": 0,
              "ticks": ""
             }
            },
            "type": "scatterpolar"
           }
          ],
          "scatterpolargl": [
           {
            "marker": {
             "colorbar": {
              "outlinewidth": 0,
              "ticks": ""
             }
            },
            "type": "scatterpolargl"
           }
          ],
          "scatterternary": [
           {
            "marker": {
             "colorbar": {
              "outlinewidth": 0,
              "ticks": ""
             }
            },
            "type": "scatterternary"
           }
          ],
          "surface": [
           {
            "colorbar": {
             "outlinewidth": 0,
             "ticks": ""
            },
            "colorscale": [
             [
              0,
              "#0d0887"
             ],
             [
              0.1111111111111111,
              "#46039f"
             ],
             [
              0.2222222222222222,
              "#7201a8"
             ],
             [
              0.3333333333333333,
              "#9c179e"
             ],
             [
              0.4444444444444444,
              "#bd3786"
             ],
             [
              0.5555555555555556,
              "#d8576b"
             ],
             [
              0.6666666666666666,
              "#ed7953"
             ],
             [
              0.7777777777777778,
              "#fb9f3a"
             ],
             [
              0.8888888888888888,
              "#fdca26"
             ],
             [
              1,
              "#f0f921"
             ]
            ],
            "type": "surface"
           }
          ],
          "table": [
           {
            "cells": {
             "fill": {
              "color": "#EBF0F8"
             },
             "line": {
              "color": "white"
             }
            },
            "header": {
             "fill": {
              "color": "#C8D4E3"
             },
             "line": {
              "color": "white"
             }
            },
            "type": "table"
           }
          ]
         },
         "layout": {
          "annotationdefaults": {
           "arrowcolor": "#2a3f5f",
           "arrowhead": 0,
           "arrowwidth": 1
          },
          "autotypenumbers": "strict",
          "coloraxis": {
           "colorbar": {
            "outlinewidth": 0,
            "ticks": ""
           }
          },
          "colorscale": {
           "diverging": [
            [
             0,
             "#8e0152"
            ],
            [
             0.1,
             "#c51b7d"
            ],
            [
             0.2,
             "#de77ae"
            ],
            [
             0.3,
             "#f1b6da"
            ],
            [
             0.4,
             "#fde0ef"
            ],
            [
             0.5,
             "#f7f7f7"
            ],
            [
             0.6,
             "#e6f5d0"
            ],
            [
             0.7,
             "#b8e186"
            ],
            [
             0.8,
             "#7fbc41"
            ],
            [
             0.9,
             "#4d9221"
            ],
            [
             1,
             "#276419"
            ]
           ],
           "sequential": [
            [
             0,
             "#0d0887"
            ],
            [
             0.1111111111111111,
             "#46039f"
            ],
            [
             0.2222222222222222,
             "#7201a8"
            ],
            [
             0.3333333333333333,
             "#9c179e"
            ],
            [
             0.4444444444444444,
             "#bd3786"
            ],
            [
             0.5555555555555556,
             "#d8576b"
            ],
            [
             0.6666666666666666,
             "#ed7953"
            ],
            [
             0.7777777777777778,
             "#fb9f3a"
            ],
            [
             0.8888888888888888,
             "#fdca26"
            ],
            [
             1,
             "#f0f921"
            ]
           ],
           "sequentialminus": [
            [
             0,
             "#0d0887"
            ],
            [
             0.1111111111111111,
             "#46039f"
            ],
            [
             0.2222222222222222,
             "#7201a8"
            ],
            [
             0.3333333333333333,
             "#9c179e"
            ],
            [
             0.4444444444444444,
             "#bd3786"
            ],
            [
             0.5555555555555556,
             "#d8576b"
            ],
            [
             0.6666666666666666,
             "#ed7953"
            ],
            [
             0.7777777777777778,
             "#fb9f3a"
            ],
            [
             0.8888888888888888,
             "#fdca26"
            ],
            [
             1,
             "#f0f921"
            ]
           ]
          },
          "colorway": [
           "#636efa",
           "#EF553B",
           "#00cc96",
           "#ab63fa",
           "#FFA15A",
           "#19d3f3",
           "#FF6692",
           "#B6E880",
           "#FF97FF",
           "#FECB52"
          ],
          "font": {
           "color": "#2a3f5f"
          },
          "geo": {
           "bgcolor": "white",
           "lakecolor": "white",
           "landcolor": "#E5ECF6",
           "showlakes": true,
           "showland": true,
           "subunitcolor": "white"
          },
          "hoverlabel": {
           "align": "left"
          },
          "hovermode": "closest",
          "mapbox": {
           "style": "light"
          },
          "paper_bgcolor": "white",
          "plot_bgcolor": "#E5ECF6",
          "polar": {
           "angularaxis": {
            "gridcolor": "white",
            "linecolor": "white",
            "ticks": ""
           },
           "bgcolor": "#E5ECF6",
           "radialaxis": {
            "gridcolor": "white",
            "linecolor": "white",
            "ticks": ""
           }
          },
          "scene": {
           "xaxis": {
            "backgroundcolor": "#E5ECF6",
            "gridcolor": "white",
            "gridwidth": 2,
            "linecolor": "white",
            "showbackground": true,
            "ticks": "",
            "zerolinecolor": "white"
           },
           "yaxis": {
            "backgroundcolor": "#E5ECF6",
            "gridcolor": "white",
            "gridwidth": 2,
            "linecolor": "white",
            "showbackground": true,
            "ticks": "",
            "zerolinecolor": "white"
           },
           "zaxis": {
            "backgroundcolor": "#E5ECF6",
            "gridcolor": "white",
            "gridwidth": 2,
            "linecolor": "white",
            "showbackground": true,
            "ticks": "",
            "zerolinecolor": "white"
           }
          },
          "shapedefaults": {
           "line": {
            "color": "#2a3f5f"
           }
          },
          "ternary": {
           "aaxis": {
            "gridcolor": "white",
            "linecolor": "white",
            "ticks": ""
           },
           "baxis": {
            "gridcolor": "white",
            "linecolor": "white",
            "ticks": ""
           },
           "bgcolor": "#E5ECF6",
           "caxis": {
            "gridcolor": "white",
            "linecolor": "white",
            "ticks": ""
           }
          },
          "title": {
           "x": 0.05
          },
          "xaxis": {
           "automargin": true,
           "gridcolor": "white",
           "linecolor": "white",
           "ticks": "",
           "title": {
            "standoff": 15
           },
           "zerolinecolor": "white",
           "zerolinewidth": 2
          },
          "yaxis": {
           "automargin": true,
           "gridcolor": "white",
           "linecolor": "white",
           "ticks": "",
           "title": {
            "standoff": 15
           },
           "zerolinecolor": "white",
           "zerolinewidth": 2
          }
         }
        }
       }
      }
     },
     "metadata": {},
     "output_type": "display_data"
    }
   ],
   "source": [
    "fig = go.Figure(data=[go.Pie(labels=team1.index, values=team1.iloc[:, 0])])\n",
    "fig.show()"
   ]
  },
  {
   "cell_type": "markdown",
   "id": "2df222b6-ce44-4bd3-8674-19a174f8dbe5",
   "metadata": {},
   "source": [
    "team1\n",
    "this syntax show the visualization tosschoice according second column basis(bowl)"
   ]
  },
  {
   "cell_type": "code",
   "execution_count": 74,
   "id": "b0a1b386-676c-4ce7-9c6f-8496b26fadbc",
   "metadata": {
    "scrolled": true
   },
   "outputs": [
    {
     "data": {
      "application/vnd.plotly.v1+json": {
       "config": {
        "plotlyServerURL": "https://plot.ly"
       },
       "data": [
        {
         "labels": [
          "bat",
          "bowl"
         ],
         "type": "pie",
         "values": [
          1,
          6
         ]
        }
       ],
       "layout": {
        "template": {
         "data": {
          "bar": [
           {
            "error_x": {
             "color": "#2a3f5f"
            },
            "error_y": {
             "color": "#2a3f5f"
            },
            "marker": {
             "line": {
              "color": "#E5ECF6",
              "width": 0.5
             },
             "pattern": {
              "fillmode": "overlay",
              "size": 10,
              "solidity": 0.2
             }
            },
            "type": "bar"
           }
          ],
          "barpolar": [
           {
            "marker": {
             "line": {
              "color": "#E5ECF6",
              "width": 0.5
             },
             "pattern": {
              "fillmode": "overlay",
              "size": 10,
              "solidity": 0.2
             }
            },
            "type": "barpolar"
           }
          ],
          "carpet": [
           {
            "aaxis": {
             "endlinecolor": "#2a3f5f",
             "gridcolor": "white",
             "linecolor": "white",
             "minorgridcolor": "white",
             "startlinecolor": "#2a3f5f"
            },
            "baxis": {
             "endlinecolor": "#2a3f5f",
             "gridcolor": "white",
             "linecolor": "white",
             "minorgridcolor": "white",
             "startlinecolor": "#2a3f5f"
            },
            "type": "carpet"
           }
          ],
          "choropleth": [
           {
            "colorbar": {
             "outlinewidth": 0,
             "ticks": ""
            },
            "type": "choropleth"
           }
          ],
          "contour": [
           {
            "colorbar": {
             "outlinewidth": 0,
             "ticks": ""
            },
            "colorscale": [
             [
              0,
              "#0d0887"
             ],
             [
              0.1111111111111111,
              "#46039f"
             ],
             [
              0.2222222222222222,
              "#7201a8"
             ],
             [
              0.3333333333333333,
              "#9c179e"
             ],
             [
              0.4444444444444444,
              "#bd3786"
             ],
             [
              0.5555555555555556,
              "#d8576b"
             ],
             [
              0.6666666666666666,
              "#ed7953"
             ],
             [
              0.7777777777777778,
              "#fb9f3a"
             ],
             [
              0.8888888888888888,
              "#fdca26"
             ],
             [
              1,
              "#f0f921"
             ]
            ],
            "type": "contour"
           }
          ],
          "contourcarpet": [
           {
            "colorbar": {
             "outlinewidth": 0,
             "ticks": ""
            },
            "type": "contourcarpet"
           }
          ],
          "heatmap": [
           {
            "colorbar": {
             "outlinewidth": 0,
             "ticks": ""
            },
            "colorscale": [
             [
              0,
              "#0d0887"
             ],
             [
              0.1111111111111111,
              "#46039f"
             ],
             [
              0.2222222222222222,
              "#7201a8"
             ],
             [
              0.3333333333333333,
              "#9c179e"
             ],
             [
              0.4444444444444444,
              "#bd3786"
             ],
             [
              0.5555555555555556,
              "#d8576b"
             ],
             [
              0.6666666666666666,
              "#ed7953"
             ],
             [
              0.7777777777777778,
              "#fb9f3a"
             ],
             [
              0.8888888888888888,
              "#fdca26"
             ],
             [
              1,
              "#f0f921"
             ]
            ],
            "type": "heatmap"
           }
          ],
          "heatmapgl": [
           {
            "colorbar": {
             "outlinewidth": 0,
             "ticks": ""
            },
            "colorscale": [
             [
              0,
              "#0d0887"
             ],
             [
              0.1111111111111111,
              "#46039f"
             ],
             [
              0.2222222222222222,
              "#7201a8"
             ],
             [
              0.3333333333333333,
              "#9c179e"
             ],
             [
              0.4444444444444444,
              "#bd3786"
             ],
             [
              0.5555555555555556,
              "#d8576b"
             ],
             [
              0.6666666666666666,
              "#ed7953"
             ],
             [
              0.7777777777777778,
              "#fb9f3a"
             ],
             [
              0.8888888888888888,
              "#fdca26"
             ],
             [
              1,
              "#f0f921"
             ]
            ],
            "type": "heatmapgl"
           }
          ],
          "histogram": [
           {
            "marker": {
             "pattern": {
              "fillmode": "overlay",
              "size": 10,
              "solidity": 0.2
             }
            },
            "type": "histogram"
           }
          ],
          "histogram2d": [
           {
            "colorbar": {
             "outlinewidth": 0,
             "ticks": ""
            },
            "colorscale": [
             [
              0,
              "#0d0887"
             ],
             [
              0.1111111111111111,
              "#46039f"
             ],
             [
              0.2222222222222222,
              "#7201a8"
             ],
             [
              0.3333333333333333,
              "#9c179e"
             ],
             [
              0.4444444444444444,
              "#bd3786"
             ],
             [
              0.5555555555555556,
              "#d8576b"
             ],
             [
              0.6666666666666666,
              "#ed7953"
             ],
             [
              0.7777777777777778,
              "#fb9f3a"
             ],
             [
              0.8888888888888888,
              "#fdca26"
             ],
             [
              1,
              "#f0f921"
             ]
            ],
            "type": "histogram2d"
           }
          ],
          "histogram2dcontour": [
           {
            "colorbar": {
             "outlinewidth": 0,
             "ticks": ""
            },
            "colorscale": [
             [
              0,
              "#0d0887"
             ],
             [
              0.1111111111111111,
              "#46039f"
             ],
             [
              0.2222222222222222,
              "#7201a8"
             ],
             [
              0.3333333333333333,
              "#9c179e"
             ],
             [
              0.4444444444444444,
              "#bd3786"
             ],
             [
              0.5555555555555556,
              "#d8576b"
             ],
             [
              0.6666666666666666,
              "#ed7953"
             ],
             [
              0.7777777777777778,
              "#fb9f3a"
             ],
             [
              0.8888888888888888,
              "#fdca26"
             ],
             [
              1,
              "#f0f921"
             ]
            ],
            "type": "histogram2dcontour"
           }
          ],
          "mesh3d": [
           {
            "colorbar": {
             "outlinewidth": 0,
             "ticks": ""
            },
            "type": "mesh3d"
           }
          ],
          "parcoords": [
           {
            "line": {
             "colorbar": {
              "outlinewidth": 0,
              "ticks": ""
             }
            },
            "type": "parcoords"
           }
          ],
          "pie": [
           {
            "automargin": true,
            "type": "pie"
           }
          ],
          "scatter": [
           {
            "fillpattern": {
             "fillmode": "overlay",
             "size": 10,
             "solidity": 0.2
            },
            "type": "scatter"
           }
          ],
          "scatter3d": [
           {
            "line": {
             "colorbar": {
              "outlinewidth": 0,
              "ticks": ""
             }
            },
            "marker": {
             "colorbar": {
              "outlinewidth": 0,
              "ticks": ""
             }
            },
            "type": "scatter3d"
           }
          ],
          "scattercarpet": [
           {
            "marker": {
             "colorbar": {
              "outlinewidth": 0,
              "ticks": ""
             }
            },
            "type": "scattercarpet"
           }
          ],
          "scattergeo": [
           {
            "marker": {
             "colorbar": {
              "outlinewidth": 0,
              "ticks": ""
             }
            },
            "type": "scattergeo"
           }
          ],
          "scattergl": [
           {
            "marker": {
             "colorbar": {
              "outlinewidth": 0,
              "ticks": ""
             }
            },
            "type": "scattergl"
           }
          ],
          "scattermapbox": [
           {
            "marker": {
             "colorbar": {
              "outlinewidth": 0,
              "ticks": ""
             }
            },
            "type": "scattermapbox"
           }
          ],
          "scatterpolar": [
           {
            "marker": {
             "colorbar": {
              "outlinewidth": 0,
              "ticks": ""
             }
            },
            "type": "scatterpolar"
           }
          ],
          "scatterpolargl": [
           {
            "marker": {
             "colorbar": {
              "outlinewidth": 0,
              "ticks": ""
             }
            },
            "type": "scatterpolargl"
           }
          ],
          "scatterternary": [
           {
            "marker": {
             "colorbar": {
              "outlinewidth": 0,
              "ticks": ""
             }
            },
            "type": "scatterternary"
           }
          ],
          "surface": [
           {
            "colorbar": {
             "outlinewidth": 0,
             "ticks": ""
            },
            "colorscale": [
             [
              0,
              "#0d0887"
             ],
             [
              0.1111111111111111,
              "#46039f"
             ],
             [
              0.2222222222222222,
              "#7201a8"
             ],
             [
              0.3333333333333333,
              "#9c179e"
             ],
             [
              0.4444444444444444,
              "#bd3786"
             ],
             [
              0.5555555555555556,
              "#d8576b"
             ],
             [
              0.6666666666666666,
              "#ed7953"
             ],
             [
              0.7777777777777778,
              "#fb9f3a"
             ],
             [
              0.8888888888888888,
              "#fdca26"
             ],
             [
              1,
              "#f0f921"
             ]
            ],
            "type": "surface"
           }
          ],
          "table": [
           {
            "cells": {
             "fill": {
              "color": "#EBF0F8"
             },
             "line": {
              "color": "white"
             }
            },
            "header": {
             "fill": {
              "color": "#C8D4E3"
             },
             "line": {
              "color": "white"
             }
            },
            "type": "table"
           }
          ]
         },
         "layout": {
          "annotationdefaults": {
           "arrowcolor": "#2a3f5f",
           "arrowhead": 0,
           "arrowwidth": 1
          },
          "autotypenumbers": "strict",
          "coloraxis": {
           "colorbar": {
            "outlinewidth": 0,
            "ticks": ""
           }
          },
          "colorscale": {
           "diverging": [
            [
             0,
             "#8e0152"
            ],
            [
             0.1,
             "#c51b7d"
            ],
            [
             0.2,
             "#de77ae"
            ],
            [
             0.3,
             "#f1b6da"
            ],
            [
             0.4,
             "#fde0ef"
            ],
            [
             0.5,
             "#f7f7f7"
            ],
            [
             0.6,
             "#e6f5d0"
            ],
            [
             0.7,
             "#b8e186"
            ],
            [
             0.8,
             "#7fbc41"
            ],
            [
             0.9,
             "#4d9221"
            ],
            [
             1,
             "#276419"
            ]
           ],
           "sequential": [
            [
             0,
             "#0d0887"
            ],
            [
             0.1111111111111111,
             "#46039f"
            ],
            [
             0.2222222222222222,
             "#7201a8"
            ],
            [
             0.3333333333333333,
             "#9c179e"
            ],
            [
             0.4444444444444444,
             "#bd3786"
            ],
            [
             0.5555555555555556,
             "#d8576b"
            ],
            [
             0.6666666666666666,
             "#ed7953"
            ],
            [
             0.7777777777777778,
             "#fb9f3a"
            ],
            [
             0.8888888888888888,
             "#fdca26"
            ],
            [
             1,
             "#f0f921"
            ]
           ],
           "sequentialminus": [
            [
             0,
             "#0d0887"
            ],
            [
             0.1111111111111111,
             "#46039f"
            ],
            [
             0.2222222222222222,
             "#7201a8"
            ],
            [
             0.3333333333333333,
             "#9c179e"
            ],
            [
             0.4444444444444444,
             "#bd3786"
            ],
            [
             0.5555555555555556,
             "#d8576b"
            ],
            [
             0.6666666666666666,
             "#ed7953"
            ],
            [
             0.7777777777777778,
             "#fb9f3a"
            ],
            [
             0.8888888888888888,
             "#fdca26"
            ],
            [
             1,
             "#f0f921"
            ]
           ]
          },
          "colorway": [
           "#636efa",
           "#EF553B",
           "#00cc96",
           "#ab63fa",
           "#FFA15A",
           "#19d3f3",
           "#FF6692",
           "#B6E880",
           "#FF97FF",
           "#FECB52"
          ],
          "font": {
           "color": "#2a3f5f"
          },
          "geo": {
           "bgcolor": "white",
           "lakecolor": "white",
           "landcolor": "#E5ECF6",
           "showlakes": true,
           "showland": true,
           "subunitcolor": "white"
          },
          "hoverlabel": {
           "align": "left"
          },
          "hovermode": "closest",
          "mapbox": {
           "style": "light"
          },
          "paper_bgcolor": "white",
          "plot_bgcolor": "#E5ECF6",
          "polar": {
           "angularaxis": {
            "gridcolor": "white",
            "linecolor": "white",
            "ticks": ""
           },
           "bgcolor": "#E5ECF6",
           "radialaxis": {
            "gridcolor": "white",
            "linecolor": "white",
            "ticks": ""
           }
          },
          "scene": {
           "xaxis": {
            "backgroundcolor": "#E5ECF6",
            "gridcolor": "white",
            "gridwidth": 2,
            "linecolor": "white",
            "showbackground": true,
            "ticks": "",
            "zerolinecolor": "white"
           },
           "yaxis": {
            "backgroundcolor": "#E5ECF6",
            "gridcolor": "white",
            "gridwidth": 2,
            "linecolor": "white",
            "showbackground": true,
            "ticks": "",
            "zerolinecolor": "white"
           },
           "zaxis": {
            "backgroundcolor": "#E5ECF6",
            "gridcolor": "white",
            "gridwidth": 2,
            "linecolor": "white",
            "showbackground": true,
            "ticks": "",
            "zerolinecolor": "white"
           }
          },
          "shapedefaults": {
           "line": {
            "color": "#2a3f5f"
           }
          },
          "ternary": {
           "aaxis": {
            "gridcolor": "white",
            "linecolor": "white",
            "ticks": ""
           },
           "baxis": {
            "gridcolor": "white",
            "linecolor": "white",
            "ticks": ""
           },
           "bgcolor": "#E5ECF6",
           "caxis": {
            "gridcolor": "white",
            "linecolor": "white",
            "ticks": ""
           }
          },
          "title": {
           "x": 0.05
          },
          "xaxis": {
           "automargin": true,
           "gridcolor": "white",
           "linecolor": "white",
           "ticks": "",
           "title": {
            "standoff": 15
           },
           "zerolinecolor": "white",
           "zerolinewidth": 2
          },
          "yaxis": {
           "automargin": true,
           "gridcolor": "white",
           "linecolor": "white",
           "ticks": "",
           "title": {
            "standoff": 15
           },
           "zerolinecolor": "white",
           "zerolinewidth": 2
          }
         }
        }
       }
      }
     },
     "metadata": {},
     "output_type": "display_data"
    }
   ],
   "source": [
    "fig = go.Figure(data=[go.Pie(labels=team1.index, values=team1.iloc[:, 1])])\n",
    "fig.show()"
   ]
  },
  {
   "cell_type": "code",
   "execution_count": 75,
   "id": "3c57c20b-83d2-4b0c-95b5-d772e96960da",
   "metadata": {},
   "outputs": [
    {
     "data": {
      "text/html": [
       "<div>\n",
       "<style scoped>\n",
       "    .dataframe tbody tr th:only-of-type {\n",
       "        vertical-align: middle;\n",
       "    }\n",
       "\n",
       "    .dataframe tbody tr th {\n",
       "        vertical-align: top;\n",
       "    }\n",
       "\n",
       "    .dataframe thead th {\n",
       "        text-align: right;\n",
       "    }\n",
       "</style>\n",
       "<table border=\"1\" class=\"dataframe\">\n",
       "  <thead>\n",
       "    <tr style=\"text-align: right;\">\n",
       "      <th>tossChoice</th>\n",
       "      <th>bat</th>\n",
       "      <th>bowl</th>\n",
       "    </tr>\n",
       "    <tr>\n",
       "      <th>Team2</th>\n",
       "      <th></th>\n",
       "      <th></th>\n",
       "    </tr>\n",
       "  </thead>\n",
       "  <tbody>\n",
       "    <tr>\n",
       "      <th>Chennai Super Kings</th>\n",
       "      <td>3</td>\n",
       "      <td>4</td>\n",
       "    </tr>\n",
       "    <tr>\n",
       "      <th>Delhi Capitals</th>\n",
       "      <td>1</td>\n",
       "      <td>6</td>\n",
       "    </tr>\n",
       "    <tr>\n",
       "      <th>Gujarat Titans</th>\n",
       "      <td>0</td>\n",
       "      <td>7</td>\n",
       "    </tr>\n",
       "    <tr>\n",
       "      <th>Kolkata Knight Riders</th>\n",
       "      <td>2</td>\n",
       "      <td>4</td>\n",
       "    </tr>\n",
       "    <tr>\n",
       "      <th>Lucknow Super Giants</th>\n",
       "      <td>1</td>\n",
       "      <td>6</td>\n",
       "    </tr>\n",
       "    <tr>\n",
       "      <th>Mumbai Indians</th>\n",
       "      <td>1</td>\n",
       "      <td>8</td>\n",
       "    </tr>\n",
       "    <tr>\n",
       "      <th>Punjab Kings</th>\n",
       "      <td>3</td>\n",
       "      <td>5</td>\n",
       "    </tr>\n",
       "    <tr>\n",
       "      <th>Rajasthan Royals</th>\n",
       "      <td>1</td>\n",
       "      <td>6</td>\n",
       "    </tr>\n",
       "    <tr>\n",
       "      <th>Royal Challengers Bengaluru</th>\n",
       "      <td>0</td>\n",
       "      <td>8</td>\n",
       "    </tr>\n",
       "    <tr>\n",
       "      <th>Sunrisers Hyderabad</th>\n",
       "      <td>1</td>\n",
       "      <td>6</td>\n",
       "    </tr>\n",
       "  </tbody>\n",
       "</table>\n",
       "</div>"
      ],
      "text/plain": [
       "tossChoice                   bat  bowl\n",
       "Team2                                 \n",
       "Chennai Super Kings            3     4\n",
       "Delhi Capitals                 1     6\n",
       "Gujarat Titans                 0     7\n",
       "Kolkata Knight Riders          2     4\n",
       "Lucknow Super Giants           1     6\n",
       "Mumbai Indians                 1     8\n",
       "Punjab Kings                   3     5\n",
       "Rajasthan Royals               1     6\n",
       "Royal Challengers Bengaluru    0     8\n",
       "Sunrisers Hyderabad            1     6"
      ]
     },
     "execution_count": 75,
     "metadata": {},
     "output_type": "execute_result"
    }
   ],
   "source": [
    "team2=pd.crosstab(index=ds.Team2,columns=ds.tossChoice)\n",
    "team2"
   ]
  },
  {
   "cell_type": "markdown",
   "id": "a2665f87-8730-4390-8b22-98049896cc51",
   "metadata": {},
   "source": [
    " team2\n",
    "This syntax visualizes the toss choice based on the first column, which represents(bat)"
   ]
  },
  {
   "cell_type": "code",
   "execution_count": 76,
   "id": "17a04c04-f516-4afe-a0dd-dca363fc92c0",
   "metadata": {
    "scrolled": true
   },
   "outputs": [
    {
     "data": {
      "application/vnd.plotly.v1+json": {
       "config": {
        "plotlyServerURL": "https://plot.ly"
       },
       "data": [
        {
         "labels": [
          "Chennai Super Kings",
          "Delhi Capitals",
          "Gujarat Titans",
          "Kolkata Knight Riders",
          "Lucknow Super Giants",
          "Mumbai Indians",
          "Punjab Kings",
          "Rajasthan Royals",
          "Royal Challengers Bengaluru",
          "Sunrisers Hyderabad"
         ],
         "type": "pie",
         "values": [
          3,
          1,
          0,
          2,
          1,
          1,
          3,
          1,
          0,
          1
         ]
        }
       ],
       "layout": {
        "template": {
         "data": {
          "bar": [
           {
            "error_x": {
             "color": "#2a3f5f"
            },
            "error_y": {
             "color": "#2a3f5f"
            },
            "marker": {
             "line": {
              "color": "#E5ECF6",
              "width": 0.5
             },
             "pattern": {
              "fillmode": "overlay",
              "size": 10,
              "solidity": 0.2
             }
            },
            "type": "bar"
           }
          ],
          "barpolar": [
           {
            "marker": {
             "line": {
              "color": "#E5ECF6",
              "width": 0.5
             },
             "pattern": {
              "fillmode": "overlay",
              "size": 10,
              "solidity": 0.2
             }
            },
            "type": "barpolar"
           }
          ],
          "carpet": [
           {
            "aaxis": {
             "endlinecolor": "#2a3f5f",
             "gridcolor": "white",
             "linecolor": "white",
             "minorgridcolor": "white",
             "startlinecolor": "#2a3f5f"
            },
            "baxis": {
             "endlinecolor": "#2a3f5f",
             "gridcolor": "white",
             "linecolor": "white",
             "minorgridcolor": "white",
             "startlinecolor": "#2a3f5f"
            },
            "type": "carpet"
           }
          ],
          "choropleth": [
           {
            "colorbar": {
             "outlinewidth": 0,
             "ticks": ""
            },
            "type": "choropleth"
           }
          ],
          "contour": [
           {
            "colorbar": {
             "outlinewidth": 0,
             "ticks": ""
            },
            "colorscale": [
             [
              0,
              "#0d0887"
             ],
             [
              0.1111111111111111,
              "#46039f"
             ],
             [
              0.2222222222222222,
              "#7201a8"
             ],
             [
              0.3333333333333333,
              "#9c179e"
             ],
             [
              0.4444444444444444,
              "#bd3786"
             ],
             [
              0.5555555555555556,
              "#d8576b"
             ],
             [
              0.6666666666666666,
              "#ed7953"
             ],
             [
              0.7777777777777778,
              "#fb9f3a"
             ],
             [
              0.8888888888888888,
              "#fdca26"
             ],
             [
              1,
              "#f0f921"
             ]
            ],
            "type": "contour"
           }
          ],
          "contourcarpet": [
           {
            "colorbar": {
             "outlinewidth": 0,
             "ticks": ""
            },
            "type": "contourcarpet"
           }
          ],
          "heatmap": [
           {
            "colorbar": {
             "outlinewidth": 0,
             "ticks": ""
            },
            "colorscale": [
             [
              0,
              "#0d0887"
             ],
             [
              0.1111111111111111,
              "#46039f"
             ],
             [
              0.2222222222222222,
              "#7201a8"
             ],
             [
              0.3333333333333333,
              "#9c179e"
             ],
             [
              0.4444444444444444,
              "#bd3786"
             ],
             [
              0.5555555555555556,
              "#d8576b"
             ],
             [
              0.6666666666666666,
              "#ed7953"
             ],
             [
              0.7777777777777778,
              "#fb9f3a"
             ],
             [
              0.8888888888888888,
              "#fdca26"
             ],
             [
              1,
              "#f0f921"
             ]
            ],
            "type": "heatmap"
           }
          ],
          "heatmapgl": [
           {
            "colorbar": {
             "outlinewidth": 0,
             "ticks": ""
            },
            "colorscale": [
             [
              0,
              "#0d0887"
             ],
             [
              0.1111111111111111,
              "#46039f"
             ],
             [
              0.2222222222222222,
              "#7201a8"
             ],
             [
              0.3333333333333333,
              "#9c179e"
             ],
             [
              0.4444444444444444,
              "#bd3786"
             ],
             [
              0.5555555555555556,
              "#d8576b"
             ],
             [
              0.6666666666666666,
              "#ed7953"
             ],
             [
              0.7777777777777778,
              "#fb9f3a"
             ],
             [
              0.8888888888888888,
              "#fdca26"
             ],
             [
              1,
              "#f0f921"
             ]
            ],
            "type": "heatmapgl"
           }
          ],
          "histogram": [
           {
            "marker": {
             "pattern": {
              "fillmode": "overlay",
              "size": 10,
              "solidity": 0.2
             }
            },
            "type": "histogram"
           }
          ],
          "histogram2d": [
           {
            "colorbar": {
             "outlinewidth": 0,
             "ticks": ""
            },
            "colorscale": [
             [
              0,
              "#0d0887"
             ],
             [
              0.1111111111111111,
              "#46039f"
             ],
             [
              0.2222222222222222,
              "#7201a8"
             ],
             [
              0.3333333333333333,
              "#9c179e"
             ],
             [
              0.4444444444444444,
              "#bd3786"
             ],
             [
              0.5555555555555556,
              "#d8576b"
             ],
             [
              0.6666666666666666,
              "#ed7953"
             ],
             [
              0.7777777777777778,
              "#fb9f3a"
             ],
             [
              0.8888888888888888,
              "#fdca26"
             ],
             [
              1,
              "#f0f921"
             ]
            ],
            "type": "histogram2d"
           }
          ],
          "histogram2dcontour": [
           {
            "colorbar": {
             "outlinewidth": 0,
             "ticks": ""
            },
            "colorscale": [
             [
              0,
              "#0d0887"
             ],
             [
              0.1111111111111111,
              "#46039f"
             ],
             [
              0.2222222222222222,
              "#7201a8"
             ],
             [
              0.3333333333333333,
              "#9c179e"
             ],
             [
              0.4444444444444444,
              "#bd3786"
             ],
             [
              0.5555555555555556,
              "#d8576b"
             ],
             [
              0.6666666666666666,
              "#ed7953"
             ],
             [
              0.7777777777777778,
              "#fb9f3a"
             ],
             [
              0.8888888888888888,
              "#fdca26"
             ],
             [
              1,
              "#f0f921"
             ]
            ],
            "type": "histogram2dcontour"
           }
          ],
          "mesh3d": [
           {
            "colorbar": {
             "outlinewidth": 0,
             "ticks": ""
            },
            "type": "mesh3d"
           }
          ],
          "parcoords": [
           {
            "line": {
             "colorbar": {
              "outlinewidth": 0,
              "ticks": ""
             }
            },
            "type": "parcoords"
           }
          ],
          "pie": [
           {
            "automargin": true,
            "type": "pie"
           }
          ],
          "scatter": [
           {
            "fillpattern": {
             "fillmode": "overlay",
             "size": 10,
             "solidity": 0.2
            },
            "type": "scatter"
           }
          ],
          "scatter3d": [
           {
            "line": {
             "colorbar": {
              "outlinewidth": 0,
              "ticks": ""
             }
            },
            "marker": {
             "colorbar": {
              "outlinewidth": 0,
              "ticks": ""
             }
            },
            "type": "scatter3d"
           }
          ],
          "scattercarpet": [
           {
            "marker": {
             "colorbar": {
              "outlinewidth": 0,
              "ticks": ""
             }
            },
            "type": "scattercarpet"
           }
          ],
          "scattergeo": [
           {
            "marker": {
             "colorbar": {
              "outlinewidth": 0,
              "ticks": ""
             }
            },
            "type": "scattergeo"
           }
          ],
          "scattergl": [
           {
            "marker": {
             "colorbar": {
              "outlinewidth": 0,
              "ticks": ""
             }
            },
            "type": "scattergl"
           }
          ],
          "scattermapbox": [
           {
            "marker": {
             "colorbar": {
              "outlinewidth": 0,
              "ticks": ""
             }
            },
            "type": "scattermapbox"
           }
          ],
          "scatterpolar": [
           {
            "marker": {
             "colorbar": {
              "outlinewidth": 0,
              "ticks": ""
             }
            },
            "type": "scatterpolar"
           }
          ],
          "scatterpolargl": [
           {
            "marker": {
             "colorbar": {
              "outlinewidth": 0,
              "ticks": ""
             }
            },
            "type": "scatterpolargl"
           }
          ],
          "scatterternary": [
           {
            "marker": {
             "colorbar": {
              "outlinewidth": 0,
              "ticks": ""
             }
            },
            "type": "scatterternary"
           }
          ],
          "surface": [
           {
            "colorbar": {
             "outlinewidth": 0,
             "ticks": ""
            },
            "colorscale": [
             [
              0,
              "#0d0887"
             ],
             [
              0.1111111111111111,
              "#46039f"
             ],
             [
              0.2222222222222222,
              "#7201a8"
             ],
             [
              0.3333333333333333,
              "#9c179e"
             ],
             [
              0.4444444444444444,
              "#bd3786"
             ],
             [
              0.5555555555555556,
              "#d8576b"
             ],
             [
              0.6666666666666666,
              "#ed7953"
             ],
             [
              0.7777777777777778,
              "#fb9f3a"
             ],
             [
              0.8888888888888888,
              "#fdca26"
             ],
             [
              1,
              "#f0f921"
             ]
            ],
            "type": "surface"
           }
          ],
          "table": [
           {
            "cells": {
             "fill": {
              "color": "#EBF0F8"
             },
             "line": {
              "color": "white"
             }
            },
            "header": {
             "fill": {
              "color": "#C8D4E3"
             },
             "line": {
              "color": "white"
             }
            },
            "type": "table"
           }
          ]
         },
         "layout": {
          "annotationdefaults": {
           "arrowcolor": "#2a3f5f",
           "arrowhead": 0,
           "arrowwidth": 1
          },
          "autotypenumbers": "strict",
          "coloraxis": {
           "colorbar": {
            "outlinewidth": 0,
            "ticks": ""
           }
          },
          "colorscale": {
           "diverging": [
            [
             0,
             "#8e0152"
            ],
            [
             0.1,
             "#c51b7d"
            ],
            [
             0.2,
             "#de77ae"
            ],
            [
             0.3,
             "#f1b6da"
            ],
            [
             0.4,
             "#fde0ef"
            ],
            [
             0.5,
             "#f7f7f7"
            ],
            [
             0.6,
             "#e6f5d0"
            ],
            [
             0.7,
             "#b8e186"
            ],
            [
             0.8,
             "#7fbc41"
            ],
            [
             0.9,
             "#4d9221"
            ],
            [
             1,
             "#276419"
            ]
           ],
           "sequential": [
            [
             0,
             "#0d0887"
            ],
            [
             0.1111111111111111,
             "#46039f"
            ],
            [
             0.2222222222222222,
             "#7201a8"
            ],
            [
             0.3333333333333333,
             "#9c179e"
            ],
            [
             0.4444444444444444,
             "#bd3786"
            ],
            [
             0.5555555555555556,
             "#d8576b"
            ],
            [
             0.6666666666666666,
             "#ed7953"
            ],
            [
             0.7777777777777778,
             "#fb9f3a"
            ],
            [
             0.8888888888888888,
             "#fdca26"
            ],
            [
             1,
             "#f0f921"
            ]
           ],
           "sequentialminus": [
            [
             0,
             "#0d0887"
            ],
            [
             0.1111111111111111,
             "#46039f"
            ],
            [
             0.2222222222222222,
             "#7201a8"
            ],
            [
             0.3333333333333333,
             "#9c179e"
            ],
            [
             0.4444444444444444,
             "#bd3786"
            ],
            [
             0.5555555555555556,
             "#d8576b"
            ],
            [
             0.6666666666666666,
             "#ed7953"
            ],
            [
             0.7777777777777778,
             "#fb9f3a"
            ],
            [
             0.8888888888888888,
             "#fdca26"
            ],
            [
             1,
             "#f0f921"
            ]
           ]
          },
          "colorway": [
           "#636efa",
           "#EF553B",
           "#00cc96",
           "#ab63fa",
           "#FFA15A",
           "#19d3f3",
           "#FF6692",
           "#B6E880",
           "#FF97FF",
           "#FECB52"
          ],
          "font": {
           "color": "#2a3f5f"
          },
          "geo": {
           "bgcolor": "white",
           "lakecolor": "white",
           "landcolor": "#E5ECF6",
           "showlakes": true,
           "showland": true,
           "subunitcolor": "white"
          },
          "hoverlabel": {
           "align": "left"
          },
          "hovermode": "closest",
          "mapbox": {
           "style": "light"
          },
          "paper_bgcolor": "white",
          "plot_bgcolor": "#E5ECF6",
          "polar": {
           "angularaxis": {
            "gridcolor": "white",
            "linecolor": "white",
            "ticks": ""
           },
           "bgcolor": "#E5ECF6",
           "radialaxis": {
            "gridcolor": "white",
            "linecolor": "white",
            "ticks": ""
           }
          },
          "scene": {
           "xaxis": {
            "backgroundcolor": "#E5ECF6",
            "gridcolor": "white",
            "gridwidth": 2,
            "linecolor": "white",
            "showbackground": true,
            "ticks": "",
            "zerolinecolor": "white"
           },
           "yaxis": {
            "backgroundcolor": "#E5ECF6",
            "gridcolor": "white",
            "gridwidth": 2,
            "linecolor": "white",
            "showbackground": true,
            "ticks": "",
            "zerolinecolor": "white"
           },
           "zaxis": {
            "backgroundcolor": "#E5ECF6",
            "gridcolor": "white",
            "gridwidth": 2,
            "linecolor": "white",
            "showbackground": true,
            "ticks": "",
            "zerolinecolor": "white"
           }
          },
          "shapedefaults": {
           "line": {
            "color": "#2a3f5f"
           }
          },
          "ternary": {
           "aaxis": {
            "gridcolor": "white",
            "linecolor": "white",
            "ticks": ""
           },
           "baxis": {
            "gridcolor": "white",
            "linecolor": "white",
            "ticks": ""
           },
           "bgcolor": "#E5ECF6",
           "caxis": {
            "gridcolor": "white",
            "linecolor": "white",
            "ticks": ""
           }
          },
          "title": {
           "x": 0.05
          },
          "xaxis": {
           "automargin": true,
           "gridcolor": "white",
           "linecolor": "white",
           "ticks": "",
           "title": {
            "standoff": 15
           },
           "zerolinecolor": "white",
           "zerolinewidth": 2
          },
          "yaxis": {
           "automargin": true,
           "gridcolor": "white",
           "linecolor": "white",
           "ticks": "",
           "title": {
            "standoff": 15
           },
           "zerolinecolor": "white",
           "zerolinewidth": 2
          }
         }
        }
       }
      }
     },
     "metadata": {},
     "output_type": "display_data"
    }
   ],
   "source": [
    "fig2 = go.Figure(data=[go.Pie(labels=team2.index, values=team2.iloc[:, 0])])\n",
    "fig2.show()"
   ]
  },
  {
   "cell_type": "markdown",
   "id": "ac32ce52-2c7e-473b-9b1b-c3e473d15d22",
   "metadata": {},
   "source": [
    " team2\n",
    "This syntax visualizes the toss choice based on the first column, which represents(bat)b"
   ]
  },
  {
   "cell_type": "code",
   "execution_count": 77,
   "id": "8f7a9467-8ca2-4d7b-a7d2-4ceb868190ad",
   "metadata": {
    "scrolled": true
   },
   "outputs": [
    {
     "data": {
      "application/vnd.plotly.v1+json": {
       "config": {
        "plotlyServerURL": "https://plot.ly"
       },
       "data": [
        {
         "labels": [
          "Chennai Super Kings",
          "Delhi Capitals",
          "Gujarat Titans",
          "Kolkata Knight Riders",
          "Lucknow Super Giants",
          "Mumbai Indians",
          "Punjab Kings",
          "Rajasthan Royals",
          "Royal Challengers Bengaluru",
          "Sunrisers Hyderabad"
         ],
         "type": "pie",
         "values": [
          4,
          6,
          7,
          4,
          6,
          8,
          5,
          6,
          8,
          6
         ]
        }
       ],
       "layout": {
        "template": {
         "data": {
          "bar": [
           {
            "error_x": {
             "color": "#2a3f5f"
            },
            "error_y": {
             "color": "#2a3f5f"
            },
            "marker": {
             "line": {
              "color": "#E5ECF6",
              "width": 0.5
             },
             "pattern": {
              "fillmode": "overlay",
              "size": 10,
              "solidity": 0.2
             }
            },
            "type": "bar"
           }
          ],
          "barpolar": [
           {
            "marker": {
             "line": {
              "color": "#E5ECF6",
              "width": 0.5
             },
             "pattern": {
              "fillmode": "overlay",
              "size": 10,
              "solidity": 0.2
             }
            },
            "type": "barpolar"
           }
          ],
          "carpet": [
           {
            "aaxis": {
             "endlinecolor": "#2a3f5f",
             "gridcolor": "white",
             "linecolor": "white",
             "minorgridcolor": "white",
             "startlinecolor": "#2a3f5f"
            },
            "baxis": {
             "endlinecolor": "#2a3f5f",
             "gridcolor": "white",
             "linecolor": "white",
             "minorgridcolor": "white",
             "startlinecolor": "#2a3f5f"
            },
            "type": "carpet"
           }
          ],
          "choropleth": [
           {
            "colorbar": {
             "outlinewidth": 0,
             "ticks": ""
            },
            "type": "choropleth"
           }
          ],
          "contour": [
           {
            "colorbar": {
             "outlinewidth": 0,
             "ticks": ""
            },
            "colorscale": [
             [
              0,
              "#0d0887"
             ],
             [
              0.1111111111111111,
              "#46039f"
             ],
             [
              0.2222222222222222,
              "#7201a8"
             ],
             [
              0.3333333333333333,
              "#9c179e"
             ],
             [
              0.4444444444444444,
              "#bd3786"
             ],
             [
              0.5555555555555556,
              "#d8576b"
             ],
             [
              0.6666666666666666,
              "#ed7953"
             ],
             [
              0.7777777777777778,
              "#fb9f3a"
             ],
             [
              0.8888888888888888,
              "#fdca26"
             ],
             [
              1,
              "#f0f921"
             ]
            ],
            "type": "contour"
           }
          ],
          "contourcarpet": [
           {
            "colorbar": {
             "outlinewidth": 0,
             "ticks": ""
            },
            "type": "contourcarpet"
           }
          ],
          "heatmap": [
           {
            "colorbar": {
             "outlinewidth": 0,
             "ticks": ""
            },
            "colorscale": [
             [
              0,
              "#0d0887"
             ],
             [
              0.1111111111111111,
              "#46039f"
             ],
             [
              0.2222222222222222,
              "#7201a8"
             ],
             [
              0.3333333333333333,
              "#9c179e"
             ],
             [
              0.4444444444444444,
              "#bd3786"
             ],
             [
              0.5555555555555556,
              "#d8576b"
             ],
             [
              0.6666666666666666,
              "#ed7953"
             ],
             [
              0.7777777777777778,
              "#fb9f3a"
             ],
             [
              0.8888888888888888,
              "#fdca26"
             ],
             [
              1,
              "#f0f921"
             ]
            ],
            "type": "heatmap"
           }
          ],
          "heatmapgl": [
           {
            "colorbar": {
             "outlinewidth": 0,
             "ticks": ""
            },
            "colorscale": [
             [
              0,
              "#0d0887"
             ],
             [
              0.1111111111111111,
              "#46039f"
             ],
             [
              0.2222222222222222,
              "#7201a8"
             ],
             [
              0.3333333333333333,
              "#9c179e"
             ],
             [
              0.4444444444444444,
              "#bd3786"
             ],
             [
              0.5555555555555556,
              "#d8576b"
             ],
             [
              0.6666666666666666,
              "#ed7953"
             ],
             [
              0.7777777777777778,
              "#fb9f3a"
             ],
             [
              0.8888888888888888,
              "#fdca26"
             ],
             [
              1,
              "#f0f921"
             ]
            ],
            "type": "heatmapgl"
           }
          ],
          "histogram": [
           {
            "marker": {
             "pattern": {
              "fillmode": "overlay",
              "size": 10,
              "solidity": 0.2
             }
            },
            "type": "histogram"
           }
          ],
          "histogram2d": [
           {
            "colorbar": {
             "outlinewidth": 0,
             "ticks": ""
            },
            "colorscale": [
             [
              0,
              "#0d0887"
             ],
             [
              0.1111111111111111,
              "#46039f"
             ],
             [
              0.2222222222222222,
              "#7201a8"
             ],
             [
              0.3333333333333333,
              "#9c179e"
             ],
             [
              0.4444444444444444,
              "#bd3786"
             ],
             [
              0.5555555555555556,
              "#d8576b"
             ],
             [
              0.6666666666666666,
              "#ed7953"
             ],
             [
              0.7777777777777778,
              "#fb9f3a"
             ],
             [
              0.8888888888888888,
              "#fdca26"
             ],
             [
              1,
              "#f0f921"
             ]
            ],
            "type": "histogram2d"
           }
          ],
          "histogram2dcontour": [
           {
            "colorbar": {
             "outlinewidth": 0,
             "ticks": ""
            },
            "colorscale": [
             [
              0,
              "#0d0887"
             ],
             [
              0.1111111111111111,
              "#46039f"
             ],
             [
              0.2222222222222222,
              "#7201a8"
             ],
             [
              0.3333333333333333,
              "#9c179e"
             ],
             [
              0.4444444444444444,
              "#bd3786"
             ],
             [
              0.5555555555555556,
              "#d8576b"
             ],
             [
              0.6666666666666666,
              "#ed7953"
             ],
             [
              0.7777777777777778,
              "#fb9f3a"
             ],
             [
              0.8888888888888888,
              "#fdca26"
             ],
             [
              1,
              "#f0f921"
             ]
            ],
            "type": "histogram2dcontour"
           }
          ],
          "mesh3d": [
           {
            "colorbar": {
             "outlinewidth": 0,
             "ticks": ""
            },
            "type": "mesh3d"
           }
          ],
          "parcoords": [
           {
            "line": {
             "colorbar": {
              "outlinewidth": 0,
              "ticks": ""
             }
            },
            "type": "parcoords"
           }
          ],
          "pie": [
           {
            "automargin": true,
            "type": "pie"
           }
          ],
          "scatter": [
           {
            "fillpattern": {
             "fillmode": "overlay",
             "size": 10,
             "solidity": 0.2
            },
            "type": "scatter"
           }
          ],
          "scatter3d": [
           {
            "line": {
             "colorbar": {
              "outlinewidth": 0,
              "ticks": ""
             }
            },
            "marker": {
             "colorbar": {
              "outlinewidth": 0,
              "ticks": ""
             }
            },
            "type": "scatter3d"
           }
          ],
          "scattercarpet": [
           {
            "marker": {
             "colorbar": {
              "outlinewidth": 0,
              "ticks": ""
             }
            },
            "type": "scattercarpet"
           }
          ],
          "scattergeo": [
           {
            "marker": {
             "colorbar": {
              "outlinewidth": 0,
              "ticks": ""
             }
            },
            "type": "scattergeo"
           }
          ],
          "scattergl": [
           {
            "marker": {
             "colorbar": {
              "outlinewidth": 0,
              "ticks": ""
             }
            },
            "type": "scattergl"
           }
          ],
          "scattermapbox": [
           {
            "marker": {
             "colorbar": {
              "outlinewidth": 0,
              "ticks": ""
             }
            },
            "type": "scattermapbox"
           }
          ],
          "scatterpolar": [
           {
            "marker": {
             "colorbar": {
              "outlinewidth": 0,
              "ticks": ""
             }
            },
            "type": "scatterpolar"
           }
          ],
          "scatterpolargl": [
           {
            "marker": {
             "colorbar": {
              "outlinewidth": 0,
              "ticks": ""
             }
            },
            "type": "scatterpolargl"
           }
          ],
          "scatterternary": [
           {
            "marker": {
             "colorbar": {
              "outlinewidth": 0,
              "ticks": ""
             }
            },
            "type": "scatterternary"
           }
          ],
          "surface": [
           {
            "colorbar": {
             "outlinewidth": 0,
             "ticks": ""
            },
            "colorscale": [
             [
              0,
              "#0d0887"
             ],
             [
              0.1111111111111111,
              "#46039f"
             ],
             [
              0.2222222222222222,
              "#7201a8"
             ],
             [
              0.3333333333333333,
              "#9c179e"
             ],
             [
              0.4444444444444444,
              "#bd3786"
             ],
             [
              0.5555555555555556,
              "#d8576b"
             ],
             [
              0.6666666666666666,
              "#ed7953"
             ],
             [
              0.7777777777777778,
              "#fb9f3a"
             ],
             [
              0.8888888888888888,
              "#fdca26"
             ],
             [
              1,
              "#f0f921"
             ]
            ],
            "type": "surface"
           }
          ],
          "table": [
           {
            "cells": {
             "fill": {
              "color": "#EBF0F8"
             },
             "line": {
              "color": "white"
             }
            },
            "header": {
             "fill": {
              "color": "#C8D4E3"
             },
             "line": {
              "color": "white"
             }
            },
            "type": "table"
           }
          ]
         },
         "layout": {
          "annotationdefaults": {
           "arrowcolor": "#2a3f5f",
           "arrowhead": 0,
           "arrowwidth": 1
          },
          "autotypenumbers": "strict",
          "coloraxis": {
           "colorbar": {
            "outlinewidth": 0,
            "ticks": ""
           }
          },
          "colorscale": {
           "diverging": [
            [
             0,
             "#8e0152"
            ],
            [
             0.1,
             "#c51b7d"
            ],
            [
             0.2,
             "#de77ae"
            ],
            [
             0.3,
             "#f1b6da"
            ],
            [
             0.4,
             "#fde0ef"
            ],
            [
             0.5,
             "#f7f7f7"
            ],
            [
             0.6,
             "#e6f5d0"
            ],
            [
             0.7,
             "#b8e186"
            ],
            [
             0.8,
             "#7fbc41"
            ],
            [
             0.9,
             "#4d9221"
            ],
            [
             1,
             "#276419"
            ]
           ],
           "sequential": [
            [
             0,
             "#0d0887"
            ],
            [
             0.1111111111111111,
             "#46039f"
            ],
            [
             0.2222222222222222,
             "#7201a8"
            ],
            [
             0.3333333333333333,
             "#9c179e"
            ],
            [
             0.4444444444444444,
             "#bd3786"
            ],
            [
             0.5555555555555556,
             "#d8576b"
            ],
            [
             0.6666666666666666,
             "#ed7953"
            ],
            [
             0.7777777777777778,
             "#fb9f3a"
            ],
            [
             0.8888888888888888,
             "#fdca26"
            ],
            [
             1,
             "#f0f921"
            ]
           ],
           "sequentialminus": [
            [
             0,
             "#0d0887"
            ],
            [
             0.1111111111111111,
             "#46039f"
            ],
            [
             0.2222222222222222,
             "#7201a8"
            ],
            [
             0.3333333333333333,
             "#9c179e"
            ],
            [
             0.4444444444444444,
             "#bd3786"
            ],
            [
             0.5555555555555556,
             "#d8576b"
            ],
            [
             0.6666666666666666,
             "#ed7953"
            ],
            [
             0.7777777777777778,
             "#fb9f3a"
            ],
            [
             0.8888888888888888,
             "#fdca26"
            ],
            [
             1,
             "#f0f921"
            ]
           ]
          },
          "colorway": [
           "#636efa",
           "#EF553B",
           "#00cc96",
           "#ab63fa",
           "#FFA15A",
           "#19d3f3",
           "#FF6692",
           "#B6E880",
           "#FF97FF",
           "#FECB52"
          ],
          "font": {
           "color": "#2a3f5f"
          },
          "geo": {
           "bgcolor": "white",
           "lakecolor": "white",
           "landcolor": "#E5ECF6",
           "showlakes": true,
           "showland": true,
           "subunitcolor": "white"
          },
          "hoverlabel": {
           "align": "left"
          },
          "hovermode": "closest",
          "mapbox": {
           "style": "light"
          },
          "paper_bgcolor": "white",
          "plot_bgcolor": "#E5ECF6",
          "polar": {
           "angularaxis": {
            "gridcolor": "white",
            "linecolor": "white",
            "ticks": ""
           },
           "bgcolor": "#E5ECF6",
           "radialaxis": {
            "gridcolor": "white",
            "linecolor": "white",
            "ticks": ""
           }
          },
          "scene": {
           "xaxis": {
            "backgroundcolor": "#E5ECF6",
            "gridcolor": "white",
            "gridwidth": 2,
            "linecolor": "white",
            "showbackground": true,
            "ticks": "",
            "zerolinecolor": "white"
           },
           "yaxis": {
            "backgroundcolor": "#E5ECF6",
            "gridcolor": "white",
            "gridwidth": 2,
            "linecolor": "white",
            "showbackground": true,
            "ticks": "",
            "zerolinecolor": "white"
           },
           "zaxis": {
            "backgroundcolor": "#E5ECF6",
            "gridcolor": "white",
            "gridwidth": 2,
            "linecolor": "white",
            "showbackground": true,
            "ticks": "",
            "zerolinecolor": "white"
           }
          },
          "shapedefaults": {
           "line": {
            "color": "#2a3f5f"
           }
          },
          "ternary": {
           "aaxis": {
            "gridcolor": "white",
            "linecolor": "white",
            "ticks": ""
           },
           "baxis": {
            "gridcolor": "white",
            "linecolor": "white",
            "ticks": ""
           },
           "bgcolor": "#E5ECF6",
           "caxis": {
            "gridcolor": "white",
            "linecolor": "white",
            "ticks": ""
           }
          },
          "title": {
           "x": 0.05
          },
          "xaxis": {
           "automargin": true,
           "gridcolor": "white",
           "linecolor": "white",
           "ticks": "",
           "title": {
            "standoff": 15
           },
           "zerolinecolor": "white",
           "zerolinewidth": 2
          },
          "yaxis": {
           "automargin": true,
           "gridcolor": "white",
           "linecolor": "white",
           "ticks": "",
           "title": {
            "standoff": 15
           },
           "zerolinecolor": "white",
           "zerolinewidth": 2
          }
         }
        }
       }
      }
     },
     "metadata": {},
     "output_type": "display_data"
    }
   ],
   "source": [
    "fig2 = go.Figure(data=[go.Pie(labels=team2.index, values=team2.iloc[:, 1])])\n",
    "fig2.show()"
   ]
  },
  {
   "cell_type": "markdown",
   "id": "038a47fe-1fdf-4d86-9593-285dcf743694",
   "metadata": {},
   "source": [
    "match distribution accross the stadium"
   ]
  },
  {
   "cell_type": "code",
   "execution_count": 78,
   "id": "eea42748-b9f4-46af-855a-52d6aeaaea46",
   "metadata": {},
   "outputs": [
    {
     "data": {
      "text/html": [
       "<div>\n",
       "<style scoped>\n",
       "    .dataframe tbody tr th:only-of-type {\n",
       "        vertical-align: middle;\n",
       "    }\n",
       "\n",
       "    .dataframe tbody tr th {\n",
       "        vertical-align: top;\n",
       "    }\n",
       "\n",
       "    .dataframe thead th {\n",
       "        text-align: right;\n",
       "    }\n",
       "</style>\n",
       "<table border=\"1\" class=\"dataframe\">\n",
       "  <thead>\n",
       "    <tr style=\"text-align: right;\">\n",
       "      <th>MatchVenue</th>\n",
       "      <th>Arun Jaitley Stadium, Delhi</th>\n",
       "      <th>Barsapara Cricket Stadium, Guwahati</th>\n",
       "      <th>Bharat Ratna Shri Atal Bihari Vajpayee Ekana Cricket Stadium, Lucknow</th>\n",
       "      <th>Dr. Y.S. Rajasekhara Reddy ACA-VDCA Cricket Stadium, Visakhapatnam</th>\n",
       "      <th>Eden Gardens, Kolkata</th>\n",
       "      <th>Himachal Pradesh Cricket Association Stadium, Dharamsala</th>\n",
       "      <th>M.Chinnaswamy Stadium, Bengaluru</th>\n",
       "      <th>MA Chidambaram Stadium, Chennai</th>\n",
       "      <th>Maharaja Yadavindra Singh International Cricket Stadium, Mullanpur, Chandigarh</th>\n",
       "      <th>Maharaja Yadavindra Singh International Cricket Stadium, Mullanpur, New Chandigarh</th>\n",
       "      <th>Narendra Modi Stadium, Ahmedabad</th>\n",
       "      <th>Rajiv Gandhi International Stadium, Hyderabad</th>\n",
       "      <th>Sawai Mansingh Stadium, Jaipur</th>\n",
       "      <th>Wankhede Stadium, Mumbai</th>\n",
       "    </tr>\n",
       "    <tr>\n",
       "      <th>MatchName</th>\n",
       "      <th></th>\n",
       "      <th></th>\n",
       "      <th></th>\n",
       "      <th></th>\n",
       "      <th></th>\n",
       "      <th></th>\n",
       "      <th></th>\n",
       "      <th></th>\n",
       "      <th></th>\n",
       "      <th></th>\n",
       "      <th></th>\n",
       "      <th></th>\n",
       "      <th></th>\n",
       "      <th></th>\n",
       "    </tr>\n",
       "  </thead>\n",
       "  <tbody>\n",
       "    <tr>\n",
       "      <th>Chennai Super Kings vs Delhi Capitals</th>\n",
       "      <td>0</td>\n",
       "      <td>0</td>\n",
       "      <td>0</td>\n",
       "      <td>0</td>\n",
       "      <td>0</td>\n",
       "      <td>0</td>\n",
       "      <td>0</td>\n",
       "      <td>1</td>\n",
       "      <td>0</td>\n",
       "      <td>0</td>\n",
       "      <td>0</td>\n",
       "      <td>0</td>\n",
       "      <td>0</td>\n",
       "      <td>0</td>\n",
       "    </tr>\n",
       "    <tr>\n",
       "      <th>Chennai Super Kings vs Kolkata Knight Riders</th>\n",
       "      <td>0</td>\n",
       "      <td>0</td>\n",
       "      <td>0</td>\n",
       "      <td>0</td>\n",
       "      <td>0</td>\n",
       "      <td>0</td>\n",
       "      <td>0</td>\n",
       "      <td>1</td>\n",
       "      <td>0</td>\n",
       "      <td>0</td>\n",
       "      <td>0</td>\n",
       "      <td>0</td>\n",
       "      <td>0</td>\n",
       "      <td>0</td>\n",
       "    </tr>\n",
       "    <tr>\n",
       "      <th>Chennai Super Kings vs Mumbai Indians</th>\n",
       "      <td>0</td>\n",
       "      <td>0</td>\n",
       "      <td>0</td>\n",
       "      <td>0</td>\n",
       "      <td>0</td>\n",
       "      <td>0</td>\n",
       "      <td>0</td>\n",
       "      <td>1</td>\n",
       "      <td>0</td>\n",
       "      <td>0</td>\n",
       "      <td>0</td>\n",
       "      <td>0</td>\n",
       "      <td>0</td>\n",
       "      <td>0</td>\n",
       "    </tr>\n",
       "    <tr>\n",
       "      <th>Chennai Super Kings vs Punjab Kings</th>\n",
       "      <td>0</td>\n",
       "      <td>0</td>\n",
       "      <td>0</td>\n",
       "      <td>0</td>\n",
       "      <td>0</td>\n",
       "      <td>0</td>\n",
       "      <td>0</td>\n",
       "      <td>1</td>\n",
       "      <td>0</td>\n",
       "      <td>0</td>\n",
       "      <td>0</td>\n",
       "      <td>0</td>\n",
       "      <td>0</td>\n",
       "      <td>0</td>\n",
       "    </tr>\n",
       "    <tr>\n",
       "      <th>Chennai Super Kings vs Rajasthan Royals</th>\n",
       "      <td>1</td>\n",
       "      <td>0</td>\n",
       "      <td>0</td>\n",
       "      <td>0</td>\n",
       "      <td>0</td>\n",
       "      <td>0</td>\n",
       "      <td>0</td>\n",
       "      <td>0</td>\n",
       "      <td>0</td>\n",
       "      <td>0</td>\n",
       "      <td>0</td>\n",
       "      <td>0</td>\n",
       "      <td>0</td>\n",
       "      <td>0</td>\n",
       "    </tr>\n",
       "    <tr>\n",
       "      <th>...</th>\n",
       "      <td>...</td>\n",
       "      <td>...</td>\n",
       "      <td>...</td>\n",
       "      <td>...</td>\n",
       "      <td>...</td>\n",
       "      <td>...</td>\n",
       "      <td>...</td>\n",
       "      <td>...</td>\n",
       "      <td>...</td>\n",
       "      <td>...</td>\n",
       "      <td>...</td>\n",
       "      <td>...</td>\n",
       "      <td>...</td>\n",
       "      <td>...</td>\n",
       "    </tr>\n",
       "    <tr>\n",
       "      <th>Sunrisers Hyderabad vs Kolkata Knight Riders</th>\n",
       "      <td>1</td>\n",
       "      <td>0</td>\n",
       "      <td>0</td>\n",
       "      <td>0</td>\n",
       "      <td>0</td>\n",
       "      <td>0</td>\n",
       "      <td>0</td>\n",
       "      <td>0</td>\n",
       "      <td>0</td>\n",
       "      <td>0</td>\n",
       "      <td>0</td>\n",
       "      <td>0</td>\n",
       "      <td>0</td>\n",
       "      <td>0</td>\n",
       "    </tr>\n",
       "    <tr>\n",
       "      <th>Sunrisers Hyderabad vs Lucknow Super Giants</th>\n",
       "      <td>0</td>\n",
       "      <td>0</td>\n",
       "      <td>0</td>\n",
       "      <td>0</td>\n",
       "      <td>0</td>\n",
       "      <td>0</td>\n",
       "      <td>0</td>\n",
       "      <td>0</td>\n",
       "      <td>0</td>\n",
       "      <td>0</td>\n",
       "      <td>0</td>\n",
       "      <td>1</td>\n",
       "      <td>0</td>\n",
       "      <td>0</td>\n",
       "    </tr>\n",
       "    <tr>\n",
       "      <th>Sunrisers Hyderabad vs Mumbai Indians</th>\n",
       "      <td>0</td>\n",
       "      <td>0</td>\n",
       "      <td>0</td>\n",
       "      <td>0</td>\n",
       "      <td>0</td>\n",
       "      <td>0</td>\n",
       "      <td>0</td>\n",
       "      <td>0</td>\n",
       "      <td>0</td>\n",
       "      <td>0</td>\n",
       "      <td>0</td>\n",
       "      <td>1</td>\n",
       "      <td>0</td>\n",
       "      <td>0</td>\n",
       "    </tr>\n",
       "    <tr>\n",
       "      <th>Sunrisers Hyderabad vs Punjab Kings</th>\n",
       "      <td>0</td>\n",
       "      <td>0</td>\n",
       "      <td>0</td>\n",
       "      <td>0</td>\n",
       "      <td>0</td>\n",
       "      <td>0</td>\n",
       "      <td>0</td>\n",
       "      <td>0</td>\n",
       "      <td>0</td>\n",
       "      <td>0</td>\n",
       "      <td>0</td>\n",
       "      <td>1</td>\n",
       "      <td>0</td>\n",
       "      <td>0</td>\n",
       "    </tr>\n",
       "    <tr>\n",
       "      <th>Sunrisers Hyderabad vs Rajasthan Royals</th>\n",
       "      <td>0</td>\n",
       "      <td>0</td>\n",
       "      <td>0</td>\n",
       "      <td>0</td>\n",
       "      <td>0</td>\n",
       "      <td>0</td>\n",
       "      <td>0</td>\n",
       "      <td>0</td>\n",
       "      <td>0</td>\n",
       "      <td>0</td>\n",
       "      <td>0</td>\n",
       "      <td>1</td>\n",
       "      <td>0</td>\n",
       "      <td>0</td>\n",
       "    </tr>\n",
       "  </tbody>\n",
       "</table>\n",
       "<p>70 rows × 14 columns</p>\n",
       "</div>"
      ],
      "text/plain": [
       "MatchVenue                                    Arun Jaitley Stadium, Delhi  \\\n",
       "MatchName                                                                   \n",
       "Chennai Super Kings vs Delhi Capitals                                   0   \n",
       "Chennai Super Kings vs Kolkata Knight Riders                            0   \n",
       "Chennai Super Kings vs Mumbai Indians                                   0   \n",
       "Chennai Super Kings vs Punjab Kings                                     0   \n",
       "Chennai Super Kings vs Rajasthan Royals                                 1   \n",
       "...                                                                   ...   \n",
       "Sunrisers Hyderabad vs Kolkata Knight Riders                            1   \n",
       "Sunrisers Hyderabad vs Lucknow Super Giants                             0   \n",
       "Sunrisers Hyderabad vs Mumbai Indians                                   0   \n",
       "Sunrisers Hyderabad vs Punjab Kings                                     0   \n",
       "Sunrisers Hyderabad vs Rajasthan Royals                                 0   \n",
       "\n",
       "MatchVenue                                    Barsapara Cricket Stadium, Guwahati  \\\n",
       "MatchName                                                                           \n",
       "Chennai Super Kings vs Delhi Capitals                                           0   \n",
       "Chennai Super Kings vs Kolkata Knight Riders                                    0   \n",
       "Chennai Super Kings vs Mumbai Indians                                           0   \n",
       "Chennai Super Kings vs Punjab Kings                                             0   \n",
       "Chennai Super Kings vs Rajasthan Royals                                         0   \n",
       "...                                                                           ...   \n",
       "Sunrisers Hyderabad vs Kolkata Knight Riders                                    0   \n",
       "Sunrisers Hyderabad vs Lucknow Super Giants                                     0   \n",
       "Sunrisers Hyderabad vs Mumbai Indians                                           0   \n",
       "Sunrisers Hyderabad vs Punjab Kings                                             0   \n",
       "Sunrisers Hyderabad vs Rajasthan Royals                                         0   \n",
       "\n",
       "MatchVenue                                    Bharat Ratna Shri Atal Bihari Vajpayee Ekana Cricket Stadium, Lucknow  \\\n",
       "MatchName                                                                                                             \n",
       "Chennai Super Kings vs Delhi Capitals                                                         0                       \n",
       "Chennai Super Kings vs Kolkata Knight Riders                                                  0                       \n",
       "Chennai Super Kings vs Mumbai Indians                                                         0                       \n",
       "Chennai Super Kings vs Punjab Kings                                                           0                       \n",
       "Chennai Super Kings vs Rajasthan Royals                                                       0                       \n",
       "...                                                                                         ...                       \n",
       "Sunrisers Hyderabad vs Kolkata Knight Riders                                                  0                       \n",
       "Sunrisers Hyderabad vs Lucknow Super Giants                                                   0                       \n",
       "Sunrisers Hyderabad vs Mumbai Indians                                                         0                       \n",
       "Sunrisers Hyderabad vs Punjab Kings                                                           0                       \n",
       "Sunrisers Hyderabad vs Rajasthan Royals                                                       0                       \n",
       "\n",
       "MatchVenue                                    Dr. Y.S. Rajasekhara Reddy ACA-VDCA Cricket Stadium, Visakhapatnam  \\\n",
       "MatchName                                                                                                          \n",
       "Chennai Super Kings vs Delhi Capitals                                                         0                    \n",
       "Chennai Super Kings vs Kolkata Knight Riders                                                  0                    \n",
       "Chennai Super Kings vs Mumbai Indians                                                         0                    \n",
       "Chennai Super Kings vs Punjab Kings                                                           0                    \n",
       "Chennai Super Kings vs Rajasthan Royals                                                       0                    \n",
       "...                                                                                         ...                    \n",
       "Sunrisers Hyderabad vs Kolkata Knight Riders                                                  0                    \n",
       "Sunrisers Hyderabad vs Lucknow Super Giants                                                   0                    \n",
       "Sunrisers Hyderabad vs Mumbai Indians                                                         0                    \n",
       "Sunrisers Hyderabad vs Punjab Kings                                                           0                    \n",
       "Sunrisers Hyderabad vs Rajasthan Royals                                                       0                    \n",
       "\n",
       "MatchVenue                                    Eden Gardens, Kolkata  \\\n",
       "MatchName                                                             \n",
       "Chennai Super Kings vs Delhi Capitals                             0   \n",
       "Chennai Super Kings vs Kolkata Knight Riders                      0   \n",
       "Chennai Super Kings vs Mumbai Indians                             0   \n",
       "Chennai Super Kings vs Punjab Kings                               0   \n",
       "Chennai Super Kings vs Rajasthan Royals                           0   \n",
       "...                                                             ...   \n",
       "Sunrisers Hyderabad vs Kolkata Knight Riders                      0   \n",
       "Sunrisers Hyderabad vs Lucknow Super Giants                       0   \n",
       "Sunrisers Hyderabad vs Mumbai Indians                             0   \n",
       "Sunrisers Hyderabad vs Punjab Kings                               0   \n",
       "Sunrisers Hyderabad vs Rajasthan Royals                           0   \n",
       "\n",
       "MatchVenue                                    Himachal Pradesh Cricket Association Stadium, Dharamsala  \\\n",
       "MatchName                                                                                                \n",
       "Chennai Super Kings vs Delhi Capitals                                                         0          \n",
       "Chennai Super Kings vs Kolkata Knight Riders                                                  0          \n",
       "Chennai Super Kings vs Mumbai Indians                                                         0          \n",
       "Chennai Super Kings vs Punjab Kings                                                           0          \n",
       "Chennai Super Kings vs Rajasthan Royals                                                       0          \n",
       "...                                                                                         ...          \n",
       "Sunrisers Hyderabad vs Kolkata Knight Riders                                                  0          \n",
       "Sunrisers Hyderabad vs Lucknow Super Giants                                                   0          \n",
       "Sunrisers Hyderabad vs Mumbai Indians                                                         0          \n",
       "Sunrisers Hyderabad vs Punjab Kings                                                           0          \n",
       "Sunrisers Hyderabad vs Rajasthan Royals                                                       0          \n",
       "\n",
       "MatchVenue                                    M.Chinnaswamy Stadium, Bengaluru  \\\n",
       "MatchName                                                                        \n",
       "Chennai Super Kings vs Delhi Capitals                                        0   \n",
       "Chennai Super Kings vs Kolkata Knight Riders                                 0   \n",
       "Chennai Super Kings vs Mumbai Indians                                        0   \n",
       "Chennai Super Kings vs Punjab Kings                                          0   \n",
       "Chennai Super Kings vs Rajasthan Royals                                      0   \n",
       "...                                                                        ...   \n",
       "Sunrisers Hyderabad vs Kolkata Knight Riders                                 0   \n",
       "Sunrisers Hyderabad vs Lucknow Super Giants                                  0   \n",
       "Sunrisers Hyderabad vs Mumbai Indians                                        0   \n",
       "Sunrisers Hyderabad vs Punjab Kings                                          0   \n",
       "Sunrisers Hyderabad vs Rajasthan Royals                                      0   \n",
       "\n",
       "MatchVenue                                    MA Chidambaram Stadium, Chennai  \\\n",
       "MatchName                                                                       \n",
       "Chennai Super Kings vs Delhi Capitals                                       1   \n",
       "Chennai Super Kings vs Kolkata Knight Riders                                1   \n",
       "Chennai Super Kings vs Mumbai Indians                                       1   \n",
       "Chennai Super Kings vs Punjab Kings                                         1   \n",
       "Chennai Super Kings vs Rajasthan Royals                                     0   \n",
       "...                                                                       ...   \n",
       "Sunrisers Hyderabad vs Kolkata Knight Riders                                0   \n",
       "Sunrisers Hyderabad vs Lucknow Super Giants                                 0   \n",
       "Sunrisers Hyderabad vs Mumbai Indians                                       0   \n",
       "Sunrisers Hyderabad vs Punjab Kings                                         0   \n",
       "Sunrisers Hyderabad vs Rajasthan Royals                                     0   \n",
       "\n",
       "MatchVenue                                    Maharaja Yadavindra Singh International Cricket Stadium, Mullanpur, Chandigarh  \\\n",
       "MatchName                                                                                                                      \n",
       "Chennai Super Kings vs Delhi Capitals                                                         0                                \n",
       "Chennai Super Kings vs Kolkata Knight Riders                                                  0                                \n",
       "Chennai Super Kings vs Mumbai Indians                                                         0                                \n",
       "Chennai Super Kings vs Punjab Kings                                                           0                                \n",
       "Chennai Super Kings vs Rajasthan Royals                                                       0                                \n",
       "...                                                                                         ...                                \n",
       "Sunrisers Hyderabad vs Kolkata Knight Riders                                                  0                                \n",
       "Sunrisers Hyderabad vs Lucknow Super Giants                                                   0                                \n",
       "Sunrisers Hyderabad vs Mumbai Indians                                                         0                                \n",
       "Sunrisers Hyderabad vs Punjab Kings                                                           0                                \n",
       "Sunrisers Hyderabad vs Rajasthan Royals                                                       0                                \n",
       "\n",
       "MatchVenue                                    Maharaja Yadavindra Singh International Cricket Stadium, Mullanpur, New Chandigarh  \\\n",
       "MatchName                                                                                                                          \n",
       "Chennai Super Kings vs Delhi Capitals                                                         0                                    \n",
       "Chennai Super Kings vs Kolkata Knight Riders                                                  0                                    \n",
       "Chennai Super Kings vs Mumbai Indians                                                         0                                    \n",
       "Chennai Super Kings vs Punjab Kings                                                           0                                    \n",
       "Chennai Super Kings vs Rajasthan Royals                                                       0                                    \n",
       "...                                                                                         ...                                    \n",
       "Sunrisers Hyderabad vs Kolkata Knight Riders                                                  0                                    \n",
       "Sunrisers Hyderabad vs Lucknow Super Giants                                                   0                                    \n",
       "Sunrisers Hyderabad vs Mumbai Indians                                                         0                                    \n",
       "Sunrisers Hyderabad vs Punjab Kings                                                           0                                    \n",
       "Sunrisers Hyderabad vs Rajasthan Royals                                                       0                                    \n",
       "\n",
       "MatchVenue                                    Narendra Modi Stadium, Ahmedabad  \\\n",
       "MatchName                                                                        \n",
       "Chennai Super Kings vs Delhi Capitals                                        0   \n",
       "Chennai Super Kings vs Kolkata Knight Riders                                 0   \n",
       "Chennai Super Kings vs Mumbai Indians                                        0   \n",
       "Chennai Super Kings vs Punjab Kings                                          0   \n",
       "Chennai Super Kings vs Rajasthan Royals                                      0   \n",
       "...                                                                        ...   \n",
       "Sunrisers Hyderabad vs Kolkata Knight Riders                                 0   \n",
       "Sunrisers Hyderabad vs Lucknow Super Giants                                  0   \n",
       "Sunrisers Hyderabad vs Mumbai Indians                                        0   \n",
       "Sunrisers Hyderabad vs Punjab Kings                                          0   \n",
       "Sunrisers Hyderabad vs Rajasthan Royals                                      0   \n",
       "\n",
       "MatchVenue                                    Rajiv Gandhi International Stadium, Hyderabad  \\\n",
       "MatchName                                                                                     \n",
       "Chennai Super Kings vs Delhi Capitals                                                     0   \n",
       "Chennai Super Kings vs Kolkata Knight Riders                                              0   \n",
       "Chennai Super Kings vs Mumbai Indians                                                     0   \n",
       "Chennai Super Kings vs Punjab Kings                                                       0   \n",
       "Chennai Super Kings vs Rajasthan Royals                                                   0   \n",
       "...                                                                                     ...   \n",
       "Sunrisers Hyderabad vs Kolkata Knight Riders                                              0   \n",
       "Sunrisers Hyderabad vs Lucknow Super Giants                                               1   \n",
       "Sunrisers Hyderabad vs Mumbai Indians                                                     1   \n",
       "Sunrisers Hyderabad vs Punjab Kings                                                       1   \n",
       "Sunrisers Hyderabad vs Rajasthan Royals                                                   1   \n",
       "\n",
       "MatchVenue                                    Sawai Mansingh Stadium, Jaipur  \\\n",
       "MatchName                                                                      \n",
       "Chennai Super Kings vs Delhi Capitals                                      0   \n",
       "Chennai Super Kings vs Kolkata Knight Riders                               0   \n",
       "Chennai Super Kings vs Mumbai Indians                                      0   \n",
       "Chennai Super Kings vs Punjab Kings                                        0   \n",
       "Chennai Super Kings vs Rajasthan Royals                                    0   \n",
       "...                                                                      ...   \n",
       "Sunrisers Hyderabad vs Kolkata Knight Riders                               0   \n",
       "Sunrisers Hyderabad vs Lucknow Super Giants                                0   \n",
       "Sunrisers Hyderabad vs Mumbai Indians                                      0   \n",
       "Sunrisers Hyderabad vs Punjab Kings                                        0   \n",
       "Sunrisers Hyderabad vs Rajasthan Royals                                    0   \n",
       "\n",
       "MatchVenue                                    Wankhede Stadium, Mumbai  \n",
       "MatchName                                                               \n",
       "Chennai Super Kings vs Delhi Capitals                                0  \n",
       "Chennai Super Kings vs Kolkata Knight Riders                         0  \n",
       "Chennai Super Kings vs Mumbai Indians                                0  \n",
       "Chennai Super Kings vs Punjab Kings                                  0  \n",
       "Chennai Super Kings vs Rajasthan Royals                              0  \n",
       "...                                                                ...  \n",
       "Sunrisers Hyderabad vs Kolkata Knight Riders                         0  \n",
       "Sunrisers Hyderabad vs Lucknow Super Giants                          0  \n",
       "Sunrisers Hyderabad vs Mumbai Indians                                0  \n",
       "Sunrisers Hyderabad vs Punjab Kings                                  0  \n",
       "Sunrisers Hyderabad vs Rajasthan Royals                              0  \n",
       "\n",
       "[70 rows x 14 columns]"
      ]
     },
     "execution_count": 78,
     "metadata": {},
     "output_type": "execute_result"
    }
   ],
   "source": [
    "dis=pd.crosstab(index=ds.MatchName,columns=ds.MatchVenue)\n",
    "dis"
   ]
  },
  {
   "cell_type": "code",
   "execution_count": 79,
   "id": "89edac58-25c0-4cd2-b6c3-7a57eb4036ed",
   "metadata": {
    "scrolled": true
   },
   "outputs": [
    {
     "data": {
      "application/vnd.plotly.v1+json": {
       "config": {
        "plotlyServerURL": "https://plot.ly"
       },
       "data": [
        {
         "name": "Chennai Super Kings vs Delhi Capitals",
         "type": "bar",
         "x": [
          "Arun Jaitley Stadium, Delhi",
          "Barsapara Cricket Stadium, Guwahati",
          "Bharat Ratna Shri Atal Bihari Vajpayee Ekana Cricket Stadium, Lucknow",
          "Dr. Y.S. Rajasekhara Reddy ACA-VDCA Cricket Stadium, Visakhapatnam",
          "Eden Gardens, Kolkata",
          "Himachal Pradesh Cricket Association Stadium, Dharamsala",
          "M.Chinnaswamy Stadium, Bengaluru",
          "MA Chidambaram Stadium, Chennai",
          "Maharaja Yadavindra Singh International Cricket Stadium, Mullanpur, Chandigarh",
          "Maharaja Yadavindra Singh International Cricket Stadium, Mullanpur, New Chandigarh",
          "Narendra Modi Stadium, Ahmedabad",
          "Rajiv Gandhi International Stadium, Hyderabad",
          "Sawai Mansingh Stadium, Jaipur",
          "Wankhede Stadium, Mumbai"
         ],
         "y": [
          0,
          0,
          0,
          0,
          0,
          0,
          0,
          1,
          0,
          0,
          0,
          0,
          0,
          0
         ]
        },
        {
         "name": "Chennai Super Kings vs Kolkata Knight Riders",
         "type": "bar",
         "x": [
          "Arun Jaitley Stadium, Delhi",
          "Barsapara Cricket Stadium, Guwahati",
          "Bharat Ratna Shri Atal Bihari Vajpayee Ekana Cricket Stadium, Lucknow",
          "Dr. Y.S. Rajasekhara Reddy ACA-VDCA Cricket Stadium, Visakhapatnam",
          "Eden Gardens, Kolkata",
          "Himachal Pradesh Cricket Association Stadium, Dharamsala",
          "M.Chinnaswamy Stadium, Bengaluru",
          "MA Chidambaram Stadium, Chennai",
          "Maharaja Yadavindra Singh International Cricket Stadium, Mullanpur, Chandigarh",
          "Maharaja Yadavindra Singh International Cricket Stadium, Mullanpur, New Chandigarh",
          "Narendra Modi Stadium, Ahmedabad",
          "Rajiv Gandhi International Stadium, Hyderabad",
          "Sawai Mansingh Stadium, Jaipur",
          "Wankhede Stadium, Mumbai"
         ],
         "y": [
          0,
          0,
          0,
          0,
          0,
          0,
          0,
          1,
          0,
          0,
          0,
          0,
          0,
          0
         ]
        },
        {
         "name": "Chennai Super Kings vs Mumbai Indians",
         "type": "bar",
         "x": [
          "Arun Jaitley Stadium, Delhi",
          "Barsapara Cricket Stadium, Guwahati",
          "Bharat Ratna Shri Atal Bihari Vajpayee Ekana Cricket Stadium, Lucknow",
          "Dr. Y.S. Rajasekhara Reddy ACA-VDCA Cricket Stadium, Visakhapatnam",
          "Eden Gardens, Kolkata",
          "Himachal Pradesh Cricket Association Stadium, Dharamsala",
          "M.Chinnaswamy Stadium, Bengaluru",
          "MA Chidambaram Stadium, Chennai",
          "Maharaja Yadavindra Singh International Cricket Stadium, Mullanpur, Chandigarh",
          "Maharaja Yadavindra Singh International Cricket Stadium, Mullanpur, New Chandigarh",
          "Narendra Modi Stadium, Ahmedabad",
          "Rajiv Gandhi International Stadium, Hyderabad",
          "Sawai Mansingh Stadium, Jaipur",
          "Wankhede Stadium, Mumbai"
         ],
         "y": [
          0,
          0,
          0,
          0,
          0,
          0,
          0,
          1,
          0,
          0,
          0,
          0,
          0,
          0
         ]
        },
        {
         "name": "Chennai Super Kings vs Punjab Kings",
         "type": "bar",
         "x": [
          "Arun Jaitley Stadium, Delhi",
          "Barsapara Cricket Stadium, Guwahati",
          "Bharat Ratna Shri Atal Bihari Vajpayee Ekana Cricket Stadium, Lucknow",
          "Dr. Y.S. Rajasekhara Reddy ACA-VDCA Cricket Stadium, Visakhapatnam",
          "Eden Gardens, Kolkata",
          "Himachal Pradesh Cricket Association Stadium, Dharamsala",
          "M.Chinnaswamy Stadium, Bengaluru",
          "MA Chidambaram Stadium, Chennai",
          "Maharaja Yadavindra Singh International Cricket Stadium, Mullanpur, Chandigarh",
          "Maharaja Yadavindra Singh International Cricket Stadium, Mullanpur, New Chandigarh",
          "Narendra Modi Stadium, Ahmedabad",
          "Rajiv Gandhi International Stadium, Hyderabad",
          "Sawai Mansingh Stadium, Jaipur",
          "Wankhede Stadium, Mumbai"
         ],
         "y": [
          0,
          0,
          0,
          0,
          0,
          0,
          0,
          1,
          0,
          0,
          0,
          0,
          0,
          0
         ]
        },
        {
         "name": "Chennai Super Kings vs Rajasthan Royals",
         "type": "bar",
         "x": [
          "Arun Jaitley Stadium, Delhi",
          "Barsapara Cricket Stadium, Guwahati",
          "Bharat Ratna Shri Atal Bihari Vajpayee Ekana Cricket Stadium, Lucknow",
          "Dr. Y.S. Rajasekhara Reddy ACA-VDCA Cricket Stadium, Visakhapatnam",
          "Eden Gardens, Kolkata",
          "Himachal Pradesh Cricket Association Stadium, Dharamsala",
          "M.Chinnaswamy Stadium, Bengaluru",
          "MA Chidambaram Stadium, Chennai",
          "Maharaja Yadavindra Singh International Cricket Stadium, Mullanpur, Chandigarh",
          "Maharaja Yadavindra Singh International Cricket Stadium, Mullanpur, New Chandigarh",
          "Narendra Modi Stadium, Ahmedabad",
          "Rajiv Gandhi International Stadium, Hyderabad",
          "Sawai Mansingh Stadium, Jaipur",
          "Wankhede Stadium, Mumbai"
         ],
         "y": [
          1,
          0,
          0,
          0,
          0,
          0,
          0,
          0,
          0,
          0,
          0,
          0,
          0,
          0
         ]
        },
        {
         "name": "Chennai Super Kings vs Royal Challengers Bengaluru",
         "type": "bar",
         "x": [
          "Arun Jaitley Stadium, Delhi",
          "Barsapara Cricket Stadium, Guwahati",
          "Bharat Ratna Shri Atal Bihari Vajpayee Ekana Cricket Stadium, Lucknow",
          "Dr. Y.S. Rajasekhara Reddy ACA-VDCA Cricket Stadium, Visakhapatnam",
          "Eden Gardens, Kolkata",
          "Himachal Pradesh Cricket Association Stadium, Dharamsala",
          "M.Chinnaswamy Stadium, Bengaluru",
          "MA Chidambaram Stadium, Chennai",
          "Maharaja Yadavindra Singh International Cricket Stadium, Mullanpur, Chandigarh",
          "Maharaja Yadavindra Singh International Cricket Stadium, Mullanpur, New Chandigarh",
          "Narendra Modi Stadium, Ahmedabad",
          "Rajiv Gandhi International Stadium, Hyderabad",
          "Sawai Mansingh Stadium, Jaipur",
          "Wankhede Stadium, Mumbai"
         ],
         "y": [
          0,
          0,
          0,
          0,
          0,
          0,
          0,
          1,
          0,
          0,
          0,
          0,
          0,
          0
         ]
        },
        {
         "name": "Chennai Super Kings vs Sunrisers Hyderabad",
         "type": "bar",
         "x": [
          "Arun Jaitley Stadium, Delhi",
          "Barsapara Cricket Stadium, Guwahati",
          "Bharat Ratna Shri Atal Bihari Vajpayee Ekana Cricket Stadium, Lucknow",
          "Dr. Y.S. Rajasekhara Reddy ACA-VDCA Cricket Stadium, Visakhapatnam",
          "Eden Gardens, Kolkata",
          "Himachal Pradesh Cricket Association Stadium, Dharamsala",
          "M.Chinnaswamy Stadium, Bengaluru",
          "MA Chidambaram Stadium, Chennai",
          "Maharaja Yadavindra Singh International Cricket Stadium, Mullanpur, Chandigarh",
          "Maharaja Yadavindra Singh International Cricket Stadium, Mullanpur, New Chandigarh",
          "Narendra Modi Stadium, Ahmedabad",
          "Rajiv Gandhi International Stadium, Hyderabad",
          "Sawai Mansingh Stadium, Jaipur",
          "Wankhede Stadium, Mumbai"
         ],
         "y": [
          0,
          0,
          0,
          0,
          0,
          0,
          0,
          1,
          0,
          0,
          0,
          0,
          0,
          0
         ]
        },
        {
         "name": "Delhi Capitals vs Gujarat Titans",
         "type": "bar",
         "x": [
          "Arun Jaitley Stadium, Delhi",
          "Barsapara Cricket Stadium, Guwahati",
          "Bharat Ratna Shri Atal Bihari Vajpayee Ekana Cricket Stadium, Lucknow",
          "Dr. Y.S. Rajasekhara Reddy ACA-VDCA Cricket Stadium, Visakhapatnam",
          "Eden Gardens, Kolkata",
          "Himachal Pradesh Cricket Association Stadium, Dharamsala",
          "M.Chinnaswamy Stadium, Bengaluru",
          "MA Chidambaram Stadium, Chennai",
          "Maharaja Yadavindra Singh International Cricket Stadium, Mullanpur, Chandigarh",
          "Maharaja Yadavindra Singh International Cricket Stadium, Mullanpur, New Chandigarh",
          "Narendra Modi Stadium, Ahmedabad",
          "Rajiv Gandhi International Stadium, Hyderabad",
          "Sawai Mansingh Stadium, Jaipur",
          "Wankhede Stadium, Mumbai"
         ],
         "y": [
          1,
          0,
          0,
          0,
          0,
          0,
          0,
          0,
          0,
          0,
          0,
          0,
          0,
          0
         ]
        },
        {
         "name": "Delhi Capitals vs Kolkata Knight Riders",
         "type": "bar",
         "x": [
          "Arun Jaitley Stadium, Delhi",
          "Barsapara Cricket Stadium, Guwahati",
          "Bharat Ratna Shri Atal Bihari Vajpayee Ekana Cricket Stadium, Lucknow",
          "Dr. Y.S. Rajasekhara Reddy ACA-VDCA Cricket Stadium, Visakhapatnam",
          "Eden Gardens, Kolkata",
          "Himachal Pradesh Cricket Association Stadium, Dharamsala",
          "M.Chinnaswamy Stadium, Bengaluru",
          "MA Chidambaram Stadium, Chennai",
          "Maharaja Yadavindra Singh International Cricket Stadium, Mullanpur, Chandigarh",
          "Maharaja Yadavindra Singh International Cricket Stadium, Mullanpur, New Chandigarh",
          "Narendra Modi Stadium, Ahmedabad",
          "Rajiv Gandhi International Stadium, Hyderabad",
          "Sawai Mansingh Stadium, Jaipur",
          "Wankhede Stadium, Mumbai"
         ],
         "y": [
          1,
          0,
          0,
          0,
          0,
          0,
          0,
          0,
          0,
          0,
          0,
          0,
          0,
          0
         ]
        },
        {
         "name": "Delhi Capitals vs Lucknow Super Giants",
         "type": "bar",
         "x": [
          "Arun Jaitley Stadium, Delhi",
          "Barsapara Cricket Stadium, Guwahati",
          "Bharat Ratna Shri Atal Bihari Vajpayee Ekana Cricket Stadium, Lucknow",
          "Dr. Y.S. Rajasekhara Reddy ACA-VDCA Cricket Stadium, Visakhapatnam",
          "Eden Gardens, Kolkata",
          "Himachal Pradesh Cricket Association Stadium, Dharamsala",
          "M.Chinnaswamy Stadium, Bengaluru",
          "MA Chidambaram Stadium, Chennai",
          "Maharaja Yadavindra Singh International Cricket Stadium, Mullanpur, Chandigarh",
          "Maharaja Yadavindra Singh International Cricket Stadium, Mullanpur, New Chandigarh",
          "Narendra Modi Stadium, Ahmedabad",
          "Rajiv Gandhi International Stadium, Hyderabad",
          "Sawai Mansingh Stadium, Jaipur",
          "Wankhede Stadium, Mumbai"
         ],
         "y": [
          0,
          0,
          0,
          1,
          0,
          0,
          0,
          0,
          0,
          0,
          0,
          0,
          0,
          0
         ]
        },
        {
         "name": "Delhi Capitals vs Mumbai Indians",
         "type": "bar",
         "x": [
          "Arun Jaitley Stadium, Delhi",
          "Barsapara Cricket Stadium, Guwahati",
          "Bharat Ratna Shri Atal Bihari Vajpayee Ekana Cricket Stadium, Lucknow",
          "Dr. Y.S. Rajasekhara Reddy ACA-VDCA Cricket Stadium, Visakhapatnam",
          "Eden Gardens, Kolkata",
          "Himachal Pradesh Cricket Association Stadium, Dharamsala",
          "M.Chinnaswamy Stadium, Bengaluru",
          "MA Chidambaram Stadium, Chennai",
          "Maharaja Yadavindra Singh International Cricket Stadium, Mullanpur, Chandigarh",
          "Maharaja Yadavindra Singh International Cricket Stadium, Mullanpur, New Chandigarh",
          "Narendra Modi Stadium, Ahmedabad",
          "Rajiv Gandhi International Stadium, Hyderabad",
          "Sawai Mansingh Stadium, Jaipur",
          "Wankhede Stadium, Mumbai"
         ],
         "y": [
          1,
          0,
          0,
          0,
          0,
          0,
          0,
          0,
          0,
          0,
          0,
          0,
          0,
          0
         ]
        },
        {
         "name": "Delhi Capitals vs Rajasthan Royals",
         "type": "bar",
         "x": [
          "Arun Jaitley Stadium, Delhi",
          "Barsapara Cricket Stadium, Guwahati",
          "Bharat Ratna Shri Atal Bihari Vajpayee Ekana Cricket Stadium, Lucknow",
          "Dr. Y.S. Rajasekhara Reddy ACA-VDCA Cricket Stadium, Visakhapatnam",
          "Eden Gardens, Kolkata",
          "Himachal Pradesh Cricket Association Stadium, Dharamsala",
          "M.Chinnaswamy Stadium, Bengaluru",
          "MA Chidambaram Stadium, Chennai",
          "Maharaja Yadavindra Singh International Cricket Stadium, Mullanpur, Chandigarh",
          "Maharaja Yadavindra Singh International Cricket Stadium, Mullanpur, New Chandigarh",
          "Narendra Modi Stadium, Ahmedabad",
          "Rajiv Gandhi International Stadium, Hyderabad",
          "Sawai Mansingh Stadium, Jaipur",
          "Wankhede Stadium, Mumbai"
         ],
         "y": [
          1,
          0,
          0,
          0,
          0,
          0,
          0,
          0,
          0,
          0,
          0,
          0,
          0,
          0
         ]
        },
        {
         "name": "Delhi Capitals vs Royal Challengers Bengaluru",
         "type": "bar",
         "x": [
          "Arun Jaitley Stadium, Delhi",
          "Barsapara Cricket Stadium, Guwahati",
          "Bharat Ratna Shri Atal Bihari Vajpayee Ekana Cricket Stadium, Lucknow",
          "Dr. Y.S. Rajasekhara Reddy ACA-VDCA Cricket Stadium, Visakhapatnam",
          "Eden Gardens, Kolkata",
          "Himachal Pradesh Cricket Association Stadium, Dharamsala",
          "M.Chinnaswamy Stadium, Bengaluru",
          "MA Chidambaram Stadium, Chennai",
          "Maharaja Yadavindra Singh International Cricket Stadium, Mullanpur, Chandigarh",
          "Maharaja Yadavindra Singh International Cricket Stadium, Mullanpur, New Chandigarh",
          "Narendra Modi Stadium, Ahmedabad",
          "Rajiv Gandhi International Stadium, Hyderabad",
          "Sawai Mansingh Stadium, Jaipur",
          "Wankhede Stadium, Mumbai"
         ],
         "y": [
          1,
          0,
          0,
          0,
          0,
          0,
          0,
          0,
          0,
          0,
          0,
          0,
          0,
          0
         ]
        },
        {
         "name": "Delhi Capitals vs Sunrisers Hyderabad",
         "type": "bar",
         "x": [
          "Arun Jaitley Stadium, Delhi",
          "Barsapara Cricket Stadium, Guwahati",
          "Bharat Ratna Shri Atal Bihari Vajpayee Ekana Cricket Stadium, Lucknow",
          "Dr. Y.S. Rajasekhara Reddy ACA-VDCA Cricket Stadium, Visakhapatnam",
          "Eden Gardens, Kolkata",
          "Himachal Pradesh Cricket Association Stadium, Dharamsala",
          "M.Chinnaswamy Stadium, Bengaluru",
          "MA Chidambaram Stadium, Chennai",
          "Maharaja Yadavindra Singh International Cricket Stadium, Mullanpur, Chandigarh",
          "Maharaja Yadavindra Singh International Cricket Stadium, Mullanpur, New Chandigarh",
          "Narendra Modi Stadium, Ahmedabad",
          "Rajiv Gandhi International Stadium, Hyderabad",
          "Sawai Mansingh Stadium, Jaipur",
          "Wankhede Stadium, Mumbai"
         ],
         "y": [
          0,
          0,
          0,
          1,
          0,
          0,
          0,
          0,
          0,
          0,
          0,
          0,
          0,
          0
         ]
        },
        {
         "name": "Gujarat Titans vs Chennai Super Kings",
         "type": "bar",
         "x": [
          "Arun Jaitley Stadium, Delhi",
          "Barsapara Cricket Stadium, Guwahati",
          "Bharat Ratna Shri Atal Bihari Vajpayee Ekana Cricket Stadium, Lucknow",
          "Dr. Y.S. Rajasekhara Reddy ACA-VDCA Cricket Stadium, Visakhapatnam",
          "Eden Gardens, Kolkata",
          "Himachal Pradesh Cricket Association Stadium, Dharamsala",
          "M.Chinnaswamy Stadium, Bengaluru",
          "MA Chidambaram Stadium, Chennai",
          "Maharaja Yadavindra Singh International Cricket Stadium, Mullanpur, Chandigarh",
          "Maharaja Yadavindra Singh International Cricket Stadium, Mullanpur, New Chandigarh",
          "Narendra Modi Stadium, Ahmedabad",
          "Rajiv Gandhi International Stadium, Hyderabad",
          "Sawai Mansingh Stadium, Jaipur",
          "Wankhede Stadium, Mumbai"
         ],
         "y": [
          0,
          0,
          0,
          0,
          0,
          0,
          0,
          0,
          0,
          0,
          1,
          0,
          0,
          0
         ]
        },
        {
         "name": "Gujarat Titans vs Delhi Capitals",
         "type": "bar",
         "x": [
          "Arun Jaitley Stadium, Delhi",
          "Barsapara Cricket Stadium, Guwahati",
          "Bharat Ratna Shri Atal Bihari Vajpayee Ekana Cricket Stadium, Lucknow",
          "Dr. Y.S. Rajasekhara Reddy ACA-VDCA Cricket Stadium, Visakhapatnam",
          "Eden Gardens, Kolkata",
          "Himachal Pradesh Cricket Association Stadium, Dharamsala",
          "M.Chinnaswamy Stadium, Bengaluru",
          "MA Chidambaram Stadium, Chennai",
          "Maharaja Yadavindra Singh International Cricket Stadium, Mullanpur, Chandigarh",
          "Maharaja Yadavindra Singh International Cricket Stadium, Mullanpur, New Chandigarh",
          "Narendra Modi Stadium, Ahmedabad",
          "Rajiv Gandhi International Stadium, Hyderabad",
          "Sawai Mansingh Stadium, Jaipur",
          "Wankhede Stadium, Mumbai"
         ],
         "y": [
          0,
          0,
          0,
          0,
          0,
          0,
          0,
          0,
          0,
          0,
          1,
          0,
          0,
          0
         ]
        },
        {
         "name": "Gujarat Titans vs Lucknow Super Giants",
         "type": "bar",
         "x": [
          "Arun Jaitley Stadium, Delhi",
          "Barsapara Cricket Stadium, Guwahati",
          "Bharat Ratna Shri Atal Bihari Vajpayee Ekana Cricket Stadium, Lucknow",
          "Dr. Y.S. Rajasekhara Reddy ACA-VDCA Cricket Stadium, Visakhapatnam",
          "Eden Gardens, Kolkata",
          "Himachal Pradesh Cricket Association Stadium, Dharamsala",
          "M.Chinnaswamy Stadium, Bengaluru",
          "MA Chidambaram Stadium, Chennai",
          "Maharaja Yadavindra Singh International Cricket Stadium, Mullanpur, Chandigarh",
          "Maharaja Yadavindra Singh International Cricket Stadium, Mullanpur, New Chandigarh",
          "Narendra Modi Stadium, Ahmedabad",
          "Rajiv Gandhi International Stadium, Hyderabad",
          "Sawai Mansingh Stadium, Jaipur",
          "Wankhede Stadium, Mumbai"
         ],
         "y": [
          0,
          0,
          0,
          0,
          0,
          0,
          0,
          0,
          0,
          0,
          1,
          0,
          0,
          0
         ]
        },
        {
         "name": "Gujarat Titans vs Mumbai Indians",
         "type": "bar",
         "x": [
          "Arun Jaitley Stadium, Delhi",
          "Barsapara Cricket Stadium, Guwahati",
          "Bharat Ratna Shri Atal Bihari Vajpayee Ekana Cricket Stadium, Lucknow",
          "Dr. Y.S. Rajasekhara Reddy ACA-VDCA Cricket Stadium, Visakhapatnam",
          "Eden Gardens, Kolkata",
          "Himachal Pradesh Cricket Association Stadium, Dharamsala",
          "M.Chinnaswamy Stadium, Bengaluru",
          "MA Chidambaram Stadium, Chennai",
          "Maharaja Yadavindra Singh International Cricket Stadium, Mullanpur, Chandigarh",
          "Maharaja Yadavindra Singh International Cricket Stadium, Mullanpur, New Chandigarh",
          "Narendra Modi Stadium, Ahmedabad",
          "Rajiv Gandhi International Stadium, Hyderabad",
          "Sawai Mansingh Stadium, Jaipur",
          "Wankhede Stadium, Mumbai"
         ],
         "y": [
          0,
          0,
          0,
          0,
          0,
          0,
          0,
          0,
          0,
          1,
          1,
          0,
          0,
          0
         ]
        },
        {
         "name": "Gujarat Titans vs Punjab Kings",
         "type": "bar",
         "x": [
          "Arun Jaitley Stadium, Delhi",
          "Barsapara Cricket Stadium, Guwahati",
          "Bharat Ratna Shri Atal Bihari Vajpayee Ekana Cricket Stadium, Lucknow",
          "Dr. Y.S. Rajasekhara Reddy ACA-VDCA Cricket Stadium, Visakhapatnam",
          "Eden Gardens, Kolkata",
          "Himachal Pradesh Cricket Association Stadium, Dharamsala",
          "M.Chinnaswamy Stadium, Bengaluru",
          "MA Chidambaram Stadium, Chennai",
          "Maharaja Yadavindra Singh International Cricket Stadium, Mullanpur, Chandigarh",
          "Maharaja Yadavindra Singh International Cricket Stadium, Mullanpur, New Chandigarh",
          "Narendra Modi Stadium, Ahmedabad",
          "Rajiv Gandhi International Stadium, Hyderabad",
          "Sawai Mansingh Stadium, Jaipur",
          "Wankhede Stadium, Mumbai"
         ],
         "y": [
          0,
          0,
          0,
          0,
          0,
          0,
          0,
          0,
          0,
          0,
          1,
          0,
          0,
          0
         ]
        },
        {
         "name": "Gujarat Titans vs Rajasthan Royals",
         "type": "bar",
         "x": [
          "Arun Jaitley Stadium, Delhi",
          "Barsapara Cricket Stadium, Guwahati",
          "Bharat Ratna Shri Atal Bihari Vajpayee Ekana Cricket Stadium, Lucknow",
          "Dr. Y.S. Rajasekhara Reddy ACA-VDCA Cricket Stadium, Visakhapatnam",
          "Eden Gardens, Kolkata",
          "Himachal Pradesh Cricket Association Stadium, Dharamsala",
          "M.Chinnaswamy Stadium, Bengaluru",
          "MA Chidambaram Stadium, Chennai",
          "Maharaja Yadavindra Singh International Cricket Stadium, Mullanpur, Chandigarh",
          "Maharaja Yadavindra Singh International Cricket Stadium, Mullanpur, New Chandigarh",
          "Narendra Modi Stadium, Ahmedabad",
          "Rajiv Gandhi International Stadium, Hyderabad",
          "Sawai Mansingh Stadium, Jaipur",
          "Wankhede Stadium, Mumbai"
         ],
         "y": [
          0,
          0,
          0,
          0,
          0,
          0,
          0,
          0,
          0,
          0,
          1,
          0,
          0,
          0
         ]
        },
        {
         "name": "Gujarat Titans vs Sunrisers Hyderabad",
         "type": "bar",
         "x": [
          "Arun Jaitley Stadium, Delhi",
          "Barsapara Cricket Stadium, Guwahati",
          "Bharat Ratna Shri Atal Bihari Vajpayee Ekana Cricket Stadium, Lucknow",
          "Dr. Y.S. Rajasekhara Reddy ACA-VDCA Cricket Stadium, Visakhapatnam",
          "Eden Gardens, Kolkata",
          "Himachal Pradesh Cricket Association Stadium, Dharamsala",
          "M.Chinnaswamy Stadium, Bengaluru",
          "MA Chidambaram Stadium, Chennai",
          "Maharaja Yadavindra Singh International Cricket Stadium, Mullanpur, Chandigarh",
          "Maharaja Yadavindra Singh International Cricket Stadium, Mullanpur, New Chandigarh",
          "Narendra Modi Stadium, Ahmedabad",
          "Rajiv Gandhi International Stadium, Hyderabad",
          "Sawai Mansingh Stadium, Jaipur",
          "Wankhede Stadium, Mumbai"
         ],
         "y": [
          0,
          0,
          0,
          0,
          0,
          0,
          0,
          0,
          0,
          0,
          1,
          0,
          0,
          0
         ]
        },
        {
         "name": "Kolkata Knight Riders vs Chennai Super Kings",
         "type": "bar",
         "x": [
          "Arun Jaitley Stadium, Delhi",
          "Barsapara Cricket Stadium, Guwahati",
          "Bharat Ratna Shri Atal Bihari Vajpayee Ekana Cricket Stadium, Lucknow",
          "Dr. Y.S. Rajasekhara Reddy ACA-VDCA Cricket Stadium, Visakhapatnam",
          "Eden Gardens, Kolkata",
          "Himachal Pradesh Cricket Association Stadium, Dharamsala",
          "M.Chinnaswamy Stadium, Bengaluru",
          "MA Chidambaram Stadium, Chennai",
          "Maharaja Yadavindra Singh International Cricket Stadium, Mullanpur, Chandigarh",
          "Maharaja Yadavindra Singh International Cricket Stadium, Mullanpur, New Chandigarh",
          "Narendra Modi Stadium, Ahmedabad",
          "Rajiv Gandhi International Stadium, Hyderabad",
          "Sawai Mansingh Stadium, Jaipur",
          "Wankhede Stadium, Mumbai"
         ],
         "y": [
          0,
          0,
          0,
          0,
          1,
          0,
          0,
          0,
          0,
          0,
          0,
          0,
          0,
          0
         ]
        },
        {
         "name": "Kolkata Knight Riders vs Gujarat Titans",
         "type": "bar",
         "x": [
          "Arun Jaitley Stadium, Delhi",
          "Barsapara Cricket Stadium, Guwahati",
          "Bharat Ratna Shri Atal Bihari Vajpayee Ekana Cricket Stadium, Lucknow",
          "Dr. Y.S. Rajasekhara Reddy ACA-VDCA Cricket Stadium, Visakhapatnam",
          "Eden Gardens, Kolkata",
          "Himachal Pradesh Cricket Association Stadium, Dharamsala",
          "M.Chinnaswamy Stadium, Bengaluru",
          "MA Chidambaram Stadium, Chennai",
          "Maharaja Yadavindra Singh International Cricket Stadium, Mullanpur, Chandigarh",
          "Maharaja Yadavindra Singh International Cricket Stadium, Mullanpur, New Chandigarh",
          "Narendra Modi Stadium, Ahmedabad",
          "Rajiv Gandhi International Stadium, Hyderabad",
          "Sawai Mansingh Stadium, Jaipur",
          "Wankhede Stadium, Mumbai"
         ],
         "y": [
          0,
          0,
          0,
          0,
          1,
          0,
          0,
          0,
          0,
          0,
          0,
          0,
          0,
          0
         ]
        },
        {
         "name": "Kolkata Knight Riders vs Lucknow Super Giants",
         "type": "bar",
         "x": [
          "Arun Jaitley Stadium, Delhi",
          "Barsapara Cricket Stadium, Guwahati",
          "Bharat Ratna Shri Atal Bihari Vajpayee Ekana Cricket Stadium, Lucknow",
          "Dr. Y.S. Rajasekhara Reddy ACA-VDCA Cricket Stadium, Visakhapatnam",
          "Eden Gardens, Kolkata",
          "Himachal Pradesh Cricket Association Stadium, Dharamsala",
          "M.Chinnaswamy Stadium, Bengaluru",
          "MA Chidambaram Stadium, Chennai",
          "Maharaja Yadavindra Singh International Cricket Stadium, Mullanpur, Chandigarh",
          "Maharaja Yadavindra Singh International Cricket Stadium, Mullanpur, New Chandigarh",
          "Narendra Modi Stadium, Ahmedabad",
          "Rajiv Gandhi International Stadium, Hyderabad",
          "Sawai Mansingh Stadium, Jaipur",
          "Wankhede Stadium, Mumbai"
         ],
         "y": [
          0,
          0,
          0,
          0,
          1,
          0,
          0,
          0,
          0,
          0,
          0,
          0,
          0,
          0
         ]
        },
        {
         "name": "Kolkata Knight Riders vs Punjab Kings",
         "type": "bar",
         "x": [
          "Arun Jaitley Stadium, Delhi",
          "Barsapara Cricket Stadium, Guwahati",
          "Bharat Ratna Shri Atal Bihari Vajpayee Ekana Cricket Stadium, Lucknow",
          "Dr. Y.S. Rajasekhara Reddy ACA-VDCA Cricket Stadium, Visakhapatnam",
          "Eden Gardens, Kolkata",
          "Himachal Pradesh Cricket Association Stadium, Dharamsala",
          "M.Chinnaswamy Stadium, Bengaluru",
          "MA Chidambaram Stadium, Chennai",
          "Maharaja Yadavindra Singh International Cricket Stadium, Mullanpur, Chandigarh",
          "Maharaja Yadavindra Singh International Cricket Stadium, Mullanpur, New Chandigarh",
          "Narendra Modi Stadium, Ahmedabad",
          "Rajiv Gandhi International Stadium, Hyderabad",
          "Sawai Mansingh Stadium, Jaipur",
          "Wankhede Stadium, Mumbai"
         ],
         "y": [
          0,
          0,
          0,
          0,
          1,
          0,
          0,
          0,
          0,
          0,
          0,
          0,
          0,
          0
         ]
        },
        {
         "name": "Kolkata Knight Riders vs Rajasthan Royals",
         "type": "bar",
         "x": [
          "Arun Jaitley Stadium, Delhi",
          "Barsapara Cricket Stadium, Guwahati",
          "Bharat Ratna Shri Atal Bihari Vajpayee Ekana Cricket Stadium, Lucknow",
          "Dr. Y.S. Rajasekhara Reddy ACA-VDCA Cricket Stadium, Visakhapatnam",
          "Eden Gardens, Kolkata",
          "Himachal Pradesh Cricket Association Stadium, Dharamsala",
          "M.Chinnaswamy Stadium, Bengaluru",
          "MA Chidambaram Stadium, Chennai",
          "Maharaja Yadavindra Singh International Cricket Stadium, Mullanpur, Chandigarh",
          "Maharaja Yadavindra Singh International Cricket Stadium, Mullanpur, New Chandigarh",
          "Narendra Modi Stadium, Ahmedabad",
          "Rajiv Gandhi International Stadium, Hyderabad",
          "Sawai Mansingh Stadium, Jaipur",
          "Wankhede Stadium, Mumbai"
         ],
         "y": [
          0,
          0,
          0,
          0,
          1,
          0,
          0,
          0,
          0,
          0,
          0,
          0,
          0,
          0
         ]
        },
        {
         "name": "Kolkata Knight Riders vs Royal Challengers Bengaluru",
         "type": "bar",
         "x": [
          "Arun Jaitley Stadium, Delhi",
          "Barsapara Cricket Stadium, Guwahati",
          "Bharat Ratna Shri Atal Bihari Vajpayee Ekana Cricket Stadium, Lucknow",
          "Dr. Y.S. Rajasekhara Reddy ACA-VDCA Cricket Stadium, Visakhapatnam",
          "Eden Gardens, Kolkata",
          "Himachal Pradesh Cricket Association Stadium, Dharamsala",
          "M.Chinnaswamy Stadium, Bengaluru",
          "MA Chidambaram Stadium, Chennai",
          "Maharaja Yadavindra Singh International Cricket Stadium, Mullanpur, Chandigarh",
          "Maharaja Yadavindra Singh International Cricket Stadium, Mullanpur, New Chandigarh",
          "Narendra Modi Stadium, Ahmedabad",
          "Rajiv Gandhi International Stadium, Hyderabad",
          "Sawai Mansingh Stadium, Jaipur",
          "Wankhede Stadium, Mumbai"
         ],
         "y": [
          0,
          0,
          0,
          0,
          1,
          0,
          0,
          0,
          0,
          0,
          0,
          0,
          0,
          0
         ]
        },
        {
         "name": "Kolkata Knight Riders vs Sunrisers Hyderabad",
         "type": "bar",
         "x": [
          "Arun Jaitley Stadium, Delhi",
          "Barsapara Cricket Stadium, Guwahati",
          "Bharat Ratna Shri Atal Bihari Vajpayee Ekana Cricket Stadium, Lucknow",
          "Dr. Y.S. Rajasekhara Reddy ACA-VDCA Cricket Stadium, Visakhapatnam",
          "Eden Gardens, Kolkata",
          "Himachal Pradesh Cricket Association Stadium, Dharamsala",
          "M.Chinnaswamy Stadium, Bengaluru",
          "MA Chidambaram Stadium, Chennai",
          "Maharaja Yadavindra Singh International Cricket Stadium, Mullanpur, Chandigarh",
          "Maharaja Yadavindra Singh International Cricket Stadium, Mullanpur, New Chandigarh",
          "Narendra Modi Stadium, Ahmedabad",
          "Rajiv Gandhi International Stadium, Hyderabad",
          "Sawai Mansingh Stadium, Jaipur",
          "Wankhede Stadium, Mumbai"
         ],
         "y": [
          0,
          0,
          0,
          0,
          1,
          0,
          0,
          0,
          0,
          0,
          0,
          0,
          0,
          0
         ]
        },
        {
         "name": "Lucknow Super Giants vs Chennai Super Kings",
         "type": "bar",
         "x": [
          "Arun Jaitley Stadium, Delhi",
          "Barsapara Cricket Stadium, Guwahati",
          "Bharat Ratna Shri Atal Bihari Vajpayee Ekana Cricket Stadium, Lucknow",
          "Dr. Y.S. Rajasekhara Reddy ACA-VDCA Cricket Stadium, Visakhapatnam",
          "Eden Gardens, Kolkata",
          "Himachal Pradesh Cricket Association Stadium, Dharamsala",
          "M.Chinnaswamy Stadium, Bengaluru",
          "MA Chidambaram Stadium, Chennai",
          "Maharaja Yadavindra Singh International Cricket Stadium, Mullanpur, Chandigarh",
          "Maharaja Yadavindra Singh International Cricket Stadium, Mullanpur, New Chandigarh",
          "Narendra Modi Stadium, Ahmedabad",
          "Rajiv Gandhi International Stadium, Hyderabad",
          "Sawai Mansingh Stadium, Jaipur",
          "Wankhede Stadium, Mumbai"
         ],
         "y": [
          0,
          0,
          1,
          0,
          0,
          0,
          0,
          0,
          0,
          0,
          0,
          0,
          0,
          0
         ]
        },
        {
         "name": "Lucknow Super Giants vs Delhi Capitals",
         "type": "bar",
         "x": [
          "Arun Jaitley Stadium, Delhi",
          "Barsapara Cricket Stadium, Guwahati",
          "Bharat Ratna Shri Atal Bihari Vajpayee Ekana Cricket Stadium, Lucknow",
          "Dr. Y.S. Rajasekhara Reddy ACA-VDCA Cricket Stadium, Visakhapatnam",
          "Eden Gardens, Kolkata",
          "Himachal Pradesh Cricket Association Stadium, Dharamsala",
          "M.Chinnaswamy Stadium, Bengaluru",
          "MA Chidambaram Stadium, Chennai",
          "Maharaja Yadavindra Singh International Cricket Stadium, Mullanpur, Chandigarh",
          "Maharaja Yadavindra Singh International Cricket Stadium, Mullanpur, New Chandigarh",
          "Narendra Modi Stadium, Ahmedabad",
          "Rajiv Gandhi International Stadium, Hyderabad",
          "Sawai Mansingh Stadium, Jaipur",
          "Wankhede Stadium, Mumbai"
         ],
         "y": [
          0,
          0,
          1,
          0,
          0,
          0,
          0,
          0,
          0,
          0,
          0,
          0,
          0,
          0
         ]
        },
        {
         "name": "Lucknow Super Giants vs Gujarat Titans",
         "type": "bar",
         "x": [
          "Arun Jaitley Stadium, Delhi",
          "Barsapara Cricket Stadium, Guwahati",
          "Bharat Ratna Shri Atal Bihari Vajpayee Ekana Cricket Stadium, Lucknow",
          "Dr. Y.S. Rajasekhara Reddy ACA-VDCA Cricket Stadium, Visakhapatnam",
          "Eden Gardens, Kolkata",
          "Himachal Pradesh Cricket Association Stadium, Dharamsala",
          "M.Chinnaswamy Stadium, Bengaluru",
          "MA Chidambaram Stadium, Chennai",
          "Maharaja Yadavindra Singh International Cricket Stadium, Mullanpur, Chandigarh",
          "Maharaja Yadavindra Singh International Cricket Stadium, Mullanpur, New Chandigarh",
          "Narendra Modi Stadium, Ahmedabad",
          "Rajiv Gandhi International Stadium, Hyderabad",
          "Sawai Mansingh Stadium, Jaipur",
          "Wankhede Stadium, Mumbai"
         ],
         "y": [
          0,
          0,
          1,
          0,
          0,
          0,
          0,
          0,
          0,
          0,
          0,
          0,
          0,
          0
         ]
        },
        {
         "name": "Lucknow Super Giants vs Mumbai Indians",
         "type": "bar",
         "x": [
          "Arun Jaitley Stadium, Delhi",
          "Barsapara Cricket Stadium, Guwahati",
          "Bharat Ratna Shri Atal Bihari Vajpayee Ekana Cricket Stadium, Lucknow",
          "Dr. Y.S. Rajasekhara Reddy ACA-VDCA Cricket Stadium, Visakhapatnam",
          "Eden Gardens, Kolkata",
          "Himachal Pradesh Cricket Association Stadium, Dharamsala",
          "M.Chinnaswamy Stadium, Bengaluru",
          "MA Chidambaram Stadium, Chennai",
          "Maharaja Yadavindra Singh International Cricket Stadium, Mullanpur, Chandigarh",
          "Maharaja Yadavindra Singh International Cricket Stadium, Mullanpur, New Chandigarh",
          "Narendra Modi Stadium, Ahmedabad",
          "Rajiv Gandhi International Stadium, Hyderabad",
          "Sawai Mansingh Stadium, Jaipur",
          "Wankhede Stadium, Mumbai"
         ],
         "y": [
          0,
          0,
          1,
          0,
          0,
          0,
          0,
          0,
          0,
          0,
          0,
          0,
          0,
          0
         ]
        },
        {
         "name": "Lucknow Super Giants vs Punjab Kings",
         "type": "bar",
         "x": [
          "Arun Jaitley Stadium, Delhi",
          "Barsapara Cricket Stadium, Guwahati",
          "Bharat Ratna Shri Atal Bihari Vajpayee Ekana Cricket Stadium, Lucknow",
          "Dr. Y.S. Rajasekhara Reddy ACA-VDCA Cricket Stadium, Visakhapatnam",
          "Eden Gardens, Kolkata",
          "Himachal Pradesh Cricket Association Stadium, Dharamsala",
          "M.Chinnaswamy Stadium, Bengaluru",
          "MA Chidambaram Stadium, Chennai",
          "Maharaja Yadavindra Singh International Cricket Stadium, Mullanpur, Chandigarh",
          "Maharaja Yadavindra Singh International Cricket Stadium, Mullanpur, New Chandigarh",
          "Narendra Modi Stadium, Ahmedabad",
          "Rajiv Gandhi International Stadium, Hyderabad",
          "Sawai Mansingh Stadium, Jaipur",
          "Wankhede Stadium, Mumbai"
         ],
         "y": [
          0,
          0,
          1,
          0,
          0,
          0,
          0,
          0,
          0,
          0,
          0,
          0,
          0,
          0
         ]
        },
        {
         "name": "Lucknow Super Giants vs Royal Challengers Bengaluru",
         "type": "bar",
         "x": [
          "Arun Jaitley Stadium, Delhi",
          "Barsapara Cricket Stadium, Guwahati",
          "Bharat Ratna Shri Atal Bihari Vajpayee Ekana Cricket Stadium, Lucknow",
          "Dr. Y.S. Rajasekhara Reddy ACA-VDCA Cricket Stadium, Visakhapatnam",
          "Eden Gardens, Kolkata",
          "Himachal Pradesh Cricket Association Stadium, Dharamsala",
          "M.Chinnaswamy Stadium, Bengaluru",
          "MA Chidambaram Stadium, Chennai",
          "Maharaja Yadavindra Singh International Cricket Stadium, Mullanpur, Chandigarh",
          "Maharaja Yadavindra Singh International Cricket Stadium, Mullanpur, New Chandigarh",
          "Narendra Modi Stadium, Ahmedabad",
          "Rajiv Gandhi International Stadium, Hyderabad",
          "Sawai Mansingh Stadium, Jaipur",
          "Wankhede Stadium, Mumbai"
         ],
         "y": [
          0,
          0,
          1,
          0,
          0,
          0,
          0,
          0,
          0,
          0,
          0,
          0,
          0,
          0
         ]
        },
        {
         "name": "Lucknow Super Giants vs Sunrisers Hyderabad",
         "type": "bar",
         "x": [
          "Arun Jaitley Stadium, Delhi",
          "Barsapara Cricket Stadium, Guwahati",
          "Bharat Ratna Shri Atal Bihari Vajpayee Ekana Cricket Stadium, Lucknow",
          "Dr. Y.S. Rajasekhara Reddy ACA-VDCA Cricket Stadium, Visakhapatnam",
          "Eden Gardens, Kolkata",
          "Himachal Pradesh Cricket Association Stadium, Dharamsala",
          "M.Chinnaswamy Stadium, Bengaluru",
          "MA Chidambaram Stadium, Chennai",
          "Maharaja Yadavindra Singh International Cricket Stadium, Mullanpur, Chandigarh",
          "Maharaja Yadavindra Singh International Cricket Stadium, Mullanpur, New Chandigarh",
          "Narendra Modi Stadium, Ahmedabad",
          "Rajiv Gandhi International Stadium, Hyderabad",
          "Sawai Mansingh Stadium, Jaipur",
          "Wankhede Stadium, Mumbai"
         ],
         "y": [
          0,
          0,
          1,
          0,
          0,
          0,
          0,
          0,
          0,
          0,
          0,
          0,
          0,
          0
         ]
        },
        {
         "name": "Mumbai Indians vs Chennai Super Kings",
         "type": "bar",
         "x": [
          "Arun Jaitley Stadium, Delhi",
          "Barsapara Cricket Stadium, Guwahati",
          "Bharat Ratna Shri Atal Bihari Vajpayee Ekana Cricket Stadium, Lucknow",
          "Dr. Y.S. Rajasekhara Reddy ACA-VDCA Cricket Stadium, Visakhapatnam",
          "Eden Gardens, Kolkata",
          "Himachal Pradesh Cricket Association Stadium, Dharamsala",
          "M.Chinnaswamy Stadium, Bengaluru",
          "MA Chidambaram Stadium, Chennai",
          "Maharaja Yadavindra Singh International Cricket Stadium, Mullanpur, Chandigarh",
          "Maharaja Yadavindra Singh International Cricket Stadium, Mullanpur, New Chandigarh",
          "Narendra Modi Stadium, Ahmedabad",
          "Rajiv Gandhi International Stadium, Hyderabad",
          "Sawai Mansingh Stadium, Jaipur",
          "Wankhede Stadium, Mumbai"
         ],
         "y": [
          0,
          0,
          0,
          0,
          0,
          0,
          0,
          0,
          0,
          0,
          0,
          0,
          0,
          1
         ]
        },
        {
         "name": "Mumbai Indians vs Delhi Capitals",
         "type": "bar",
         "x": [
          "Arun Jaitley Stadium, Delhi",
          "Barsapara Cricket Stadium, Guwahati",
          "Bharat Ratna Shri Atal Bihari Vajpayee Ekana Cricket Stadium, Lucknow",
          "Dr. Y.S. Rajasekhara Reddy ACA-VDCA Cricket Stadium, Visakhapatnam",
          "Eden Gardens, Kolkata",
          "Himachal Pradesh Cricket Association Stadium, Dharamsala",
          "M.Chinnaswamy Stadium, Bengaluru",
          "MA Chidambaram Stadium, Chennai",
          "Maharaja Yadavindra Singh International Cricket Stadium, Mullanpur, Chandigarh",
          "Maharaja Yadavindra Singh International Cricket Stadium, Mullanpur, New Chandigarh",
          "Narendra Modi Stadium, Ahmedabad",
          "Rajiv Gandhi International Stadium, Hyderabad",
          "Sawai Mansingh Stadium, Jaipur",
          "Wankhede Stadium, Mumbai"
         ],
         "y": [
          0,
          0,
          0,
          0,
          0,
          0,
          0,
          0,
          0,
          0,
          0,
          0,
          0,
          1
         ]
        },
        {
         "name": "Mumbai Indians vs Gujarat Titans",
         "type": "bar",
         "x": [
          "Arun Jaitley Stadium, Delhi",
          "Barsapara Cricket Stadium, Guwahati",
          "Bharat Ratna Shri Atal Bihari Vajpayee Ekana Cricket Stadium, Lucknow",
          "Dr. Y.S. Rajasekhara Reddy ACA-VDCA Cricket Stadium, Visakhapatnam",
          "Eden Gardens, Kolkata",
          "Himachal Pradesh Cricket Association Stadium, Dharamsala",
          "M.Chinnaswamy Stadium, Bengaluru",
          "MA Chidambaram Stadium, Chennai",
          "Maharaja Yadavindra Singh International Cricket Stadium, Mullanpur, Chandigarh",
          "Maharaja Yadavindra Singh International Cricket Stadium, Mullanpur, New Chandigarh",
          "Narendra Modi Stadium, Ahmedabad",
          "Rajiv Gandhi International Stadium, Hyderabad",
          "Sawai Mansingh Stadium, Jaipur",
          "Wankhede Stadium, Mumbai"
         ],
         "y": [
          0,
          0,
          0,
          0,
          0,
          0,
          0,
          0,
          0,
          0,
          0,
          0,
          0,
          1
         ]
        },
        {
         "name": "Mumbai Indians vs Kolkata Knight Riders",
         "type": "bar",
         "x": [
          "Arun Jaitley Stadium, Delhi",
          "Barsapara Cricket Stadium, Guwahati",
          "Bharat Ratna Shri Atal Bihari Vajpayee Ekana Cricket Stadium, Lucknow",
          "Dr. Y.S. Rajasekhara Reddy ACA-VDCA Cricket Stadium, Visakhapatnam",
          "Eden Gardens, Kolkata",
          "Himachal Pradesh Cricket Association Stadium, Dharamsala",
          "M.Chinnaswamy Stadium, Bengaluru",
          "MA Chidambaram Stadium, Chennai",
          "Maharaja Yadavindra Singh International Cricket Stadium, Mullanpur, Chandigarh",
          "Maharaja Yadavindra Singh International Cricket Stadium, Mullanpur, New Chandigarh",
          "Narendra Modi Stadium, Ahmedabad",
          "Rajiv Gandhi International Stadium, Hyderabad",
          "Sawai Mansingh Stadium, Jaipur",
          "Wankhede Stadium, Mumbai"
         ],
         "y": [
          0,
          0,
          0,
          0,
          0,
          0,
          0,
          0,
          0,
          0,
          0,
          0,
          0,
          1
         ]
        },
        {
         "name": "Mumbai Indians vs Lucknow Super Giants",
         "type": "bar",
         "x": [
          "Arun Jaitley Stadium, Delhi",
          "Barsapara Cricket Stadium, Guwahati",
          "Bharat Ratna Shri Atal Bihari Vajpayee Ekana Cricket Stadium, Lucknow",
          "Dr. Y.S. Rajasekhara Reddy ACA-VDCA Cricket Stadium, Visakhapatnam",
          "Eden Gardens, Kolkata",
          "Himachal Pradesh Cricket Association Stadium, Dharamsala",
          "M.Chinnaswamy Stadium, Bengaluru",
          "MA Chidambaram Stadium, Chennai",
          "Maharaja Yadavindra Singh International Cricket Stadium, Mullanpur, Chandigarh",
          "Maharaja Yadavindra Singh International Cricket Stadium, Mullanpur, New Chandigarh",
          "Narendra Modi Stadium, Ahmedabad",
          "Rajiv Gandhi International Stadium, Hyderabad",
          "Sawai Mansingh Stadium, Jaipur",
          "Wankhede Stadium, Mumbai"
         ],
         "y": [
          0,
          0,
          0,
          0,
          0,
          0,
          0,
          0,
          0,
          0,
          0,
          0,
          0,
          1
         ]
        },
        {
         "name": "Mumbai Indians vs Royal Challengers Bengaluru",
         "type": "bar",
         "x": [
          "Arun Jaitley Stadium, Delhi",
          "Barsapara Cricket Stadium, Guwahati",
          "Bharat Ratna Shri Atal Bihari Vajpayee Ekana Cricket Stadium, Lucknow",
          "Dr. Y.S. Rajasekhara Reddy ACA-VDCA Cricket Stadium, Visakhapatnam",
          "Eden Gardens, Kolkata",
          "Himachal Pradesh Cricket Association Stadium, Dharamsala",
          "M.Chinnaswamy Stadium, Bengaluru",
          "MA Chidambaram Stadium, Chennai",
          "Maharaja Yadavindra Singh International Cricket Stadium, Mullanpur, Chandigarh",
          "Maharaja Yadavindra Singh International Cricket Stadium, Mullanpur, New Chandigarh",
          "Narendra Modi Stadium, Ahmedabad",
          "Rajiv Gandhi International Stadium, Hyderabad",
          "Sawai Mansingh Stadium, Jaipur",
          "Wankhede Stadium, Mumbai"
         ],
         "y": [
          0,
          0,
          0,
          0,
          0,
          0,
          0,
          0,
          0,
          0,
          0,
          0,
          0,
          1
         ]
        },
        {
         "name": "Mumbai Indians vs Sunrisers Hyderabad",
         "type": "bar",
         "x": [
          "Arun Jaitley Stadium, Delhi",
          "Barsapara Cricket Stadium, Guwahati",
          "Bharat Ratna Shri Atal Bihari Vajpayee Ekana Cricket Stadium, Lucknow",
          "Dr. Y.S. Rajasekhara Reddy ACA-VDCA Cricket Stadium, Visakhapatnam",
          "Eden Gardens, Kolkata",
          "Himachal Pradesh Cricket Association Stadium, Dharamsala",
          "M.Chinnaswamy Stadium, Bengaluru",
          "MA Chidambaram Stadium, Chennai",
          "Maharaja Yadavindra Singh International Cricket Stadium, Mullanpur, Chandigarh",
          "Maharaja Yadavindra Singh International Cricket Stadium, Mullanpur, New Chandigarh",
          "Narendra Modi Stadium, Ahmedabad",
          "Rajiv Gandhi International Stadium, Hyderabad",
          "Sawai Mansingh Stadium, Jaipur",
          "Wankhede Stadium, Mumbai"
         ],
         "y": [
          0,
          0,
          0,
          0,
          0,
          0,
          0,
          0,
          0,
          0,
          0,
          0,
          0,
          1
         ]
        },
        {
         "name": "Punjab Kings vs Chennai Super Kings",
         "type": "bar",
         "x": [
          "Arun Jaitley Stadium, Delhi",
          "Barsapara Cricket Stadium, Guwahati",
          "Bharat Ratna Shri Atal Bihari Vajpayee Ekana Cricket Stadium, Lucknow",
          "Dr. Y.S. Rajasekhara Reddy ACA-VDCA Cricket Stadium, Visakhapatnam",
          "Eden Gardens, Kolkata",
          "Himachal Pradesh Cricket Association Stadium, Dharamsala",
          "M.Chinnaswamy Stadium, Bengaluru",
          "MA Chidambaram Stadium, Chennai",
          "Maharaja Yadavindra Singh International Cricket Stadium, Mullanpur, Chandigarh",
          "Maharaja Yadavindra Singh International Cricket Stadium, Mullanpur, New Chandigarh",
          "Narendra Modi Stadium, Ahmedabad",
          "Rajiv Gandhi International Stadium, Hyderabad",
          "Sawai Mansingh Stadium, Jaipur",
          "Wankhede Stadium, Mumbai"
         ],
         "y": [
          0,
          0,
          0,
          0,
          0,
          0,
          0,
          0,
          1,
          0,
          0,
          0,
          0,
          0
         ]
        },
        {
         "name": "Punjab Kings vs Delhi Capitals",
         "type": "bar",
         "x": [
          "Arun Jaitley Stadium, Delhi",
          "Barsapara Cricket Stadium, Guwahati",
          "Bharat Ratna Shri Atal Bihari Vajpayee Ekana Cricket Stadium, Lucknow",
          "Dr. Y.S. Rajasekhara Reddy ACA-VDCA Cricket Stadium, Visakhapatnam",
          "Eden Gardens, Kolkata",
          "Himachal Pradesh Cricket Association Stadium, Dharamsala",
          "M.Chinnaswamy Stadium, Bengaluru",
          "MA Chidambaram Stadium, Chennai",
          "Maharaja Yadavindra Singh International Cricket Stadium, Mullanpur, Chandigarh",
          "Maharaja Yadavindra Singh International Cricket Stadium, Mullanpur, New Chandigarh",
          "Narendra Modi Stadium, Ahmedabad",
          "Rajiv Gandhi International Stadium, Hyderabad",
          "Sawai Mansingh Stadium, Jaipur",
          "Wankhede Stadium, Mumbai"
         ],
         "y": [
          0,
          0,
          0,
          0,
          0,
          0,
          0,
          0,
          0,
          0,
          0,
          0,
          1,
          0
         ]
        },
        {
         "name": "Punjab Kings vs Kolkata Knight Riders",
         "type": "bar",
         "x": [
          "Arun Jaitley Stadium, Delhi",
          "Barsapara Cricket Stadium, Guwahati",
          "Bharat Ratna Shri Atal Bihari Vajpayee Ekana Cricket Stadium, Lucknow",
          "Dr. Y.S. Rajasekhara Reddy ACA-VDCA Cricket Stadium, Visakhapatnam",
          "Eden Gardens, Kolkata",
          "Himachal Pradesh Cricket Association Stadium, Dharamsala",
          "M.Chinnaswamy Stadium, Bengaluru",
          "MA Chidambaram Stadium, Chennai",
          "Maharaja Yadavindra Singh International Cricket Stadium, Mullanpur, Chandigarh",
          "Maharaja Yadavindra Singh International Cricket Stadium, Mullanpur, New Chandigarh",
          "Narendra Modi Stadium, Ahmedabad",
          "Rajiv Gandhi International Stadium, Hyderabad",
          "Sawai Mansingh Stadium, Jaipur",
          "Wankhede Stadium, Mumbai"
         ],
         "y": [
          0,
          0,
          0,
          0,
          0,
          0,
          0,
          0,
          1,
          0,
          0,
          0,
          0,
          0
         ]
        },
        {
         "name": "Punjab Kings vs Lucknow Super Giants",
         "type": "bar",
         "x": [
          "Arun Jaitley Stadium, Delhi",
          "Barsapara Cricket Stadium, Guwahati",
          "Bharat Ratna Shri Atal Bihari Vajpayee Ekana Cricket Stadium, Lucknow",
          "Dr. Y.S. Rajasekhara Reddy ACA-VDCA Cricket Stadium, Visakhapatnam",
          "Eden Gardens, Kolkata",
          "Himachal Pradesh Cricket Association Stadium, Dharamsala",
          "M.Chinnaswamy Stadium, Bengaluru",
          "MA Chidambaram Stadium, Chennai",
          "Maharaja Yadavindra Singh International Cricket Stadium, Mullanpur, Chandigarh",
          "Maharaja Yadavindra Singh International Cricket Stadium, Mullanpur, New Chandigarh",
          "Narendra Modi Stadium, Ahmedabad",
          "Rajiv Gandhi International Stadium, Hyderabad",
          "Sawai Mansingh Stadium, Jaipur",
          "Wankhede Stadium, Mumbai"
         ],
         "y": [
          0,
          0,
          0,
          0,
          0,
          1,
          0,
          0,
          0,
          0,
          0,
          0,
          0,
          0
         ]
        },
        {
         "name": "Punjab Kings vs Mumbai Indians",
         "type": "bar",
         "x": [
          "Arun Jaitley Stadium, Delhi",
          "Barsapara Cricket Stadium, Guwahati",
          "Bharat Ratna Shri Atal Bihari Vajpayee Ekana Cricket Stadium, Lucknow",
          "Dr. Y.S. Rajasekhara Reddy ACA-VDCA Cricket Stadium, Visakhapatnam",
          "Eden Gardens, Kolkata",
          "Himachal Pradesh Cricket Association Stadium, Dharamsala",
          "M.Chinnaswamy Stadium, Bengaluru",
          "MA Chidambaram Stadium, Chennai",
          "Maharaja Yadavindra Singh International Cricket Stadium, Mullanpur, Chandigarh",
          "Maharaja Yadavindra Singh International Cricket Stadium, Mullanpur, New Chandigarh",
          "Narendra Modi Stadium, Ahmedabad",
          "Rajiv Gandhi International Stadium, Hyderabad",
          "Sawai Mansingh Stadium, Jaipur",
          "Wankhede Stadium, Mumbai"
         ],
         "y": [
          0,
          0,
          0,
          0,
          0,
          0,
          0,
          0,
          0,
          0,
          1,
          0,
          1,
          0
         ]
        },
        {
         "name": "Punjab Kings vs Rajasthan Royals",
         "type": "bar",
         "x": [
          "Arun Jaitley Stadium, Delhi",
          "Barsapara Cricket Stadium, Guwahati",
          "Bharat Ratna Shri Atal Bihari Vajpayee Ekana Cricket Stadium, Lucknow",
          "Dr. Y.S. Rajasekhara Reddy ACA-VDCA Cricket Stadium, Visakhapatnam",
          "Eden Gardens, Kolkata",
          "Himachal Pradesh Cricket Association Stadium, Dharamsala",
          "M.Chinnaswamy Stadium, Bengaluru",
          "MA Chidambaram Stadium, Chennai",
          "Maharaja Yadavindra Singh International Cricket Stadium, Mullanpur, Chandigarh",
          "Maharaja Yadavindra Singh International Cricket Stadium, Mullanpur, New Chandigarh",
          "Narendra Modi Stadium, Ahmedabad",
          "Rajiv Gandhi International Stadium, Hyderabad",
          "Sawai Mansingh Stadium, Jaipur",
          "Wankhede Stadium, Mumbai"
         ],
         "y": [
          0,
          0,
          0,
          0,
          0,
          0,
          0,
          0,
          1,
          0,
          0,
          0,
          0,
          0
         ]
        },
        {
         "name": "Punjab Kings vs Royal Challengers Bengaluru",
         "type": "bar",
         "x": [
          "Arun Jaitley Stadium, Delhi",
          "Barsapara Cricket Stadium, Guwahati",
          "Bharat Ratna Shri Atal Bihari Vajpayee Ekana Cricket Stadium, Lucknow",
          "Dr. Y.S. Rajasekhara Reddy ACA-VDCA Cricket Stadium, Visakhapatnam",
          "Eden Gardens, Kolkata",
          "Himachal Pradesh Cricket Association Stadium, Dharamsala",
          "M.Chinnaswamy Stadium, Bengaluru",
          "MA Chidambaram Stadium, Chennai",
          "Maharaja Yadavindra Singh International Cricket Stadium, Mullanpur, Chandigarh",
          "Maharaja Yadavindra Singh International Cricket Stadium, Mullanpur, New Chandigarh",
          "Narendra Modi Stadium, Ahmedabad",
          "Rajiv Gandhi International Stadium, Hyderabad",
          "Sawai Mansingh Stadium, Jaipur",
          "Wankhede Stadium, Mumbai"
         ],
         "y": [
          0,
          0,
          0,
          0,
          0,
          0,
          0,
          0,
          2,
          0,
          0,
          0,
          0,
          0
         ]
        },
        {
         "name": "Rajasthan Royals vs Chennai Super Kings",
         "type": "bar",
         "x": [
          "Arun Jaitley Stadium, Delhi",
          "Barsapara Cricket Stadium, Guwahati",
          "Bharat Ratna Shri Atal Bihari Vajpayee Ekana Cricket Stadium, Lucknow",
          "Dr. Y.S. Rajasekhara Reddy ACA-VDCA Cricket Stadium, Visakhapatnam",
          "Eden Gardens, Kolkata",
          "Himachal Pradesh Cricket Association Stadium, Dharamsala",
          "M.Chinnaswamy Stadium, Bengaluru",
          "MA Chidambaram Stadium, Chennai",
          "Maharaja Yadavindra Singh International Cricket Stadium, Mullanpur, Chandigarh",
          "Maharaja Yadavindra Singh International Cricket Stadium, Mullanpur, New Chandigarh",
          "Narendra Modi Stadium, Ahmedabad",
          "Rajiv Gandhi International Stadium, Hyderabad",
          "Sawai Mansingh Stadium, Jaipur",
          "Wankhede Stadium, Mumbai"
         ],
         "y": [
          0,
          1,
          0,
          0,
          0,
          0,
          0,
          0,
          0,
          0,
          0,
          0,
          0,
          0
         ]
        },
        {
         "name": "Rajasthan Royals vs Gujarat Titans",
         "type": "bar",
         "x": [
          "Arun Jaitley Stadium, Delhi",
          "Barsapara Cricket Stadium, Guwahati",
          "Bharat Ratna Shri Atal Bihari Vajpayee Ekana Cricket Stadium, Lucknow",
          "Dr. Y.S. Rajasekhara Reddy ACA-VDCA Cricket Stadium, Visakhapatnam",
          "Eden Gardens, Kolkata",
          "Himachal Pradesh Cricket Association Stadium, Dharamsala",
          "M.Chinnaswamy Stadium, Bengaluru",
          "MA Chidambaram Stadium, Chennai",
          "Maharaja Yadavindra Singh International Cricket Stadium, Mullanpur, Chandigarh",
          "Maharaja Yadavindra Singh International Cricket Stadium, Mullanpur, New Chandigarh",
          "Narendra Modi Stadium, Ahmedabad",
          "Rajiv Gandhi International Stadium, Hyderabad",
          "Sawai Mansingh Stadium, Jaipur",
          "Wankhede Stadium, Mumbai"
         ],
         "y": [
          0,
          0,
          0,
          0,
          0,
          0,
          0,
          0,
          0,
          0,
          0,
          0,
          1,
          0
         ]
        },
        {
         "name": "Rajasthan Royals vs Kolkata Knight Riders",
         "type": "bar",
         "x": [
          "Arun Jaitley Stadium, Delhi",
          "Barsapara Cricket Stadium, Guwahati",
          "Bharat Ratna Shri Atal Bihari Vajpayee Ekana Cricket Stadium, Lucknow",
          "Dr. Y.S. Rajasekhara Reddy ACA-VDCA Cricket Stadium, Visakhapatnam",
          "Eden Gardens, Kolkata",
          "Himachal Pradesh Cricket Association Stadium, Dharamsala",
          "M.Chinnaswamy Stadium, Bengaluru",
          "MA Chidambaram Stadium, Chennai",
          "Maharaja Yadavindra Singh International Cricket Stadium, Mullanpur, Chandigarh",
          "Maharaja Yadavindra Singh International Cricket Stadium, Mullanpur, New Chandigarh",
          "Narendra Modi Stadium, Ahmedabad",
          "Rajiv Gandhi International Stadium, Hyderabad",
          "Sawai Mansingh Stadium, Jaipur",
          "Wankhede Stadium, Mumbai"
         ],
         "y": [
          0,
          1,
          0,
          0,
          0,
          0,
          0,
          0,
          0,
          0,
          0,
          0,
          0,
          0
         ]
        },
        {
         "name": "Rajasthan Royals vs Lucknow Super Giants",
         "type": "bar",
         "x": [
          "Arun Jaitley Stadium, Delhi",
          "Barsapara Cricket Stadium, Guwahati",
          "Bharat Ratna Shri Atal Bihari Vajpayee Ekana Cricket Stadium, Lucknow",
          "Dr. Y.S. Rajasekhara Reddy ACA-VDCA Cricket Stadium, Visakhapatnam",
          "Eden Gardens, Kolkata",
          "Himachal Pradesh Cricket Association Stadium, Dharamsala",
          "M.Chinnaswamy Stadium, Bengaluru",
          "MA Chidambaram Stadium, Chennai",
          "Maharaja Yadavindra Singh International Cricket Stadium, Mullanpur, Chandigarh",
          "Maharaja Yadavindra Singh International Cricket Stadium, Mullanpur, New Chandigarh",
          "Narendra Modi Stadium, Ahmedabad",
          "Rajiv Gandhi International Stadium, Hyderabad",
          "Sawai Mansingh Stadium, Jaipur",
          "Wankhede Stadium, Mumbai"
         ],
         "y": [
          0,
          0,
          0,
          0,
          0,
          0,
          0,
          0,
          0,
          0,
          0,
          0,
          1,
          0
         ]
        },
        {
         "name": "Rajasthan Royals vs Mumbai Indians",
         "type": "bar",
         "x": [
          "Arun Jaitley Stadium, Delhi",
          "Barsapara Cricket Stadium, Guwahati",
          "Bharat Ratna Shri Atal Bihari Vajpayee Ekana Cricket Stadium, Lucknow",
          "Dr. Y.S. Rajasekhara Reddy ACA-VDCA Cricket Stadium, Visakhapatnam",
          "Eden Gardens, Kolkata",
          "Himachal Pradesh Cricket Association Stadium, Dharamsala",
          "M.Chinnaswamy Stadium, Bengaluru",
          "MA Chidambaram Stadium, Chennai",
          "Maharaja Yadavindra Singh International Cricket Stadium, Mullanpur, Chandigarh",
          "Maharaja Yadavindra Singh International Cricket Stadium, Mullanpur, New Chandigarh",
          "Narendra Modi Stadium, Ahmedabad",
          "Rajiv Gandhi International Stadium, Hyderabad",
          "Sawai Mansingh Stadium, Jaipur",
          "Wankhede Stadium, Mumbai"
         ],
         "y": [
          0,
          0,
          0,
          0,
          0,
          0,
          0,
          0,
          0,
          0,
          0,
          0,
          1,
          0
         ]
        },
        {
         "name": "Rajasthan Royals vs Punjab Kings",
         "type": "bar",
         "x": [
          "Arun Jaitley Stadium, Delhi",
          "Barsapara Cricket Stadium, Guwahati",
          "Bharat Ratna Shri Atal Bihari Vajpayee Ekana Cricket Stadium, Lucknow",
          "Dr. Y.S. Rajasekhara Reddy ACA-VDCA Cricket Stadium, Visakhapatnam",
          "Eden Gardens, Kolkata",
          "Himachal Pradesh Cricket Association Stadium, Dharamsala",
          "M.Chinnaswamy Stadium, Bengaluru",
          "MA Chidambaram Stadium, Chennai",
          "Maharaja Yadavindra Singh International Cricket Stadium, Mullanpur, Chandigarh",
          "Maharaja Yadavindra Singh International Cricket Stadium, Mullanpur, New Chandigarh",
          "Narendra Modi Stadium, Ahmedabad",
          "Rajiv Gandhi International Stadium, Hyderabad",
          "Sawai Mansingh Stadium, Jaipur",
          "Wankhede Stadium, Mumbai"
         ],
         "y": [
          0,
          0,
          0,
          0,
          0,
          0,
          0,
          0,
          0,
          0,
          0,
          0,
          1,
          0
         ]
        },
        {
         "name": "Rajasthan Royals vs Royal Challengers Bengaluru",
         "type": "bar",
         "x": [
          "Arun Jaitley Stadium, Delhi",
          "Barsapara Cricket Stadium, Guwahati",
          "Bharat Ratna Shri Atal Bihari Vajpayee Ekana Cricket Stadium, Lucknow",
          "Dr. Y.S. Rajasekhara Reddy ACA-VDCA Cricket Stadium, Visakhapatnam",
          "Eden Gardens, Kolkata",
          "Himachal Pradesh Cricket Association Stadium, Dharamsala",
          "M.Chinnaswamy Stadium, Bengaluru",
          "MA Chidambaram Stadium, Chennai",
          "Maharaja Yadavindra Singh International Cricket Stadium, Mullanpur, Chandigarh",
          "Maharaja Yadavindra Singh International Cricket Stadium, Mullanpur, New Chandigarh",
          "Narendra Modi Stadium, Ahmedabad",
          "Rajiv Gandhi International Stadium, Hyderabad",
          "Sawai Mansingh Stadium, Jaipur",
          "Wankhede Stadium, Mumbai"
         ],
         "y": [
          0,
          0,
          0,
          0,
          0,
          0,
          0,
          0,
          0,
          0,
          0,
          0,
          1,
          0
         ]
        },
        {
         "name": "Royal Challengers Bengaluru vs Chennai Super Kings",
         "type": "bar",
         "x": [
          "Arun Jaitley Stadium, Delhi",
          "Barsapara Cricket Stadium, Guwahati",
          "Bharat Ratna Shri Atal Bihari Vajpayee Ekana Cricket Stadium, Lucknow",
          "Dr. Y.S. Rajasekhara Reddy ACA-VDCA Cricket Stadium, Visakhapatnam",
          "Eden Gardens, Kolkata",
          "Himachal Pradesh Cricket Association Stadium, Dharamsala",
          "M.Chinnaswamy Stadium, Bengaluru",
          "MA Chidambaram Stadium, Chennai",
          "Maharaja Yadavindra Singh International Cricket Stadium, Mullanpur, Chandigarh",
          "Maharaja Yadavindra Singh International Cricket Stadium, Mullanpur, New Chandigarh",
          "Narendra Modi Stadium, Ahmedabad",
          "Rajiv Gandhi International Stadium, Hyderabad",
          "Sawai Mansingh Stadium, Jaipur",
          "Wankhede Stadium, Mumbai"
         ],
         "y": [
          0,
          0,
          0,
          0,
          0,
          0,
          1,
          0,
          0,
          0,
          0,
          0,
          0,
          0
         ]
        },
        {
         "name": "Royal Challengers Bengaluru vs Delhi Capitals",
         "type": "bar",
         "x": [
          "Arun Jaitley Stadium, Delhi",
          "Barsapara Cricket Stadium, Guwahati",
          "Bharat Ratna Shri Atal Bihari Vajpayee Ekana Cricket Stadium, Lucknow",
          "Dr. Y.S. Rajasekhara Reddy ACA-VDCA Cricket Stadium, Visakhapatnam",
          "Eden Gardens, Kolkata",
          "Himachal Pradesh Cricket Association Stadium, Dharamsala",
          "M.Chinnaswamy Stadium, Bengaluru",
          "MA Chidambaram Stadium, Chennai",
          "Maharaja Yadavindra Singh International Cricket Stadium, Mullanpur, Chandigarh",
          "Maharaja Yadavindra Singh International Cricket Stadium, Mullanpur, New Chandigarh",
          "Narendra Modi Stadium, Ahmedabad",
          "Rajiv Gandhi International Stadium, Hyderabad",
          "Sawai Mansingh Stadium, Jaipur",
          "Wankhede Stadium, Mumbai"
         ],
         "y": [
          0,
          0,
          0,
          0,
          0,
          0,
          1,
          0,
          0,
          0,
          0,
          0,
          0,
          0
         ]
        },
        {
         "name": "Royal Challengers Bengaluru vs Gujarat Titans",
         "type": "bar",
         "x": [
          "Arun Jaitley Stadium, Delhi",
          "Barsapara Cricket Stadium, Guwahati",
          "Bharat Ratna Shri Atal Bihari Vajpayee Ekana Cricket Stadium, Lucknow",
          "Dr. Y.S. Rajasekhara Reddy ACA-VDCA Cricket Stadium, Visakhapatnam",
          "Eden Gardens, Kolkata",
          "Himachal Pradesh Cricket Association Stadium, Dharamsala",
          "M.Chinnaswamy Stadium, Bengaluru",
          "MA Chidambaram Stadium, Chennai",
          "Maharaja Yadavindra Singh International Cricket Stadium, Mullanpur, Chandigarh",
          "Maharaja Yadavindra Singh International Cricket Stadium, Mullanpur, New Chandigarh",
          "Narendra Modi Stadium, Ahmedabad",
          "Rajiv Gandhi International Stadium, Hyderabad",
          "Sawai Mansingh Stadium, Jaipur",
          "Wankhede Stadium, Mumbai"
         ],
         "y": [
          0,
          0,
          0,
          0,
          0,
          0,
          1,
          0,
          0,
          0,
          0,
          0,
          0,
          0
         ]
        },
        {
         "name": "Royal Challengers Bengaluru vs Kolkata Knight Riders",
         "type": "bar",
         "x": [
          "Arun Jaitley Stadium, Delhi",
          "Barsapara Cricket Stadium, Guwahati",
          "Bharat Ratna Shri Atal Bihari Vajpayee Ekana Cricket Stadium, Lucknow",
          "Dr. Y.S. Rajasekhara Reddy ACA-VDCA Cricket Stadium, Visakhapatnam",
          "Eden Gardens, Kolkata",
          "Himachal Pradesh Cricket Association Stadium, Dharamsala",
          "M.Chinnaswamy Stadium, Bengaluru",
          "MA Chidambaram Stadium, Chennai",
          "Maharaja Yadavindra Singh International Cricket Stadium, Mullanpur, Chandigarh",
          "Maharaja Yadavindra Singh International Cricket Stadium, Mullanpur, New Chandigarh",
          "Narendra Modi Stadium, Ahmedabad",
          "Rajiv Gandhi International Stadium, Hyderabad",
          "Sawai Mansingh Stadium, Jaipur",
          "Wankhede Stadium, Mumbai"
         ],
         "y": [
          0,
          0,
          0,
          0,
          0,
          0,
          1,
          0,
          0,
          0,
          0,
          0,
          0,
          0
         ]
        },
        {
         "name": "Royal Challengers Bengaluru vs Punjab Kings",
         "type": "bar",
         "x": [
          "Arun Jaitley Stadium, Delhi",
          "Barsapara Cricket Stadium, Guwahati",
          "Bharat Ratna Shri Atal Bihari Vajpayee Ekana Cricket Stadium, Lucknow",
          "Dr. Y.S. Rajasekhara Reddy ACA-VDCA Cricket Stadium, Visakhapatnam",
          "Eden Gardens, Kolkata",
          "Himachal Pradesh Cricket Association Stadium, Dharamsala",
          "M.Chinnaswamy Stadium, Bengaluru",
          "MA Chidambaram Stadium, Chennai",
          "Maharaja Yadavindra Singh International Cricket Stadium, Mullanpur, Chandigarh",
          "Maharaja Yadavindra Singh International Cricket Stadium, Mullanpur, New Chandigarh",
          "Narendra Modi Stadium, Ahmedabad",
          "Rajiv Gandhi International Stadium, Hyderabad",
          "Sawai Mansingh Stadium, Jaipur",
          "Wankhede Stadium, Mumbai"
         ],
         "y": [
          0,
          0,
          0,
          0,
          0,
          0,
          1,
          0,
          0,
          0,
          1,
          0,
          0,
          0
         ]
        },
        {
         "name": "Royal Challengers Bengaluru vs Rajasthan Royals",
         "type": "bar",
         "x": [
          "Arun Jaitley Stadium, Delhi",
          "Barsapara Cricket Stadium, Guwahati",
          "Bharat Ratna Shri Atal Bihari Vajpayee Ekana Cricket Stadium, Lucknow",
          "Dr. Y.S. Rajasekhara Reddy ACA-VDCA Cricket Stadium, Visakhapatnam",
          "Eden Gardens, Kolkata",
          "Himachal Pradesh Cricket Association Stadium, Dharamsala",
          "M.Chinnaswamy Stadium, Bengaluru",
          "MA Chidambaram Stadium, Chennai",
          "Maharaja Yadavindra Singh International Cricket Stadium, Mullanpur, Chandigarh",
          "Maharaja Yadavindra Singh International Cricket Stadium, Mullanpur, New Chandigarh",
          "Narendra Modi Stadium, Ahmedabad",
          "Rajiv Gandhi International Stadium, Hyderabad",
          "Sawai Mansingh Stadium, Jaipur",
          "Wankhede Stadium, Mumbai"
         ],
         "y": [
          0,
          0,
          0,
          0,
          0,
          0,
          1,
          0,
          0,
          0,
          0,
          0,
          0,
          0
         ]
        },
        {
         "name": "Royal Challengers Bengaluru vs Sunrisers Hyderabad",
         "type": "bar",
         "x": [
          "Arun Jaitley Stadium, Delhi",
          "Barsapara Cricket Stadium, Guwahati",
          "Bharat Ratna Shri Atal Bihari Vajpayee Ekana Cricket Stadium, Lucknow",
          "Dr. Y.S. Rajasekhara Reddy ACA-VDCA Cricket Stadium, Visakhapatnam",
          "Eden Gardens, Kolkata",
          "Himachal Pradesh Cricket Association Stadium, Dharamsala",
          "M.Chinnaswamy Stadium, Bengaluru",
          "MA Chidambaram Stadium, Chennai",
          "Maharaja Yadavindra Singh International Cricket Stadium, Mullanpur, Chandigarh",
          "Maharaja Yadavindra Singh International Cricket Stadium, Mullanpur, New Chandigarh",
          "Narendra Modi Stadium, Ahmedabad",
          "Rajiv Gandhi International Stadium, Hyderabad",
          "Sawai Mansingh Stadium, Jaipur",
          "Wankhede Stadium, Mumbai"
         ],
         "y": [
          0,
          0,
          1,
          0,
          0,
          0,
          0,
          0,
          0,
          0,
          0,
          0,
          0,
          0
         ]
        },
        {
         "name": "Sunrisers Hyderabad vs Delhi Capitals",
         "type": "bar",
         "x": [
          "Arun Jaitley Stadium, Delhi",
          "Barsapara Cricket Stadium, Guwahati",
          "Bharat Ratna Shri Atal Bihari Vajpayee Ekana Cricket Stadium, Lucknow",
          "Dr. Y.S. Rajasekhara Reddy ACA-VDCA Cricket Stadium, Visakhapatnam",
          "Eden Gardens, Kolkata",
          "Himachal Pradesh Cricket Association Stadium, Dharamsala",
          "M.Chinnaswamy Stadium, Bengaluru",
          "MA Chidambaram Stadium, Chennai",
          "Maharaja Yadavindra Singh International Cricket Stadium, Mullanpur, Chandigarh",
          "Maharaja Yadavindra Singh International Cricket Stadium, Mullanpur, New Chandigarh",
          "Narendra Modi Stadium, Ahmedabad",
          "Rajiv Gandhi International Stadium, Hyderabad",
          "Sawai Mansingh Stadium, Jaipur",
          "Wankhede Stadium, Mumbai"
         ],
         "y": [
          0,
          0,
          0,
          0,
          0,
          0,
          0,
          0,
          0,
          0,
          0,
          1,
          0,
          0
         ]
        },
        {
         "name": "Sunrisers Hyderabad vs Gujarat Titans",
         "type": "bar",
         "x": [
          "Arun Jaitley Stadium, Delhi",
          "Barsapara Cricket Stadium, Guwahati",
          "Bharat Ratna Shri Atal Bihari Vajpayee Ekana Cricket Stadium, Lucknow",
          "Dr. Y.S. Rajasekhara Reddy ACA-VDCA Cricket Stadium, Visakhapatnam",
          "Eden Gardens, Kolkata",
          "Himachal Pradesh Cricket Association Stadium, Dharamsala",
          "M.Chinnaswamy Stadium, Bengaluru",
          "MA Chidambaram Stadium, Chennai",
          "Maharaja Yadavindra Singh International Cricket Stadium, Mullanpur, Chandigarh",
          "Maharaja Yadavindra Singh International Cricket Stadium, Mullanpur, New Chandigarh",
          "Narendra Modi Stadium, Ahmedabad",
          "Rajiv Gandhi International Stadium, Hyderabad",
          "Sawai Mansingh Stadium, Jaipur",
          "Wankhede Stadium, Mumbai"
         ],
         "y": [
          0,
          0,
          0,
          0,
          0,
          0,
          0,
          0,
          0,
          0,
          0,
          1,
          0,
          0
         ]
        },
        {
         "name": "Sunrisers Hyderabad vs Kolkata Knight Riders",
         "type": "bar",
         "x": [
          "Arun Jaitley Stadium, Delhi",
          "Barsapara Cricket Stadium, Guwahati",
          "Bharat Ratna Shri Atal Bihari Vajpayee Ekana Cricket Stadium, Lucknow",
          "Dr. Y.S. Rajasekhara Reddy ACA-VDCA Cricket Stadium, Visakhapatnam",
          "Eden Gardens, Kolkata",
          "Himachal Pradesh Cricket Association Stadium, Dharamsala",
          "M.Chinnaswamy Stadium, Bengaluru",
          "MA Chidambaram Stadium, Chennai",
          "Maharaja Yadavindra Singh International Cricket Stadium, Mullanpur, Chandigarh",
          "Maharaja Yadavindra Singh International Cricket Stadium, Mullanpur, New Chandigarh",
          "Narendra Modi Stadium, Ahmedabad",
          "Rajiv Gandhi International Stadium, Hyderabad",
          "Sawai Mansingh Stadium, Jaipur",
          "Wankhede Stadium, Mumbai"
         ],
         "y": [
          1,
          0,
          0,
          0,
          0,
          0,
          0,
          0,
          0,
          0,
          0,
          0,
          0,
          0
         ]
        },
        {
         "name": "Sunrisers Hyderabad vs Lucknow Super Giants",
         "type": "bar",
         "x": [
          "Arun Jaitley Stadium, Delhi",
          "Barsapara Cricket Stadium, Guwahati",
          "Bharat Ratna Shri Atal Bihari Vajpayee Ekana Cricket Stadium, Lucknow",
          "Dr. Y.S. Rajasekhara Reddy ACA-VDCA Cricket Stadium, Visakhapatnam",
          "Eden Gardens, Kolkata",
          "Himachal Pradesh Cricket Association Stadium, Dharamsala",
          "M.Chinnaswamy Stadium, Bengaluru",
          "MA Chidambaram Stadium, Chennai",
          "Maharaja Yadavindra Singh International Cricket Stadium, Mullanpur, Chandigarh",
          "Maharaja Yadavindra Singh International Cricket Stadium, Mullanpur, New Chandigarh",
          "Narendra Modi Stadium, Ahmedabad",
          "Rajiv Gandhi International Stadium, Hyderabad",
          "Sawai Mansingh Stadium, Jaipur",
          "Wankhede Stadium, Mumbai"
         ],
         "y": [
          0,
          0,
          0,
          0,
          0,
          0,
          0,
          0,
          0,
          0,
          0,
          1,
          0,
          0
         ]
        },
        {
         "name": "Sunrisers Hyderabad vs Mumbai Indians",
         "type": "bar",
         "x": [
          "Arun Jaitley Stadium, Delhi",
          "Barsapara Cricket Stadium, Guwahati",
          "Bharat Ratna Shri Atal Bihari Vajpayee Ekana Cricket Stadium, Lucknow",
          "Dr. Y.S. Rajasekhara Reddy ACA-VDCA Cricket Stadium, Visakhapatnam",
          "Eden Gardens, Kolkata",
          "Himachal Pradesh Cricket Association Stadium, Dharamsala",
          "M.Chinnaswamy Stadium, Bengaluru",
          "MA Chidambaram Stadium, Chennai",
          "Maharaja Yadavindra Singh International Cricket Stadium, Mullanpur, Chandigarh",
          "Maharaja Yadavindra Singh International Cricket Stadium, Mullanpur, New Chandigarh",
          "Narendra Modi Stadium, Ahmedabad",
          "Rajiv Gandhi International Stadium, Hyderabad",
          "Sawai Mansingh Stadium, Jaipur",
          "Wankhede Stadium, Mumbai"
         ],
         "y": [
          0,
          0,
          0,
          0,
          0,
          0,
          0,
          0,
          0,
          0,
          0,
          1,
          0,
          0
         ]
        },
        {
         "name": "Sunrisers Hyderabad vs Punjab Kings",
         "type": "bar",
         "x": [
          "Arun Jaitley Stadium, Delhi",
          "Barsapara Cricket Stadium, Guwahati",
          "Bharat Ratna Shri Atal Bihari Vajpayee Ekana Cricket Stadium, Lucknow",
          "Dr. Y.S. Rajasekhara Reddy ACA-VDCA Cricket Stadium, Visakhapatnam",
          "Eden Gardens, Kolkata",
          "Himachal Pradesh Cricket Association Stadium, Dharamsala",
          "M.Chinnaswamy Stadium, Bengaluru",
          "MA Chidambaram Stadium, Chennai",
          "Maharaja Yadavindra Singh International Cricket Stadium, Mullanpur, Chandigarh",
          "Maharaja Yadavindra Singh International Cricket Stadium, Mullanpur, New Chandigarh",
          "Narendra Modi Stadium, Ahmedabad",
          "Rajiv Gandhi International Stadium, Hyderabad",
          "Sawai Mansingh Stadium, Jaipur",
          "Wankhede Stadium, Mumbai"
         ],
         "y": [
          0,
          0,
          0,
          0,
          0,
          0,
          0,
          0,
          0,
          0,
          0,
          1,
          0,
          0
         ]
        },
        {
         "name": "Sunrisers Hyderabad vs Rajasthan Royals",
         "type": "bar",
         "x": [
          "Arun Jaitley Stadium, Delhi",
          "Barsapara Cricket Stadium, Guwahati",
          "Bharat Ratna Shri Atal Bihari Vajpayee Ekana Cricket Stadium, Lucknow",
          "Dr. Y.S. Rajasekhara Reddy ACA-VDCA Cricket Stadium, Visakhapatnam",
          "Eden Gardens, Kolkata",
          "Himachal Pradesh Cricket Association Stadium, Dharamsala",
          "M.Chinnaswamy Stadium, Bengaluru",
          "MA Chidambaram Stadium, Chennai",
          "Maharaja Yadavindra Singh International Cricket Stadium, Mullanpur, Chandigarh",
          "Maharaja Yadavindra Singh International Cricket Stadium, Mullanpur, New Chandigarh",
          "Narendra Modi Stadium, Ahmedabad",
          "Rajiv Gandhi International Stadium, Hyderabad",
          "Sawai Mansingh Stadium, Jaipur",
          "Wankhede Stadium, Mumbai"
         ],
         "y": [
          0,
          0,
          0,
          0,
          0,
          0,
          0,
          0,
          0,
          0,
          0,
          1,
          0,
          0
         ]
        }
       ],
       "layout": {
        "barmode": "stack",
        "height": 700,
        "template": {
         "data": {
          "bar": [
           {
            "error_x": {
             "color": "#2a3f5f"
            },
            "error_y": {
             "color": "#2a3f5f"
            },
            "marker": {
             "line": {
              "color": "#E5ECF6",
              "width": 0.5
             },
             "pattern": {
              "fillmode": "overlay",
              "size": 10,
              "solidity": 0.2
             }
            },
            "type": "bar"
           }
          ],
          "barpolar": [
           {
            "marker": {
             "line": {
              "color": "#E5ECF6",
              "width": 0.5
             },
             "pattern": {
              "fillmode": "overlay",
              "size": 10,
              "solidity": 0.2
             }
            },
            "type": "barpolar"
           }
          ],
          "carpet": [
           {
            "aaxis": {
             "endlinecolor": "#2a3f5f",
             "gridcolor": "white",
             "linecolor": "white",
             "minorgridcolor": "white",
             "startlinecolor": "#2a3f5f"
            },
            "baxis": {
             "endlinecolor": "#2a3f5f",
             "gridcolor": "white",
             "linecolor": "white",
             "minorgridcolor": "white",
             "startlinecolor": "#2a3f5f"
            },
            "type": "carpet"
           }
          ],
          "choropleth": [
           {
            "colorbar": {
             "outlinewidth": 0,
             "ticks": ""
            },
            "type": "choropleth"
           }
          ],
          "contour": [
           {
            "colorbar": {
             "outlinewidth": 0,
             "ticks": ""
            },
            "colorscale": [
             [
              0,
              "#0d0887"
             ],
             [
              0.1111111111111111,
              "#46039f"
             ],
             [
              0.2222222222222222,
              "#7201a8"
             ],
             [
              0.3333333333333333,
              "#9c179e"
             ],
             [
              0.4444444444444444,
              "#bd3786"
             ],
             [
              0.5555555555555556,
              "#d8576b"
             ],
             [
              0.6666666666666666,
              "#ed7953"
             ],
             [
              0.7777777777777778,
              "#fb9f3a"
             ],
             [
              0.8888888888888888,
              "#fdca26"
             ],
             [
              1,
              "#f0f921"
             ]
            ],
            "type": "contour"
           }
          ],
          "contourcarpet": [
           {
            "colorbar": {
             "outlinewidth": 0,
             "ticks": ""
            },
            "type": "contourcarpet"
           }
          ],
          "heatmap": [
           {
            "colorbar": {
             "outlinewidth": 0,
             "ticks": ""
            },
            "colorscale": [
             [
              0,
              "#0d0887"
             ],
             [
              0.1111111111111111,
              "#46039f"
             ],
             [
              0.2222222222222222,
              "#7201a8"
             ],
             [
              0.3333333333333333,
              "#9c179e"
             ],
             [
              0.4444444444444444,
              "#bd3786"
             ],
             [
              0.5555555555555556,
              "#d8576b"
             ],
             [
              0.6666666666666666,
              "#ed7953"
             ],
             [
              0.7777777777777778,
              "#fb9f3a"
             ],
             [
              0.8888888888888888,
              "#fdca26"
             ],
             [
              1,
              "#f0f921"
             ]
            ],
            "type": "heatmap"
           }
          ],
          "heatmapgl": [
           {
            "colorbar": {
             "outlinewidth": 0,
             "ticks": ""
            },
            "colorscale": [
             [
              0,
              "#0d0887"
             ],
             [
              0.1111111111111111,
              "#46039f"
             ],
             [
              0.2222222222222222,
              "#7201a8"
             ],
             [
              0.3333333333333333,
              "#9c179e"
             ],
             [
              0.4444444444444444,
              "#bd3786"
             ],
             [
              0.5555555555555556,
              "#d8576b"
             ],
             [
              0.6666666666666666,
              "#ed7953"
             ],
             [
              0.7777777777777778,
              "#fb9f3a"
             ],
             [
              0.8888888888888888,
              "#fdca26"
             ],
             [
              1,
              "#f0f921"
             ]
            ],
            "type": "heatmapgl"
           }
          ],
          "histogram": [
           {
            "marker": {
             "pattern": {
              "fillmode": "overlay",
              "size": 10,
              "solidity": 0.2
             }
            },
            "type": "histogram"
           }
          ],
          "histogram2d": [
           {
            "colorbar": {
             "outlinewidth": 0,
             "ticks": ""
            },
            "colorscale": [
             [
              0,
              "#0d0887"
             ],
             [
              0.1111111111111111,
              "#46039f"
             ],
             [
              0.2222222222222222,
              "#7201a8"
             ],
             [
              0.3333333333333333,
              "#9c179e"
             ],
             [
              0.4444444444444444,
              "#bd3786"
             ],
             [
              0.5555555555555556,
              "#d8576b"
             ],
             [
              0.6666666666666666,
              "#ed7953"
             ],
             [
              0.7777777777777778,
              "#fb9f3a"
             ],
             [
              0.8888888888888888,
              "#fdca26"
             ],
             [
              1,
              "#f0f921"
             ]
            ],
            "type": "histogram2d"
           }
          ],
          "histogram2dcontour": [
           {
            "colorbar": {
             "outlinewidth": 0,
             "ticks": ""
            },
            "colorscale": [
             [
              0,
              "#0d0887"
             ],
             [
              0.1111111111111111,
              "#46039f"
             ],
             [
              0.2222222222222222,
              "#7201a8"
             ],
             [
              0.3333333333333333,
              "#9c179e"
             ],
             [
              0.4444444444444444,
              "#bd3786"
             ],
             [
              0.5555555555555556,
              "#d8576b"
             ],
             [
              0.6666666666666666,
              "#ed7953"
             ],
             [
              0.7777777777777778,
              "#fb9f3a"
             ],
             [
              0.8888888888888888,
              "#fdca26"
             ],
             [
              1,
              "#f0f921"
             ]
            ],
            "type": "histogram2dcontour"
           }
          ],
          "mesh3d": [
           {
            "colorbar": {
             "outlinewidth": 0,
             "ticks": ""
            },
            "type": "mesh3d"
           }
          ],
          "parcoords": [
           {
            "line": {
             "colorbar": {
              "outlinewidth": 0,
              "ticks": ""
             }
            },
            "type": "parcoords"
           }
          ],
          "pie": [
           {
            "automargin": true,
            "type": "pie"
           }
          ],
          "scatter": [
           {
            "fillpattern": {
             "fillmode": "overlay",
             "size": 10,
             "solidity": 0.2
            },
            "type": "scatter"
           }
          ],
          "scatter3d": [
           {
            "line": {
             "colorbar": {
              "outlinewidth": 0,
              "ticks": ""
             }
            },
            "marker": {
             "colorbar": {
              "outlinewidth": 0,
              "ticks": ""
             }
            },
            "type": "scatter3d"
           }
          ],
          "scattercarpet": [
           {
            "marker": {
             "colorbar": {
              "outlinewidth": 0,
              "ticks": ""
             }
            },
            "type": "scattercarpet"
           }
          ],
          "scattergeo": [
           {
            "marker": {
             "colorbar": {
              "outlinewidth": 0,
              "ticks": ""
             }
            },
            "type": "scattergeo"
           }
          ],
          "scattergl": [
           {
            "marker": {
             "colorbar": {
              "outlinewidth": 0,
              "ticks": ""
             }
            },
            "type": "scattergl"
           }
          ],
          "scattermapbox": [
           {
            "marker": {
             "colorbar": {
              "outlinewidth": 0,
              "ticks": ""
             }
            },
            "type": "scattermapbox"
           }
          ],
          "scatterpolar": [
           {
            "marker": {
             "colorbar": {
              "outlinewidth": 0,
              "ticks": ""
             }
            },
            "type": "scatterpolar"
           }
          ],
          "scatterpolargl": [
           {
            "marker": {
             "colorbar": {
              "outlinewidth": 0,
              "ticks": ""
             }
            },
            "type": "scatterpolargl"
           }
          ],
          "scatterternary": [
           {
            "marker": {
             "colorbar": {
              "outlinewidth": 0,
              "ticks": ""
             }
            },
            "type": "scatterternary"
           }
          ],
          "surface": [
           {
            "colorbar": {
             "outlinewidth": 0,
             "ticks": ""
            },
            "colorscale": [
             [
              0,
              "#0d0887"
             ],
             [
              0.1111111111111111,
              "#46039f"
             ],
             [
              0.2222222222222222,
              "#7201a8"
             ],
             [
              0.3333333333333333,
              "#9c179e"
             ],
             [
              0.4444444444444444,
              "#bd3786"
             ],
             [
              0.5555555555555556,
              "#d8576b"
             ],
             [
              0.6666666666666666,
              "#ed7953"
             ],
             [
              0.7777777777777778,
              "#fb9f3a"
             ],
             [
              0.8888888888888888,
              "#fdca26"
             ],
             [
              1,
              "#f0f921"
             ]
            ],
            "type": "surface"
           }
          ],
          "table": [
           {
            "cells": {
             "fill": {
              "color": "#EBF0F8"
             },
             "line": {
              "color": "white"
             }
            },
            "header": {
             "fill": {
              "color": "#C8D4E3"
             },
             "line": {
              "color": "white"
             }
            },
            "type": "table"
           }
          ]
         },
         "layout": {
          "annotationdefaults": {
           "arrowcolor": "#2a3f5f",
           "arrowhead": 0,
           "arrowwidth": 1
          },
          "autotypenumbers": "strict",
          "coloraxis": {
           "colorbar": {
            "outlinewidth": 0,
            "ticks": ""
           }
          },
          "colorscale": {
           "diverging": [
            [
             0,
             "#8e0152"
            ],
            [
             0.1,
             "#c51b7d"
            ],
            [
             0.2,
             "#de77ae"
            ],
            [
             0.3,
             "#f1b6da"
            ],
            [
             0.4,
             "#fde0ef"
            ],
            [
             0.5,
             "#f7f7f7"
            ],
            [
             0.6,
             "#e6f5d0"
            ],
            [
             0.7,
             "#b8e186"
            ],
            [
             0.8,
             "#7fbc41"
            ],
            [
             0.9,
             "#4d9221"
            ],
            [
             1,
             "#276419"
            ]
           ],
           "sequential": [
            [
             0,
             "#0d0887"
            ],
            [
             0.1111111111111111,
             "#46039f"
            ],
            [
             0.2222222222222222,
             "#7201a8"
            ],
            [
             0.3333333333333333,
             "#9c179e"
            ],
            [
             0.4444444444444444,
             "#bd3786"
            ],
            [
             0.5555555555555556,
             "#d8576b"
            ],
            [
             0.6666666666666666,
             "#ed7953"
            ],
            [
             0.7777777777777778,
             "#fb9f3a"
            ],
            [
             0.8888888888888888,
             "#fdca26"
            ],
            [
             1,
             "#f0f921"
            ]
           ],
           "sequentialminus": [
            [
             0,
             "#0d0887"
            ],
            [
             0.1111111111111111,
             "#46039f"
            ],
            [
             0.2222222222222222,
             "#7201a8"
            ],
            [
             0.3333333333333333,
             "#9c179e"
            ],
            [
             0.4444444444444444,
             "#bd3786"
            ],
            [
             0.5555555555555556,
             "#d8576b"
            ],
            [
             0.6666666666666666,
             "#ed7953"
            ],
            [
             0.7777777777777778,
             "#fb9f3a"
            ],
            [
             0.8888888888888888,
             "#fdca26"
            ],
            [
             1,
             "#f0f921"
            ]
           ]
          },
          "colorway": [
           "#636efa",
           "#EF553B",
           "#00cc96",
           "#ab63fa",
           "#FFA15A",
           "#19d3f3",
           "#FF6692",
           "#B6E880",
           "#FF97FF",
           "#FECB52"
          ],
          "font": {
           "color": "#2a3f5f"
          },
          "geo": {
           "bgcolor": "white",
           "lakecolor": "white",
           "landcolor": "#E5ECF6",
           "showlakes": true,
           "showland": true,
           "subunitcolor": "white"
          },
          "hoverlabel": {
           "align": "left"
          },
          "hovermode": "closest",
          "mapbox": {
           "style": "light"
          },
          "paper_bgcolor": "white",
          "plot_bgcolor": "#E5ECF6",
          "polar": {
           "angularaxis": {
            "gridcolor": "white",
            "linecolor": "white",
            "ticks": ""
           },
           "bgcolor": "#E5ECF6",
           "radialaxis": {
            "gridcolor": "white",
            "linecolor": "white",
            "ticks": ""
           }
          },
          "scene": {
           "xaxis": {
            "backgroundcolor": "#E5ECF6",
            "gridcolor": "white",
            "gridwidth": 2,
            "linecolor": "white",
            "showbackground": true,
            "ticks": "",
            "zerolinecolor": "white"
           },
           "yaxis": {
            "backgroundcolor": "#E5ECF6",
            "gridcolor": "white",
            "gridwidth": 2,
            "linecolor": "white",
            "showbackground": true,
            "ticks": "",
            "zerolinecolor": "white"
           },
           "zaxis": {
            "backgroundcolor": "#E5ECF6",
            "gridcolor": "white",
            "gridwidth": 2,
            "linecolor": "white",
            "showbackground": true,
            "ticks": "",
            "zerolinecolor": "white"
           }
          },
          "shapedefaults": {
           "line": {
            "color": "#2a3f5f"
           }
          },
          "ternary": {
           "aaxis": {
            "gridcolor": "white",
            "linecolor": "white",
            "ticks": ""
           },
           "baxis": {
            "gridcolor": "white",
            "linecolor": "white",
            "ticks": ""
           },
           "bgcolor": "#E5ECF6",
           "caxis": {
            "gridcolor": "white",
            "linecolor": "white",
            "ticks": ""
           }
          },
          "title": {
           "x": 0.05
          },
          "xaxis": {
           "automargin": true,
           "gridcolor": "white",
           "linecolor": "white",
           "ticks": "",
           "title": {
            "standoff": 15
           },
           "zerolinecolor": "white",
           "zerolinewidth": 2
          },
          "yaxis": {
           "automargin": true,
           "gridcolor": "white",
           "linecolor": "white",
           "ticks": "",
           "title": {
            "standoff": 15
           },
           "zerolinecolor": "white",
           "zerolinewidth": 2
          }
         }
        },
        "title": {
         "text": "Matches Played at Each Venue"
        },
        "width": 1000,
        "xaxis": {
         "title": {
          "text": "Match Venue"
         }
        },
        "yaxis": {
         "title": {
          "text": "Match Count"
         }
        }
       }
      }
     },
     "metadata": {},
     "output_type": "display_data"
    }
   ],
   "source": [
    "import plotly.graph_objects as go\n",
    "\n",
    "fig = go.Figure()\n",
    "\n",
    "for match_name in dis.index:\n",
    "    fig.add_trace(go.Bar(\n",
    "        x=dis.columns,\n",
    "        y=dis.loc[match_name],\n",
    "        name=match_name\n",
    "    ))\n",
    "\n",
    "fig.update_layout(\n",
    "    barmode='stack',\n",
    "    title=\"Matches Played at Each Venue\",\n",
    "    xaxis_title=\"Match Venue\",\n",
    "    yaxis_title=\"Match Count\",\n",
    "    width=1000,\n",
    "    height=700\n",
    ")\n",
    "\n",
    "fig.show()\n"
   ]
  },
  {
   "cell_type": "code",
   "execution_count": 80,
   "id": "fff12711-cb1f-4ac8-927e-e38989db3de6",
   "metadata": {},
   "outputs": [
    {
     "data": {
      "application/vnd.plotly.v1+json": {
       "config": {
        "plotlyServerURL": "https://plot.ly"
       },
       "data": [
        {
         "alignmentgroup": "True",
         "hovertemplate": "Match Winner=%{x}<br>Match Count=%{y}<extra></extra>",
         "legendgroup": "Royal Challengers Bengaluru",
         "marker": {
          "color": "#636efa",
          "pattern": {
           "shape": ""
          }
         },
         "name": "Royal Challengers Bengaluru",
         "offsetgroup": "Royal Challengers Bengaluru",
         "orientation": "v",
         "showlegend": true,
         "textposition": "auto",
         "type": "bar",
         "x": [
          "Royal Challengers Bengaluru"
         ],
         "xaxis": "x",
         "y": [
          11
         ],
         "yaxis": "y"
        },
        {
         "alignmentgroup": "True",
         "hovertemplate": "Match Winner=%{x}<br>Match Count=%{y}<extra></extra>",
         "legendgroup": "Punjab Kings",
         "marker": {
          "color": "#EF553B",
          "pattern": {
           "shape": ""
          }
         },
         "name": "Punjab Kings",
         "offsetgroup": "Punjab Kings",
         "orientation": "v",
         "showlegend": true,
         "textposition": "auto",
         "type": "bar",
         "x": [
          "Punjab Kings"
         ],
         "xaxis": "x",
         "y": [
          10
         ],
         "yaxis": "y"
        },
        {
         "alignmentgroup": "True",
         "hovertemplate": "Match Winner=%{x}<br>Match Count=%{y}<extra></extra>",
         "legendgroup": "Gujarat Titans",
         "marker": {
          "color": "#00cc96",
          "pattern": {
           "shape": ""
          }
         },
         "name": "Gujarat Titans",
         "offsetgroup": "Gujarat Titans",
         "orientation": "v",
         "showlegend": true,
         "textposition": "auto",
         "type": "bar",
         "x": [
          "Gujarat Titans"
         ],
         "xaxis": "x",
         "y": [
          9
         ],
         "yaxis": "y"
        },
        {
         "alignmentgroup": "True",
         "hovertemplate": "Match Winner=%{x}<br>Match Count=%{y}<extra></extra>",
         "legendgroup": "Mumbai Indians",
         "marker": {
          "color": "#ab63fa",
          "pattern": {
           "shape": ""
          }
         },
         "name": "Mumbai Indians",
         "offsetgroup": "Mumbai Indians",
         "orientation": "v",
         "showlegend": true,
         "textposition": "auto",
         "type": "bar",
         "x": [
          "Mumbai Indians"
         ],
         "xaxis": "x",
         "y": [
          9
         ],
         "yaxis": "y"
        },
        {
         "alignmentgroup": "True",
         "hovertemplate": "Match Winner=%{x}<br>Match Count=%{y}<extra></extra>",
         "legendgroup": "Delhi Capitals",
         "marker": {
          "color": "#FFA15A",
          "pattern": {
           "shape": ""
          }
         },
         "name": "Delhi Capitals",
         "offsetgroup": "Delhi Capitals",
         "orientation": "v",
         "showlegend": true,
         "textposition": "auto",
         "type": "bar",
         "x": [
          "Delhi Capitals"
         ],
         "xaxis": "x",
         "y": [
          7
         ],
         "yaxis": "y"
        },
        {
         "alignmentgroup": "True",
         "hovertemplate": "Match Winner=%{x}<br>Match Count=%{y}<extra></extra>",
         "legendgroup": "Sunrisers Hyderabad",
         "marker": {
          "color": "#19d3f3",
          "pattern": {
           "shape": ""
          }
         },
         "name": "Sunrisers Hyderabad",
         "offsetgroup": "Sunrisers Hyderabad",
         "orientation": "v",
         "showlegend": true,
         "textposition": "auto",
         "type": "bar",
         "x": [
          "Sunrisers Hyderabad"
         ],
         "xaxis": "x",
         "y": [
          6
         ],
         "yaxis": "y"
        },
        {
         "alignmentgroup": "True",
         "hovertemplate": "Match Winner=%{x}<br>Match Count=%{y}<extra></extra>",
         "legendgroup": "Lucknow Super Giants",
         "marker": {
          "color": "#FF6692",
          "pattern": {
           "shape": ""
          }
         },
         "name": "Lucknow Super Giants",
         "offsetgroup": "Lucknow Super Giants",
         "orientation": "v",
         "showlegend": true,
         "textposition": "auto",
         "type": "bar",
         "x": [
          "Lucknow Super Giants"
         ],
         "xaxis": "x",
         "y": [
          6
         ],
         "yaxis": "y"
        },
        {
         "alignmentgroup": "True",
         "hovertemplate": "Match Winner=%{x}<br>Match Count=%{y}<extra></extra>",
         "legendgroup": "Kolkata Knight Riders",
         "marker": {
          "color": "#B6E880",
          "pattern": {
           "shape": ""
          }
         },
         "name": "Kolkata Knight Riders",
         "offsetgroup": "Kolkata Knight Riders",
         "orientation": "v",
         "showlegend": true,
         "textposition": "auto",
         "type": "bar",
         "x": [
          "Kolkata Knight Riders"
         ],
         "xaxis": "x",
         "y": [
          5
         ],
         "yaxis": "y"
        },
        {
         "alignmentgroup": "True",
         "hovertemplate": "Match Winner=%{x}<br>Match Count=%{y}<extra></extra>",
         "legendgroup": "Chennai Super Kings",
         "marker": {
          "color": "#FF97FF",
          "pattern": {
           "shape": ""
          }
         },
         "name": "Chennai Super Kings",
         "offsetgroup": "Chennai Super Kings",
         "orientation": "v",
         "showlegend": true,
         "textposition": "auto",
         "type": "bar",
         "x": [
          "Chennai Super Kings"
         ],
         "xaxis": "x",
         "y": [
          4
         ],
         "yaxis": "y"
        },
        {
         "alignmentgroup": "True",
         "hovertemplate": "Match Winner=%{x}<br>Match Count=%{y}<extra></extra>",
         "legendgroup": "Rajasthan Royals",
         "marker": {
          "color": "#FECB52",
          "pattern": {
           "shape": ""
          }
         },
         "name": "Rajasthan Royals",
         "offsetgroup": "Rajasthan Royals",
         "orientation": "v",
         "showlegend": true,
         "textposition": "auto",
         "type": "bar",
         "x": [
          "Rajasthan Royals"
         ],
         "xaxis": "x",
         "y": [
          4
         ],
         "yaxis": "y"
        },
        {
         "alignmentgroup": "True",
         "hovertemplate": "Match Winner=%{x}<br>Match Count=%{y}<extra></extra>",
         "legendgroup": "No Winner",
         "marker": {
          "color": "#636efa",
          "pattern": {
           "shape": ""
          }
         },
         "name": "No Winner",
         "offsetgroup": "No Winner",
         "orientation": "v",
         "showlegend": true,
         "textposition": "auto",
         "type": "bar",
         "x": [
          "No Winner"
         ],
         "xaxis": "x",
         "y": [
          3
         ],
         "yaxis": "y"
        }
       ],
       "layout": {
        "barmode": "relative",
        "height": 600,
        "legend": {
         "title": {
          "text": "Match Winner"
         },
         "tracegroupgap": 0
        },
        "template": {
         "data": {
          "bar": [
           {
            "error_x": {
             "color": "#2a3f5f"
            },
            "error_y": {
             "color": "#2a3f5f"
            },
            "marker": {
             "line": {
              "color": "#E5ECF6",
              "width": 0.5
             },
             "pattern": {
              "fillmode": "overlay",
              "size": 10,
              "solidity": 0.2
             }
            },
            "type": "bar"
           }
          ],
          "barpolar": [
           {
            "marker": {
             "line": {
              "color": "#E5ECF6",
              "width": 0.5
             },
             "pattern": {
              "fillmode": "overlay",
              "size": 10,
              "solidity": 0.2
             }
            },
            "type": "barpolar"
           }
          ],
          "carpet": [
           {
            "aaxis": {
             "endlinecolor": "#2a3f5f",
             "gridcolor": "white",
             "linecolor": "white",
             "minorgridcolor": "white",
             "startlinecolor": "#2a3f5f"
            },
            "baxis": {
             "endlinecolor": "#2a3f5f",
             "gridcolor": "white",
             "linecolor": "white",
             "minorgridcolor": "white",
             "startlinecolor": "#2a3f5f"
            },
            "type": "carpet"
           }
          ],
          "choropleth": [
           {
            "colorbar": {
             "outlinewidth": 0,
             "ticks": ""
            },
            "type": "choropleth"
           }
          ],
          "contour": [
           {
            "colorbar": {
             "outlinewidth": 0,
             "ticks": ""
            },
            "colorscale": [
             [
              0,
              "#0d0887"
             ],
             [
              0.1111111111111111,
              "#46039f"
             ],
             [
              0.2222222222222222,
              "#7201a8"
             ],
             [
              0.3333333333333333,
              "#9c179e"
             ],
             [
              0.4444444444444444,
              "#bd3786"
             ],
             [
              0.5555555555555556,
              "#d8576b"
             ],
             [
              0.6666666666666666,
              "#ed7953"
             ],
             [
              0.7777777777777778,
              "#fb9f3a"
             ],
             [
              0.8888888888888888,
              "#fdca26"
             ],
             [
              1,
              "#f0f921"
             ]
            ],
            "type": "contour"
           }
          ],
          "contourcarpet": [
           {
            "colorbar": {
             "outlinewidth": 0,
             "ticks": ""
            },
            "type": "contourcarpet"
           }
          ],
          "heatmap": [
           {
            "colorbar": {
             "outlinewidth": 0,
             "ticks": ""
            },
            "colorscale": [
             [
              0,
              "#0d0887"
             ],
             [
              0.1111111111111111,
              "#46039f"
             ],
             [
              0.2222222222222222,
              "#7201a8"
             ],
             [
              0.3333333333333333,
              "#9c179e"
             ],
             [
              0.4444444444444444,
              "#bd3786"
             ],
             [
              0.5555555555555556,
              "#d8576b"
             ],
             [
              0.6666666666666666,
              "#ed7953"
             ],
             [
              0.7777777777777778,
              "#fb9f3a"
             ],
             [
              0.8888888888888888,
              "#fdca26"
             ],
             [
              1,
              "#f0f921"
             ]
            ],
            "type": "heatmap"
           }
          ],
          "heatmapgl": [
           {
            "colorbar": {
             "outlinewidth": 0,
             "ticks": ""
            },
            "colorscale": [
             [
              0,
              "#0d0887"
             ],
             [
              0.1111111111111111,
              "#46039f"
             ],
             [
              0.2222222222222222,
              "#7201a8"
             ],
             [
              0.3333333333333333,
              "#9c179e"
             ],
             [
              0.4444444444444444,
              "#bd3786"
             ],
             [
              0.5555555555555556,
              "#d8576b"
             ],
             [
              0.6666666666666666,
              "#ed7953"
             ],
             [
              0.7777777777777778,
              "#fb9f3a"
             ],
             [
              0.8888888888888888,
              "#fdca26"
             ],
             [
              1,
              "#f0f921"
             ]
            ],
            "type": "heatmapgl"
           }
          ],
          "histogram": [
           {
            "marker": {
             "pattern": {
              "fillmode": "overlay",
              "size": 10,
              "solidity": 0.2
             }
            },
            "type": "histogram"
           }
          ],
          "histogram2d": [
           {
            "colorbar": {
             "outlinewidth": 0,
             "ticks": ""
            },
            "colorscale": [
             [
              0,
              "#0d0887"
             ],
             [
              0.1111111111111111,
              "#46039f"
             ],
             [
              0.2222222222222222,
              "#7201a8"
             ],
             [
              0.3333333333333333,
              "#9c179e"
             ],
             [
              0.4444444444444444,
              "#bd3786"
             ],
             [
              0.5555555555555556,
              "#d8576b"
             ],
             [
              0.6666666666666666,
              "#ed7953"
             ],
             [
              0.7777777777777778,
              "#fb9f3a"
             ],
             [
              0.8888888888888888,
              "#fdca26"
             ],
             [
              1,
              "#f0f921"
             ]
            ],
            "type": "histogram2d"
           }
          ],
          "histogram2dcontour": [
           {
            "colorbar": {
             "outlinewidth": 0,
             "ticks": ""
            },
            "colorscale": [
             [
              0,
              "#0d0887"
             ],
             [
              0.1111111111111111,
              "#46039f"
             ],
             [
              0.2222222222222222,
              "#7201a8"
             ],
             [
              0.3333333333333333,
              "#9c179e"
             ],
             [
              0.4444444444444444,
              "#bd3786"
             ],
             [
              0.5555555555555556,
              "#d8576b"
             ],
             [
              0.6666666666666666,
              "#ed7953"
             ],
             [
              0.7777777777777778,
              "#fb9f3a"
             ],
             [
              0.8888888888888888,
              "#fdca26"
             ],
             [
              1,
              "#f0f921"
             ]
            ],
            "type": "histogram2dcontour"
           }
          ],
          "mesh3d": [
           {
            "colorbar": {
             "outlinewidth": 0,
             "ticks": ""
            },
            "type": "mesh3d"
           }
          ],
          "parcoords": [
           {
            "line": {
             "colorbar": {
              "outlinewidth": 0,
              "ticks": ""
             }
            },
            "type": "parcoords"
           }
          ],
          "pie": [
           {
            "automargin": true,
            "type": "pie"
           }
          ],
          "scatter": [
           {
            "fillpattern": {
             "fillmode": "overlay",
             "size": 10,
             "solidity": 0.2
            },
            "type": "scatter"
           }
          ],
          "scatter3d": [
           {
            "line": {
             "colorbar": {
              "outlinewidth": 0,
              "ticks": ""
             }
            },
            "marker": {
             "colorbar": {
              "outlinewidth": 0,
              "ticks": ""
             }
            },
            "type": "scatter3d"
           }
          ],
          "scattercarpet": [
           {
            "marker": {
             "colorbar": {
              "outlinewidth": 0,
              "ticks": ""
             }
            },
            "type": "scattercarpet"
           }
          ],
          "scattergeo": [
           {
            "marker": {
             "colorbar": {
              "outlinewidth": 0,
              "ticks": ""
             }
            },
            "type": "scattergeo"
           }
          ],
          "scattergl": [
           {
            "marker": {
             "colorbar": {
              "outlinewidth": 0,
              "ticks": ""
             }
            },
            "type": "scattergl"
           }
          ],
          "scattermapbox": [
           {
            "marker": {
             "colorbar": {
              "outlinewidth": 0,
              "ticks": ""
             }
            },
            "type": "scattermapbox"
           }
          ],
          "scatterpolar": [
           {
            "marker": {
             "colorbar": {
              "outlinewidth": 0,
              "ticks": ""
             }
            },
            "type": "scatterpolar"
           }
          ],
          "scatterpolargl": [
           {
            "marker": {
             "colorbar": {
              "outlinewidth": 0,
              "ticks": ""
             }
            },
            "type": "scatterpolargl"
           }
          ],
          "scatterternary": [
           {
            "marker": {
             "colorbar": {
              "outlinewidth": 0,
              "ticks": ""
             }
            },
            "type": "scatterternary"
           }
          ],
          "surface": [
           {
            "colorbar": {
             "outlinewidth": 0,
             "ticks": ""
            },
            "colorscale": [
             [
              0,
              "#0d0887"
             ],
             [
              0.1111111111111111,
              "#46039f"
             ],
             [
              0.2222222222222222,
              "#7201a8"
             ],
             [
              0.3333333333333333,
              "#9c179e"
             ],
             [
              0.4444444444444444,
              "#bd3786"
             ],
             [
              0.5555555555555556,
              "#d8576b"
             ],
             [
              0.6666666666666666,
              "#ed7953"
             ],
             [
              0.7777777777777778,
              "#fb9f3a"
             ],
             [
              0.8888888888888888,
              "#fdca26"
             ],
             [
              1,
              "#f0f921"
             ]
            ],
            "type": "surface"
           }
          ],
          "table": [
           {
            "cells": {
             "fill": {
              "color": "#EBF0F8"
             },
             "line": {
              "color": "white"
             }
            },
            "header": {
             "fill": {
              "color": "#C8D4E3"
             },
             "line": {
              "color": "white"
             }
            },
            "type": "table"
           }
          ]
         },
         "layout": {
          "annotationdefaults": {
           "arrowcolor": "#2a3f5f",
           "arrowhead": 0,
           "arrowwidth": 1
          },
          "autotypenumbers": "strict",
          "coloraxis": {
           "colorbar": {
            "outlinewidth": 0,
            "ticks": ""
           }
          },
          "colorscale": {
           "diverging": [
            [
             0,
             "#8e0152"
            ],
            [
             0.1,
             "#c51b7d"
            ],
            [
             0.2,
             "#de77ae"
            ],
            [
             0.3,
             "#f1b6da"
            ],
            [
             0.4,
             "#fde0ef"
            ],
            [
             0.5,
             "#f7f7f7"
            ],
            [
             0.6,
             "#e6f5d0"
            ],
            [
             0.7,
             "#b8e186"
            ],
            [
             0.8,
             "#7fbc41"
            ],
            [
             0.9,
             "#4d9221"
            ],
            [
             1,
             "#276419"
            ]
           ],
           "sequential": [
            [
             0,
             "#0d0887"
            ],
            [
             0.1111111111111111,
             "#46039f"
            ],
            [
             0.2222222222222222,
             "#7201a8"
            ],
            [
             0.3333333333333333,
             "#9c179e"
            ],
            [
             0.4444444444444444,
             "#bd3786"
            ],
            [
             0.5555555555555556,
             "#d8576b"
            ],
            [
             0.6666666666666666,
             "#ed7953"
            ],
            [
             0.7777777777777778,
             "#fb9f3a"
            ],
            [
             0.8888888888888888,
             "#fdca26"
            ],
            [
             1,
             "#f0f921"
            ]
           ],
           "sequentialminus": [
            [
             0,
             "#0d0887"
            ],
            [
             0.1111111111111111,
             "#46039f"
            ],
            [
             0.2222222222222222,
             "#7201a8"
            ],
            [
             0.3333333333333333,
             "#9c179e"
            ],
            [
             0.4444444444444444,
             "#bd3786"
            ],
            [
             0.5555555555555556,
             "#d8576b"
            ],
            [
             0.6666666666666666,
             "#ed7953"
            ],
            [
             0.7777777777777778,
             "#fb9f3a"
            ],
            [
             0.8888888888888888,
             "#fdca26"
            ],
            [
             1,
             "#f0f921"
            ]
           ]
          },
          "colorway": [
           "#636efa",
           "#EF553B",
           "#00cc96",
           "#ab63fa",
           "#FFA15A",
           "#19d3f3",
           "#FF6692",
           "#B6E880",
           "#FF97FF",
           "#FECB52"
          ],
          "font": {
           "color": "#2a3f5f"
          },
          "geo": {
           "bgcolor": "white",
           "lakecolor": "white",
           "landcolor": "#E5ECF6",
           "showlakes": true,
           "showland": true,
           "subunitcolor": "white"
          },
          "hoverlabel": {
           "align": "left"
          },
          "hovermode": "closest",
          "mapbox": {
           "style": "light"
          },
          "paper_bgcolor": "white",
          "plot_bgcolor": "#E5ECF6",
          "polar": {
           "angularaxis": {
            "gridcolor": "white",
            "linecolor": "white",
            "ticks": ""
           },
           "bgcolor": "#E5ECF6",
           "radialaxis": {
            "gridcolor": "white",
            "linecolor": "white",
            "ticks": ""
           }
          },
          "scene": {
           "xaxis": {
            "backgroundcolor": "#E5ECF6",
            "gridcolor": "white",
            "gridwidth": 2,
            "linecolor": "white",
            "showbackground": true,
            "ticks": "",
            "zerolinecolor": "white"
           },
           "yaxis": {
            "backgroundcolor": "#E5ECF6",
            "gridcolor": "white",
            "gridwidth": 2,
            "linecolor": "white",
            "showbackground": true,
            "ticks": "",
            "zerolinecolor": "white"
           },
           "zaxis": {
            "backgroundcolor": "#E5ECF6",
            "gridcolor": "white",
            "gridwidth": 2,
            "linecolor": "white",
            "showbackground": true,
            "ticks": "",
            "zerolinecolor": "white"
           }
          },
          "shapedefaults": {
           "line": {
            "color": "#2a3f5f"
           }
          },
          "ternary": {
           "aaxis": {
            "gridcolor": "white",
            "linecolor": "white",
            "ticks": ""
           },
           "baxis": {
            "gridcolor": "white",
            "linecolor": "white",
            "ticks": ""
           },
           "bgcolor": "#E5ECF6",
           "caxis": {
            "gridcolor": "white",
            "linecolor": "white",
            "ticks": ""
           }
          },
          "title": {
           "x": 0.05
          },
          "xaxis": {
           "automargin": true,
           "gridcolor": "white",
           "linecolor": "white",
           "ticks": "",
           "title": {
            "standoff": 15
           },
           "zerolinecolor": "white",
           "zerolinewidth": 2
          },
          "yaxis": {
           "automargin": true,
           "gridcolor": "white",
           "linecolor": "white",
           "ticks": "",
           "title": {
            "standoff": 15
           },
           "zerolinecolor": "white",
           "zerolinewidth": 2
          }
         }
        },
        "title": {
         "text": "Number of Wins by Each Team"
        },
        "width": 1000,
        "xaxis": {
         "anchor": "y",
         "categoryarray": [
          "Royal Challengers Bengaluru",
          "Punjab Kings",
          "Gujarat Titans",
          "Mumbai Indians",
          "Delhi Capitals",
          "Sunrisers Hyderabad",
          "Lucknow Super Giants",
          "Kolkata Knight Riders",
          "Chennai Super Kings",
          "Rajasthan Royals",
          "No Winner"
         ],
         "categoryorder": "array",
         "domain": [
          0,
          1
         ],
         "tickangle": 90,
         "title": {
          "text": "Match Winner"
         }
        },
        "yaxis": {
         "anchor": "x",
         "domain": [
          0,
          1
         ],
         "title": {
          "text": "Match Count"
         }
        }
       }
      }
     },
     "metadata": {},
     "output_type": "display_data"
    }
   ],
   "source": [
    "match_counts = ds['matchWinner'].value_counts().reset_index()\n",
    "match_counts.columns = ['Match Winner', 'Match Count']\n",
    "\n",
    "fig = px.bar(match_counts,\n",
    "             x='Match Winner',\n",
    "             y='Match Count',\n",
    "             title=\"Number of Wins by Each Team\",\n",
    "             labels={'Match Winner': 'Match Winner', 'Match Count': 'Match Count'},\n",
    "             color='Match Winner')  \n",
    "fig.update_layout(xaxis_tickangle=90,\n",
    "                  width=1000,\n",
    "                  height=600)\n",
    "\n",
    "fig.show()\n"
   ]
  },
  {
   "cell_type": "code",
   "execution_count": 81,
   "id": "fb6c3245-b8f4-4661-9841-c4203f99f9bd",
   "metadata": {},
   "outputs": [
    {
     "data": {
      "application/vnd.plotly.v1+json": {
       "config": {
        "plotlyServerURL": "https://plot.ly"
       },
       "data": [
        {
         "alignmentgroup": "True",
         "hovertemplate": "Match Winner=%{y}<br>Match Count=%{x}<extra></extra>",
         "legendgroup": "Royal Challengers Bengaluru",
         "marker": {
          "color": "#636efa",
          "pattern": {
           "shape": ""
          }
         },
         "name": "Royal Challengers Bengaluru",
         "offsetgroup": "Royal Challengers Bengaluru",
         "orientation": "h",
         "showlegend": true,
         "textposition": "auto",
         "type": "bar",
         "x": [
          11
         ],
         "xaxis": "x",
         "y": [
          "Royal Challengers Bengaluru"
         ],
         "yaxis": "y"
        },
        {
         "alignmentgroup": "True",
         "hovertemplate": "Match Winner=%{y}<br>Match Count=%{x}<extra></extra>",
         "legendgroup": "Punjab Kings",
         "marker": {
          "color": "#EF553B",
          "pattern": {
           "shape": ""
          }
         },
         "name": "Punjab Kings",
         "offsetgroup": "Punjab Kings",
         "orientation": "h",
         "showlegend": true,
         "textposition": "auto",
         "type": "bar",
         "x": [
          10
         ],
         "xaxis": "x",
         "y": [
          "Punjab Kings"
         ],
         "yaxis": "y"
        },
        {
         "alignmentgroup": "True",
         "hovertemplate": "Match Winner=%{y}<br>Match Count=%{x}<extra></extra>",
         "legendgroup": "Gujarat Titans",
         "marker": {
          "color": "#00cc96",
          "pattern": {
           "shape": ""
          }
         },
         "name": "Gujarat Titans",
         "offsetgroup": "Gujarat Titans",
         "orientation": "h",
         "showlegend": true,
         "textposition": "auto",
         "type": "bar",
         "x": [
          9
         ],
         "xaxis": "x",
         "y": [
          "Gujarat Titans"
         ],
         "yaxis": "y"
        },
        {
         "alignmentgroup": "True",
         "hovertemplate": "Match Winner=%{y}<br>Match Count=%{x}<extra></extra>",
         "legendgroup": "Mumbai Indians",
         "marker": {
          "color": "#ab63fa",
          "pattern": {
           "shape": ""
          }
         },
         "name": "Mumbai Indians",
         "offsetgroup": "Mumbai Indians",
         "orientation": "h",
         "showlegend": true,
         "textposition": "auto",
         "type": "bar",
         "x": [
          9
         ],
         "xaxis": "x",
         "y": [
          "Mumbai Indians"
         ],
         "yaxis": "y"
        },
        {
         "alignmentgroup": "True",
         "hovertemplate": "Match Winner=%{y}<br>Match Count=%{x}<extra></extra>",
         "legendgroup": "Delhi Capitals",
         "marker": {
          "color": "#FFA15A",
          "pattern": {
           "shape": ""
          }
         },
         "name": "Delhi Capitals",
         "offsetgroup": "Delhi Capitals",
         "orientation": "h",
         "showlegend": true,
         "textposition": "auto",
         "type": "bar",
         "x": [
          7
         ],
         "xaxis": "x",
         "y": [
          "Delhi Capitals"
         ],
         "yaxis": "y"
        },
        {
         "alignmentgroup": "True",
         "hovertemplate": "Match Winner=%{y}<br>Match Count=%{x}<extra></extra>",
         "legendgroup": "Sunrisers Hyderabad",
         "marker": {
          "color": "#19d3f3",
          "pattern": {
           "shape": ""
          }
         },
         "name": "Sunrisers Hyderabad",
         "offsetgroup": "Sunrisers Hyderabad",
         "orientation": "h",
         "showlegend": true,
         "textposition": "auto",
         "type": "bar",
         "x": [
          6
         ],
         "xaxis": "x",
         "y": [
          "Sunrisers Hyderabad"
         ],
         "yaxis": "y"
        },
        {
         "alignmentgroup": "True",
         "hovertemplate": "Match Winner=%{y}<br>Match Count=%{x}<extra></extra>",
         "legendgroup": "Lucknow Super Giants",
         "marker": {
          "color": "#FF6692",
          "pattern": {
           "shape": ""
          }
         },
         "name": "Lucknow Super Giants",
         "offsetgroup": "Lucknow Super Giants",
         "orientation": "h",
         "showlegend": true,
         "textposition": "auto",
         "type": "bar",
         "x": [
          6
         ],
         "xaxis": "x",
         "y": [
          "Lucknow Super Giants"
         ],
         "yaxis": "y"
        },
        {
         "alignmentgroup": "True",
         "hovertemplate": "Match Winner=%{y}<br>Match Count=%{x}<extra></extra>",
         "legendgroup": "Kolkata Knight Riders",
         "marker": {
          "color": "#B6E880",
          "pattern": {
           "shape": ""
          }
         },
         "name": "Kolkata Knight Riders",
         "offsetgroup": "Kolkata Knight Riders",
         "orientation": "h",
         "showlegend": true,
         "textposition": "auto",
         "type": "bar",
         "x": [
          5
         ],
         "xaxis": "x",
         "y": [
          "Kolkata Knight Riders"
         ],
         "yaxis": "y"
        },
        {
         "alignmentgroup": "True",
         "hovertemplate": "Match Winner=%{y}<br>Match Count=%{x}<extra></extra>",
         "legendgroup": "Chennai Super Kings",
         "marker": {
          "color": "#FF97FF",
          "pattern": {
           "shape": ""
          }
         },
         "name": "Chennai Super Kings",
         "offsetgroup": "Chennai Super Kings",
         "orientation": "h",
         "showlegend": true,
         "textposition": "auto",
         "type": "bar",
         "x": [
          4
         ],
         "xaxis": "x",
         "y": [
          "Chennai Super Kings"
         ],
         "yaxis": "y"
        },
        {
         "alignmentgroup": "True",
         "hovertemplate": "Match Winner=%{y}<br>Match Count=%{x}<extra></extra>",
         "legendgroup": "Rajasthan Royals",
         "marker": {
          "color": "#FECB52",
          "pattern": {
           "shape": ""
          }
         },
         "name": "Rajasthan Royals",
         "offsetgroup": "Rajasthan Royals",
         "orientation": "h",
         "showlegend": true,
         "textposition": "auto",
         "type": "bar",
         "x": [
          4
         ],
         "xaxis": "x",
         "y": [
          "Rajasthan Royals"
         ],
         "yaxis": "y"
        },
        {
         "alignmentgroup": "True",
         "hovertemplate": "Match Winner=%{y}<br>Match Count=%{x}<extra></extra>",
         "legendgroup": "No Winner",
         "marker": {
          "color": "#636efa",
          "pattern": {
           "shape": ""
          }
         },
         "name": "No Winner",
         "offsetgroup": "No Winner",
         "orientation": "h",
         "showlegend": true,
         "textposition": "auto",
         "type": "bar",
         "x": [
          3
         ],
         "xaxis": "x",
         "y": [
          "No Winner"
         ],
         "yaxis": "y"
        }
       ],
       "layout": {
        "barmode": "relative",
        "legend": {
         "title": {
          "text": "Match Winner"
         },
         "tracegroupgap": 0
        },
        "showlegend": false,
        "template": {
         "data": {
          "bar": [
           {
            "error_x": {
             "color": "#2a3f5f"
            },
            "error_y": {
             "color": "#2a3f5f"
            },
            "marker": {
             "line": {
              "color": "#E5ECF6",
              "width": 0.5
             },
             "pattern": {
              "fillmode": "overlay",
              "size": 10,
              "solidity": 0.2
             }
            },
            "type": "bar"
           }
          ],
          "barpolar": [
           {
            "marker": {
             "line": {
              "color": "#E5ECF6",
              "width": 0.5
             },
             "pattern": {
              "fillmode": "overlay",
              "size": 10,
              "solidity": 0.2
             }
            },
            "type": "barpolar"
           }
          ],
          "carpet": [
           {
            "aaxis": {
             "endlinecolor": "#2a3f5f",
             "gridcolor": "white",
             "linecolor": "white",
             "minorgridcolor": "white",
             "startlinecolor": "#2a3f5f"
            },
            "baxis": {
             "endlinecolor": "#2a3f5f",
             "gridcolor": "white",
             "linecolor": "white",
             "minorgridcolor": "white",
             "startlinecolor": "#2a3f5f"
            },
            "type": "carpet"
           }
          ],
          "choropleth": [
           {
            "colorbar": {
             "outlinewidth": 0,
             "ticks": ""
            },
            "type": "choropleth"
           }
          ],
          "contour": [
           {
            "colorbar": {
             "outlinewidth": 0,
             "ticks": ""
            },
            "colorscale": [
             [
              0,
              "#0d0887"
             ],
             [
              0.1111111111111111,
              "#46039f"
             ],
             [
              0.2222222222222222,
              "#7201a8"
             ],
             [
              0.3333333333333333,
              "#9c179e"
             ],
             [
              0.4444444444444444,
              "#bd3786"
             ],
             [
              0.5555555555555556,
              "#d8576b"
             ],
             [
              0.6666666666666666,
              "#ed7953"
             ],
             [
              0.7777777777777778,
              "#fb9f3a"
             ],
             [
              0.8888888888888888,
              "#fdca26"
             ],
             [
              1,
              "#f0f921"
             ]
            ],
            "type": "contour"
           }
          ],
          "contourcarpet": [
           {
            "colorbar": {
             "outlinewidth": 0,
             "ticks": ""
            },
            "type": "contourcarpet"
           }
          ],
          "heatmap": [
           {
            "colorbar": {
             "outlinewidth": 0,
             "ticks": ""
            },
            "colorscale": [
             [
              0,
              "#0d0887"
             ],
             [
              0.1111111111111111,
              "#46039f"
             ],
             [
              0.2222222222222222,
              "#7201a8"
             ],
             [
              0.3333333333333333,
              "#9c179e"
             ],
             [
              0.4444444444444444,
              "#bd3786"
             ],
             [
              0.5555555555555556,
              "#d8576b"
             ],
             [
              0.6666666666666666,
              "#ed7953"
             ],
             [
              0.7777777777777778,
              "#fb9f3a"
             ],
             [
              0.8888888888888888,
              "#fdca26"
             ],
             [
              1,
              "#f0f921"
             ]
            ],
            "type": "heatmap"
           }
          ],
          "heatmapgl": [
           {
            "colorbar": {
             "outlinewidth": 0,
             "ticks": ""
            },
            "colorscale": [
             [
              0,
              "#0d0887"
             ],
             [
              0.1111111111111111,
              "#46039f"
             ],
             [
              0.2222222222222222,
              "#7201a8"
             ],
             [
              0.3333333333333333,
              "#9c179e"
             ],
             [
              0.4444444444444444,
              "#bd3786"
             ],
             [
              0.5555555555555556,
              "#d8576b"
             ],
             [
              0.6666666666666666,
              "#ed7953"
             ],
             [
              0.7777777777777778,
              "#fb9f3a"
             ],
             [
              0.8888888888888888,
              "#fdca26"
             ],
             [
              1,
              "#f0f921"
             ]
            ],
            "type": "heatmapgl"
           }
          ],
          "histogram": [
           {
            "marker": {
             "pattern": {
              "fillmode": "overlay",
              "size": 10,
              "solidity": 0.2
             }
            },
            "type": "histogram"
           }
          ],
          "histogram2d": [
           {
            "colorbar": {
             "outlinewidth": 0,
             "ticks": ""
            },
            "colorscale": [
             [
              0,
              "#0d0887"
             ],
             [
              0.1111111111111111,
              "#46039f"
             ],
             [
              0.2222222222222222,
              "#7201a8"
             ],
             [
              0.3333333333333333,
              "#9c179e"
             ],
             [
              0.4444444444444444,
              "#bd3786"
             ],
             [
              0.5555555555555556,
              "#d8576b"
             ],
             [
              0.6666666666666666,
              "#ed7953"
             ],
             [
              0.7777777777777778,
              "#fb9f3a"
             ],
             [
              0.8888888888888888,
              "#fdca26"
             ],
             [
              1,
              "#f0f921"
             ]
            ],
            "type": "histogram2d"
           }
          ],
          "histogram2dcontour": [
           {
            "colorbar": {
             "outlinewidth": 0,
             "ticks": ""
            },
            "colorscale": [
             [
              0,
              "#0d0887"
             ],
             [
              0.1111111111111111,
              "#46039f"
             ],
             [
              0.2222222222222222,
              "#7201a8"
             ],
             [
              0.3333333333333333,
              "#9c179e"
             ],
             [
              0.4444444444444444,
              "#bd3786"
             ],
             [
              0.5555555555555556,
              "#d8576b"
             ],
             [
              0.6666666666666666,
              "#ed7953"
             ],
             [
              0.7777777777777778,
              "#fb9f3a"
             ],
             [
              0.8888888888888888,
              "#fdca26"
             ],
             [
              1,
              "#f0f921"
             ]
            ],
            "type": "histogram2dcontour"
           }
          ],
          "mesh3d": [
           {
            "colorbar": {
             "outlinewidth": 0,
             "ticks": ""
            },
            "type": "mesh3d"
           }
          ],
          "parcoords": [
           {
            "line": {
             "colorbar": {
              "outlinewidth": 0,
              "ticks": ""
             }
            },
            "type": "parcoords"
           }
          ],
          "pie": [
           {
            "automargin": true,
            "type": "pie"
           }
          ],
          "scatter": [
           {
            "fillpattern": {
             "fillmode": "overlay",
             "size": 10,
             "solidity": 0.2
            },
            "type": "scatter"
           }
          ],
          "scatter3d": [
           {
            "line": {
             "colorbar": {
              "outlinewidth": 0,
              "ticks": ""
             }
            },
            "marker": {
             "colorbar": {
              "outlinewidth": 0,
              "ticks": ""
             }
            },
            "type": "scatter3d"
           }
          ],
          "scattercarpet": [
           {
            "marker": {
             "colorbar": {
              "outlinewidth": 0,
              "ticks": ""
             }
            },
            "type": "scattercarpet"
           }
          ],
          "scattergeo": [
           {
            "marker": {
             "colorbar": {
              "outlinewidth": 0,
              "ticks": ""
             }
            },
            "type": "scattergeo"
           }
          ],
          "scattergl": [
           {
            "marker": {
             "colorbar": {
              "outlinewidth": 0,
              "ticks": ""
             }
            },
            "type": "scattergl"
           }
          ],
          "scattermapbox": [
           {
            "marker": {
             "colorbar": {
              "outlinewidth": 0,
              "ticks": ""
             }
            },
            "type": "scattermapbox"
           }
          ],
          "scatterpolar": [
           {
            "marker": {
             "colorbar": {
              "outlinewidth": 0,
              "ticks": ""
             }
            },
            "type": "scatterpolar"
           }
          ],
          "scatterpolargl": [
           {
            "marker": {
             "colorbar": {
              "outlinewidth": 0,
              "ticks": ""
             }
            },
            "type": "scatterpolargl"
           }
          ],
          "scatterternary": [
           {
            "marker": {
             "colorbar": {
              "outlinewidth": 0,
              "ticks": ""
             }
            },
            "type": "scatterternary"
           }
          ],
          "surface": [
           {
            "colorbar": {
             "outlinewidth": 0,
             "ticks": ""
            },
            "colorscale": [
             [
              0,
              "#0d0887"
             ],
             [
              0.1111111111111111,
              "#46039f"
             ],
             [
              0.2222222222222222,
              "#7201a8"
             ],
             [
              0.3333333333333333,
              "#9c179e"
             ],
             [
              0.4444444444444444,
              "#bd3786"
             ],
             [
              0.5555555555555556,
              "#d8576b"
             ],
             [
              0.6666666666666666,
              "#ed7953"
             ],
             [
              0.7777777777777778,
              "#fb9f3a"
             ],
             [
              0.8888888888888888,
              "#fdca26"
             ],
             [
              1,
              "#f0f921"
             ]
            ],
            "type": "surface"
           }
          ],
          "table": [
           {
            "cells": {
             "fill": {
              "color": "#EBF0F8"
             },
             "line": {
              "color": "white"
             }
            },
            "header": {
             "fill": {
              "color": "#C8D4E3"
             },
             "line": {
              "color": "white"
             }
            },
            "type": "table"
           }
          ]
         },
         "layout": {
          "annotationdefaults": {
           "arrowcolor": "#2a3f5f",
           "arrowhead": 0,
           "arrowwidth": 1
          },
          "autotypenumbers": "strict",
          "coloraxis": {
           "colorbar": {
            "outlinewidth": 0,
            "ticks": ""
           }
          },
          "colorscale": {
           "diverging": [
            [
             0,
             "#8e0152"
            ],
            [
             0.1,
             "#c51b7d"
            ],
            [
             0.2,
             "#de77ae"
            ],
            [
             0.3,
             "#f1b6da"
            ],
            [
             0.4,
             "#fde0ef"
            ],
            [
             0.5,
             "#f7f7f7"
            ],
            [
             0.6,
             "#e6f5d0"
            ],
            [
             0.7,
             "#b8e186"
            ],
            [
             0.8,
             "#7fbc41"
            ],
            [
             0.9,
             "#4d9221"
            ],
            [
             1,
             "#276419"
            ]
           ],
           "sequential": [
            [
             0,
             "#0d0887"
            ],
            [
             0.1111111111111111,
             "#46039f"
            ],
            [
             0.2222222222222222,
             "#7201a8"
            ],
            [
             0.3333333333333333,
             "#9c179e"
            ],
            [
             0.4444444444444444,
             "#bd3786"
            ],
            [
             0.5555555555555556,
             "#d8576b"
            ],
            [
             0.6666666666666666,
             "#ed7953"
            ],
            [
             0.7777777777777778,
             "#fb9f3a"
            ],
            [
             0.8888888888888888,
             "#fdca26"
            ],
            [
             1,
             "#f0f921"
            ]
           ],
           "sequentialminus": [
            [
             0,
             "#0d0887"
            ],
            [
             0.1111111111111111,
             "#46039f"
            ],
            [
             0.2222222222222222,
             "#7201a8"
            ],
            [
             0.3333333333333333,
             "#9c179e"
            ],
            [
             0.4444444444444444,
             "#bd3786"
            ],
            [
             0.5555555555555556,
             "#d8576b"
            ],
            [
             0.6666666666666666,
             "#ed7953"
            ],
            [
             0.7777777777777778,
             "#fb9f3a"
            ],
            [
             0.8888888888888888,
             "#fdca26"
            ],
            [
             1,
             "#f0f921"
            ]
           ]
          },
          "colorway": [
           "#636efa",
           "#EF553B",
           "#00cc96",
           "#ab63fa",
           "#FFA15A",
           "#19d3f3",
           "#FF6692",
           "#B6E880",
           "#FF97FF",
           "#FECB52"
          ],
          "font": {
           "color": "#2a3f5f"
          },
          "geo": {
           "bgcolor": "white",
           "lakecolor": "white",
           "landcolor": "#E5ECF6",
           "showlakes": true,
           "showland": true,
           "subunitcolor": "white"
          },
          "hoverlabel": {
           "align": "left"
          },
          "hovermode": "closest",
          "mapbox": {
           "style": "light"
          },
          "paper_bgcolor": "white",
          "plot_bgcolor": "#E5ECF6",
          "polar": {
           "angularaxis": {
            "gridcolor": "white",
            "linecolor": "white",
            "ticks": ""
           },
           "bgcolor": "#E5ECF6",
           "radialaxis": {
            "gridcolor": "white",
            "linecolor": "white",
            "ticks": ""
           }
          },
          "scene": {
           "xaxis": {
            "backgroundcolor": "#E5ECF6",
            "gridcolor": "white",
            "gridwidth": 2,
            "linecolor": "white",
            "showbackground": true,
            "ticks": "",
            "zerolinecolor": "white"
           },
           "yaxis": {
            "backgroundcolor": "#E5ECF6",
            "gridcolor": "white",
            "gridwidth": 2,
            "linecolor": "white",
            "showbackground": true,
            "ticks": "",
            "zerolinecolor": "white"
           },
           "zaxis": {
            "backgroundcolor": "#E5ECF6",
            "gridcolor": "white",
            "gridwidth": 2,
            "linecolor": "white",
            "showbackground": true,
            "ticks": "",
            "zerolinecolor": "white"
           }
          },
          "shapedefaults": {
           "line": {
            "color": "#2a3f5f"
           }
          },
          "ternary": {
           "aaxis": {
            "gridcolor": "white",
            "linecolor": "white",
            "ticks": ""
           },
           "baxis": {
            "gridcolor": "white",
            "linecolor": "white",
            "ticks": ""
           },
           "bgcolor": "#E5ECF6",
           "caxis": {
            "gridcolor": "white",
            "linecolor": "white",
            "ticks": ""
           }
          },
          "title": {
           "x": 0.05
          },
          "xaxis": {
           "automargin": true,
           "gridcolor": "white",
           "linecolor": "white",
           "ticks": "",
           "title": {
            "standoff": 15
           },
           "zerolinecolor": "white",
           "zerolinewidth": 2
          },
          "yaxis": {
           "automargin": true,
           "gridcolor": "white",
           "linecolor": "white",
           "ticks": "",
           "title": {
            "standoff": 15
           },
           "zerolinecolor": "white",
           "zerolinewidth": 2
          }
         }
        },
        "title": {
         "text": "Number of Wins by Each Team"
        },
        "xaxis": {
         "anchor": "y",
         "domain": [
          0,
          1
         ],
         "title": {
          "text": "Match Count"
         }
        },
        "yaxis": {
         "anchor": "x",
         "categoryarray": [
          "No Winner",
          "Rajasthan Royals",
          "Chennai Super Kings",
          "Kolkata Knight Riders",
          "Lucknow Super Giants",
          "Sunrisers Hyderabad",
          "Delhi Capitals",
          "Mumbai Indians",
          "Gujarat Titans",
          "Punjab Kings",
          "Royal Challengers Bengaluru"
         ],
         "categoryorder": "array",
         "domain": [
          0,
          1
         ],
         "title": {
          "text": "Match Winner"
         }
        }
       }
      }
     },
     "metadata": {},
     "output_type": "display_data"
    }
   ],
   "source": [
    "match_counts = ds['matchWinner'].value_counts().reset_index()\n",
    "match_counts.columns = ['Match Winner', 'Match Count']\n",
    "\n",
    "fig = px.bar(\n",
    "    match_counts,\n",
    "    x='Match Count',\n",
    "    y='Match Winner',\n",
    "    orientation='h',\n",
    "    #labels={'Match Winner': 'Match Winner', 'Match Count': 'Match Count'},\n",
    "    color='Match Winner',\n",
    "    title=\"Number of Wins by Each Team\"\n",
    ")\n",
    "fig.update_layout(showlegend=False)\n",
    "\n",
    "fig.show()\n"
   ]
  },
  {
   "cell_type": "code",
   "execution_count": 82,
   "id": "463f719c-4cf6-466b-96b4-23a506477a42",
   "metadata": {},
   "outputs": [],
   "source": [
    "ct=pd.crosstab(index=ds.MatchVenue,columns=ds.tossChoice)\n",
    "ct = ct.reset_index() "
   ]
  },
  {
   "cell_type": "code",
   "execution_count": 83,
   "id": "2d13b403-8175-4160-b778-a1ccca44e8cc",
   "metadata": {},
   "outputs": [],
   "source": [
    "long_df = ct.melt(id_vars='MatchVenue', var_name='Toss Choice', value_name='Count')\n"
   ]
  },
  {
   "cell_type": "code",
   "execution_count": 84,
   "id": "210f8924-25c6-43c6-b494-7a390a183ef0",
   "metadata": {},
   "outputs": [
    {
     "data": {
      "text/html": [
       "<div>\n",
       "<style scoped>\n",
       "    .dataframe tbody tr th:only-of-type {\n",
       "        vertical-align: middle;\n",
       "    }\n",
       "\n",
       "    .dataframe tbody tr th {\n",
       "        vertical-align: top;\n",
       "    }\n",
       "\n",
       "    .dataframe thead th {\n",
       "        text-align: right;\n",
       "    }\n",
       "</style>\n",
       "<table border=\"1\" class=\"dataframe\">\n",
       "  <thead>\n",
       "    <tr style=\"text-align: right;\">\n",
       "      <th></th>\n",
       "      <th>MatchVenue</th>\n",
       "      <th>Toss Choice</th>\n",
       "      <th>Count</th>\n",
       "    </tr>\n",
       "  </thead>\n",
       "  <tbody>\n",
       "    <tr>\n",
       "      <th>0</th>\n",
       "      <td>Arun Jaitley Stadium, Delhi</td>\n",
       "      <td>bat</td>\n",
       "      <td>1</td>\n",
       "    </tr>\n",
       "    <tr>\n",
       "      <th>1</th>\n",
       "      <td>Barsapara Cricket Stadium, Guwahati</td>\n",
       "      <td>bat</td>\n",
       "      <td>0</td>\n",
       "    </tr>\n",
       "    <tr>\n",
       "      <th>2</th>\n",
       "      <td>Bharat Ratna Shri Atal Bihari Vajpayee Ekana C...</td>\n",
       "      <td>bat</td>\n",
       "      <td>0</td>\n",
       "    </tr>\n",
       "    <tr>\n",
       "      <th>3</th>\n",
       "      <td>Dr. Y.S. Rajasekhara Reddy ACA-VDCA Cricket St...</td>\n",
       "      <td>bat</td>\n",
       "      <td>1</td>\n",
       "    </tr>\n",
       "    <tr>\n",
       "      <th>4</th>\n",
       "      <td>Eden Gardens, Kolkata</td>\n",
       "      <td>bat</td>\n",
       "      <td>3</td>\n",
       "    </tr>\n",
       "    <tr>\n",
       "      <th>5</th>\n",
       "      <td>Himachal Pradesh Cricket Association Stadium, ...</td>\n",
       "      <td>bat</td>\n",
       "      <td>0</td>\n",
       "    </tr>\n",
       "    <tr>\n",
       "      <th>6</th>\n",
       "      <td>M.Chinnaswamy Stadium, Bengaluru</td>\n",
       "      <td>bat</td>\n",
       "      <td>0</td>\n",
       "    </tr>\n",
       "    <tr>\n",
       "      <th>7</th>\n",
       "      <td>MA Chidambaram Stadium, Chennai</td>\n",
       "      <td>bat</td>\n",
       "      <td>1</td>\n",
       "    </tr>\n",
       "    <tr>\n",
       "      <th>8</th>\n",
       "      <td>Maharaja Yadavindra Singh International Cricke...</td>\n",
       "      <td>bat</td>\n",
       "      <td>2</td>\n",
       "    </tr>\n",
       "    <tr>\n",
       "      <th>9</th>\n",
       "      <td>Maharaja Yadavindra Singh International Cricke...</td>\n",
       "      <td>bat</td>\n",
       "      <td>1</td>\n",
       "    </tr>\n",
       "    <tr>\n",
       "      <th>10</th>\n",
       "      <td>Narendra Modi Stadium, Ahmedabad</td>\n",
       "      <td>bat</td>\n",
       "      <td>1</td>\n",
       "    </tr>\n",
       "    <tr>\n",
       "      <th>11</th>\n",
       "      <td>Rajiv Gandhi International Stadium, Hyderabad</td>\n",
       "      <td>bat</td>\n",
       "      <td>1</td>\n",
       "    </tr>\n",
       "    <tr>\n",
       "      <th>12</th>\n",
       "      <td>Sawai Mansingh Stadium, Jaipur</td>\n",
       "      <td>bat</td>\n",
       "      <td>2</td>\n",
       "    </tr>\n",
       "    <tr>\n",
       "      <th>13</th>\n",
       "      <td>Wankhede Stadium, Mumbai</td>\n",
       "      <td>bat</td>\n",
       "      <td>0</td>\n",
       "    </tr>\n",
       "    <tr>\n",
       "      <th>14</th>\n",
       "      <td>Arun Jaitley Stadium, Delhi</td>\n",
       "      <td>bowl</td>\n",
       "      <td>6</td>\n",
       "    </tr>\n",
       "    <tr>\n",
       "      <th>15</th>\n",
       "      <td>Barsapara Cricket Stadium, Guwahati</td>\n",
       "      <td>bowl</td>\n",
       "      <td>2</td>\n",
       "    </tr>\n",
       "    <tr>\n",
       "      <th>16</th>\n",
       "      <td>Bharat Ratna Shri Atal Bihari Vajpayee Ekana C...</td>\n",
       "      <td>bowl</td>\n",
       "      <td>8</td>\n",
       "    </tr>\n",
       "    <tr>\n",
       "      <th>17</th>\n",
       "      <td>Dr. Y.S. Rajasekhara Reddy ACA-VDCA Cricket St...</td>\n",
       "      <td>bowl</td>\n",
       "      <td>1</td>\n",
       "    </tr>\n",
       "    <tr>\n",
       "      <th>18</th>\n",
       "      <td>Eden Gardens, Kolkata</td>\n",
       "      <td>bowl</td>\n",
       "      <td>4</td>\n",
       "    </tr>\n",
       "    <tr>\n",
       "      <th>19</th>\n",
       "      <td>Himachal Pradesh Cricket Association Stadium, ...</td>\n",
       "      <td>bowl</td>\n",
       "      <td>1</td>\n",
       "    </tr>\n",
       "    <tr>\n",
       "      <th>20</th>\n",
       "      <td>M.Chinnaswamy Stadium, Bengaluru</td>\n",
       "      <td>bowl</td>\n",
       "      <td>5</td>\n",
       "    </tr>\n",
       "    <tr>\n",
       "      <th>21</th>\n",
       "      <td>MA Chidambaram Stadium, Chennai</td>\n",
       "      <td>bowl</td>\n",
       "      <td>5</td>\n",
       "    </tr>\n",
       "    <tr>\n",
       "      <th>22</th>\n",
       "      <td>Maharaja Yadavindra Singh International Cricke...</td>\n",
       "      <td>bowl</td>\n",
       "      <td>3</td>\n",
       "    </tr>\n",
       "    <tr>\n",
       "      <th>23</th>\n",
       "      <td>Maharaja Yadavindra Singh International Cricke...</td>\n",
       "      <td>bowl</td>\n",
       "      <td>0</td>\n",
       "    </tr>\n",
       "    <tr>\n",
       "      <th>24</th>\n",
       "      <td>Narendra Modi Stadium, Ahmedabad</td>\n",
       "      <td>bowl</td>\n",
       "      <td>8</td>\n",
       "    </tr>\n",
       "    <tr>\n",
       "      <th>25</th>\n",
       "      <td>Rajiv Gandhi International Stadium, Hyderabad</td>\n",
       "      <td>bowl</td>\n",
       "      <td>5</td>\n",
       "    </tr>\n",
       "    <tr>\n",
       "      <th>26</th>\n",
       "      <td>Sawai Mansingh Stadium, Jaipur</td>\n",
       "      <td>bowl</td>\n",
       "      <td>5</td>\n",
       "    </tr>\n",
       "    <tr>\n",
       "      <th>27</th>\n",
       "      <td>Wankhede Stadium, Mumbai</td>\n",
       "      <td>bowl</td>\n",
       "      <td>7</td>\n",
       "    </tr>\n",
       "  </tbody>\n",
       "</table>\n",
       "</div>"
      ],
      "text/plain": [
       "                                           MatchVenue Toss Choice  Count\n",
       "0                         Arun Jaitley Stadium, Delhi         bat      1\n",
       "1                 Barsapara Cricket Stadium, Guwahati         bat      0\n",
       "2   Bharat Ratna Shri Atal Bihari Vajpayee Ekana C...         bat      0\n",
       "3   Dr. Y.S. Rajasekhara Reddy ACA-VDCA Cricket St...         bat      1\n",
       "4                               Eden Gardens, Kolkata         bat      3\n",
       "5   Himachal Pradesh Cricket Association Stadium, ...         bat      0\n",
       "6                    M.Chinnaswamy Stadium, Bengaluru         bat      0\n",
       "7                     MA Chidambaram Stadium, Chennai         bat      1\n",
       "8   Maharaja Yadavindra Singh International Cricke...         bat      2\n",
       "9   Maharaja Yadavindra Singh International Cricke...         bat      1\n",
       "10                   Narendra Modi Stadium, Ahmedabad         bat      1\n",
       "11      Rajiv Gandhi International Stadium, Hyderabad         bat      1\n",
       "12                     Sawai Mansingh Stadium, Jaipur         bat      2\n",
       "13                           Wankhede Stadium, Mumbai         bat      0\n",
       "14                        Arun Jaitley Stadium, Delhi        bowl      6\n",
       "15                Barsapara Cricket Stadium, Guwahati        bowl      2\n",
       "16  Bharat Ratna Shri Atal Bihari Vajpayee Ekana C...        bowl      8\n",
       "17  Dr. Y.S. Rajasekhara Reddy ACA-VDCA Cricket St...        bowl      1\n",
       "18                              Eden Gardens, Kolkata        bowl      4\n",
       "19  Himachal Pradesh Cricket Association Stadium, ...        bowl      1\n",
       "20                   M.Chinnaswamy Stadium, Bengaluru        bowl      5\n",
       "21                    MA Chidambaram Stadium, Chennai        bowl      5\n",
       "22  Maharaja Yadavindra Singh International Cricke...        bowl      3\n",
       "23  Maharaja Yadavindra Singh International Cricke...        bowl      0\n",
       "24                   Narendra Modi Stadium, Ahmedabad        bowl      8\n",
       "25      Rajiv Gandhi International Stadium, Hyderabad        bowl      5\n",
       "26                     Sawai Mansingh Stadium, Jaipur        bowl      5\n",
       "27                           Wankhede Stadium, Mumbai        bowl      7"
      ]
     },
     "execution_count": 84,
     "metadata": {},
     "output_type": "execute_result"
    }
   ],
   "source": [
    "long_df"
   ]
  },
  {
   "cell_type": "code",
   "execution_count": 118,
   "id": "d0434ac0-1b16-4287-b7b6-db79836d0eb1",
   "metadata": {
    "scrolled": true
   },
   "outputs": [
    {
     "data": {
      "application/vnd.plotly.v1+json": {
       "config": {
        "plotlyServerURL": "https://plot.ly"
       },
       "data": [
        {
         "branchvalues": "total",
         "customdata": [
          [
           "bat"
          ],
          [
           "bat"
          ],
          [
           "bowl"
          ],
          [
           "bat"
          ],
          [
           "bowl"
          ],
          [
           "bat"
          ],
          [
           "bowl"
          ],
          [
           "bowl"
          ],
          [
           "bowl"
          ],
          [
           "bat"
          ],
          [
           "bowl"
          ],
          [
           "bat"
          ],
          [
           "bowl"
          ],
          [
           "bat"
          ],
          [
           "bowl"
          ],
          [
           "bat"
          ],
          [
           "bowl"
          ],
          [
           "bat"
          ],
          [
           "bowl"
          ],
          [
           "bat"
          ],
          [
           "bowl"
          ],
          [
           "bat"
          ],
          [
           "bat"
          ],
          [
           "bowl"
          ],
          [
           "bat"
          ],
          [
           "bat"
          ],
          [
           "bowl"
          ],
          [
           "bowl"
          ],
          [
           "bat"
          ],
          [
           "bowl"
          ]
         ],
         "domain": {
          "x": [
           0,
           1
          ],
          "y": [
           0,
           1
          ]
         },
         "hovertemplate": "labels=%{label}<br>Count=%{value}<br>parent=%{parent}<br>id=%{id}<br>Toss Choice=%{customdata[0]}<extra></extra>",
         "ids": [
          "bat/Arun Jaitley Stadium, Delhi",
          "bat/M.Chinnaswamy Stadium, Bengaluru",
          "bowl/Himachal Pradesh Cricket Association Stadium, Dharamsala",
          "bat/Himachal Pradesh Cricket Association Stadium, Dharamsala",
          "bowl/Eden Gardens, Kolkata",
          "bat/Eden Gardens, Kolkata",
          "bowl/Dr. Y.S. Rajasekhara Reddy ACA-VDCA Cricket Stadium, Visakhapatnam",
          "bowl/M.Chinnaswamy Stadium, Bengaluru",
          "bowl/Bharat Ratna Shri Atal Bihari Vajpayee Ekana Cricket Stadium, Lucknow",
          "bat/Bharat Ratna Shri Atal Bihari Vajpayee Ekana Cricket Stadium, Lucknow",
          "bowl/Barsapara Cricket Stadium, Guwahati",
          "bat/Barsapara Cricket Stadium, Guwahati",
          "bowl/Arun Jaitley Stadium, Delhi",
          "bat/Dr. Y.S. Rajasekhara Reddy ACA-VDCA Cricket Stadium, Visakhapatnam",
          "bowl/Sawai Mansingh Stadium, Jaipur",
          "bat/Sawai Mansingh Stadium, Jaipur",
          "bowl/Rajiv Gandhi International Stadium, Hyderabad",
          "bat/Rajiv Gandhi International Stadium, Hyderabad",
          "bowl/Narendra Modi Stadium, Ahmedabad",
          "bat/Narendra Modi Stadium, Ahmedabad",
          "bowl/Maharaja Yadavindra Singh International Cricket Stadium, Mullanpur, Chandigarh",
          "bat/Maharaja Yadavindra Singh International Cricket Stadium, Mullanpur, New Chandigarh",
          "bat/Maharaja Yadavindra Singh International Cricket Stadium, Mullanpur, Chandigarh",
          "bowl/MA Chidambaram Stadium, Chennai",
          "bat/MA Chidambaram Stadium, Chennai",
          "bat/Wankhede Stadium, Mumbai",
          "bowl/Maharaja Yadavindra Singh International Cricket Stadium, Mullanpur, New Chandigarh",
          "bowl/Wankhede Stadium, Mumbai",
          "bat",
          "bowl"
         ],
         "labels": [
          "Arun Jaitley Stadium, Delhi",
          "M.Chinnaswamy Stadium, Bengaluru",
          "Himachal Pradesh Cricket Association Stadium, Dharamsala",
          "Himachal Pradesh Cricket Association Stadium, Dharamsala",
          "Eden Gardens, Kolkata",
          "Eden Gardens, Kolkata",
          "Dr. Y.S. Rajasekhara Reddy ACA-VDCA Cricket Stadium, Visakhapatnam",
          "M.Chinnaswamy Stadium, Bengaluru",
          "Bharat Ratna Shri Atal Bihari Vajpayee Ekana Cricket Stadium, Lucknow",
          "Bharat Ratna Shri Atal Bihari Vajpayee Ekana Cricket Stadium, Lucknow",
          "Barsapara Cricket Stadium, Guwahati",
          "Barsapara Cricket Stadium, Guwahati",
          "Arun Jaitley Stadium, Delhi",
          "Dr. Y.S. Rajasekhara Reddy ACA-VDCA Cricket Stadium, Visakhapatnam",
          "Sawai Mansingh Stadium, Jaipur",
          "Sawai Mansingh Stadium, Jaipur",
          "Rajiv Gandhi International Stadium, Hyderabad",
          "Rajiv Gandhi International Stadium, Hyderabad",
          "Narendra Modi Stadium, Ahmedabad",
          "Narendra Modi Stadium, Ahmedabad",
          "Maharaja Yadavindra Singh International Cricket Stadium, Mullanpur, Chandigarh",
          "Maharaja Yadavindra Singh International Cricket Stadium, Mullanpur, New Chandigarh",
          "Maharaja Yadavindra Singh International Cricket Stadium, Mullanpur, Chandigarh",
          "MA Chidambaram Stadium, Chennai",
          "MA Chidambaram Stadium, Chennai",
          "Wankhede Stadium, Mumbai",
          "Maharaja Yadavindra Singh International Cricket Stadium, Mullanpur, New Chandigarh",
          "Wankhede Stadium, Mumbai",
          "bat",
          "bowl"
         ],
         "marker": {
          "colors": [
           "#636efa",
           "#636efa",
           "#EF553B",
           "#636efa",
           "#EF553B",
           "#636efa",
           "#EF553B",
           "#EF553B",
           "#EF553B",
           "#636efa",
           "#EF553B",
           "#636efa",
           "#EF553B",
           "#636efa",
           "#EF553B",
           "#636efa",
           "#EF553B",
           "#636efa",
           "#EF553B",
           "#636efa",
           "#EF553B",
           "#636efa",
           "#636efa",
           "#EF553B",
           "#636efa",
           "#636efa",
           "#EF553B",
           "#EF553B",
           "#636efa",
           "#EF553B"
          ]
         },
         "name": "",
         "parents": [
          "bat",
          "bat",
          "bowl",
          "bat",
          "bowl",
          "bat",
          "bowl",
          "bowl",
          "bowl",
          "bat",
          "bowl",
          "bat",
          "bowl",
          "bat",
          "bowl",
          "bat",
          "bowl",
          "bat",
          "bowl",
          "bat",
          "bowl",
          "bat",
          "bat",
          "bowl",
          "bat",
          "bat",
          "bowl",
          "bowl",
          "",
          ""
         ],
         "type": "sunburst",
         "values": [
          1,
          0,
          1,
          0,
          4,
          3,
          1,
          5,
          8,
          0,
          2,
          0,
          6,
          1,
          5,
          2,
          5,
          1,
          8,
          1,
          3,
          1,
          2,
          5,
          1,
          0,
          0,
          7,
          13,
          60
         ]
        }
       ],
       "layout": {
        "legend": {
         "tracegroupgap": 0
        },
        "template": {
         "data": {
          "bar": [
           {
            "error_x": {
             "color": "#2a3f5f"
            },
            "error_y": {
             "color": "#2a3f5f"
            },
            "marker": {
             "line": {
              "color": "#E5ECF6",
              "width": 0.5
             },
             "pattern": {
              "fillmode": "overlay",
              "size": 10,
              "solidity": 0.2
             }
            },
            "type": "bar"
           }
          ],
          "barpolar": [
           {
            "marker": {
             "line": {
              "color": "#E5ECF6",
              "width": 0.5
             },
             "pattern": {
              "fillmode": "overlay",
              "size": 10,
              "solidity": 0.2
             }
            },
            "type": "barpolar"
           }
          ],
          "carpet": [
           {
            "aaxis": {
             "endlinecolor": "#2a3f5f",
             "gridcolor": "white",
             "linecolor": "white",
             "minorgridcolor": "white",
             "startlinecolor": "#2a3f5f"
            },
            "baxis": {
             "endlinecolor": "#2a3f5f",
             "gridcolor": "white",
             "linecolor": "white",
             "minorgridcolor": "white",
             "startlinecolor": "#2a3f5f"
            },
            "type": "carpet"
           }
          ],
          "choropleth": [
           {
            "colorbar": {
             "outlinewidth": 0,
             "ticks": ""
            },
            "type": "choropleth"
           }
          ],
          "contour": [
           {
            "colorbar": {
             "outlinewidth": 0,
             "ticks": ""
            },
            "colorscale": [
             [
              0,
              "#0d0887"
             ],
             [
              0.1111111111111111,
              "#46039f"
             ],
             [
              0.2222222222222222,
              "#7201a8"
             ],
             [
              0.3333333333333333,
              "#9c179e"
             ],
             [
              0.4444444444444444,
              "#bd3786"
             ],
             [
              0.5555555555555556,
              "#d8576b"
             ],
             [
              0.6666666666666666,
              "#ed7953"
             ],
             [
              0.7777777777777778,
              "#fb9f3a"
             ],
             [
              0.8888888888888888,
              "#fdca26"
             ],
             [
              1,
              "#f0f921"
             ]
            ],
            "type": "contour"
           }
          ],
          "contourcarpet": [
           {
            "colorbar": {
             "outlinewidth": 0,
             "ticks": ""
            },
            "type": "contourcarpet"
           }
          ],
          "heatmap": [
           {
            "colorbar": {
             "outlinewidth": 0,
             "ticks": ""
            },
            "colorscale": [
             [
              0,
              "#0d0887"
             ],
             [
              0.1111111111111111,
              "#46039f"
             ],
             [
              0.2222222222222222,
              "#7201a8"
             ],
             [
              0.3333333333333333,
              "#9c179e"
             ],
             [
              0.4444444444444444,
              "#bd3786"
             ],
             [
              0.5555555555555556,
              "#d8576b"
             ],
             [
              0.6666666666666666,
              "#ed7953"
             ],
             [
              0.7777777777777778,
              "#fb9f3a"
             ],
             [
              0.8888888888888888,
              "#fdca26"
             ],
             [
              1,
              "#f0f921"
             ]
            ],
            "type": "heatmap"
           }
          ],
          "heatmapgl": [
           {
            "colorbar": {
             "outlinewidth": 0,
             "ticks": ""
            },
            "colorscale": [
             [
              0,
              "#0d0887"
             ],
             [
              0.1111111111111111,
              "#46039f"
             ],
             [
              0.2222222222222222,
              "#7201a8"
             ],
             [
              0.3333333333333333,
              "#9c179e"
             ],
             [
              0.4444444444444444,
              "#bd3786"
             ],
             [
              0.5555555555555556,
              "#d8576b"
             ],
             [
              0.6666666666666666,
              "#ed7953"
             ],
             [
              0.7777777777777778,
              "#fb9f3a"
             ],
             [
              0.8888888888888888,
              "#fdca26"
             ],
             [
              1,
              "#f0f921"
             ]
            ],
            "type": "heatmapgl"
           }
          ],
          "histogram": [
           {
            "marker": {
             "pattern": {
              "fillmode": "overlay",
              "size": 10,
              "solidity": 0.2
             }
            },
            "type": "histogram"
           }
          ],
          "histogram2d": [
           {
            "colorbar": {
             "outlinewidth": 0,
             "ticks": ""
            },
            "colorscale": [
             [
              0,
              "#0d0887"
             ],
             [
              0.1111111111111111,
              "#46039f"
             ],
             [
              0.2222222222222222,
              "#7201a8"
             ],
             [
              0.3333333333333333,
              "#9c179e"
             ],
             [
              0.4444444444444444,
              "#bd3786"
             ],
             [
              0.5555555555555556,
              "#d8576b"
             ],
             [
              0.6666666666666666,
              "#ed7953"
             ],
             [
              0.7777777777777778,
              "#fb9f3a"
             ],
             [
              0.8888888888888888,
              "#fdca26"
             ],
             [
              1,
              "#f0f921"
             ]
            ],
            "type": "histogram2d"
           }
          ],
          "histogram2dcontour": [
           {
            "colorbar": {
             "outlinewidth": 0,
             "ticks": ""
            },
            "colorscale": [
             [
              0,
              "#0d0887"
             ],
             [
              0.1111111111111111,
              "#46039f"
             ],
             [
              0.2222222222222222,
              "#7201a8"
             ],
             [
              0.3333333333333333,
              "#9c179e"
             ],
             [
              0.4444444444444444,
              "#bd3786"
             ],
             [
              0.5555555555555556,
              "#d8576b"
             ],
             [
              0.6666666666666666,
              "#ed7953"
             ],
             [
              0.7777777777777778,
              "#fb9f3a"
             ],
             [
              0.8888888888888888,
              "#fdca26"
             ],
             [
              1,
              "#f0f921"
             ]
            ],
            "type": "histogram2dcontour"
           }
          ],
          "mesh3d": [
           {
            "colorbar": {
             "outlinewidth": 0,
             "ticks": ""
            },
            "type": "mesh3d"
           }
          ],
          "parcoords": [
           {
            "line": {
             "colorbar": {
              "outlinewidth": 0,
              "ticks": ""
             }
            },
            "type": "parcoords"
           }
          ],
          "pie": [
           {
            "automargin": true,
            "type": "pie"
           }
          ],
          "scatter": [
           {
            "fillpattern": {
             "fillmode": "overlay",
             "size": 10,
             "solidity": 0.2
            },
            "type": "scatter"
           }
          ],
          "scatter3d": [
           {
            "line": {
             "colorbar": {
              "outlinewidth": 0,
              "ticks": ""
             }
            },
            "marker": {
             "colorbar": {
              "outlinewidth": 0,
              "ticks": ""
             }
            },
            "type": "scatter3d"
           }
          ],
          "scattercarpet": [
           {
            "marker": {
             "colorbar": {
              "outlinewidth": 0,
              "ticks": ""
             }
            },
            "type": "scattercarpet"
           }
          ],
          "scattergeo": [
           {
            "marker": {
             "colorbar": {
              "outlinewidth": 0,
              "ticks": ""
             }
            },
            "type": "scattergeo"
           }
          ],
          "scattergl": [
           {
            "marker": {
             "colorbar": {
              "outlinewidth": 0,
              "ticks": ""
             }
            },
            "type": "scattergl"
           }
          ],
          "scattermapbox": [
           {
            "marker": {
             "colorbar": {
              "outlinewidth": 0,
              "ticks": ""
             }
            },
            "type": "scattermapbox"
           }
          ],
          "scatterpolar": [
           {
            "marker": {
             "colorbar": {
              "outlinewidth": 0,
              "ticks": ""
             }
            },
            "type": "scatterpolar"
           }
          ],
          "scatterpolargl": [
           {
            "marker": {
             "colorbar": {
              "outlinewidth": 0,
              "ticks": ""
             }
            },
            "type": "scatterpolargl"
           }
          ],
          "scatterternary": [
           {
            "marker": {
             "colorbar": {
              "outlinewidth": 0,
              "ticks": ""
             }
            },
            "type": "scatterternary"
           }
          ],
          "surface": [
           {
            "colorbar": {
             "outlinewidth": 0,
             "ticks": ""
            },
            "colorscale": [
             [
              0,
              "#0d0887"
             ],
             [
              0.1111111111111111,
              "#46039f"
             ],
             [
              0.2222222222222222,
              "#7201a8"
             ],
             [
              0.3333333333333333,
              "#9c179e"
             ],
             [
              0.4444444444444444,
              "#bd3786"
             ],
             [
              0.5555555555555556,
              "#d8576b"
             ],
             [
              0.6666666666666666,
              "#ed7953"
             ],
             [
              0.7777777777777778,
              "#fb9f3a"
             ],
             [
              0.8888888888888888,
              "#fdca26"
             ],
             [
              1,
              "#f0f921"
             ]
            ],
            "type": "surface"
           }
          ],
          "table": [
           {
            "cells": {
             "fill": {
              "color": "#EBF0F8"
             },
             "line": {
              "color": "white"
             }
            },
            "header": {
             "fill": {
              "color": "#C8D4E3"
             },
             "line": {
              "color": "white"
             }
            },
            "type": "table"
           }
          ]
         },
         "layout": {
          "annotationdefaults": {
           "arrowcolor": "#2a3f5f",
           "arrowhead": 0,
           "arrowwidth": 1
          },
          "autotypenumbers": "strict",
          "coloraxis": {
           "colorbar": {
            "outlinewidth": 0,
            "ticks": ""
           }
          },
          "colorscale": {
           "diverging": [
            [
             0,
             "#8e0152"
            ],
            [
             0.1,
             "#c51b7d"
            ],
            [
             0.2,
             "#de77ae"
            ],
            [
             0.3,
             "#f1b6da"
            ],
            [
             0.4,
             "#fde0ef"
            ],
            [
             0.5,
             "#f7f7f7"
            ],
            [
             0.6,
             "#e6f5d0"
            ],
            [
             0.7,
             "#b8e186"
            ],
            [
             0.8,
             "#7fbc41"
            ],
            [
             0.9,
             "#4d9221"
            ],
            [
             1,
             "#276419"
            ]
           ],
           "sequential": [
            [
             0,
             "#0d0887"
            ],
            [
             0.1111111111111111,
             "#46039f"
            ],
            [
             0.2222222222222222,
             "#7201a8"
            ],
            [
             0.3333333333333333,
             "#9c179e"
            ],
            [
             0.4444444444444444,
             "#bd3786"
            ],
            [
             0.5555555555555556,
             "#d8576b"
            ],
            [
             0.6666666666666666,
             "#ed7953"
            ],
            [
             0.7777777777777778,
             "#fb9f3a"
            ],
            [
             0.8888888888888888,
             "#fdca26"
            ],
            [
             1,
             "#f0f921"
            ]
           ],
           "sequentialminus": [
            [
             0,
             "#0d0887"
            ],
            [
             0.1111111111111111,
             "#46039f"
            ],
            [
             0.2222222222222222,
             "#7201a8"
            ],
            [
             0.3333333333333333,
             "#9c179e"
            ],
            [
             0.4444444444444444,
             "#bd3786"
            ],
            [
             0.5555555555555556,
             "#d8576b"
            ],
            [
             0.6666666666666666,
             "#ed7953"
            ],
            [
             0.7777777777777778,
             "#fb9f3a"
            ],
            [
             0.8888888888888888,
             "#fdca26"
            ],
            [
             1,
             "#f0f921"
            ]
           ]
          },
          "colorway": [
           "#636efa",
           "#EF553B",
           "#00cc96",
           "#ab63fa",
           "#FFA15A",
           "#19d3f3",
           "#FF6692",
           "#B6E880",
           "#FF97FF",
           "#FECB52"
          ],
          "font": {
           "color": "#2a3f5f"
          },
          "geo": {
           "bgcolor": "white",
           "lakecolor": "white",
           "landcolor": "#E5ECF6",
           "showlakes": true,
           "showland": true,
           "subunitcolor": "white"
          },
          "hoverlabel": {
           "align": "left"
          },
          "hovermode": "closest",
          "mapbox": {
           "style": "light"
          },
          "paper_bgcolor": "white",
          "plot_bgcolor": "#E5ECF6",
          "polar": {
           "angularaxis": {
            "gridcolor": "white",
            "linecolor": "white",
            "ticks": ""
           },
           "bgcolor": "#E5ECF6",
           "radialaxis": {
            "gridcolor": "white",
            "linecolor": "white",
            "ticks": ""
           }
          },
          "scene": {
           "xaxis": {
            "backgroundcolor": "#E5ECF6",
            "gridcolor": "white",
            "gridwidth": 2,
            "linecolor": "white",
            "showbackground": true,
            "ticks": "",
            "zerolinecolor": "white"
           },
           "yaxis": {
            "backgroundcolor": "#E5ECF6",
            "gridcolor": "white",
            "gridwidth": 2,
            "linecolor": "white",
            "showbackground": true,
            "ticks": "",
            "zerolinecolor": "white"
           },
           "zaxis": {
            "backgroundcolor": "#E5ECF6",
            "gridcolor": "white",
            "gridwidth": 2,
            "linecolor": "white",
            "showbackground": true,
            "ticks": "",
            "zerolinecolor": "white"
           }
          },
          "shapedefaults": {
           "line": {
            "color": "#2a3f5f"
           }
          },
          "ternary": {
           "aaxis": {
            "gridcolor": "white",
            "linecolor": "white",
            "ticks": ""
           },
           "baxis": {
            "gridcolor": "white",
            "linecolor": "white",
            "ticks": ""
           },
           "bgcolor": "#E5ECF6",
           "caxis": {
            "gridcolor": "white",
            "linecolor": "white",
            "ticks": ""
           }
          },
          "title": {
           "x": 0.05
          },
          "xaxis": {
           "automargin": true,
           "gridcolor": "white",
           "linecolor": "white",
           "ticks": "",
           "title": {
            "standoff": 15
           },
           "zerolinecolor": "white",
           "zerolinewidth": 2
          },
          "yaxis": {
           "automargin": true,
           "gridcolor": "white",
           "linecolor": "white",
           "ticks": "",
           "title": {
            "standoff": 15
           },
           "zerolinecolor": "white",
           "zerolinewidth": 2
          }
         }
        },
        "title": {
         "text": "Toss Choices by Match Venue"
        }
       }
      }
     },
     "metadata": {},
     "output_type": "display_data"
    }
   ],
   "source": [
    "import plotly.express as px\n",
    "\n",
    "fig = px.sunburst(\n",
    "    long_df,\n",
    "    path=['Toss Choice', 'MatchVenue'],  \n",
    "    values='Count',\n",
    "    color='Toss Choice',\n",
    "    title='Toss Choices by Match Venue'\n",
    ")\n",
    "\n",
    "fig.show()\n",
    "\n"
   ]
  },
  {
   "cell_type": "code",
   "execution_count": 86,
   "id": "a12c09ae-e462-4678-b982-dcc3530ff399",
   "metadata": {},
   "outputs": [
    {
     "data": {
      "text/plain": [
       "MatchVenue\n",
       "Arun Jaitley Stadium, Delhi                                                           278.0\n",
       "Barsapara Cricket Stadium, Guwahati                                                   182.0\n",
       "Bharat Ratna Shri Atal Bihari Vajpayee Ekana Cricket Stadium, Lucknow                 231.0\n",
       "Dr. Y.S. Rajasekhara Reddy ACA-VDCA Cricket Stadium, Visakhapatnam                    211.0\n",
       "Eden Gardens, Kolkata                                                                 238.0\n",
       "Himachal Pradesh Cricket Association Stadium, Dharamsala                              236.0\n",
       "M.Chinnaswamy Stadium, Bengaluru                                                      213.0\n",
       "MA Chidambaram Stadium, Chennai                                                       196.0\n",
       "Maharaja Yadavindra Singh International Cricket Stadium, Mullanpur, Chandigarh        219.0\n",
       "Maharaja Yadavindra Singh International Cricket Stadium, Mullanpur, New Chandigarh    228.0\n",
       "Narendra Modi Stadium, Ahmedabad                                                      243.0\n",
       "Rajiv Gandhi International Stadium, Hyderabad                                         286.0\n",
       "Sawai Mansingh Stadium, Jaipur                                                        219.0\n",
       "Wankhede Stadium, Mumbai                                                              221.0\n",
       "dtype: float64"
      ]
     },
     "execution_count": 86,
     "metadata": {},
     "output_type": "execute_result"
    }
   ],
   "source": [
    "match_venue=ds.groupby('MatchVenue')[['r1','r2']].max().max(axis=1)\n",
    "match_venue"
   ]
  },
  {
   "cell_type": "code",
   "execution_count": 87,
   "id": "d69fbfc1-7378-43fa-a322-e49cbe65ea8a",
   "metadata": {
    "scrolled": true
   },
   "outputs": [
    {
     "data": {
      "application/vnd.plotly.v1+json": {
       "config": {
        "plotlyServerURL": "https://plot.ly"
       },
       "data": [
        {
         "hovertemplate": "Match Venue=%{x}<br>Max Runs=%{y}<extra></extra>",
         "legendgroup": "",
         "line": {
          "color": "#636efa",
          "dash": "solid"
         },
         "marker": {
          "symbol": "circle"
         },
         "mode": "lines+markers",
         "name": "",
         "orientation": "v",
         "showlegend": false,
         "type": "scatter",
         "x": [
          "Arun Jaitley Stadium, Delhi",
          "Barsapara Cricket Stadium, Guwahati",
          "Bharat Ratna Shri Atal Bihari Vajpayee Ekana Cricket Stadium, Lucknow",
          "Dr. Y.S. Rajasekhara Reddy ACA-VDCA Cricket Stadium, Visakhapatnam",
          "Eden Gardens, Kolkata",
          "Himachal Pradesh Cricket Association Stadium, Dharamsala",
          "M.Chinnaswamy Stadium, Bengaluru",
          "MA Chidambaram Stadium, Chennai",
          "Maharaja Yadavindra Singh International Cricket Stadium, Mullanpur, Chandigarh",
          "Maharaja Yadavindra Singh International Cricket Stadium, Mullanpur, New Chandigarh",
          "Narendra Modi Stadium, Ahmedabad",
          "Rajiv Gandhi International Stadium, Hyderabad",
          "Sawai Mansingh Stadium, Jaipur",
          "Wankhede Stadium, Mumbai"
         ],
         "xaxis": "x",
         "y": [
          278,
          182,
          231,
          211,
          238,
          236,
          213,
          196,
          219,
          228,
          243,
          286,
          219,
          221
         ],
         "yaxis": "y"
        }
       ],
       "layout": {
        "legend": {
         "tracegroupgap": 0
        },
        "template": {
         "data": {
          "bar": [
           {
            "error_x": {
             "color": "#2a3f5f"
            },
            "error_y": {
             "color": "#2a3f5f"
            },
            "marker": {
             "line": {
              "color": "#E5ECF6",
              "width": 0.5
             },
             "pattern": {
              "fillmode": "overlay",
              "size": 10,
              "solidity": 0.2
             }
            },
            "type": "bar"
           }
          ],
          "barpolar": [
           {
            "marker": {
             "line": {
              "color": "#E5ECF6",
              "width": 0.5
             },
             "pattern": {
              "fillmode": "overlay",
              "size": 10,
              "solidity": 0.2
             }
            },
            "type": "barpolar"
           }
          ],
          "carpet": [
           {
            "aaxis": {
             "endlinecolor": "#2a3f5f",
             "gridcolor": "white",
             "linecolor": "white",
             "minorgridcolor": "white",
             "startlinecolor": "#2a3f5f"
            },
            "baxis": {
             "endlinecolor": "#2a3f5f",
             "gridcolor": "white",
             "linecolor": "white",
             "minorgridcolor": "white",
             "startlinecolor": "#2a3f5f"
            },
            "type": "carpet"
           }
          ],
          "choropleth": [
           {
            "colorbar": {
             "outlinewidth": 0,
             "ticks": ""
            },
            "type": "choropleth"
           }
          ],
          "contour": [
           {
            "colorbar": {
             "outlinewidth": 0,
             "ticks": ""
            },
            "colorscale": [
             [
              0,
              "#0d0887"
             ],
             [
              0.1111111111111111,
              "#46039f"
             ],
             [
              0.2222222222222222,
              "#7201a8"
             ],
             [
              0.3333333333333333,
              "#9c179e"
             ],
             [
              0.4444444444444444,
              "#bd3786"
             ],
             [
              0.5555555555555556,
              "#d8576b"
             ],
             [
              0.6666666666666666,
              "#ed7953"
             ],
             [
              0.7777777777777778,
              "#fb9f3a"
             ],
             [
              0.8888888888888888,
              "#fdca26"
             ],
             [
              1,
              "#f0f921"
             ]
            ],
            "type": "contour"
           }
          ],
          "contourcarpet": [
           {
            "colorbar": {
             "outlinewidth": 0,
             "ticks": ""
            },
            "type": "contourcarpet"
           }
          ],
          "heatmap": [
           {
            "colorbar": {
             "outlinewidth": 0,
             "ticks": ""
            },
            "colorscale": [
             [
              0,
              "#0d0887"
             ],
             [
              0.1111111111111111,
              "#46039f"
             ],
             [
              0.2222222222222222,
              "#7201a8"
             ],
             [
              0.3333333333333333,
              "#9c179e"
             ],
             [
              0.4444444444444444,
              "#bd3786"
             ],
             [
              0.5555555555555556,
              "#d8576b"
             ],
             [
              0.6666666666666666,
              "#ed7953"
             ],
             [
              0.7777777777777778,
              "#fb9f3a"
             ],
             [
              0.8888888888888888,
              "#fdca26"
             ],
             [
              1,
              "#f0f921"
             ]
            ],
            "type": "heatmap"
           }
          ],
          "heatmapgl": [
           {
            "colorbar": {
             "outlinewidth": 0,
             "ticks": ""
            },
            "colorscale": [
             [
              0,
              "#0d0887"
             ],
             [
              0.1111111111111111,
              "#46039f"
             ],
             [
              0.2222222222222222,
              "#7201a8"
             ],
             [
              0.3333333333333333,
              "#9c179e"
             ],
             [
              0.4444444444444444,
              "#bd3786"
             ],
             [
              0.5555555555555556,
              "#d8576b"
             ],
             [
              0.6666666666666666,
              "#ed7953"
             ],
             [
              0.7777777777777778,
              "#fb9f3a"
             ],
             [
              0.8888888888888888,
              "#fdca26"
             ],
             [
              1,
              "#f0f921"
             ]
            ],
            "type": "heatmapgl"
           }
          ],
          "histogram": [
           {
            "marker": {
             "pattern": {
              "fillmode": "overlay",
              "size": 10,
              "solidity": 0.2
             }
            },
            "type": "histogram"
           }
          ],
          "histogram2d": [
           {
            "colorbar": {
             "outlinewidth": 0,
             "ticks": ""
            },
            "colorscale": [
             [
              0,
              "#0d0887"
             ],
             [
              0.1111111111111111,
              "#46039f"
             ],
             [
              0.2222222222222222,
              "#7201a8"
             ],
             [
              0.3333333333333333,
              "#9c179e"
             ],
             [
              0.4444444444444444,
              "#bd3786"
             ],
             [
              0.5555555555555556,
              "#d8576b"
             ],
             [
              0.6666666666666666,
              "#ed7953"
             ],
             [
              0.7777777777777778,
              "#fb9f3a"
             ],
             [
              0.8888888888888888,
              "#fdca26"
             ],
             [
              1,
              "#f0f921"
             ]
            ],
            "type": "histogram2d"
           }
          ],
          "histogram2dcontour": [
           {
            "colorbar": {
             "outlinewidth": 0,
             "ticks": ""
            },
            "colorscale": [
             [
              0,
              "#0d0887"
             ],
             [
              0.1111111111111111,
              "#46039f"
             ],
             [
              0.2222222222222222,
              "#7201a8"
             ],
             [
              0.3333333333333333,
              "#9c179e"
             ],
             [
              0.4444444444444444,
              "#bd3786"
             ],
             [
              0.5555555555555556,
              "#d8576b"
             ],
             [
              0.6666666666666666,
              "#ed7953"
             ],
             [
              0.7777777777777778,
              "#fb9f3a"
             ],
             [
              0.8888888888888888,
              "#fdca26"
             ],
             [
              1,
              "#f0f921"
             ]
            ],
            "type": "histogram2dcontour"
           }
          ],
          "mesh3d": [
           {
            "colorbar": {
             "outlinewidth": 0,
             "ticks": ""
            },
            "type": "mesh3d"
           }
          ],
          "parcoords": [
           {
            "line": {
             "colorbar": {
              "outlinewidth": 0,
              "ticks": ""
             }
            },
            "type": "parcoords"
           }
          ],
          "pie": [
           {
            "automargin": true,
            "type": "pie"
           }
          ],
          "scatter": [
           {
            "fillpattern": {
             "fillmode": "overlay",
             "size": 10,
             "solidity": 0.2
            },
            "type": "scatter"
           }
          ],
          "scatter3d": [
           {
            "line": {
             "colorbar": {
              "outlinewidth": 0,
              "ticks": ""
             }
            },
            "marker": {
             "colorbar": {
              "outlinewidth": 0,
              "ticks": ""
             }
            },
            "type": "scatter3d"
           }
          ],
          "scattercarpet": [
           {
            "marker": {
             "colorbar": {
              "outlinewidth": 0,
              "ticks": ""
             }
            },
            "type": "scattercarpet"
           }
          ],
          "scattergeo": [
           {
            "marker": {
             "colorbar": {
              "outlinewidth": 0,
              "ticks": ""
             }
            },
            "type": "scattergeo"
           }
          ],
          "scattergl": [
           {
            "marker": {
             "colorbar": {
              "outlinewidth": 0,
              "ticks": ""
             }
            },
            "type": "scattergl"
           }
          ],
          "scattermapbox": [
           {
            "marker": {
             "colorbar": {
              "outlinewidth": 0,
              "ticks": ""
             }
            },
            "type": "scattermapbox"
           }
          ],
          "scatterpolar": [
           {
            "marker": {
             "colorbar": {
              "outlinewidth": 0,
              "ticks": ""
             }
            },
            "type": "scatterpolar"
           }
          ],
          "scatterpolargl": [
           {
            "marker": {
             "colorbar": {
              "outlinewidth": 0,
              "ticks": ""
             }
            },
            "type": "scatterpolargl"
           }
          ],
          "scatterternary": [
           {
            "marker": {
             "colorbar": {
              "outlinewidth": 0,
              "ticks": ""
             }
            },
            "type": "scatterternary"
           }
          ],
          "surface": [
           {
            "colorbar": {
             "outlinewidth": 0,
             "ticks": ""
            },
            "colorscale": [
             [
              0,
              "#0d0887"
             ],
             [
              0.1111111111111111,
              "#46039f"
             ],
             [
              0.2222222222222222,
              "#7201a8"
             ],
             [
              0.3333333333333333,
              "#9c179e"
             ],
             [
              0.4444444444444444,
              "#bd3786"
             ],
             [
              0.5555555555555556,
              "#d8576b"
             ],
             [
              0.6666666666666666,
              "#ed7953"
             ],
             [
              0.7777777777777778,
              "#fb9f3a"
             ],
             [
              0.8888888888888888,
              "#fdca26"
             ],
             [
              1,
              "#f0f921"
             ]
            ],
            "type": "surface"
           }
          ],
          "table": [
           {
            "cells": {
             "fill": {
              "color": "#EBF0F8"
             },
             "line": {
              "color": "white"
             }
            },
            "header": {
             "fill": {
              "color": "#C8D4E3"
             },
             "line": {
              "color": "white"
             }
            },
            "type": "table"
           }
          ]
         },
         "layout": {
          "annotationdefaults": {
           "arrowcolor": "#2a3f5f",
           "arrowhead": 0,
           "arrowwidth": 1
          },
          "autotypenumbers": "strict",
          "coloraxis": {
           "colorbar": {
            "outlinewidth": 0,
            "ticks": ""
           }
          },
          "colorscale": {
           "diverging": [
            [
             0,
             "#8e0152"
            ],
            [
             0.1,
             "#c51b7d"
            ],
            [
             0.2,
             "#de77ae"
            ],
            [
             0.3,
             "#f1b6da"
            ],
            [
             0.4,
             "#fde0ef"
            ],
            [
             0.5,
             "#f7f7f7"
            ],
            [
             0.6,
             "#e6f5d0"
            ],
            [
             0.7,
             "#b8e186"
            ],
            [
             0.8,
             "#7fbc41"
            ],
            [
             0.9,
             "#4d9221"
            ],
            [
             1,
             "#276419"
            ]
           ],
           "sequential": [
            [
             0,
             "#0d0887"
            ],
            [
             0.1111111111111111,
             "#46039f"
            ],
            [
             0.2222222222222222,
             "#7201a8"
            ],
            [
             0.3333333333333333,
             "#9c179e"
            ],
            [
             0.4444444444444444,
             "#bd3786"
            ],
            [
             0.5555555555555556,
             "#d8576b"
            ],
            [
             0.6666666666666666,
             "#ed7953"
            ],
            [
             0.7777777777777778,
             "#fb9f3a"
            ],
            [
             0.8888888888888888,
             "#fdca26"
            ],
            [
             1,
             "#f0f921"
            ]
           ],
           "sequentialminus": [
            [
             0,
             "#0d0887"
            ],
            [
             0.1111111111111111,
             "#46039f"
            ],
            [
             0.2222222222222222,
             "#7201a8"
            ],
            [
             0.3333333333333333,
             "#9c179e"
            ],
            [
             0.4444444444444444,
             "#bd3786"
            ],
            [
             0.5555555555555556,
             "#d8576b"
            ],
            [
             0.6666666666666666,
             "#ed7953"
            ],
            [
             0.7777777777777778,
             "#fb9f3a"
            ],
            [
             0.8888888888888888,
             "#fdca26"
            ],
            [
             1,
             "#f0f921"
            ]
           ]
          },
          "colorway": [
           "#636efa",
           "#EF553B",
           "#00cc96",
           "#ab63fa",
           "#FFA15A",
           "#19d3f3",
           "#FF6692",
           "#B6E880",
           "#FF97FF",
           "#FECB52"
          ],
          "font": {
           "color": "#2a3f5f"
          },
          "geo": {
           "bgcolor": "white",
           "lakecolor": "white",
           "landcolor": "#E5ECF6",
           "showlakes": true,
           "showland": true,
           "subunitcolor": "white"
          },
          "hoverlabel": {
           "align": "left"
          },
          "hovermode": "closest",
          "mapbox": {
           "style": "light"
          },
          "paper_bgcolor": "white",
          "plot_bgcolor": "#E5ECF6",
          "polar": {
           "angularaxis": {
            "gridcolor": "white",
            "linecolor": "white",
            "ticks": ""
           },
           "bgcolor": "#E5ECF6",
           "radialaxis": {
            "gridcolor": "white",
            "linecolor": "white",
            "ticks": ""
           }
          },
          "scene": {
           "xaxis": {
            "backgroundcolor": "#E5ECF6",
            "gridcolor": "white",
            "gridwidth": 2,
            "linecolor": "white",
            "showbackground": true,
            "ticks": "",
            "zerolinecolor": "white"
           },
           "yaxis": {
            "backgroundcolor": "#E5ECF6",
            "gridcolor": "white",
            "gridwidth": 2,
            "linecolor": "white",
            "showbackground": true,
            "ticks": "",
            "zerolinecolor": "white"
           },
           "zaxis": {
            "backgroundcolor": "#E5ECF6",
            "gridcolor": "white",
            "gridwidth": 2,
            "linecolor": "white",
            "showbackground": true,
            "ticks": "",
            "zerolinecolor": "white"
           }
          },
          "shapedefaults": {
           "line": {
            "color": "#2a3f5f"
           }
          },
          "ternary": {
           "aaxis": {
            "gridcolor": "white",
            "linecolor": "white",
            "ticks": ""
           },
           "baxis": {
            "gridcolor": "white",
            "linecolor": "white",
            "ticks": ""
           },
           "bgcolor": "#E5ECF6",
           "caxis": {
            "gridcolor": "white",
            "linecolor": "white",
            "ticks": ""
           }
          },
          "title": {
           "x": 0.05
          },
          "xaxis": {
           "automargin": true,
           "gridcolor": "white",
           "linecolor": "white",
           "ticks": "",
           "title": {
            "standoff": 15
           },
           "zerolinecolor": "white",
           "zerolinewidth": 2
          },
          "yaxis": {
           "automargin": true,
           "gridcolor": "white",
           "linecolor": "white",
           "ticks": "",
           "title": {
            "standoff": 15
           },
           "zerolinecolor": "white",
           "zerolinewidth": 2
          }
         }
        },
        "title": {
         "text": "Maximum Runs at Each Match Venue"
        },
        "xaxis": {
         "anchor": "y",
         "domain": [
          0,
          1
         ],
         "tickangle": 45,
         "title": {
          "text": "Match Venue"
         }
        },
        "yaxis": {
         "anchor": "x",
         "domain": [
          0,
          1
         ],
         "title": {
          "text": "Max Runs"
         }
        }
       }
      }
     },
     "metadata": {},
     "output_type": "display_data"
    }
   ],
   "source": [
    "match_venue_df = match_venue.reset_index()\n",
    "match_venue_df.columns = ['Match Venue', 'Max Runs']\n",
    "\n",
    "fig = px.line(match_venue_df,\n",
    "              x='Match Venue',\n",
    "              y='Max Runs',\n",
    "              title='Maximum Runs at Each Match Venue',\n",
    "              markers=True)\n",
    "\n",
    "fig.update_layout(xaxis_tickangle=45)\n",
    "fig.show()\n"
   ]
  },
  {
   "cell_type": "code",
   "execution_count": 88,
   "id": "3caa9591-fb58-480c-bf2d-67c3466651ba",
   "metadata": {},
   "outputs": [
    {
     "data": {
      "application/vnd.plotly.v1+json": {
       "config": {
        "plotlyServerURL": "https://plot.ly"
       },
       "data": [
        {
         "type": "bar",
         "x": [
          "Narendra Modi Stadium, Ahmedabad",
          "Bharat Ratna Shri Atal Bihari Vajpayee Ekana Cricket Stadium, Lucknow",
          "Eden Gardens, Kolkata",
          "Wankhede Stadium, Mumbai",
          "Sawai Mansingh Stadium, Jaipur",
          "Arun Jaitley Stadium, Delhi",
          "Rajiv Gandhi International Stadium, Hyderabad",
          "MA Chidambaram Stadium, Chennai",
          "M.Chinnaswamy Stadium, Bengaluru",
          "Maharaja Yadavindra Singh International Cricket Stadium, Mullanpur, Chandigarh",
          "Dr. Y.S. Rajasekhara Reddy ACA-VDCA Cricket Stadium, Visakhapatnam",
          "Barsapara Cricket Stadium, Guwahati",
          "Himachal Pradesh Cricket Association Stadium, Dharamsala",
          "Maharaja Yadavindra Singh International Cricket Stadium, Mullanpur, New Chandigarh"
         ],
         "y": [
          9,
          8,
          7,
          7,
          7,
          7,
          6,
          6,
          6,
          5,
          2,
          2,
          1,
          1
         ]
        }
       ],
       "layout": {
        "template": {
         "data": {
          "bar": [
           {
            "error_x": {
             "color": "#2a3f5f"
            },
            "error_y": {
             "color": "#2a3f5f"
            },
            "marker": {
             "line": {
              "color": "#E5ECF6",
              "width": 0.5
             },
             "pattern": {
              "fillmode": "overlay",
              "size": 10,
              "solidity": 0.2
             }
            },
            "type": "bar"
           }
          ],
          "barpolar": [
           {
            "marker": {
             "line": {
              "color": "#E5ECF6",
              "width": 0.5
             },
             "pattern": {
              "fillmode": "overlay",
              "size": 10,
              "solidity": 0.2
             }
            },
            "type": "barpolar"
           }
          ],
          "carpet": [
           {
            "aaxis": {
             "endlinecolor": "#2a3f5f",
             "gridcolor": "white",
             "linecolor": "white",
             "minorgridcolor": "white",
             "startlinecolor": "#2a3f5f"
            },
            "baxis": {
             "endlinecolor": "#2a3f5f",
             "gridcolor": "white",
             "linecolor": "white",
             "minorgridcolor": "white",
             "startlinecolor": "#2a3f5f"
            },
            "type": "carpet"
           }
          ],
          "choropleth": [
           {
            "colorbar": {
             "outlinewidth": 0,
             "ticks": ""
            },
            "type": "choropleth"
           }
          ],
          "contour": [
           {
            "colorbar": {
             "outlinewidth": 0,
             "ticks": ""
            },
            "colorscale": [
             [
              0,
              "#0d0887"
             ],
             [
              0.1111111111111111,
              "#46039f"
             ],
             [
              0.2222222222222222,
              "#7201a8"
             ],
             [
              0.3333333333333333,
              "#9c179e"
             ],
             [
              0.4444444444444444,
              "#bd3786"
             ],
             [
              0.5555555555555556,
              "#d8576b"
             ],
             [
              0.6666666666666666,
              "#ed7953"
             ],
             [
              0.7777777777777778,
              "#fb9f3a"
             ],
             [
              0.8888888888888888,
              "#fdca26"
             ],
             [
              1,
              "#f0f921"
             ]
            ],
            "type": "contour"
           }
          ],
          "contourcarpet": [
           {
            "colorbar": {
             "outlinewidth": 0,
             "ticks": ""
            },
            "type": "contourcarpet"
           }
          ],
          "heatmap": [
           {
            "colorbar": {
             "outlinewidth": 0,
             "ticks": ""
            },
            "colorscale": [
             [
              0,
              "#0d0887"
             ],
             [
              0.1111111111111111,
              "#46039f"
             ],
             [
              0.2222222222222222,
              "#7201a8"
             ],
             [
              0.3333333333333333,
              "#9c179e"
             ],
             [
              0.4444444444444444,
              "#bd3786"
             ],
             [
              0.5555555555555556,
              "#d8576b"
             ],
             [
              0.6666666666666666,
              "#ed7953"
             ],
             [
              0.7777777777777778,
              "#fb9f3a"
             ],
             [
              0.8888888888888888,
              "#fdca26"
             ],
             [
              1,
              "#f0f921"
             ]
            ],
            "type": "heatmap"
           }
          ],
          "heatmapgl": [
           {
            "colorbar": {
             "outlinewidth": 0,
             "ticks": ""
            },
            "colorscale": [
             [
              0,
              "#0d0887"
             ],
             [
              0.1111111111111111,
              "#46039f"
             ],
             [
              0.2222222222222222,
              "#7201a8"
             ],
             [
              0.3333333333333333,
              "#9c179e"
             ],
             [
              0.4444444444444444,
              "#bd3786"
             ],
             [
              0.5555555555555556,
              "#d8576b"
             ],
             [
              0.6666666666666666,
              "#ed7953"
             ],
             [
              0.7777777777777778,
              "#fb9f3a"
             ],
             [
              0.8888888888888888,
              "#fdca26"
             ],
             [
              1,
              "#f0f921"
             ]
            ],
            "type": "heatmapgl"
           }
          ],
          "histogram": [
           {
            "marker": {
             "pattern": {
              "fillmode": "overlay",
              "size": 10,
              "solidity": 0.2
             }
            },
            "type": "histogram"
           }
          ],
          "histogram2d": [
           {
            "colorbar": {
             "outlinewidth": 0,
             "ticks": ""
            },
            "colorscale": [
             [
              0,
              "#0d0887"
             ],
             [
              0.1111111111111111,
              "#46039f"
             ],
             [
              0.2222222222222222,
              "#7201a8"
             ],
             [
              0.3333333333333333,
              "#9c179e"
             ],
             [
              0.4444444444444444,
              "#bd3786"
             ],
             [
              0.5555555555555556,
              "#d8576b"
             ],
             [
              0.6666666666666666,
              "#ed7953"
             ],
             [
              0.7777777777777778,
              "#fb9f3a"
             ],
             [
              0.8888888888888888,
              "#fdca26"
             ],
             [
              1,
              "#f0f921"
             ]
            ],
            "type": "histogram2d"
           }
          ],
          "histogram2dcontour": [
           {
            "colorbar": {
             "outlinewidth": 0,
             "ticks": ""
            },
            "colorscale": [
             [
              0,
              "#0d0887"
             ],
             [
              0.1111111111111111,
              "#46039f"
             ],
             [
              0.2222222222222222,
              "#7201a8"
             ],
             [
              0.3333333333333333,
              "#9c179e"
             ],
             [
              0.4444444444444444,
              "#bd3786"
             ],
             [
              0.5555555555555556,
              "#d8576b"
             ],
             [
              0.6666666666666666,
              "#ed7953"
             ],
             [
              0.7777777777777778,
              "#fb9f3a"
             ],
             [
              0.8888888888888888,
              "#fdca26"
             ],
             [
              1,
              "#f0f921"
             ]
            ],
            "type": "histogram2dcontour"
           }
          ],
          "mesh3d": [
           {
            "colorbar": {
             "outlinewidth": 0,
             "ticks": ""
            },
            "type": "mesh3d"
           }
          ],
          "parcoords": [
           {
            "line": {
             "colorbar": {
              "outlinewidth": 0,
              "ticks": ""
             }
            },
            "type": "parcoords"
           }
          ],
          "pie": [
           {
            "automargin": true,
            "type": "pie"
           }
          ],
          "scatter": [
           {
            "fillpattern": {
             "fillmode": "overlay",
             "size": 10,
             "solidity": 0.2
            },
            "type": "scatter"
           }
          ],
          "scatter3d": [
           {
            "line": {
             "colorbar": {
              "outlinewidth": 0,
              "ticks": ""
             }
            },
            "marker": {
             "colorbar": {
              "outlinewidth": 0,
              "ticks": ""
             }
            },
            "type": "scatter3d"
           }
          ],
          "scattercarpet": [
           {
            "marker": {
             "colorbar": {
              "outlinewidth": 0,
              "ticks": ""
             }
            },
            "type": "scattercarpet"
           }
          ],
          "scattergeo": [
           {
            "marker": {
             "colorbar": {
              "outlinewidth": 0,
              "ticks": ""
             }
            },
            "type": "scattergeo"
           }
          ],
          "scattergl": [
           {
            "marker": {
             "colorbar": {
              "outlinewidth": 0,
              "ticks": ""
             }
            },
            "type": "scattergl"
           }
          ],
          "scattermapbox": [
           {
            "marker": {
             "colorbar": {
              "outlinewidth": 0,
              "ticks": ""
             }
            },
            "type": "scattermapbox"
           }
          ],
          "scatterpolar": [
           {
            "marker": {
             "colorbar": {
              "outlinewidth": 0,
              "ticks": ""
             }
            },
            "type": "scatterpolar"
           }
          ],
          "scatterpolargl": [
           {
            "marker": {
             "colorbar": {
              "outlinewidth": 0,
              "ticks": ""
             }
            },
            "type": "scatterpolargl"
           }
          ],
          "scatterternary": [
           {
            "marker": {
             "colorbar": {
              "outlinewidth": 0,
              "ticks": ""
             }
            },
            "type": "scatterternary"
           }
          ],
          "surface": [
           {
            "colorbar": {
             "outlinewidth": 0,
             "ticks": ""
            },
            "colorscale": [
             [
              0,
              "#0d0887"
             ],
             [
              0.1111111111111111,
              "#46039f"
             ],
             [
              0.2222222222222222,
              "#7201a8"
             ],
             [
              0.3333333333333333,
              "#9c179e"
             ],
             [
              0.4444444444444444,
              "#bd3786"
             ],
             [
              0.5555555555555556,
              "#d8576b"
             ],
             [
              0.6666666666666666,
              "#ed7953"
             ],
             [
              0.7777777777777778,
              "#fb9f3a"
             ],
             [
              0.8888888888888888,
              "#fdca26"
             ],
             [
              1,
              "#f0f921"
             ]
            ],
            "type": "surface"
           }
          ],
          "table": [
           {
            "cells": {
             "fill": {
              "color": "#EBF0F8"
             },
             "line": {
              "color": "white"
             }
            },
            "header": {
             "fill": {
              "color": "#C8D4E3"
             },
             "line": {
              "color": "white"
             }
            },
            "type": "table"
           }
          ]
         },
         "layout": {
          "annotationdefaults": {
           "arrowcolor": "#2a3f5f",
           "arrowhead": 0,
           "arrowwidth": 1
          },
          "autotypenumbers": "strict",
          "coloraxis": {
           "colorbar": {
            "outlinewidth": 0,
            "ticks": ""
           }
          },
          "colorscale": {
           "diverging": [
            [
             0,
             "#8e0152"
            ],
            [
             0.1,
             "#c51b7d"
            ],
            [
             0.2,
             "#de77ae"
            ],
            [
             0.3,
             "#f1b6da"
            ],
            [
             0.4,
             "#fde0ef"
            ],
            [
             0.5,
             "#f7f7f7"
            ],
            [
             0.6,
             "#e6f5d0"
            ],
            [
             0.7,
             "#b8e186"
            ],
            [
             0.8,
             "#7fbc41"
            ],
            [
             0.9,
             "#4d9221"
            ],
            [
             1,
             "#276419"
            ]
           ],
           "sequential": [
            [
             0,
             "#0d0887"
            ],
            [
             0.1111111111111111,
             "#46039f"
            ],
            [
             0.2222222222222222,
             "#7201a8"
            ],
            [
             0.3333333333333333,
             "#9c179e"
            ],
            [
             0.4444444444444444,
             "#bd3786"
            ],
            [
             0.5555555555555556,
             "#d8576b"
            ],
            [
             0.6666666666666666,
             "#ed7953"
            ],
            [
             0.7777777777777778,
             "#fb9f3a"
            ],
            [
             0.8888888888888888,
             "#fdca26"
            ],
            [
             1,
             "#f0f921"
            ]
           ],
           "sequentialminus": [
            [
             0,
             "#0d0887"
            ],
            [
             0.1111111111111111,
             "#46039f"
            ],
            [
             0.2222222222222222,
             "#7201a8"
            ],
            [
             0.3333333333333333,
             "#9c179e"
            ],
            [
             0.4444444444444444,
             "#bd3786"
            ],
            [
             0.5555555555555556,
             "#d8576b"
            ],
            [
             0.6666666666666666,
             "#ed7953"
            ],
            [
             0.7777777777777778,
             "#fb9f3a"
            ],
            [
             0.8888888888888888,
             "#fdca26"
            ],
            [
             1,
             "#f0f921"
            ]
           ]
          },
          "colorway": [
           "#636efa",
           "#EF553B",
           "#00cc96",
           "#ab63fa",
           "#FFA15A",
           "#19d3f3",
           "#FF6692",
           "#B6E880",
           "#FF97FF",
           "#FECB52"
          ],
          "font": {
           "color": "#2a3f5f"
          },
          "geo": {
           "bgcolor": "white",
           "lakecolor": "white",
           "landcolor": "#E5ECF6",
           "showlakes": true,
           "showland": true,
           "subunitcolor": "white"
          },
          "hoverlabel": {
           "align": "left"
          },
          "hovermode": "closest",
          "mapbox": {
           "style": "light"
          },
          "paper_bgcolor": "white",
          "plot_bgcolor": "#E5ECF6",
          "polar": {
           "angularaxis": {
            "gridcolor": "white",
            "linecolor": "white",
            "ticks": ""
           },
           "bgcolor": "#E5ECF6",
           "radialaxis": {
            "gridcolor": "white",
            "linecolor": "white",
            "ticks": ""
           }
          },
          "scene": {
           "xaxis": {
            "backgroundcolor": "#E5ECF6",
            "gridcolor": "white",
            "gridwidth": 2,
            "linecolor": "white",
            "showbackground": true,
            "ticks": "",
            "zerolinecolor": "white"
           },
           "yaxis": {
            "backgroundcolor": "#E5ECF6",
            "gridcolor": "white",
            "gridwidth": 2,
            "linecolor": "white",
            "showbackground": true,
            "ticks": "",
            "zerolinecolor": "white"
           },
           "zaxis": {
            "backgroundcolor": "#E5ECF6",
            "gridcolor": "white",
            "gridwidth": 2,
            "linecolor": "white",
            "showbackground": true,
            "ticks": "",
            "zerolinecolor": "white"
           }
          },
          "shapedefaults": {
           "line": {
            "color": "#2a3f5f"
           }
          },
          "ternary": {
           "aaxis": {
            "gridcolor": "white",
            "linecolor": "white",
            "ticks": ""
           },
           "baxis": {
            "gridcolor": "white",
            "linecolor": "white",
            "ticks": ""
           },
           "bgcolor": "#E5ECF6",
           "caxis": {
            "gridcolor": "white",
            "linecolor": "white",
            "ticks": ""
           }
          },
          "title": {
           "x": 0.05
          },
          "xaxis": {
           "automargin": true,
           "gridcolor": "white",
           "linecolor": "white",
           "ticks": "",
           "title": {
            "standoff": 15
           },
           "zerolinecolor": "white",
           "zerolinewidth": 2
          },
          "yaxis": {
           "automargin": true,
           "gridcolor": "white",
           "linecolor": "white",
           "ticks": "",
           "title": {
            "standoff": 15
           },
           "zerolinecolor": "white",
           "zerolinewidth": 2
          }
         }
        },
        "title": {
         "text": "Number of Matches per Venue"
        },
        "xaxis": {
         "tickangle": 45,
         "title": {
          "text": "Match Venue"
         }
        },
        "yaxis": {
         "title": {
          "text": "Match Count"
         }
        }
       }
      }
     },
     "metadata": {},
     "output_type": "display_data"
    }
   ],
   "source": [
    "venue_count = ds['MatchVenue'].value_counts()\n",
    "\n",
    "fig = go.Figure(\n",
    "    data=[\n",
    "        go.Bar(x=venue_count.index, y=venue_count.values)\n",
    "    ]\n",
    ")\n",
    "\n",
    "fig.update_layout(\n",
    "    title='Number of Matches per Venue',\n",
    "    xaxis_title='Match Venue',\n",
    "    yaxis_title='Match Count',\n",
    "    xaxis_tickangle=45\n",
    ")\n",
    "\n",
    "fig.show()\n"
   ]
  },
  {
   "cell_type": "code",
   "execution_count": 89,
   "id": "b2de243d-329d-4fe7-b658-5c1d25f05385",
   "metadata": {},
   "outputs": [],
   "source": [
    "pair_analysis = pd.DataFrame(columns=[\n",
    "    'Team',\n",
    "    'Matches_Played',\n",
    "    'Matches_Won',\n",
    "    'Dominating'\n",
    "])"
   ]
  },
  {
   "cell_type": "code",
   "execution_count": 90,
   "id": "e6e04960-61f0-4d9e-9b3a-317bb01bc281",
   "metadata": {},
   "outputs": [],
   "source": [
    "teams = df['Team1'].unique().tolist()"
   ]
  },
  {
   "cell_type": "code",
   "execution_count": 91,
   "id": "3a01ae6b-6e9a-4d48-9fc1-de12e1223fef",
   "metadata": {},
   "outputs": [
    {
     "data": {
      "text/html": [
       "<div>\n",
       "<style scoped>\n",
       "    .dataframe tbody tr th:only-of-type {\n",
       "        vertical-align: middle;\n",
       "    }\n",
       "\n",
       "    .dataframe tbody tr th {\n",
       "        vertical-align: top;\n",
       "    }\n",
       "\n",
       "    .dataframe thead th {\n",
       "        text-align: right;\n",
       "    }\n",
       "</style>\n",
       "<table border=\"1\" class=\"dataframe\">\n",
       "  <thead>\n",
       "    <tr style=\"text-align: right;\">\n",
       "      <th></th>\n",
       "      <th>Team</th>\n",
       "      <th>Matches_Played</th>\n",
       "      <th>Matches_Won</th>\n",
       "      <th>Dominating</th>\n",
       "    </tr>\n",
       "  </thead>\n",
       "  <tbody>\n",
       "    <tr>\n",
       "      <th>0</th>\n",
       "      <td>Kolkata Knight Riders</td>\n",
       "      <td>14</td>\n",
       "      <td>5</td>\n",
       "      <td>[Rajasthan Royals]</td>\n",
       "    </tr>\n",
       "    <tr>\n",
       "      <th>1</th>\n",
       "      <td>Sunrisers Hyderabad</td>\n",
       "      <td>14</td>\n",
       "      <td>6</td>\n",
       "      <td>[]</td>\n",
       "    </tr>\n",
       "    <tr>\n",
       "      <th>2</th>\n",
       "      <td>Chennai Super Kings</td>\n",
       "      <td>14</td>\n",
       "      <td>4</td>\n",
       "      <td>[]</td>\n",
       "    </tr>\n",
       "    <tr>\n",
       "      <th>3</th>\n",
       "      <td>Delhi Capitals</td>\n",
       "      <td>14</td>\n",
       "      <td>7</td>\n",
       "      <td>[Lucknow Super Giants]</td>\n",
       "    </tr>\n",
       "    <tr>\n",
       "      <th>4</th>\n",
       "      <td>Gujarat Titans</td>\n",
       "      <td>15</td>\n",
       "      <td>9</td>\n",
       "      <td>[Delhi Capitals, Sunrisers Hyderabad, Mumbai I...</td>\n",
       "    </tr>\n",
       "    <tr>\n",
       "      <th>5</th>\n",
       "      <td>Rajasthan Royals</td>\n",
       "      <td>14</td>\n",
       "      <td>4</td>\n",
       "      <td>[Chennai Super Kings]</td>\n",
       "    </tr>\n",
       "    <tr>\n",
       "      <th>6</th>\n",
       "      <td>Mumbai Indians</td>\n",
       "      <td>16</td>\n",
       "      <td>9</td>\n",
       "      <td>[Delhi Capitals, Sunrisers Hyderabad]</td>\n",
       "    </tr>\n",
       "    <tr>\n",
       "      <th>7</th>\n",
       "      <td>Lucknow Super Giants</td>\n",
       "      <td>14</td>\n",
       "      <td>6</td>\n",
       "      <td>[Gujarat Titans]</td>\n",
       "    </tr>\n",
       "    <tr>\n",
       "      <th>8</th>\n",
       "      <td>Royal Challengers Bengaluru</td>\n",
       "      <td>16</td>\n",
       "      <td>11</td>\n",
       "      <td>[Rajasthan Royals, Punjab Kings, Chennai Super...</td>\n",
       "    </tr>\n",
       "    <tr>\n",
       "      <th>9</th>\n",
       "      <td>Punjab Kings</td>\n",
       "      <td>17</td>\n",
       "      <td>10</td>\n",
       "      <td>[Lucknow Super Giants, Chennai Super Kings]</td>\n",
       "    </tr>\n",
       "  </tbody>\n",
       "</table>\n",
       "</div>"
      ],
      "text/plain": [
       "                          Team  Matches_Played  Matches_Won  \\\n",
       "0        Kolkata Knight Riders              14            5   \n",
       "1          Sunrisers Hyderabad              14            6   \n",
       "2          Chennai Super Kings              14            4   \n",
       "3               Delhi Capitals              14            7   \n",
       "4               Gujarat Titans              15            9   \n",
       "5             Rajasthan Royals              14            4   \n",
       "6               Mumbai Indians              16            9   \n",
       "7         Lucknow Super Giants              14            6   \n",
       "8  Royal Challengers Bengaluru              16           11   \n",
       "9                 Punjab Kings              17           10   \n",
       "\n",
       "                                          Dominating  \n",
       "0                                 [Rajasthan Royals]  \n",
       "1                                                 []  \n",
       "2                                                 []  \n",
       "3                             [Lucknow Super Giants]  \n",
       "4  [Delhi Capitals, Sunrisers Hyderabad, Mumbai I...  \n",
       "5                              [Chennai Super Kings]  \n",
       "6              [Delhi Capitals, Sunrisers Hyderabad]  \n",
       "7                                   [Gujarat Titans]  \n",
       "8  [Rajasthan Royals, Punjab Kings, Chennai Super...  \n",
       "9        [Lucknow Super Giants, Chennai Super Kings]  "
      ]
     },
     "execution_count": 91,
     "metadata": {},
     "output_type": "execute_result"
    }
   ],
   "source": [
    "for i in teams:\n",
    "    \n",
    "    matches_played = df.loc[(df['Team1'] == i) | (df['Team2'] == i)].shape[0]\n",
    "    a = df.loc[(df['matchWinner'] == i)]\n",
    "    matches_won = a.shape[0]\n",
    "    t1 = a['Team1'].unique().tolist()\n",
    "    t2 = a['Team2'].unique().tolist()\n",
    "    domination = list(set(t1) & set(t2))\n",
    "    domination.remove(i)\n",
    "    \n",
    "    pair_analysis.loc[pair_analysis.shape[0]] = [i, matches_played, matches_won, domination]\n",
    "\n",
    "pair_analysis"
   ]
  },
  {
   "cell_type": "code",
   "execution_count": 92,
   "id": "93c98537-e3b5-40c5-a797-a3ef07011941",
   "metadata": {},
   "outputs": [],
   "source": [
    "pair_analysis.loc[pair_analysis.shape[0]] = [teams, matches_played, matches_won, domination]"
   ]
  },
  {
   "cell_type": "code",
   "execution_count": 93,
   "id": "471d04ca-ebdc-450d-b92f-5a69b72c12bc",
   "metadata": {},
   "outputs": [],
   "source": [
    "match_venue=ds.groupby('MatchVenue')[['r1','r2']].max().max(axis=1).reset_index()"
   ]
  },
  {
   "cell_type": "code",
   "execution_count": 94,
   "id": "b0ed7432-605d-44a8-8acf-870b881f5d49",
   "metadata": {},
   "outputs": [],
   "source": [
    "venue_count = venue_count.reset_index()"
   ]
  },
  {
   "cell_type": "code",
   "execution_count": 95,
   "id": "c87a8fea-d74e-4ab1-8260-ae3e17ced728",
   "metadata": {},
   "outputs": [],
   "source": [
    "bar_line = pd.merge(match_venue, venue_count, on='MatchVenue')"
   ]
  },
  {
   "cell_type": "code",
   "execution_count": 96,
   "id": "27889ec3-3f44-4cc4-a414-1cdfa2f9f3d0",
   "metadata": {},
   "outputs": [],
   "source": [
    "bar_line['MatchVenue'] = bar_line['MatchVenue'].str.split(',', n=1).str[1]\n"
   ]
  },
  {
   "cell_type": "code",
   "execution_count": 97,
   "id": "981c1c2b-8485-47c7-9e1e-3a8efb15db8f",
   "metadata": {},
   "outputs": [
    {
     "ename": "SyntaxError",
     "evalue": "positional argument follows keyword argument (646450127.py, line 14)",
     "output_type": "error",
     "traceback": [
      "\u001b[1;36m  Cell \u001b[1;32mIn[97], line 14\u001b[1;36m\u001b[0m\n\u001b[1;33m    ))\u001b[0m\n\u001b[1;37m    ^\u001b[0m\n\u001b[1;31mSyntaxError\u001b[0m\u001b[1;31m:\u001b[0m positional argument follows keyword argument\n"
     ]
    }
   ],
   "source": [
    "fig = go.Figure()\n",
    "\n",
    "fig.add_trace(go.Bar(\n",
    "    x = bar_line.MatchVenue,\n",
    "    y = bar_line['count'],\n",
    "    yaxis = 'y'\n",
    "))\n",
    "\n",
    "fig.add_trace(go.Scatter(\n",
    "    x = bar_line.MatchVenue,\n",
    "    y = bar_line[0],\n",
    "    yaxis = 'y2',\n",
    "    col\n",
    "))\n",
    "\n",
    "fig.update_layout(\n",
    "    xaxis = dict(title = 'Match Venue'),\n",
    "    yaxis =dict(title= 'Match Count', side = 'left'),\n",
    "    yaxis2 = dict(title='Max Runs', overlaying = 'y', side = 'right'),\n",
    "    legend = dict(x = 0.1, y = 1.1, orientation = 'h')\n",
    ")\n",
    "\n",
    "fig.show()"
   ]
  },
  {
   "cell_type": "code",
   "execution_count": null,
   "id": "ccc76517-62ce-4f47-ad50-eb970b7f98bf",
   "metadata": {},
   "outputs": [],
   "source": []
  },
  {
   "cell_type": "code",
   "execution_count": null,
   "id": "c0502655",
   "metadata": {},
   "outputs": [],
   "source": []
  }
 ],
 "metadata": {
  "kernelspec": {
   "display_name": "base",
   "language": "python",
   "name": "python3"
  },
  "language_info": {
   "codemirror_mode": {
    "name": "ipython",
    "version": 3
   },
   "file_extension": ".py",
   "mimetype": "text/x-python",
   "name": "python",
   "nbconvert_exporter": "python",
   "pygments_lexer": "ipython3",
   "version": "3.12.7"
  }
 },
 "nbformat": 4,
 "nbformat_minor": 5
}
